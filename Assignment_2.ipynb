{
  "nbformat": 4,
  "nbformat_minor": 0,
  "metadata": {
    "colab": {
      "provenance": [],
      "mount_file_id": "1UOtifoJPOm5yXPWVDypMW0yAGRU0Ue9Q",
      "authorship_tag": "ABX9TyMGAeGnIv1WJwbuDVZfFa7w",
      "include_colab_link": true
    },
    "kernelspec": {
      "name": "python3",
      "display_name": "Python 3"
    },
    "language_info": {
      "name": "python"
    }
  },
  "cells": [
    {
      "cell_type": "markdown",
      "metadata": {
        "id": "view-in-github",
        "colab_type": "text"
      },
      "source": [
        "<a href=\"https://colab.research.google.com/github/sur-sakthy/computer-vision/blob/main/Assignment_2.ipynb\" target=\"_parent\"><img src=\"https://colab.research.google.com/assets/colab-badge.svg\" alt=\"Open In Colab\"/></a>"
      ]
    },
    {
      "cell_type": "code",
      "execution_count": 9,
      "metadata": {
        "id": "2CHZHmFiEhRs"
      },
      "outputs": [],
      "source": [
        "!cp '/content/drive/MyDrive/EE544 Computer Vision/imagewoof2-320.tgz' ./"
      ]
    },
    {
      "cell_type": "code",
      "source": [
        "!tar zxvf /content/imagewoof2-320.tgz"
      ],
      "metadata": {
        "id": "EtN4E-r_E10r"
      },
      "execution_count": null,
      "outputs": []
    },
    {
      "cell_type": "code",
      "source": [
        "import os\n",
        "import cv2\n",
        "import numpy as np\n",
        "\n",
        "from sklearn.model_selection import train_test_split\n",
        "from tensorflow.keras.applications import ResNet50\n",
        "from tensorflow.keras.layers import GlobalAveragePooling2D, Dense, Dropout\n",
        "from tensorflow.keras.models import Model"
      ],
      "metadata": {
        "id": "Gmc7meBJFxJ5"
      },
      "execution_count": 38,
      "outputs": []
    },
    {
      "cell_type": "code",
      "source": [
        "PATH_TO_TRAIN_DATA = '/content/imagewoof2-320/train'\n",
        "PATH_TO_VAL_DATA = '/content/imagewoof2-320/val'\n",
        "IMG_WIDTH=224\n",
        "IMG_HEIGHT=224"
      ],
      "metadata": {
        "id": "qdbbRMo3E7Xn"
      },
      "execution_count": 22,
      "outputs": []
    },
    {
      "cell_type": "code",
      "source": [
        "all_classes = os.listdir(PATH_TO_TRAIN_DATA)\n",
        "all_classes"
      ],
      "metadata": {
        "colab": {
          "base_uri": "https://localhost:8080/"
        },
        "id": "RpL1BJJ_FPSB",
        "outputId": "8ef38a48-9f75-4053-de58-b6fbc83f2436"
      },
      "execution_count": 13,
      "outputs": [
        {
          "output_type": "execute_result",
          "data": {
            "text/plain": [
              "['n02105641',\n",
              " 'n02087394',\n",
              " 'n02096294',\n",
              " 'n02115641',\n",
              " 'n02088364',\n",
              " 'n02086240',\n",
              " 'n02099601',\n",
              " 'n02089973',\n",
              " 'n02093754',\n",
              " 'n02111889']"
            ]
          },
          "metadata": {},
          "execution_count": 13
        }
      ]
    },
    {
      "cell_type": "code",
      "source": [
        "all_classes = os.listdir(PATH_TO_VAL_DATA)\n",
        "all_classes"
      ],
      "metadata": {
        "colab": {
          "base_uri": "https://localhost:8080/"
        },
        "id": "TYTXj6NEFPqT",
        "outputId": "9ca99840-342e-4076-bb08-76a570245808"
      },
      "execution_count": 14,
      "outputs": [
        {
          "output_type": "execute_result",
          "data": {
            "text/plain": [
              "['n02105641',\n",
              " 'n02087394',\n",
              " 'n02096294',\n",
              " 'n02115641',\n",
              " 'n02088364',\n",
              " 'n02086240',\n",
              " 'n02099601',\n",
              " 'n02089973',\n",
              " 'n02093754',\n",
              " 'n02111889']"
            ]
          },
          "metadata": {},
          "execution_count": 14
        }
      ]
    },
    {
      "cell_type": "code",
      "source": [
        "img_data_array = []\n",
        "class_name = []"
      ],
      "metadata": {
        "id": "GdGQaTb8FQzS"
      },
      "execution_count": 15,
      "outputs": []
    },
    {
      "cell_type": "code",
      "source": [
        "def load_dataset(img_folder): \n",
        "    for dir in os.listdir(img_folder):\n",
        "      if dir == 'n02105641' or dir == 'n02087394' or dir == 'n02096294':\n",
        "        for file in os.listdir(os.path.join(img_folder, dir)):\n",
        "       \n",
        "            image_path = os.path.join(img_folder, dir, file)\n",
        "            image = cv2.imread(image_path)\n",
        "            image = cv2.resize(image, (IMG_HEIGHT, IMG_WIDTH), interpolation = cv2.INTER_AREA)\n",
        "            image = np.array(image)\n",
        "            image = image.astype('float32')\n",
        "            image /= 255 \n",
        "            img_data_array.append(image)\n",
        "            class_name.append(dir)"
      ],
      "metadata": {
        "id": "YDeQeCPMFVnX"
      },
      "execution_count": 26,
      "outputs": []
    },
    {
      "cell_type": "code",
      "source": [
        "load_dataset(PATH_TO_TRAIN_DATA)\n",
        "load_dataset(PATH_TO_VAL_DATA)"
      ],
      "metadata": {
        "id": "v8N6m6ddFXXB"
      },
      "execution_count": 27,
      "outputs": []
    },
    {
      "cell_type": "code",
      "source": [
        "X_train, X_test, y_train, y_test = train_test_split(img_data_array, class_name, test_size=0.30, random_state=42)"
      ],
      "metadata": {
        "id": "QADyXQioFYeT"
      },
      "execution_count": 28,
      "outputs": []
    },
    {
      "cell_type": "code",
      "source": [
        "X_test, X_val, y_test, y_val = train_test_split(X_test, y_test, test_size=0.33, random_state=42)"
      ],
      "metadata": {
        "id": "x2Jz6ISnFZw_"
      },
      "execution_count": 29,
      "outputs": []
    },
    {
      "cell_type": "code",
      "source": [
        "def build_model():\n",
        "  base_model = ResNet50(include_top=False, weights='imagenet')\n",
        "\n",
        "  for layer in base_model.layers[:-33]: \n",
        "    layer.trainable = False\n",
        "\n",
        "  # add a global spatial average pooling layer\n",
        "  x = GlobalAveragePooling2D()(base_model.output)\n",
        "\n",
        "  # add fully-connected\n",
        "  x = Dense(512, activation='relu', name='fc-1')(x) \n",
        "  x = Dense(256, activation='relu', name='fc-2')(x)\n",
        "\n",
        "  # a softmax layer for 3 classes\n",
        "  out = Dense(3, activation='softmax', name='output_layer')(x)\n",
        "\n",
        "  return Model(base_model.input, out)"
      ],
      "metadata": {
        "id": "3JzdX5WrGeYF"
      },
      "execution_count": 60,
      "outputs": []
    },
    {
      "cell_type": "code",
      "source": [
        "custom_resnet_model = build_model()"
      ],
      "metadata": {
        "id": "brTCtF_uTHE8"
      },
      "execution_count": 61,
      "outputs": []
    },
    {
      "cell_type": "code",
      "source": [
        "for i in range(len(custom_resnet_model.layers)): \n",
        "  print(str(i) + ': ' + str(custom_resnet_model.layers[i].trainable))"
      ],
      "metadata": {
        "colab": {
          "base_uri": "https://localhost:8080/"
        },
        "id": "fcJGB6muN0nl",
        "outputId": "d5703d8f-7393-4822-c4cd-967100e979c5"
      },
      "execution_count": 77,
      "outputs": [
        {
          "output_type": "stream",
          "name": "stdout",
          "text": [
            "0: False\n",
            "1: False\n",
            "2: False\n",
            "3: False\n",
            "4: False\n",
            "5: False\n",
            "6: False\n",
            "7: False\n",
            "8: False\n",
            "9: False\n",
            "10: False\n",
            "11: False\n",
            "12: False\n",
            "13: False\n",
            "14: False\n",
            "15: False\n",
            "16: False\n",
            "17: False\n",
            "18: False\n",
            "19: False\n",
            "20: False\n",
            "21: False\n",
            "22: False\n",
            "23: False\n",
            "24: False\n",
            "25: False\n",
            "26: False\n",
            "27: False\n",
            "28: False\n",
            "29: False\n",
            "30: False\n",
            "31: False\n",
            "32: False\n",
            "33: False\n",
            "34: False\n",
            "35: False\n",
            "36: False\n",
            "37: False\n",
            "38: False\n",
            "39: False\n",
            "40: False\n",
            "41: False\n",
            "42: False\n",
            "43: False\n",
            "44: False\n",
            "45: False\n",
            "46: False\n",
            "47: False\n",
            "48: False\n",
            "49: False\n",
            "50: False\n",
            "51: False\n",
            "52: False\n",
            "53: False\n",
            "54: False\n",
            "55: False\n",
            "56: False\n",
            "57: False\n",
            "58: False\n",
            "59: False\n",
            "60: False\n",
            "61: False\n",
            "62: False\n",
            "63: False\n",
            "64: False\n",
            "65: False\n",
            "66: False\n",
            "67: False\n",
            "68: False\n",
            "69: False\n",
            "70: False\n",
            "71: False\n",
            "72: False\n",
            "73: False\n",
            "74: False\n",
            "75: False\n",
            "76: False\n",
            "77: False\n",
            "78: False\n",
            "79: False\n",
            "80: False\n",
            "81: False\n",
            "82: False\n",
            "83: False\n",
            "84: False\n",
            "85: False\n",
            "86: False\n",
            "87: False\n",
            "88: False\n",
            "89: False\n",
            "90: False\n",
            "91: False\n",
            "92: False\n",
            "93: False\n",
            "94: False\n",
            "95: False\n",
            "96: False\n",
            "97: False\n",
            "98: False\n",
            "99: False\n",
            "100: False\n",
            "101: False\n",
            "102: False\n",
            "103: False\n",
            "104: False\n",
            "105: False\n",
            "106: False\n",
            "107: False\n",
            "108: False\n",
            "109: False\n",
            "110: False\n",
            "111: False\n",
            "112: False\n",
            "113: False\n",
            "114: False\n",
            "115: False\n",
            "116: False\n",
            "117: False\n",
            "118: False\n",
            "119: False\n",
            "120: False\n",
            "121: False\n",
            "122: False\n",
            "123: False\n",
            "124: False\n",
            "125: False\n",
            "126: False\n",
            "127: False\n",
            "128: False\n",
            "129: False\n",
            "130: False\n",
            "131: False\n",
            "132: False\n",
            "133: False\n",
            "134: False\n",
            "135: False\n",
            "136: False\n",
            "137: False\n",
            "138: False\n",
            "139: False\n",
            "140: False\n",
            "141: False\n",
            "142: True\n",
            "143: True\n",
            "144: True\n",
            "145: True\n",
            "146: True\n",
            "147: True\n",
            "148: True\n",
            "149: True\n",
            "150: True\n",
            "151: True\n",
            "152: True\n",
            "153: True\n",
            "154: True\n",
            "155: True\n",
            "156: True\n",
            "157: True\n",
            "158: True\n",
            "159: True\n",
            "160: True\n",
            "161: True\n",
            "162: True\n",
            "163: True\n",
            "164: True\n",
            "165: True\n",
            "166: True\n",
            "167: True\n",
            "168: True\n",
            "169: True\n",
            "170: True\n",
            "171: True\n",
            "172: True\n",
            "173: True\n",
            "174: True\n",
            "175: True\n",
            "176: True\n",
            "177: True\n",
            "178: True\n"
          ]
        }
      ]
    },
    {
      "cell_type": "code",
      "source": [],
      "metadata": {
        "id": "HBbzE2cMX3lx"
      },
      "execution_count": null,
      "outputs": []
    }
  ]
}
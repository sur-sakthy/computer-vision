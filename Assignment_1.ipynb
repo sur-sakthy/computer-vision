{
  "nbformat": 4,
  "nbformat_minor": 0,
  "metadata": {
    "colab": {
      "provenance": [],
      "toc_visible": true,
      "mount_file_id": "1FCmz1FvudVnEjvqD0XItgtetbAT8y8xl",
      "authorship_tag": "ABX9TyMfo4MGCqcjMB/aziUOQiCh",
      "include_colab_link": true
    },
    "kernelspec": {
      "name": "python3",
      "display_name": "Python 3"
    },
    "language_info": {
      "name": "python"
    },
    "accelerator": "GPU",
    "gpuClass": "standard"
  },
  "cells": [
    {
      "cell_type": "markdown",
      "metadata": {
        "id": "view-in-github",
        "colab_type": "text"
      },
      "source": [
        "<a href=\"https://colab.research.google.com/github/sur-sakthy/computer-vision/blob/main/Assignment_1.ipynb\" target=\"_parent\"><img src=\"https://colab.research.google.com/assets/colab-badge.svg\" alt=\"Open In Colab\"/></a>"
      ]
    },
    {
      "cell_type": "markdown",
      "source": [
        "# Assignment #1\n",
        "The provided data has a train/validation split of 1000/500 (approx.) images. In this task you are to select any 4 classes from the original ImageNette data as your working dataset (i.e. classification whereby you are predicting one of four possible classes).\n",
        "\n",
        "Additionally, you need to reorganise the data into appropriate train/validation/test split before you train your network models. The details of the splitting is left to you, but you must fully justify any final split used in your evaluation."
      ],
      "metadata": {
        "id": "WTJaiwHQzzNo"
      }
    },
    {
      "cell_type": "code",
      "source": [
        "!nvidia-smi"
      ],
      "metadata": {
        "colab": {
          "base_uri": "https://localhost:8080/"
        },
        "id": "jxps2ylf50SH",
        "outputId": "b9c07509-66ca-437f-be7a-ec5873e98f0f"
      },
      "execution_count": 1,
      "outputs": [
        {
          "output_type": "stream",
          "name": "stdout",
          "text": [
            "Fri Mar 17 22:49:06 2023       \n",
            "+-----------------------------------------------------------------------------+\n",
            "| NVIDIA-SMI 525.85.12    Driver Version: 525.85.12    CUDA Version: 12.0     |\n",
            "|-------------------------------+----------------------+----------------------+\n",
            "| GPU  Name        Persistence-M| Bus-Id        Disp.A | Volatile Uncorr. ECC |\n",
            "| Fan  Temp  Perf  Pwr:Usage/Cap|         Memory-Usage | GPU-Util  Compute M. |\n",
            "|                               |                      |               MIG M. |\n",
            "|===============================+======================+======================|\n",
            "|   0  Tesla T4            Off  | 00000000:00:04.0 Off |                    0 |\n",
            "| N/A   51C    P0    25W /  70W |      0MiB / 15360MiB |      0%      Default |\n",
            "|                               |                      |                  N/A |\n",
            "+-------------------------------+----------------------+----------------------+\n",
            "                                                                               \n",
            "+-----------------------------------------------------------------------------+\n",
            "| Processes:                                                                  |\n",
            "|  GPU   GI   CI        PID   Type   Process name                  GPU Memory |\n",
            "|        ID   ID                                                   Usage      |\n",
            "|=============================================================================|\n",
            "|  No running processes found                                                 |\n",
            "+-----------------------------------------------------------------------------+\n"
          ]
        }
      ]
    },
    {
      "cell_type": "code",
      "execution_count": 2,
      "metadata": {
        "id": "Zq-MwcjOzETs"
      },
      "outputs": [],
      "source": [
        "!cp '/content/drive/MyDrive/EE544 Computer Vision/imagenette2-160.tgz' ./"
      ]
    },
    {
      "cell_type": "code",
      "source": [
        "# remove %%capture command to show output from unzipping\n",
        "%%capture \n",
        "!tar zxvf /content/imagenette2-160.tgz"
      ],
      "metadata": {
        "id": "79KjQJxnAgCv"
      },
      "execution_count": 3,
      "outputs": []
    },
    {
      "cell_type": "markdown",
      "source": [
        "## Imports"
      ],
      "metadata": {
        "id": "mvvEa4-OLaTL"
      }
    },
    {
      "cell_type": "code",
      "source": [
        "import os\n",
        "import glob\n",
        "import pandas as pd\n",
        "import numpy as np\n",
        "import tensorflow as tf\n",
        "import matplotlib.pyplot as plt\n",
        "import seaborn as sns\n",
        "\n",
        "from tensorflow.keras.models import Sequential\n",
        "from tensorflow.keras.layers import Conv2D, Dense, Flatten, MaxPooling2D, BatchNormalization, Dropout\n",
        "from tensorflow.keras.metrics import CategoricalAccuracy, Precision, AUC, Recall\n",
        "from tensorflow.keras.optimizers import Adam\n",
        "from tensorflow.keras.utils import to_categorical\n",
        "from tensorflow.keras.preprocessing.image import ImageDataGenerator, load_img\n",
        "from keras.callbacks import EarlyStopping, ModelCheckpoint\n",
        "from sklearn.model_selection import train_test_split\n",
        "from sklearn.utils import shuffle\n",
        "from sklearn.preprocessing import LabelEncoder\n",
        "from sklearn.metrics import confusion_matrix, classification_report"
      ],
      "metadata": {
        "id": "-4ONl5dQGvub"
      },
      "execution_count": 4,
      "outputs": []
    },
    {
      "cell_type": "markdown",
      "source": [
        "## Constants"
      ],
      "metadata": {
        "id": "SNw6u_X4Vjhq"
      }
    },
    {
      "cell_type": "code",
      "source": [
        "PATH_TO_TRAIN_DATA = '/content/imagenette2-160/train'\n",
        "PATH_TO_VAL_DATA = '/content/imagenette2-160/val'\n",
        "IMG_WIDTH=64\n",
        "IMG_HEIGHT=64\n",
        "NUM_CLASSES=4"
      ],
      "metadata": {
        "id": "Mqij7Db_GdEO"
      },
      "execution_count": 5,
      "outputs": []
    },
    {
      "cell_type": "code",
      "source": [
        "all_classes = os.listdir(PATH_TO_TRAIN_DATA)\n",
        "all_classes"
      ],
      "metadata": {
        "id": "blZUoPmqGmuC",
        "colab": {
          "base_uri": "https://localhost:8080/"
        },
        "outputId": "a2ff2f1c-0f76-4cee-e1fb-43f436f95780"
      },
      "execution_count": 6,
      "outputs": [
        {
          "output_type": "execute_result",
          "data": {
            "text/plain": [
              "['n03888257',\n",
              " 'n02979186',\n",
              " 'n02102040',\n",
              " '.DS_Store',\n",
              " 'n03417042',\n",
              " 'n03028079',\n",
              " 'n03000684',\n",
              " 'n03394916',\n",
              " 'n03425413',\n",
              " 'n01440764',\n",
              " 'n03445777']"
            ]
          },
          "metadata": {},
          "execution_count": 6
        }
      ]
    },
    {
      "cell_type": "code",
      "source": [
        "all_classes = os.listdir(PATH_TO_VAL_DATA)\n",
        "all_classes"
      ],
      "metadata": {
        "id": "vJ7YtI7zHS5U",
        "colab": {
          "base_uri": "https://localhost:8080/"
        },
        "outputId": "a9cb7329-d6e8-4f22-e02d-03c9f2f37144"
      },
      "execution_count": 7,
      "outputs": [
        {
          "output_type": "execute_result",
          "data": {
            "text/plain": [
              "['n03888257',\n",
              " 'n02979186',\n",
              " 'n02102040',\n",
              " 'n03417042',\n",
              " 'n03028079',\n",
              " 'n03000684',\n",
              " 'n03394916',\n",
              " 'n03425413',\n",
              " 'n01440764',\n",
              " 'n03445777']"
            ]
          },
          "metadata": {},
          "execution_count": 7
        }
      ]
    },
    {
      "cell_type": "markdown",
      "source": [
        "## Load dataset"
      ],
      "metadata": {
        "id": "GAPRTpueQCQz"
      }
    },
    {
      "cell_type": "code",
      "source": [
        "data = []\n",
        "labels = []"
      ],
      "metadata": {
        "id": "M04-MyRHnivw"
      },
      "execution_count": 8,
      "outputs": []
    },
    {
      "cell_type": "code",
      "source": [
        "def load_dataset(img_folder): \n",
        "    for dir in os.listdir(img_folder):\n",
        "      if dir == 'n03445777' or dir == 'n03417042' or dir == 'n02979186' or dir == 'n03028079' :\n",
        "        for file in os.listdir(os.path.join(img_folder, dir)):\n",
        "            image_path = os.path.join(img_folder, dir, file)\n",
        "            image = tf.keras.preprocessing.image.load_img(image_path, target_size=(64,64))\n",
        "            input_arr = tf.keras.preprocessing.image.img_to_array(image)\n",
        "            input_arr = np.array([input_arr])\n",
        "            image = np.array(image)\n",
        "            data.append(image)\n",
        "            labels.append(dir)"
      ],
      "metadata": {
        "id": "aPu_wDteHj7O"
      },
      "execution_count": 9,
      "outputs": []
    },
    {
      "cell_type": "code",
      "source": [
        "load_dataset(PATH_TO_TRAIN_DATA)\n",
        "load_dataset(PATH_TO_VAL_DATA)"
      ],
      "metadata": {
        "id": "FWqY1YqYmBw3"
      },
      "execution_count": 10,
      "outputs": []
    },
    {
      "cell_type": "code",
      "source": [
        "np.unique(labels)"
      ],
      "metadata": {
        "colab": {
          "base_uri": "https://localhost:8080/"
        },
        "id": "1KtBUddwMf7a",
        "outputId": "c1426ad0-00cf-4828-abff-051e2863f0b3"
      },
      "execution_count": 11,
      "outputs": [
        {
          "output_type": "execute_result",
          "data": {
            "text/plain": [
              "array(['n02979186', 'n03028079', 'n03417042', 'n03445777'], dtype='<U9')"
            ]
          },
          "metadata": {},
          "execution_count": 11
        }
      ]
    },
    {
      "cell_type": "code",
      "source": [
        "data[0]"
      ],
      "metadata": {
        "colab": {
          "base_uri": "https://localhost:8080/"
        },
        "id": "9frhu7uaNGqV",
        "outputId": "66d2d10b-2e04-45bc-9100-4d1a0ad5f651"
      },
      "execution_count": 12,
      "outputs": [
        {
          "output_type": "execute_result",
          "data": {
            "text/plain": [
              "array([[[0, 0, 0],\n",
              "        [0, 0, 0],\n",
              "        [0, 0, 0],\n",
              "        ...,\n",
              "        [0, 0, 0],\n",
              "        [0, 0, 0],\n",
              "        [0, 0, 0]],\n",
              "\n",
              "       [[0, 0, 0],\n",
              "        [0, 0, 0],\n",
              "        [0, 0, 0],\n",
              "        ...,\n",
              "        [0, 0, 0],\n",
              "        [0, 0, 0],\n",
              "        [0, 0, 0]],\n",
              "\n",
              "       [[0, 0, 0],\n",
              "        [0, 0, 0],\n",
              "        [0, 0, 0],\n",
              "        ...,\n",
              "        [0, 0, 0],\n",
              "        [0, 0, 0],\n",
              "        [0, 0, 0]],\n",
              "\n",
              "       ...,\n",
              "\n",
              "       [[0, 0, 0],\n",
              "        [0, 0, 0],\n",
              "        [0, 0, 0],\n",
              "        ...,\n",
              "        [0, 0, 0],\n",
              "        [0, 0, 0],\n",
              "        [0, 0, 0]],\n",
              "\n",
              "       [[0, 0, 0],\n",
              "        [0, 0, 0],\n",
              "        [0, 0, 0],\n",
              "        ...,\n",
              "        [0, 0, 0],\n",
              "        [0, 0, 0],\n",
              "        [0, 0, 0]],\n",
              "\n",
              "       [[0, 0, 0],\n",
              "        [0, 0, 0],\n",
              "        [0, 0, 0],\n",
              "        ...,\n",
              "        [0, 0, 0],\n",
              "        [0, 0, 0],\n",
              "        [0, 0, 0]]], dtype=uint8)"
            ]
          },
          "metadata": {},
          "execution_count": 12
        }
      ]
    },
    {
      "cell_type": "markdown",
      "source": [
        "## Shuffle and split"
      ],
      "metadata": {
        "id": "fiEa6VN9QEVS"
      }
    },
    {
      "cell_type": "code",
      "source": [
        "X_train, X_test, y_train, y_test = train_test_split(data, labels, test_size=0.30, random_state=42)\n",
        "X_test, X_val, y_test, y_val = train_test_split(X_test, y_test, test_size=0.33, random_state=42)"
      ],
      "metadata": {
        "id": "wkQrikB6q9LO"
      },
      "execution_count": 13,
      "outputs": []
    },
    {
      "cell_type": "markdown",
      "source": [
        "## Class distribution"
      ],
      "metadata": {
        "id": "aw2IBtfFP8YD"
      }
    },
    {
      "cell_type": "code",
      "source": [
        "df_train = pd.DataFrame(y_train, columns=['label'])\n",
        "df_train.head()"
      ],
      "metadata": {
        "colab": {
          "base_uri": "https://localhost:8080/",
          "height": 206
        },
        "id": "p6O6bXLwOptx",
        "outputId": "60e6e17f-13e2-41fb-f948-8e8a9810f740"
      },
      "execution_count": 14,
      "outputs": [
        {
          "output_type": "execute_result",
          "data": {
            "text/plain": [
              "       label\n",
              "0  n03028079\n",
              "1  n02979186\n",
              "2  n02979186\n",
              "3  n03028079\n",
              "4  n03445777"
            ],
            "text/html": [
              "\n",
              "  <div id=\"df-6d3b3a87-7f23-4285-b25d-3ef8cc4528ee\">\n",
              "    <div class=\"colab-df-container\">\n",
              "      <div>\n",
              "<style scoped>\n",
              "    .dataframe tbody tr th:only-of-type {\n",
              "        vertical-align: middle;\n",
              "    }\n",
              "\n",
              "    .dataframe tbody tr th {\n",
              "        vertical-align: top;\n",
              "    }\n",
              "\n",
              "    .dataframe thead th {\n",
              "        text-align: right;\n",
              "    }\n",
              "</style>\n",
              "<table border=\"1\" class=\"dataframe\">\n",
              "  <thead>\n",
              "    <tr style=\"text-align: right;\">\n",
              "      <th></th>\n",
              "      <th>label</th>\n",
              "    </tr>\n",
              "  </thead>\n",
              "  <tbody>\n",
              "    <tr>\n",
              "      <th>0</th>\n",
              "      <td>n03028079</td>\n",
              "    </tr>\n",
              "    <tr>\n",
              "      <th>1</th>\n",
              "      <td>n02979186</td>\n",
              "    </tr>\n",
              "    <tr>\n",
              "      <th>2</th>\n",
              "      <td>n02979186</td>\n",
              "    </tr>\n",
              "    <tr>\n",
              "      <th>3</th>\n",
              "      <td>n03028079</td>\n",
              "    </tr>\n",
              "    <tr>\n",
              "      <th>4</th>\n",
              "      <td>n03445777</td>\n",
              "    </tr>\n",
              "  </tbody>\n",
              "</table>\n",
              "</div>\n",
              "      <button class=\"colab-df-convert\" onclick=\"convertToInteractive('df-6d3b3a87-7f23-4285-b25d-3ef8cc4528ee')\"\n",
              "              title=\"Convert this dataframe to an interactive table.\"\n",
              "              style=\"display:none;\">\n",
              "        \n",
              "  <svg xmlns=\"http://www.w3.org/2000/svg\" height=\"24px\"viewBox=\"0 0 24 24\"\n",
              "       width=\"24px\">\n",
              "    <path d=\"M0 0h24v24H0V0z\" fill=\"none\"/>\n",
              "    <path d=\"M18.56 5.44l.94 2.06.94-2.06 2.06-.94-2.06-.94-.94-2.06-.94 2.06-2.06.94zm-11 1L8.5 8.5l.94-2.06 2.06-.94-2.06-.94L8.5 2.5l-.94 2.06-2.06.94zm10 10l.94 2.06.94-2.06 2.06-.94-2.06-.94-.94-2.06-.94 2.06-2.06.94z\"/><path d=\"M17.41 7.96l-1.37-1.37c-.4-.4-.92-.59-1.43-.59-.52 0-1.04.2-1.43.59L10.3 9.45l-7.72 7.72c-.78.78-.78 2.05 0 2.83L4 21.41c.39.39.9.59 1.41.59.51 0 1.02-.2 1.41-.59l7.78-7.78 2.81-2.81c.8-.78.8-2.07 0-2.86zM5.41 20L4 18.59l7.72-7.72 1.47 1.35L5.41 20z\"/>\n",
              "  </svg>\n",
              "      </button>\n",
              "      \n",
              "  <style>\n",
              "    .colab-df-container {\n",
              "      display:flex;\n",
              "      flex-wrap:wrap;\n",
              "      gap: 12px;\n",
              "    }\n",
              "\n",
              "    .colab-df-convert {\n",
              "      background-color: #E8F0FE;\n",
              "      border: none;\n",
              "      border-radius: 50%;\n",
              "      cursor: pointer;\n",
              "      display: none;\n",
              "      fill: #1967D2;\n",
              "      height: 32px;\n",
              "      padding: 0 0 0 0;\n",
              "      width: 32px;\n",
              "    }\n",
              "\n",
              "    .colab-df-convert:hover {\n",
              "      background-color: #E2EBFA;\n",
              "      box-shadow: 0px 1px 2px rgba(60, 64, 67, 0.3), 0px 1px 3px 1px rgba(60, 64, 67, 0.15);\n",
              "      fill: #174EA6;\n",
              "    }\n",
              "\n",
              "    [theme=dark] .colab-df-convert {\n",
              "      background-color: #3B4455;\n",
              "      fill: #D2E3FC;\n",
              "    }\n",
              "\n",
              "    [theme=dark] .colab-df-convert:hover {\n",
              "      background-color: #434B5C;\n",
              "      box-shadow: 0px 1px 3px 1px rgba(0, 0, 0, 0.15);\n",
              "      filter: drop-shadow(0px 1px 2px rgba(0, 0, 0, 0.3));\n",
              "      fill: #FFFFFF;\n",
              "    }\n",
              "  </style>\n",
              "\n",
              "      <script>\n",
              "        const buttonEl =\n",
              "          document.querySelector('#df-6d3b3a87-7f23-4285-b25d-3ef8cc4528ee button.colab-df-convert');\n",
              "        buttonEl.style.display =\n",
              "          google.colab.kernel.accessAllowed ? 'block' : 'none';\n",
              "\n",
              "        async function convertToInteractive(key) {\n",
              "          const element = document.querySelector('#df-6d3b3a87-7f23-4285-b25d-3ef8cc4528ee');\n",
              "          const dataTable =\n",
              "            await google.colab.kernel.invokeFunction('convertToInteractive',\n",
              "                                                     [key], {});\n",
              "          if (!dataTable) return;\n",
              "\n",
              "          const docLinkHtml = 'Like what you see? Visit the ' +\n",
              "            '<a target=\"_blank\" href=https://colab.research.google.com/notebooks/data_table.ipynb>data table notebook</a>'\n",
              "            + ' to learn more about interactive tables.';\n",
              "          element.innerHTML = '';\n",
              "          dataTable['output_type'] = 'display_data';\n",
              "          await google.colab.output.renderOutput(dataTable, element);\n",
              "          const docLink = document.createElement('div');\n",
              "          docLink.innerHTML = docLinkHtml;\n",
              "          element.appendChild(docLink);\n",
              "        }\n",
              "      </script>\n",
              "    </div>\n",
              "  </div>\n",
              "  "
            ]
          },
          "metadata": {},
          "execution_count": 14
        }
      ]
    },
    {
      "cell_type": "code",
      "source": [
        "sns.countplot(data=df_train, x='label')\n",
        "plt.show()"
      ],
      "metadata": {
        "colab": {
          "base_uri": "https://localhost:8080/",
          "height": 281
        },
        "id": "dqdcinbjO4hQ",
        "outputId": "dac4bf2b-0f34-4879-845d-60c53e28f7ec"
      },
      "execution_count": 15,
      "outputs": [
        {
          "output_type": "display_data",
          "data": {
            "text/plain": [
              "<Figure size 432x288 with 1 Axes>"
            ],
            "image/png": "[encoded data removed]"
          },
          "metadata": {
            "needs_background": "light"
          }
        }
      ]
    },
    {
      "cell_type": "code",
      "source": [
        "df_test = pd.DataFrame(y_test, columns=['label'])\n",
        "df_test.head()"
      ],
      "metadata": {
        "colab": {
          "base_uri": "https://localhost:8080/",
          "height": 206
        },
        "id": "zUJ5K75XPCxp",
        "outputId": "d8c7a0b9-883e-435b-a666-7566b5d1d95e"
      },
      "execution_count": 16,
      "outputs": [
        {
          "output_type": "execute_result",
          "data": {
            "text/plain": [
              "       label\n",
              "0  n03028079\n",
              "1  n03445777\n",
              "2  n03028079\n",
              "3  n03028079\n",
              "4  n03028079"
            ],
            "text/html": [
              "\n",
              "  <div id=\"df-7befd474-c3ed-4f30-b6cd-749ac36df6e4\">\n",
              "    <div class=\"colab-df-container\">\n",
              "      <div>\n",
              "<style scoped>\n",
              "    .dataframe tbody tr th:only-of-type {\n",
              "        vertical-align: middle;\n",
              "    }\n",
              "\n",
              "    .dataframe tbody tr th {\n",
              "        vertical-align: top;\n",
              "    }\n",
              "\n",
              "    .dataframe thead th {\n",
              "        text-align: right;\n",
              "    }\n",
              "</style>\n",
              "<table border=\"1\" class=\"dataframe\">\n",
              "  <thead>\n",
              "    <tr style=\"text-align: right;\">\n",
              "      <th></th>\n",
              "      <th>label</th>\n",
              "    </tr>\n",
              "  </thead>\n",
              "  <tbody>\n",
              "    <tr>\n",
              "      <th>0</th>\n",
              "      <td>n03028079</td>\n",
              "    </tr>\n",
              "    <tr>\n",
              "      <th>1</th>\n",
              "      <td>n03445777</td>\n",
              "    </tr>\n",
              "    <tr>\n",
              "      <th>2</th>\n",
              "      <td>n03028079</td>\n",
              "    </tr>\n",
              "    <tr>\n",
              "      <th>3</th>\n",
              "      <td>n03028079</td>\n",
              "    </tr>\n",
              "    <tr>\n",
              "      <th>4</th>\n",
              "      <td>n03028079</td>\n",
              "    </tr>\n",
              "  </tbody>\n",
              "</table>\n",
              "</div>\n",
              "      <button class=\"colab-df-convert\" onclick=\"convertToInteractive('df-7befd474-c3ed-4f30-b6cd-749ac36df6e4')\"\n",
              "              title=\"Convert this dataframe to an interactive table.\"\n",
              "              style=\"display:none;\">\n",
              "        \n",
              "  <svg xmlns=\"http://www.w3.org/2000/svg\" height=\"24px\"viewBox=\"0 0 24 24\"\n",
              "       width=\"24px\">\n",
              "    <path d=\"M0 0h24v24H0V0z\" fill=\"none\"/>\n",
              "    <path d=\"M18.56 5.44l.94 2.06.94-2.06 2.06-.94-2.06-.94-.94-2.06-.94 2.06-2.06.94zm-11 1L8.5 8.5l.94-2.06 2.06-.94-2.06-.94L8.5 2.5l-.94 2.06-2.06.94zm10 10l.94 2.06.94-2.06 2.06-.94-2.06-.94-.94-2.06-.94 2.06-2.06.94z\"/><path d=\"M17.41 7.96l-1.37-1.37c-.4-.4-.92-.59-1.43-.59-.52 0-1.04.2-1.43.59L10.3 9.45l-7.72 7.72c-.78.78-.78 2.05 0 2.83L4 21.41c.39.39.9.59 1.41.59.51 0 1.02-.2 1.41-.59l7.78-7.78 2.81-2.81c.8-.78.8-2.07 0-2.86zM5.41 20L4 18.59l7.72-7.72 1.47 1.35L5.41 20z\"/>\n",
              "  </svg>\n",
              "      </button>\n",
              "      \n",
              "  <style>\n",
              "    .colab-df-container {\n",
              "      display:flex;\n",
              "      flex-wrap:wrap;\n",
              "      gap: 12px;\n",
              "    }\n",
              "\n",
              "    .colab-df-convert {\n",
              "      background-color: #E8F0FE;\n",
              "      border: none;\n",
              "      border-radius: 50%;\n",
              "      cursor: pointer;\n",
              "      display: none;\n",
              "      fill: #1967D2;\n",
              "      height: 32px;\n",
              "      padding: 0 0 0 0;\n",
              "      width: 32px;\n",
              "    }\n",
              "\n",
              "    .colab-df-convert:hover {\n",
              "      background-color: #E2EBFA;\n",
              "      box-shadow: 0px 1px 2px rgba(60, 64, 67, 0.3), 0px 1px 3px 1px rgba(60, 64, 67, 0.15);\n",
              "      fill: #174EA6;\n",
              "    }\n",
              "\n",
              "    [theme=dark] .colab-df-convert {\n",
              "      background-color: #3B4455;\n",
              "      fill: #D2E3FC;\n",
              "    }\n",
              "\n",
              "    [theme=dark] .colab-df-convert:hover {\n",
              "      background-color: #434B5C;\n",
              "      box-shadow: 0px 1px 3px 1px rgba(0, 0, 0, 0.15);\n",
              "      filter: drop-shadow(0px 1px 2px rgba(0, 0, 0, 0.3));\n",
              "      fill: #FFFFFF;\n",
              "    }\n",
              "  </style>\n",
              "\n",
              "      <script>\n",
              "        const buttonEl =\n",
              "          document.querySelector('#df-7befd474-c3ed-4f30-b6cd-749ac36df6e4 button.colab-df-convert');\n",
              "        buttonEl.style.display =\n",
              "          google.colab.kernel.accessAllowed ? 'block' : 'none';\n",
              "\n",
              "        async function convertToInteractive(key) {\n",
              "          const element = document.querySelector('#df-7befd474-c3ed-4f30-b6cd-749ac36df6e4');\n",
              "          const dataTable =\n",
              "            await google.colab.kernel.invokeFunction('convertToInteractive',\n",
              "                                                     [key], {});\n",
              "          if (!dataTable) return;\n",
              "\n",
              "          const docLinkHtml = 'Like what you see? Visit the ' +\n",
              "            '<a target=\"_blank\" href=https://colab.research.google.com/notebooks/data_table.ipynb>data table notebook</a>'\n",
              "            + ' to learn more about interactive tables.';\n",
              "          element.innerHTML = '';\n",
              "          dataTable['output_type'] = 'display_data';\n",
              "          await google.colab.output.renderOutput(dataTable, element);\n",
              "          const docLink = document.createElement('div');\n",
              "          docLink.innerHTML = docLinkHtml;\n",
              "          element.appendChild(docLink);\n",
              "        }\n",
              "      </script>\n",
              "    </div>\n",
              "  </div>\n",
              "  "
            ]
          },
          "metadata": {},
          "execution_count": 16
        }
      ]
    },
    {
      "cell_type": "code",
      "source": [
        "sns.countplot(data=df_test, x='label')\n",
        "plt.show()"
      ],
      "metadata": {
        "colab": {
          "base_uri": "https://localhost:8080/",
          "height": 279
        },
        "id": "dgLwhFaQPMtW",
        "outputId": "22fd849b-9607-4a53-ce9f-abc92f3d2647"
      },
      "execution_count": 17,
      "outputs": [
        {
          "output_type": "display_data",
          "data": {
            "text/plain": [
              "<Figure size 432x288 with 1 Axes>"
            ],
            "image/png": "[encoded data removed]"
          },
          "metadata": {
            "needs_background": "light"
          }
        }
      ]
    },
    {
      "cell_type": "code",
      "source": [
        "df_val = pd.DataFrame(y_val, columns=['label'])\n",
        "df_val.head()"
      ],
      "metadata": {
        "colab": {
          "base_uri": "https://localhost:8080/",
          "height": 206
        },
        "id": "Ffya_-TJKuHa",
        "outputId": "c0962961-9538-48a8-d6c1-247724429581"
      },
      "execution_count": 18,
      "outputs": [
        {
          "output_type": "execute_result",
          "data": {
            "text/plain": [
              "       label\n",
              "0  n03028079\n",
              "1  n02979186\n",
              "2  n03417042\n",
              "3  n03417042\n",
              "4  n02979186"
            ],
            "text/html": [
              "\n",
              "  <div id=\"df-f820ddb0-9b16-46c1-9e7a-a21959b1ea0f\">\n",
              "    <div class=\"colab-df-container\">\n",
              "      <div>\n",
              "<style scoped>\n",
              "    .dataframe tbody tr th:only-of-type {\n",
              "        vertical-align: middle;\n",
              "    }\n",
              "\n",
              "    .dataframe tbody tr th {\n",
              "        vertical-align: top;\n",
              "    }\n",
              "\n",
              "    .dataframe thead th {\n",
              "        text-align: right;\n",
              "    }\n",
              "</style>\n",
              "<table border=\"1\" class=\"dataframe\">\n",
              "  <thead>\n",
              "    <tr style=\"text-align: right;\">\n",
              "      <th></th>\n",
              "      <th>label</th>\n",
              "    </tr>\n",
              "  </thead>\n",
              "  <tbody>\n",
              "    <tr>\n",
              "      <th>0</th>\n",
              "      <td>n03028079</td>\n",
              "    </tr>\n",
              "    <tr>\n",
              "      <th>1</th>\n",
              "      <td>n02979186</td>\n",
              "    </tr>\n",
              "    <tr>\n",
              "      <th>2</th>\n",
              "      <td>n03417042</td>\n",
              "    </tr>\n",
              "    <tr>\n",
              "      <th>3</th>\n",
              "      <td>n03417042</td>\n",
              "    </tr>\n",
              "    <tr>\n",
              "      <th>4</th>\n",
              "      <td>n02979186</td>\n",
              "    </tr>\n",
              "  </tbody>\n",
              "</table>\n",
              "</div>\n",
              "      <button class=\"colab-df-convert\" onclick=\"convertToInteractive('df-f820ddb0-9b16-46c1-9e7a-a21959b1ea0f')\"\n",
              "              title=\"Convert this dataframe to an interactive table.\"\n",
              "              style=\"display:none;\">\n",
              "        \n",
              "  <svg xmlns=\"http://www.w3.org/2000/svg\" height=\"24px\"viewBox=\"0 0 24 24\"\n",
              "       width=\"24px\">\n",
              "    <path d=\"M0 0h24v24H0V0z\" fill=\"none\"/>\n",
              "    <path d=\"M18.56 5.44l.94 2.06.94-2.06 2.06-.94-2.06-.94-.94-2.06-.94 2.06-2.06.94zm-11 1L8.5 8.5l.94-2.06 2.06-.94-2.06-.94L8.5 2.5l-.94 2.06-2.06.94zm10 10l.94 2.06.94-2.06 2.06-.94-2.06-.94-.94-2.06-.94 2.06-2.06.94z\"/><path d=\"M17.41 7.96l-1.37-1.37c-.4-.4-.92-.59-1.43-.59-.52 0-1.04.2-1.43.59L10.3 9.45l-7.72 7.72c-.78.78-.78 2.05 0 2.83L4 21.41c.39.39.9.59 1.41.59.51 0 1.02-.2 1.41-.59l7.78-7.78 2.81-2.81c.8-.78.8-2.07 0-2.86zM5.41 20L4 18.59l7.72-7.72 1.47 1.35L5.41 20z\"/>\n",
              "  </svg>\n",
              "      </button>\n",
              "      \n",
              "  <style>\n",
              "    .colab-df-container {\n",
              "      display:flex;\n",
              "      flex-wrap:wrap;\n",
              "      gap: 12px;\n",
              "    }\n",
              "\n",
              "    .colab-df-convert {\n",
              "      background-color: #E8F0FE;\n",
              "      border: none;\n",
              "      border-radius: 50%;\n",
              "      cursor: pointer;\n",
              "      display: none;\n",
              "      fill: #1967D2;\n",
              "      height: 32px;\n",
              "      padding: 0 0 0 0;\n",
              "      width: 32px;\n",
              "    }\n",
              "\n",
              "    .colab-df-convert:hover {\n",
              "      background-color: #E2EBFA;\n",
              "      box-shadow: 0px 1px 2px rgba(60, 64, 67, 0.3), 0px 1px 3px 1px rgba(60, 64, 67, 0.15);\n",
              "      fill: #174EA6;\n",
              "    }\n",
              "\n",
              "    [theme=dark] .colab-df-convert {\n",
              "      background-color: #3B4455;\n",
              "      fill: #D2E3FC;\n",
              "    }\n",
              "\n",
              "    [theme=dark] .colab-df-convert:hover {\n",
              "      background-color: #434B5C;\n",
              "      box-shadow: 0px 1px 3px 1px rgba(0, 0, 0, 0.15);\n",
              "      filter: drop-shadow(0px 1px 2px rgba(0, 0, 0, 0.3));\n",
              "      fill: #FFFFFF;\n",
              "    }\n",
              "  </style>\n",
              "\n",
              "      <script>\n",
              "        const buttonEl =\n",
              "          document.querySelector('#df-f820ddb0-9b16-46c1-9e7a-a21959b1ea0f button.colab-df-convert');\n",
              "        buttonEl.style.display =\n",
              "          google.colab.kernel.accessAllowed ? 'block' : 'none';\n",
              "\n",
              "        async function convertToInteractive(key) {\n",
              "          const element = document.querySelector('#df-f820ddb0-9b16-46c1-9e7a-a21959b1ea0f');\n",
              "          const dataTable =\n",
              "            await google.colab.kernel.invokeFunction('convertToInteractive',\n",
              "                                                     [key], {});\n",
              "          if (!dataTable) return;\n",
              "\n",
              "          const docLinkHtml = 'Like what you see? Visit the ' +\n",
              "            '<a target=\"_blank\" href=https://colab.research.google.com/notebooks/data_table.ipynb>data table notebook</a>'\n",
              "            + ' to learn more about interactive tables.';\n",
              "          element.innerHTML = '';\n",
              "          dataTable['output_type'] = 'display_data';\n",
              "          await google.colab.output.renderOutput(dataTable, element);\n",
              "          const docLink = document.createElement('div');\n",
              "          docLink.innerHTML = docLinkHtml;\n",
              "          element.appendChild(docLink);\n",
              "        }\n",
              "      </script>\n",
              "    </div>\n",
              "  </div>\n",
              "  "
            ]
          },
          "metadata": {},
          "execution_count": 18
        }
      ]
    },
    {
      "cell_type": "code",
      "source": [
        "sns.countplot(data=df_val, x='label')\n",
        "plt.show()"
      ],
      "metadata": {
        "colab": {
          "base_uri": "https://localhost:8080/",
          "height": 279
        },
        "id": "zKybFqldKuFN",
        "outputId": "ed6af099-e5eb-4fb0-a1de-bd2f4db8619d"
      },
      "execution_count": 19,
      "outputs": [
        {
          "output_type": "display_data",
          "data": {
            "text/plain": [
              "<Figure size 432x288 with 1 Axes>"
            ],
            "image/png": "[encoded data removed]"
          },
          "metadata": {
            "needs_background": "light"
          }
        }
      ]
    },
    {
      "cell_type": "markdown",
      "source": [
        "## Encoding"
      ],
      "metadata": {
        "id": "k3-odDC4P4iw"
      }
    },
    {
      "cell_type": "code",
      "source": [
        "def one_hot_encode(y, num_classes):\n",
        "  le = LabelEncoder()\n",
        "  return to_categorical(le.fit_transform(y), num_classes)"
      ],
      "metadata": {
        "id": "j05-94gsVG7P"
      },
      "execution_count": 20,
      "outputs": []
    },
    {
      "cell_type": "code",
      "source": [
        "y_train[0]"
      ],
      "metadata": {
        "colab": {
          "base_uri": "https://localhost:8080/",
          "height": 35
        },
        "id": "TIIs6vhcPSlC",
        "outputId": "e8709992-b140-43bd-f026-9e20581d8531"
      },
      "execution_count": 21,
      "outputs": [
        {
          "output_type": "execute_result",
          "data": {
            "text/plain": [
              "'n03028079'"
            ],
            "application/vnd.google.colaboratory.intrinsic+json": {
              "type": "string"
            }
          },
          "metadata": {},
          "execution_count": 21
        }
      ]
    },
    {
      "cell_type": "code",
      "source": [
        "y_train = one_hot_encode(y_train, NUM_CLASSES)"
      ],
      "metadata": {
        "id": "BPYfBPPNPXhm"
      },
      "execution_count": 22,
      "outputs": []
    },
    {
      "cell_type": "code",
      "source": [
        "y_train[0]"
      ],
      "metadata": {
        "colab": {
          "base_uri": "https://localhost:8080/"
        },
        "id": "t7fvDvpkPm04",
        "outputId": "07216745-c296-494d-9267-965768d4a891"
      },
      "execution_count": 23,
      "outputs": [
        {
          "output_type": "execute_result",
          "data": {
            "text/plain": [
              "array([0., 1., 0., 0.], dtype=float32)"
            ]
          },
          "metadata": {},
          "execution_count": 23
        }
      ]
    },
    {
      "cell_type": "code",
      "source": [
        "y_test[0]"
      ],
      "metadata": {
        "colab": {
          "base_uri": "https://localhost:8080/",
          "height": 35
        },
        "id": "dT7y2i_1PtcM",
        "outputId": "b2880954-681f-4922-d5fe-ba10c366f885"
      },
      "execution_count": 24,
      "outputs": [
        {
          "output_type": "execute_result",
          "data": {
            "text/plain": [
              "'n03028079'"
            ],
            "application/vnd.google.colaboratory.intrinsic+json": {
              "type": "string"
            }
          },
          "metadata": {},
          "execution_count": 24
        }
      ]
    },
    {
      "cell_type": "code",
      "source": [
        "y_test = one_hot_encode(y_test, NUM_CLASSES)"
      ],
      "metadata": {
        "id": "q302nQhQPtWL"
      },
      "execution_count": 25,
      "outputs": []
    },
    {
      "cell_type": "code",
      "source": [
        "y_test[0]"
      ],
      "metadata": {
        "colab": {
          "base_uri": "https://localhost:8080/"
        },
        "id": "xFJEn4BOPtPy",
        "outputId": "34208362-8711-40cb-d75e-c3d79d48304c"
      },
      "execution_count": 26,
      "outputs": [
        {
          "output_type": "execute_result",
          "data": {
            "text/plain": [
              "array([0., 1., 0., 0.], dtype=float32)"
            ]
          },
          "metadata": {},
          "execution_count": 26
        }
      ]
    },
    {
      "cell_type": "code",
      "source": [
        "np.array(y_train).shape"
      ],
      "metadata": {
        "colab": {
          "base_uri": "https://localhost:8080/"
        },
        "id": "8BglGxUPeelq",
        "outputId": "24b40911-6ee5-4f1b-b333-daf8e278a942"
      },
      "execution_count": 27,
      "outputs": [
        {
          "output_type": "execute_result",
          "data": {
            "text/plain": [
              "(3780, 4)"
            ]
          },
          "metadata": {},
          "execution_count": 27
        }
      ]
    },
    {
      "cell_type": "code",
      "source": [
        "y_val[0]"
      ],
      "metadata": {
        "colab": {
          "base_uri": "https://localhost:8080/",
          "height": 35
        },
        "id": "mDS2VaEgJEQk",
        "outputId": "a1384fd0-a687-438c-c2ca-421eaffe272f"
      },
      "execution_count": 28,
      "outputs": [
        {
          "output_type": "execute_result",
          "data": {
            "text/plain": [
              "'n03028079'"
            ],
            "application/vnd.google.colaboratory.intrinsic+json": {
              "type": "string"
            }
          },
          "metadata": {},
          "execution_count": 28
        }
      ]
    },
    {
      "cell_type": "code",
      "source": [
        "y_val = one_hot_encode(y_val, NUM_CLASSES)"
      ],
      "metadata": {
        "id": "niF9uj0WJHR1"
      },
      "execution_count": 29,
      "outputs": []
    },
    {
      "cell_type": "code",
      "source": [
        "y_val"
      ],
      "metadata": {
        "colab": {
          "base_uri": "https://localhost:8080/"
        },
        "id": "QoFFPvuzJHNH",
        "outputId": "7963b880-4102-4d95-8e0b-bdc4250233a2"
      },
      "execution_count": 30,
      "outputs": [
        {
          "output_type": "execute_result",
          "data": {
            "text/plain": [
              "array([[0., 1., 0., 0.],\n",
              "       [1., 0., 0., 0.],\n",
              "       [0., 0., 1., 0.],\n",
              "       ...,\n",
              "       [1., 0., 0., 0.],\n",
              "       [0., 1., 0., 0.],\n",
              "       [1., 0., 0., 0.]], dtype=float32)"
            ]
          },
          "metadata": {},
          "execution_count": 30
        }
      ]
    },
    {
      "cell_type": "markdown",
      "source": [
        "## Create train, validation and test sets"
      ],
      "metadata": {
        "id": "L9lbpcv7QZYC"
      }
    },
    {
      "cell_type": "code",
      "source": [
        "train_datagen = ImageDataGenerator(        \n",
        "        rescale=1./255,\n",
        "        fill_mode=\"nearest\",\n",
        ")\n",
        "\n",
        "val_datagen = ImageDataGenerator(rescale=1./255)\n",
        "test_datagen = ImageDataGenerator(rescale=1./255)"
      ],
      "metadata": {
        "id": "QAmBWWzTQLfu"
      },
      "execution_count": 31,
      "outputs": []
    },
    {
      "cell_type": "code",
      "source": [
        "train_ds = train_datagen.flow(\n",
        "  np.array(X_train), y_train,\n",
        "  shuffle=True,\n",
        "  batch_size=128\n",
        ")\n",
        "\n",
        "val_ds = train_datagen.flow(\n",
        "  np.array(X_val), y_val,\n",
        "  shuffle=True,\n",
        "  batch_size=128\n",
        ")\n",
        "\n",
        "test_ds = test_datagen.flow(\n",
        "  np.array(X_test), y_test,\n",
        "  shuffle=False,\n",
        "  batch_size=128\n",
        ")"
      ],
      "metadata": {
        "id": "DEGRrcKyQLR2"
      },
      "execution_count": 32,
      "outputs": []
    },
    {
      "cell_type": "code",
      "source": [
        "print('Shape of training samples: ', train_ds.x.shape)\n",
        "print('Shape of validation samples: ', val_ds.x.shape)\n",
        "print('Shape of test samples: ', test_ds.x.shape)"
      ],
      "metadata": {
        "colab": {
          "base_uri": "https://localhost:8080/"
        },
        "id": "TWpxTK2fUMbM",
        "outputId": "3deda672-c9ef-4eec-d768-96f7f0806998"
      },
      "execution_count": 33,
      "outputs": [
        {
          "output_type": "stream",
          "name": "stdout",
          "text": [
            "Shape of training samples:  (3780, 64, 64, 3)\n",
            "Shape of validation samples:  (535, 64, 64, 3)\n",
            "Shape of test samples:  (1085, 64, 64, 3)\n"
          ]
        }
      ]
    },
    {
      "cell_type": "markdown",
      "source": [
        "## Build model"
      ],
      "metadata": {
        "id": "mXM62rqgWnmR"
      }
    },
    {
      "cell_type": "code",
      "source": [
        "def build_model(batchNorm=False, dropOut=False, l2Reg=False):\n",
        "  model = Sequential()\n",
        "\n",
        "  if l2Reg:\n",
        "    model.add(Conv2D(32, kernel_size=3, activation='relu', kernel_regularizer='l2', input_shape=(64,64,3)))\n",
        "    model.add(Conv2D(32, kernel_size=3, activation='relu', kernel_regularizer='l2'))\n",
        "  else:\n",
        "    model.add(Conv2D(32, kernel_size=3, activation='relu', input_shape=(64,64,3)))\n",
        "    model.add(Conv2D(32, kernel_size=3, activation='relu'))\n",
        "  \n",
        "  model.add(MaxPooling2D(pool_size=(2,2)))\n",
        "\n",
        "  if batchNorm:\n",
        "    model.add(BatchNormalization())\n",
        "\n",
        "  if l2Reg:\n",
        "    model.add(Conv2D(64, kernel_size=3, activation='relu', kernel_regularizer='l2'))\n",
        "    model.add(Conv2D(64, kernel_size=3, activation='relu', kernel_regularizer='l2'))\n",
        "  else:\n",
        "    model.add(Conv2D(64, kernel_size=3, activation='relu'))\n",
        "    model.add(Conv2D(64, kernel_size=3, activation='relu'))\n",
        "  \n",
        "  model.add(MaxPooling2D(pool_size=(2,2)))\n",
        "\n",
        "  if batchNorm:\n",
        "    model.add(BatchNormalization())\n",
        "\n",
        "  model.add(Flatten())\n",
        "\n",
        "  if l2Reg:\n",
        "    model.add(Dense(512, kernel_regularizer='l2'))\n",
        "  else:\n",
        "    model.add(Dense(512))\n",
        "  \n",
        "  if dropOut:\n",
        "    model.add(Dropout(0.25))\n",
        "\n",
        "  if l2Reg:\n",
        "    model.add(Dense(NUM_CLASSES, activation='softmax', kernel_regularizer='l2'))\n",
        "  else:\n",
        "    model.add(Dense(NUM_CLASSES, activation='softmax'))\n",
        "\n",
        "  model.compile(\n",
        "      optimizer=Adam(),\n",
        "      loss='categorical_crossentropy',\n",
        "      metrics=[\n",
        "          CategoricalAccuracy(),\n",
        "          Precision(), \n",
        "          Recall(),\n",
        "          AUC()\n",
        "        ]\n",
        "  )\n",
        "\n",
        "  return model"
      ],
      "metadata": {
        "id": "zZSDjLoRQA6o"
      },
      "execution_count": 34,
      "outputs": []
    },
    {
      "cell_type": "code",
      "source": [
        "baseline_model = build_model()\n",
        "baseline_model.summary()"
      ],
      "metadata": {
        "colab": {
          "base_uri": "https://localhost:8080/"
        },
        "id": "rQDGOVCVsKF8",
        "outputId": "c8ee0598-e10d-405e-fcd1-01c63fd40388"
      },
      "execution_count": 35,
      "outputs": [
        {
          "output_type": "stream",
          "name": "stdout",
          "text": [
            "Model: \"sequential\"\n",
            "_________________________________________________________________\n",
            " Layer (type)                Output Shape              Param #   \n",
            "=================================================================\n",
            " conv2d (Conv2D)             (None, 62, 62, 32)        896       \n",
            "                                                                 \n",
            " conv2d_1 (Conv2D)           (None, 60, 60, 32)        9248      \n",
            "                                                                 \n",
            " max_pooling2d (MaxPooling2D  (None, 30, 30, 32)       0         \n",
            " )                                                               \n",
            "                                                                 \n",
            " conv2d_2 (Conv2D)           (None, 28, 28, 64)        18496     \n",
            "                                                                 \n",
            " conv2d_3 (Conv2D)           (None, 26, 26, 64)        36928     \n",
            "                                                                 \n",
            " max_pooling2d_1 (MaxPooling  (None, 13, 13, 64)       0         \n",
            " 2D)                                                             \n",
            "                                                                 \n",
            " flatten (Flatten)           (None, 10816)             0         \n",
            "                                                                 \n",
            " dense (Dense)               (None, 512)               5538304   \n",
            "                                                                 \n",
            " dense_1 (Dense)             (None, 4)                 2052      \n",
            "                                                                 \n",
            "=================================================================\n",
            "Total params: 5,605,924\n",
            "Trainable params: 5,605,924\n",
            "Non-trainable params: 0\n",
            "_________________________________________________________________\n"
          ]
        }
      ]
    },
    {
      "cell_type": "markdown",
      "source": [
        "## Train model"
      ],
      "metadata": {
        "id": "Rm888aZjWquk"
      }
    },
    {
      "cell_type": "markdown",
      "source": [
        "### Initialise callbacks"
      ],
      "metadata": {
        "id": "pBeBZRTUPMsV"
      }
    },
    {
      "cell_type": "code",
      "source": [
        "early_stopping = EarlyStopping(monitor='val_loss', verbose=1, patience=20)\n",
        "checkpoint = ModelCheckpoint('/content/drive/MyDrive/EE544 Computer Vision/task-1-weights.hdf5', verbose=1, save_best_only=True, monitor='val_categorical_accuracy')"
      ],
      "metadata": {
        "id": "KF2Jfe0ZOn52"
      },
      "execution_count": 36,
      "outputs": []
    },
    {
      "cell_type": "markdown",
      "source": [
        "### Fit the model"
      ],
      "metadata": {
        "id": "fxsKgdiyeDSp"
      }
    },
    {
      "cell_type": "code",
      "source": [
        "baseline_history = baseline_model.fit(\n",
        "    train_ds,\n",
        "    epochs=30,\n",
        "    verbose=1,\n",
        "    validation_data=val_ds,\n",
        "    callbacks=[checkpoint]\n",
        ")"
      ],
      "metadata": {
        "colab": {
          "base_uri": "https://localhost:8080/"
        },
        "id": "1_jktE3JsRBS",
        "outputId": "c4dd428e-2959-4f2e-d28a-67bee087669b"
      },
      "execution_count": 37,
      "outputs": [
        {
          "output_type": "stream",
          "name": "stdout",
          "text": [
            "Epoch 1/30\n",
            "29/30 [============================>.] - ETA: 0s - loss: 1.3582 - categorical_accuracy: 0.4184 - precision: 0.5486 - recall: 0.1112 - auc: 0.6713\n",
            "Epoch 1: val_categorical_accuracy improved from -inf to 0.61682, saving model to /content/drive/MyDrive/EE544 Computer Vision/task-1-weights.hdf5\n",
            "30/30 [==============================] - 10s 70ms/step - loss: 1.3509 - categorical_accuracy: 0.4209 - precision: 0.5561 - recall: 0.1193 - auc: 0.6744 - val_loss: 0.9809 - val_categorical_accuracy: 0.6168 - val_precision: 0.7624 - val_recall: 0.4019 - val_auc: 0.8396\n",
            "Epoch 2/30\n",
            "30/30 [==============================] - ETA: 0s - loss: 0.9598 - categorical_accuracy: 0.6185 - precision: 0.7073 - recall: 0.4640 - auc: 0.8410\n",
            "Epoch 2: val_categorical_accuracy improved from 0.61682 to 0.68037, saving model to /content/drive/MyDrive/EE544 Computer Vision/task-1-weights.hdf5\n",
            "30/30 [==============================] - 1s 43ms/step - loss: 0.9598 - categorical_accuracy: 0.6185 - precision: 0.7073 - recall: 0.4640 - auc: 0.8410 - val_loss: 0.8270 - val_categorical_accuracy: 0.6804 - val_precision: 0.7646 - val_recall: 0.5402 - val_auc: 0.8860\n",
            "Epoch 3/30\n",
            "29/30 [============================>.] - ETA: 0s - loss: 0.7609 - categorical_accuracy: 0.7073 - precision: 0.7709 - recall: 0.6172 - auc: 0.9027\n",
            "Epoch 3: val_categorical_accuracy did not improve from 0.68037\n",
            "30/30 [==============================] - 1s 34ms/step - loss: 0.7560 - categorical_accuracy: 0.7095 - precision: 0.7727 - recall: 0.6204 - auc: 0.9039 - val_loss: 0.8038 - val_categorical_accuracy: 0.6561 - val_precision: 0.7031 - val_recall: 0.5888 - val_auc: 0.8892\n",
            "Epoch 4/30\n",
            "30/30 [==============================] - ETA: 0s - loss: 0.6394 - categorical_accuracy: 0.7553 - precision: 0.8089 - recall: 0.6944 - auc: 0.9306\n",
            "Epoch 4: val_categorical_accuracy improved from 0.68037 to 0.71215, saving model to /content/drive/MyDrive/EE544 Computer Vision/task-1-weights.hdf5\n",
            "30/30 [==============================] - 1s 42ms/step - loss: 0.6394 - categorical_accuracy: 0.7553 - precision: 0.8089 - recall: 0.6944 - auc: 0.9306 - val_loss: 0.7215 - val_categorical_accuracy: 0.7121 - val_precision: 0.7570 - val_recall: 0.6523 - val_auc: 0.9124\n",
            "Epoch 5/30\n",
            "29/30 [============================>.] - ETA: 0s - loss: 0.5878 - categorical_accuracy: 0.7815 - precision: 0.8265 - recall: 0.7240 - auc: 0.9413\n",
            "Epoch 5: val_categorical_accuracy improved from 0.71215 to 0.76262, saving model to /content/drive/MyDrive/EE544 Computer Vision/task-1-weights.hdf5\n",
            "30/30 [==============================] - 1s 43ms/step - loss: 0.5849 - categorical_accuracy: 0.7828 - precision: 0.8271 - recall: 0.7265 - auc: 0.9419 - val_loss: 0.6241 - val_categorical_accuracy: 0.7626 - val_precision: 0.7967 - val_recall: 0.7252 - val_auc: 0.9343\n",
            "Epoch 6/30\n",
            "29/30 [============================>.] - ETA: 0s - loss: 0.4940 - categorical_accuracy: 0.8168 - precision: 0.8519 - recall: 0.7796 - auc: 0.9578\n",
            "Epoch 6: val_categorical_accuracy did not improve from 0.76262\n",
            "30/30 [==============================] - 1s 35ms/step - loss: 0.4948 - categorical_accuracy: 0.8172 - precision: 0.8518 - recall: 0.7799 - auc: 0.9577 - val_loss: 0.7028 - val_categorical_accuracy: 0.7346 - val_precision: 0.7736 - val_recall: 0.6897 - val_auc: 0.9180\n",
            "Epoch 7/30\n",
            "29/30 [============================>.] - ETA: 0s - loss: 0.4430 - categorical_accuracy: 0.8401 - precision: 0.8691 - recall: 0.8053 - auc: 0.9661\n",
            "Epoch 7: val_categorical_accuracy did not improve from 0.76262\n",
            "30/30 [==============================] - 1s 35ms/step - loss: 0.4452 - categorical_accuracy: 0.8394 - precision: 0.8680 - recall: 0.8040 - auc: 0.9658 - val_loss: 0.6703 - val_categorical_accuracy: 0.7458 - val_precision: 0.7756 - val_recall: 0.7234 - val_auc: 0.9286\n",
            "Epoch 8/30\n",
            "29/30 [============================>.] - ETA: 0s - loss: 0.3840 - categorical_accuracy: 0.8560 - precision: 0.8832 - recall: 0.8300 - auc: 0.9744\n",
            "Epoch 8: val_categorical_accuracy improved from 0.76262 to 0.76822, saving model to /content/drive/MyDrive/EE544 Computer Vision/task-1-weights.hdf5\n",
            "30/30 [==============================] - 2s 50ms/step - loss: 0.3827 - categorical_accuracy: 0.8561 - precision: 0.8834 - recall: 0.8302 - auc: 0.9746 - val_loss: 0.6719 - val_categorical_accuracy: 0.7682 - val_precision: 0.7771 - val_recall: 0.7364 - val_auc: 0.9321\n",
            "Epoch 9/30\n",
            "29/30 [============================>.] - ETA: 0s - loss: 0.3283 - categorical_accuracy: 0.8795 - precision: 0.8997 - recall: 0.8625 - auc: 0.9812\n",
            "Epoch 9: val_categorical_accuracy did not improve from 0.76822\n",
            "30/30 [==============================] - 1s 42ms/step - loss: 0.3247 - categorical_accuracy: 0.8812 - precision: 0.9010 - recall: 0.8643 - auc: 0.9817 - val_loss: 0.6727 - val_categorical_accuracy: 0.7589 - val_precision: 0.7767 - val_recall: 0.7477 - val_auc: 0.9367\n",
            "Epoch 10/30\n",
            "29/30 [============================>.] - ETA: 0s - loss: 0.2563 - categorical_accuracy: 0.9064 - precision: 0.9233 - recall: 0.8902 - auc: 0.9883\n",
            "Epoch 10: val_categorical_accuracy did not improve from 0.76822\n",
            "30/30 [==============================] - 1s 35ms/step - loss: 0.2643 - categorical_accuracy: 0.9050 - precision: 0.9218 - recall: 0.8884 - auc: 0.9875 - val_loss: 0.7094 - val_categorical_accuracy: 0.7645 - val_precision: 0.7875 - val_recall: 0.7551 - val_auc: 0.9300\n",
            "Epoch 11/30\n",
            "29/30 [============================>.] - ETA: 0s - loss: 0.2187 - categorical_accuracy: 0.9189 - precision: 0.9312 - recall: 0.9077 - auc: 0.9915\n",
            "Epoch 11: val_categorical_accuracy improved from 0.76822 to 0.77570, saving model to /content/drive/MyDrive/EE544 Computer Vision/task-1-weights.hdf5\n",
            "30/30 [==============================] - 1s 42ms/step - loss: 0.2189 - categorical_accuracy: 0.9193 - precision: 0.9313 - recall: 0.9077 - auc: 0.9915 - val_loss: 0.6989 - val_categorical_accuracy: 0.7757 - val_precision: 0.7908 - val_recall: 0.7701 - val_auc: 0.9367\n",
            "Epoch 12/30\n",
            "29/30 [============================>.] - ETA: 0s - loss: 0.1716 - categorical_accuracy: 0.9346 - precision: 0.9447 - recall: 0.9269 - auc: 0.9947\n",
            "Epoch 12: val_categorical_accuracy did not improve from 0.77570\n",
            "30/30 [==============================] - 1s 35ms/step - loss: 0.1702 - categorical_accuracy: 0.9349 - precision: 0.9448 - recall: 0.9275 - auc: 0.9948 - val_loss: 0.8403 - val_categorical_accuracy: 0.7607 - val_precision: 0.7812 - val_recall: 0.7477 - val_auc: 0.9213\n",
            "Epoch 13/30\n",
            "29/30 [============================>.] - ETA: 0s - loss: 0.1332 - categorical_accuracy: 0.9556 - precision: 0.9612 - recall: 0.9496 - auc: 0.9966\n",
            "Epoch 13: val_categorical_accuracy improved from 0.77570 to 0.77944, saving model to /content/drive/MyDrive/EE544 Computer Vision/task-1-weights.hdf5\n",
            "30/30 [==============================] - 1s 42ms/step - loss: 0.1332 - categorical_accuracy: 0.9550 - precision: 0.9609 - recall: 0.9492 - auc: 0.9966 - val_loss: 0.8779 - val_categorical_accuracy: 0.7794 - val_precision: 0.7879 - val_recall: 0.7776 - val_auc: 0.9249\n",
            "Epoch 14/30\n",
            "29/30 [============================>.] - ETA: 0s - loss: 0.1217 - categorical_accuracy: 0.9570 - precision: 0.9629 - recall: 0.9521 - auc: 0.9973\n",
            "Epoch 14: val_categorical_accuracy did not improve from 0.77944\n",
            "30/30 [==============================] - 1s 35ms/step - loss: 0.1240 - categorical_accuracy: 0.9561 - precision: 0.9617 - recall: 0.9511 - auc: 0.9972 - val_loss: 0.9781 - val_categorical_accuracy: 0.7626 - val_precision: 0.7666 - val_recall: 0.7551 - val_auc: 0.9152\n",
            "Epoch 15/30\n",
            "29/30 [============================>.] - ETA: 0s - loss: 0.0886 - categorical_accuracy: 0.9729 - precision: 0.9771 - recall: 0.9688 - auc: 0.9985\n",
            "Epoch 15: val_categorical_accuracy improved from 0.77944 to 0.78318, saving model to /content/drive/MyDrive/EE544 Computer Vision/task-1-weights.hdf5\n",
            "30/30 [==============================] - 1s 46ms/step - loss: 0.0877 - categorical_accuracy: 0.9730 - precision: 0.9773 - recall: 0.9690 - auc: 0.9986 - val_loss: 0.9399 - val_categorical_accuracy: 0.7832 - val_precision: 0.7913 - val_recall: 0.7794 - val_auc: 0.9269\n",
            "Epoch 16/30\n",
            "29/30 [============================>.] - ETA: 0s - loss: 0.0517 - categorical_accuracy: 0.9836 - precision: 0.9854 - recall: 0.9825 - auc: 0.9996\n",
            "Epoch 16: val_categorical_accuracy did not improve from 0.78318\n",
            "30/30 [==============================] - 1s 40ms/step - loss: 0.0526 - categorical_accuracy: 0.9831 - precision: 0.9849 - recall: 0.9820 - auc: 0.9996 - val_loss: 1.0960 - val_categorical_accuracy: 0.7738 - val_precision: 0.7839 - val_recall: 0.7664 - val_auc: 0.9169\n",
            "Epoch 17/30\n",
            "29/30 [============================>.] - ETA: 0s - loss: 0.0354 - categorical_accuracy: 0.9918 - precision: 0.9920 - recall: 0.9907 - auc: 0.9998\n",
            "Epoch 17: val_categorical_accuracy improved from 0.78318 to 0.78505, saving model to /content/drive/MyDrive/EE544 Computer Vision/task-1-weights.hdf5\n",
            "30/30 [==============================] - 1s 42ms/step - loss: 0.0370 - categorical_accuracy: 0.9910 - precision: 0.9915 - recall: 0.9899 - auc: 0.9998 - val_loss: 1.2053 - val_categorical_accuracy: 0.7850 - val_precision: 0.7906 - val_recall: 0.7832 - val_auc: 0.9167\n",
            "Epoch 18/30\n",
            "29/30 [============================>.] - ETA: 0s - loss: 0.0483 - categorical_accuracy: 0.9847 - precision: 0.9860 - recall: 0.9827 - auc: 0.9995\n",
            "Epoch 18: val_categorical_accuracy did not improve from 0.78505\n",
            "30/30 [==============================] - 1s 34ms/step - loss: 0.0490 - categorical_accuracy: 0.9841 - precision: 0.9854 - recall: 0.9820 - auc: 0.9995 - val_loss: 1.1444 - val_categorical_accuracy: 0.7813 - val_precision: 0.7838 - val_recall: 0.7794 - val_auc: 0.9169\n",
            "Epoch 19/30\n",
            "30/30 [==============================] - ETA: 0s - loss: 0.0315 - categorical_accuracy: 0.9915 - precision: 0.9923 - recall: 0.9910 - auc: 0.9997\n",
            "Epoch 19: val_categorical_accuracy did not improve from 0.78505\n",
            "30/30 [==============================] - 1s 35ms/step - loss: 0.0315 - categorical_accuracy: 0.9915 - precision: 0.9923 - recall: 0.9910 - auc: 0.9997 - val_loss: 1.5864 - val_categorical_accuracy: 0.7252 - val_precision: 0.7287 - val_recall: 0.7178 - val_auc: 0.8917\n",
            "Epoch 20/30\n",
            "30/30 [==============================] - ETA: 0s - loss: 0.1033 - categorical_accuracy: 0.9601 - precision: 0.9626 - recall: 0.9590 - auc: 0.9976\n",
            "Epoch 20: val_categorical_accuracy did not improve from 0.78505\n",
            "30/30 [==============================] - 1s 34ms/step - loss: 0.1033 - categorical_accuracy: 0.9601 - precision: 0.9626 - recall: 0.9590 - auc: 0.9976 - val_loss: 1.1896 - val_categorical_accuracy: 0.7514 - val_precision: 0.7533 - val_recall: 0.7477 - val_auc: 0.9081\n",
            "Epoch 21/30\n",
            "30/30 [==============================] - ETA: 0s - loss: 0.0648 - categorical_accuracy: 0.9791 - precision: 0.9809 - recall: 0.9775 - auc: 0.9989\n",
            "Epoch 21: val_categorical_accuracy did not improve from 0.78505\n",
            "30/30 [==============================] - 1s 34ms/step - loss: 0.0648 - categorical_accuracy: 0.9791 - precision: 0.9809 - recall: 0.9775 - auc: 0.9989 - val_loss: 1.2137 - val_categorical_accuracy: 0.7626 - val_precision: 0.7655 - val_recall: 0.7626 - val_auc: 0.9131\n",
            "Epoch 22/30\n",
            "29/30 [============================>.] - ETA: 0s - loss: 0.0443 - categorical_accuracy: 0.9849 - precision: 0.9860 - recall: 0.9836 - auc: 0.9996\n",
            "Epoch 22: val_categorical_accuracy did not improve from 0.78505\n",
            "30/30 [==============================] - 1s 35ms/step - loss: 0.0437 - categorical_accuracy: 0.9852 - precision: 0.9862 - recall: 0.9839 - auc: 0.9996 - val_loss: 1.2402 - val_categorical_accuracy: 0.7720 - val_precision: 0.7788 - val_recall: 0.7701 - val_auc: 0.9065\n",
            "Epoch 23/30\n",
            "29/30 [============================>.] - ETA: 0s - loss: 0.0245 - categorical_accuracy: 0.9929 - precision: 0.9934 - recall: 0.9926 - auc: 0.9999\n",
            "Epoch 23: val_categorical_accuracy did not improve from 0.78505\n",
            "30/30 [==============================] - 1s 34ms/step - loss: 0.0249 - categorical_accuracy: 0.9926 - precision: 0.9931 - recall: 0.9923 - auc: 0.9999 - val_loss: 1.3718 - val_categorical_accuracy: 0.7813 - val_precision: 0.7838 - val_recall: 0.7794 - val_auc: 0.9092\n",
            "Epoch 24/30\n",
            "29/30 [============================>.] - ETA: 0s - loss: 0.0237 - categorical_accuracy: 0.9926 - precision: 0.9929 - recall: 0.9923 - auc: 0.9999\n",
            "Epoch 24: val_categorical_accuracy did not improve from 0.78505\n",
            "30/30 [==============================] - 1s 37ms/step - loss: 0.0241 - categorical_accuracy: 0.9923 - precision: 0.9926 - recall: 0.9921 - auc: 0.9999 - val_loss: 1.6122 - val_categorical_accuracy: 0.7682 - val_precision: 0.7707 - val_recall: 0.7664 - val_auc: 0.8987\n",
            "Epoch 25/30\n",
            "30/30 [==============================] - ETA: 0s - loss: 0.0189 - categorical_accuracy: 0.9947 - precision: 0.9952 - recall: 0.9937 - auc: 0.9999\n",
            "Epoch 25: val_categorical_accuracy improved from 0.78505 to 0.80187, saving model to /content/drive/MyDrive/EE544 Computer Vision/task-1-weights.hdf5\n",
            "30/30 [==============================] - 2s 51ms/step - loss: 0.0189 - categorical_accuracy: 0.9947 - precision: 0.9952 - recall: 0.9937 - auc: 0.9999 - val_loss: 1.5397 - val_categorical_accuracy: 0.8019 - val_precision: 0.8041 - val_recall: 0.7981 - val_auc: 0.9101\n",
            "Epoch 26/30\n",
            "29/30 [============================>.] - ETA: 0s - loss: 0.0073 - categorical_accuracy: 0.9986 - precision: 0.9986 - recall: 0.9986 - auc: 1.0000\n",
            "Epoch 26: val_categorical_accuracy did not improve from 0.80187\n",
            "30/30 [==============================] - 1s 44ms/step - loss: 0.0072 - categorical_accuracy: 0.9987 - precision: 0.9987 - recall: 0.9987 - auc: 1.0000 - val_loss: 1.6992 - val_categorical_accuracy: 0.7738 - val_precision: 0.7763 - val_recall: 0.7720 - val_auc: 0.8994\n",
            "Epoch 27/30\n",
            "29/30 [============================>.] - ETA: 0s - loss: 0.0139 - categorical_accuracy: 0.9953 - precision: 0.9956 - recall: 0.9951 - auc: 1.0000\n",
            "Epoch 27: val_categorical_accuracy did not improve from 0.80187\n",
            "30/30 [==============================] - 1s 35ms/step - loss: 0.0137 - categorical_accuracy: 0.9955 - precision: 0.9958 - recall: 0.9952 - auc: 1.0000 - val_loss: 1.6759 - val_categorical_accuracy: 0.7963 - val_precision: 0.7978 - val_recall: 0.7963 - val_auc: 0.8999\n",
            "Epoch 28/30\n",
            "29/30 [============================>.] - ETA: 0s - loss: 0.0072 - categorical_accuracy: 0.9989 - precision: 0.9989 - recall: 0.9989 - auc: 1.0000\n",
            "Epoch 28: val_categorical_accuracy did not improve from 0.80187\n",
            "30/30 [==============================] - 1s 36ms/step - loss: 0.0073 - categorical_accuracy: 0.9989 - precision: 0.9989 - recall: 0.9989 - auc: 1.0000 - val_loss: 1.6331 - val_categorical_accuracy: 0.7925 - val_precision: 0.7955 - val_recall: 0.7925 - val_auc: 0.9030\n",
            "Epoch 29/30\n",
            "29/30 [============================>.] - ETA: 0s - loss: 0.0021 - categorical_accuracy: 1.0000 - precision: 1.0000 - recall: 1.0000 - auc: 1.0000\n",
            "Epoch 29: val_categorical_accuracy improved from 0.80187 to 0.80561, saving model to /content/drive/MyDrive/EE544 Computer Vision/task-1-weights.hdf5\n",
            "30/30 [==============================] - 1s 42ms/step - loss: 0.0020 - categorical_accuracy: 1.0000 - precision: 1.0000 - recall: 1.0000 - auc: 1.0000 - val_loss: 1.6683 - val_categorical_accuracy: 0.8056 - val_precision: 0.8083 - val_recall: 0.8037 - val_auc: 0.9030\n",
            "Epoch 30/30\n",
            "29/30 [============================>.] - ETA: 0s - loss: 7.8687e-04 - categorical_accuracy: 1.0000 - precision: 1.0000 - recall: 1.0000 - auc: 1.0000\n",
            "Epoch 30: val_categorical_accuracy improved from 0.80561 to 0.81121, saving model to /content/drive/MyDrive/EE544 Computer Vision/task-1-weights.hdf5\n",
            "30/30 [==============================] - 1s 42ms/step - loss: 8.0517e-04 - categorical_accuracy: 1.0000 - precision: 1.0000 - recall: 1.0000 - auc: 1.0000 - val_loss: 1.7098 - val_categorical_accuracy: 0.8112 - val_precision: 0.8109 - val_recall: 0.8093 - val_auc: 0.9042\n"
          ]
        }
      ]
    },
    {
      "cell_type": "markdown",
      "source": [
        "## Plot results"
      ],
      "metadata": {
        "id": "ob_QDshaYEg4"
      }
    },
    {
      "cell_type": "code",
      "source": [
        "def plot(train, validation, ylabel, title):\n",
        "  plt.plot(train, color='red', label='train') \n",
        "  plt.plot(validation, color='blue', label='validation') \n",
        "  plt.title(title) \n",
        "  plt.ylabel(ylabel)\n",
        "  plt.xlabel('Epoch')\n",
        "  plt.legend() \n",
        "  plt.grid(linestyle='-', linewidth=0.5)"
      ],
      "metadata": {
        "id": "o0jwjfdCWFBn"
      },
      "execution_count": 38,
      "outputs": []
    },
    {
      "cell_type": "code",
      "source": [
        "plot(baseline_history.history['categorical_accuracy'], baseline_history.history['val_categorical_accuracy'], 'Accuracy', 'Model Accuracy')"
      ],
      "metadata": {
        "colab": {
          "base_uri": "https://localhost:8080/",
          "height": 295
        },
        "id": "lf9pjTVLvvnq",
        "outputId": "c35d1709-fef0-4feb-dce6-282f4881ab7e"
      },
      "execution_count": 39,
      "outputs": [
        {
          "output_type": "display_data",
          "data": {
            "text/plain": [
              "<Figure size 432x288 with 1 Axes>"
            ],
            "image/png": "[encoded data removed]"
          },
          "metadata": {
            "needs_background": "light"
          }
        }
      ]
    },
    {
      "cell_type": "code",
      "source": [
        "plot(baseline_history.history['loss'], baseline_history.history['val_loss'], 'Loss', 'Model Loss')"
      ],
      "metadata": {
        "colab": {
          "base_uri": "https://localhost:8080/",
          "height": 295
        },
        "id": "DZ92wFIE5dKL",
        "outputId": "bafad5db-7903-4703-fd2f-1e3ba0d5dfe6"
      },
      "execution_count": 40,
      "outputs": [
        {
          "output_type": "display_data",
          "data": {
            "text/plain": [
              "<Figure size 432x288 with 1 Axes>"
            ],
            "image/png": "[encoded data removed]"
          },
          "metadata": {
            "needs_background": "light"
          }
        }
      ]
    },
    {
      "cell_type": "markdown",
      "source": [
        "## Evaluate model"
      ],
      "metadata": {
        "id": "ABEzVAWI5eS3"
      }
    },
    {
      "cell_type": "code",
      "source": [
        "def evaluate_and_predict(model): \n",
        "  # evaluate on test dataset\n",
        "  eval_results = model.evaluate(test_ds, batch_size=30)\n",
        "\n",
        "  # print evaluation results\n",
        "  print('Test loss:', eval_results[0])\n",
        "  print('Test categorical_accuracy:', eval_results[1])\n",
        "  print('Test precision:', eval_results[2])\n",
        "  print('Test recall:', eval_results[3])\n",
        "  print('Test auc:', eval_results[4])\n",
        "\n",
        "  # predict\n",
        "  return model.predict(test_ds)"
      ],
      "metadata": {
        "id": "KM66wgM-_kFA"
      },
      "execution_count": 41,
      "outputs": []
    },
    {
      "cell_type": "code",
      "source": [
        "pred = evaluate_and_predict(baseline_model)"
      ],
      "metadata": {
        "colab": {
          "base_uri": "https://localhost:8080/"
        },
        "id": "MXlcTB3WaoP-",
        "outputId": "afa364dd-1455-4724-fbc0-d3e90ff0ce08"
      },
      "execution_count": 42,
      "outputs": [
        {
          "output_type": "stream",
          "name": "stdout",
          "text": [
            "9/9 [==============================] - 0s 28ms/step - loss: 1.8292 - categorical_accuracy: 0.7668 - precision: 0.7673 - recall: 0.7659 - auc: 0.8960\n",
            "Test loss: 1.8292030096054077\n",
            "Test categorical_accuracy: 0.7668202519416809\n",
            "Test precision: 0.7673130035400391\n",
            "Test recall: 0.7658986449241638\n",
            "Test auc: 0.8960068821907043\n",
            "9/9 [==============================] - 0s 12ms/step\n"
          ]
        }
      ]
    },
    {
      "cell_type": "code",
      "source": [
        "pred"
      ],
      "metadata": {
        "colab": {
          "base_uri": "https://localhost:8080/"
        },
        "id": "cHZnvE2bdwKc",
        "outputId": "604e2f15-d6f8-439a-accf-0812da28ceba"
      },
      "execution_count": 43,
      "outputs": [
        {
          "output_type": "execute_result",
          "data": {
            "text/plain": [
              "array([[1.15345726e-10, 1.00000000e+00, 7.97177657e-10, 8.92113206e-12],\n",
              "       [1.84909695e-05, 6.53414708e-03, 4.31919284e-03, 9.89128172e-01],\n",
              "       [1.35429819e-14, 9.99991536e-01, 2.62644039e-06, 5.81227778e-06],\n",
              "       ...,\n",
              "       [7.41837312e-07, 2.23420826e-12, 9.99621391e-01, 3.77855176e-04],\n",
              "       [7.25813732e-02, 4.75287350e-04, 9.25566494e-01, 1.37689861e-03],\n",
              "       [5.87503845e-03, 4.68964208e-11, 2.18266594e-12, 9.94124949e-01]],\n",
              "      dtype=float32)"
            ]
          },
          "metadata": {},
          "execution_count": 43
        }
      ]
    },
    {
      "cell_type": "code",
      "source": [
        "def draw_confusion_matrix(true, pred):\n",
        "  cm = confusion_matrix(true.argmax(axis=1), pred.argmax(axis=1))\n",
        "  sns.heatmap(cm, annot=True, annot_kws={\"size\": 12}, fmt='g', cbar=False, cmap=\"viridis\")\n",
        "  plt.show()"
      ],
      "metadata": {
        "id": "xfqXMoX8b-qE"
      },
      "execution_count": 44,
      "outputs": []
    },
    {
      "cell_type": "code",
      "source": [
        "draw_confusion_matrix(y_test, pred)"
      ],
      "metadata": {
        "colab": {
          "base_uri": "https://localhost:8080/",
          "height": 265
        },
        "id": "0mboVB4q6vYp",
        "outputId": "3d1b5ec3-0c9f-4d52-dcf2-65f247f5dd18"
      },
      "execution_count": 45,
      "outputs": [
        {
          "output_type": "display_data",
          "data": {
            "text/plain": [
              "<Figure size 432x288 with 1 Axes>"
            ],
            "image/png": "[encoded data removed]"
          },
          "metadata": {
            "needs_background": "light"
          }
        }
      ]
    },
    {
      "cell_type": "code",
      "source": [
        "print(classification_report(y_test.argmax(axis=1), pred.argmax(axis=1)))"
      ],
      "metadata": {
        "colab": {
          "base_uri": "https://localhost:8080/"
        },
        "id": "Xw_nLMYxcQok",
        "outputId": "f04b63c4-9c3a-4e1d-e307-63f0e66029e8"
      },
      "execution_count": 46,
      "outputs": [
        {
          "output_type": "stream",
          "name": "stdout",
          "text": [
            "              precision    recall  f1-score   support\n",
            "\n",
            "           0       0.75      0.73      0.74       271\n",
            "           1       0.77      0.77      0.77       268\n",
            "           2       0.75      0.75      0.75       284\n",
            "           3       0.80      0.82      0.81       262\n",
            "\n",
            "    accuracy                           0.77      1085\n",
            "   macro avg       0.77      0.77      0.77      1085\n",
            "weighted avg       0.77      0.77      0.77      1085\n",
            "\n"
          ]
        }
      ]
    },
    {
      "cell_type": "markdown",
      "source": [
        "## Improve the baseline networks performance\n",
        "1. Batch Normalisation \n",
        "2. Dropout \n",
        "3. Regularisation"
      ],
      "metadata": {
        "id": "lVlp3SN17Guq"
      }
    },
    {
      "cell_type": "markdown",
      "source": [
        "### Batch Normalisation"
      ],
      "metadata": {
        "id": "SGTQShLWzPE6"
      }
    },
    {
      "cell_type": "code",
      "source": [
        "batchnorm_model = build_model(batchNorm=True)\n",
        "batchnorm_model.summary()"
      ],
      "metadata": {
        "colab": {
          "base_uri": "https://localhost:8080/"
        },
        "id": "T1u-7J57yw-7",
        "outputId": "d02cc4ed-42f1-4557-f635-1cb2e1211dc2"
      },
      "execution_count": 47,
      "outputs": [
        {
          "output_type": "stream",
          "name": "stdout",
          "text": [
            "Model: \"sequential_1\"\n",
            "_________________________________________________________________\n",
            " Layer (type)                Output Shape              Param #   \n",
            "=================================================================\n",
            " conv2d_4 (Conv2D)           (None, 62, 62, 32)        896       \n",
            "                                                                 \n",
            " conv2d_5 (Conv2D)           (None, 60, 60, 32)        9248      \n",
            "                                                                 \n",
            " max_pooling2d_2 (MaxPooling  (None, 30, 30, 32)       0         \n",
            " 2D)                                                             \n",
            "                                                                 \n",
            " batch_normalization (BatchN  (None, 30, 30, 32)       128       \n",
            " ormalization)                                                   \n",
            "                                                                 \n",
            " conv2d_6 (Conv2D)           (None, 28, 28, 64)        18496     \n",
            "                                                                 \n",
            " conv2d_7 (Conv2D)           (None, 26, 26, 64)        36928     \n",
            "                                                                 \n",
            " max_pooling2d_3 (MaxPooling  (None, 13, 13, 64)       0         \n",
            " 2D)                                                             \n",
            "                                                                 \n",
            " batch_normalization_1 (Batc  (None, 13, 13, 64)       256       \n",
            " hNormalization)                                                 \n",
            "                                                                 \n",
            " flatten_1 (Flatten)         (None, 10816)             0         \n",
            "                                                                 \n",
            " dense_2 (Dense)             (None, 512)               5538304   \n",
            "                                                                 \n",
            " dense_3 (Dense)             (None, 4)                 2052      \n",
            "                                                                 \n",
            "=================================================================\n",
            "Total params: 5,606,308\n",
            "Trainable params: 5,606,116\n",
            "Non-trainable params: 192\n",
            "_________________________________________________________________\n"
          ]
        }
      ]
    },
    {
      "cell_type": "code",
      "source": [
        "batchnorm_history = batchnorm_model.fit(\n",
        "    train_ds,\n",
        "    epochs=30,\n",
        "    verbose=1,\n",
        "    validation_data=val_ds\n",
        ")"
      ],
      "metadata": {
        "colab": {
          "base_uri": "https://localhost:8080/"
        },
        "id": "IImVU9wOy6Ld",
        "outputId": "848d23f5-a609-4f48-fcf7-f607f23815da"
      },
      "execution_count": 48,
      "outputs": [
        {
          "output_type": "stream",
          "name": "stdout",
          "text": [
            "Epoch 1/30\n",
            "30/30 [==============================] - 6s 52ms/step - loss: 5.5439 - categorical_accuracy: 0.6048 - precision_1: 0.6084 - recall_1: 0.6021 - auc_1: 0.7828 - val_loss: 1.4360 - val_categorical_accuracy: 0.2467 - val_precision_1: 0.3445 - val_recall_1: 0.1533 - val_auc_1: 0.5935\n",
            "Epoch 2/30\n",
            "30/30 [==============================] - 1s 36ms/step - loss: 1.9238 - categorical_accuracy: 0.7574 - precision_1: 0.7605 - recall_1: 0.7561 - auc_1: 0.8918 - val_loss: 2.2701 - val_categorical_accuracy: 0.2598 - val_precision_1: 0.2714 - val_recall_1: 0.2374 - val_auc_1: 0.5283\n",
            "Epoch 3/30\n",
            "30/30 [==============================] - 1s 36ms/step - loss: 0.5392 - categorical_accuracy: 0.8772 - precision_1: 0.8806 - recall_1: 0.8757 - auc_1: 0.9682 - val_loss: 1.5300 - val_categorical_accuracy: 0.2449 - val_precision_1: 0.2818 - val_recall_1: 0.2112 - val_auc_1: 0.5986\n",
            "Epoch 4/30\n",
            "30/30 [==============================] - 1s 36ms/step - loss: 0.1751 - categorical_accuracy: 0.9460 - precision_1: 0.9477 - recall_1: 0.9452 - auc_1: 0.9927 - val_loss: 1.9785 - val_categorical_accuracy: 0.2748 - val_precision_1: 0.2770 - val_recall_1: 0.2542 - val_auc_1: 0.5984\n",
            "Epoch 5/30\n",
            "30/30 [==============================] - 1s 36ms/step - loss: 0.0521 - categorical_accuracy: 0.9812 - precision_1: 0.9817 - recall_1: 0.9807 - auc_1: 0.9992 - val_loss: 2.2440 - val_categorical_accuracy: 0.2935 - val_precision_1: 0.3045 - val_recall_1: 0.2897 - val_auc_1: 0.5929\n",
            "Epoch 6/30\n",
            "30/30 [==============================] - 1s 36ms/step - loss: 0.0139 - categorical_accuracy: 0.9960 - precision_1: 0.9968 - recall_1: 0.9958 - auc_1: 1.0000 - val_loss: 2.5115 - val_categorical_accuracy: 0.3757 - val_precision_1: 0.3854 - val_recall_1: 0.3738 - val_auc_1: 0.6285\n",
            "Epoch 7/30\n",
            "30/30 [==============================] - 1s 38ms/step - loss: 0.0064 - categorical_accuracy: 0.9992 - precision_1: 0.9992 - recall_1: 0.9992 - auc_1: 1.0000 - val_loss: 2.5833 - val_categorical_accuracy: 0.3103 - val_precision_1: 0.3143 - val_recall_1: 0.3084 - val_auc_1: 0.6105\n",
            "Epoch 8/30\n",
            "30/30 [==============================] - 1s 36ms/step - loss: 0.0032 - categorical_accuracy: 0.9995 - precision_1: 0.9997 - recall_1: 0.9995 - auc_1: 1.0000 - val_loss: 3.0964 - val_categorical_accuracy: 0.2729 - val_precision_1: 0.2744 - val_recall_1: 0.2729 - val_auc_1: 0.5874\n",
            "Epoch 9/30\n",
            "30/30 [==============================] - 1s 38ms/step - loss: 0.0014 - categorical_accuracy: 1.0000 - precision_1: 1.0000 - recall_1: 1.0000 - auc_1: 1.0000 - val_loss: 2.9414 - val_categorical_accuracy: 0.3140 - val_precision_1: 0.3155 - val_recall_1: 0.3084 - val_auc_1: 0.6150\n",
            "Epoch 10/30\n",
            "30/30 [==============================] - 1s 42ms/step - loss: 9.5211e-04 - categorical_accuracy: 1.0000 - precision_1: 1.0000 - recall_1: 1.0000 - auc_1: 1.0000 - val_loss: 2.8080 - val_categorical_accuracy: 0.3439 - val_precision_1: 0.3423 - val_recall_1: 0.3327 - val_auc_1: 0.6423\n",
            "Epoch 11/30\n",
            "30/30 [==============================] - 1s 36ms/step - loss: 6.8772e-04 - categorical_accuracy: 1.0000 - precision_1: 1.0000 - recall_1: 1.0000 - auc_1: 1.0000 - val_loss: 2.5348 - val_categorical_accuracy: 0.3981 - val_precision_1: 0.4078 - val_recall_1: 0.3925 - val_auc_1: 0.6831\n",
            "Epoch 12/30\n",
            "30/30 [==============================] - 1s 36ms/step - loss: 5.8542e-04 - categorical_accuracy: 1.0000 - precision_1: 1.0000 - recall_1: 1.0000 - auc_1: 1.0000 - val_loss: 2.2578 - val_categorical_accuracy: 0.4636 - val_precision_1: 0.4688 - val_recall_1: 0.4486 - val_auc_1: 0.7277\n",
            "Epoch 13/30\n",
            "30/30 [==============================] - 1s 36ms/step - loss: 6.1363e-04 - categorical_accuracy: 1.0000 - precision_1: 1.0000 - recall_1: 1.0000 - auc_1: 1.0000 - val_loss: 1.9257 - val_categorical_accuracy: 0.5196 - val_precision_1: 0.5258 - val_recall_1: 0.5140 - val_auc_1: 0.7742\n",
            "Epoch 14/30\n",
            "30/30 [==============================] - 1s 36ms/step - loss: 5.2156e-04 - categorical_accuracy: 1.0000 - precision_1: 1.0000 - recall_1: 1.0000 - auc_1: 1.0000 - val_loss: 1.6361 - val_categorical_accuracy: 0.5757 - val_precision_1: 0.5879 - val_recall_1: 0.5626 - val_auc_1: 0.8189\n",
            "Epoch 15/30\n",
            "30/30 [==============================] - 1s 36ms/step - loss: 5.6116e-04 - categorical_accuracy: 1.0000 - precision_1: 1.0000 - recall_1: 1.0000 - auc_1: 1.0000 - val_loss: 1.4393 - val_categorical_accuracy: 0.6318 - val_precision_1: 0.6402 - val_recall_1: 0.6187 - val_auc_1: 0.8501\n",
            "Epoch 16/30\n",
            "30/30 [==============================] - 1s 35ms/step - loss: 4.1295e-04 - categorical_accuracy: 1.0000 - precision_1: 1.0000 - recall_1: 1.0000 - auc_1: 1.0000 - val_loss: 1.2969 - val_categorical_accuracy: 0.6860 - val_precision_1: 0.6936 - val_recall_1: 0.6729 - val_auc_1: 0.8750\n",
            "Epoch 17/30\n",
            "30/30 [==============================] - 1s 36ms/step - loss: 3.8868e-04 - categorical_accuracy: 1.0000 - precision_1: 1.0000 - recall_1: 1.0000 - auc_1: 1.0000 - val_loss: 1.2018 - val_categorical_accuracy: 0.7402 - val_precision_1: 0.7396 - val_recall_1: 0.7327 - val_auc_1: 0.8923\n",
            "Epoch 18/30\n",
            "30/30 [==============================] - 1s 36ms/step - loss: 3.5823e-04 - categorical_accuracy: 1.0000 - precision_1: 1.0000 - recall_1: 1.0000 - auc_1: 1.0000 - val_loss: 1.1364 - val_categorical_accuracy: 0.7607 - val_precision_1: 0.7636 - val_recall_1: 0.7607 - val_auc_1: 0.9044\n",
            "Epoch 19/30\n",
            "30/30 [==============================] - 1s 39ms/step - loss: 3.2030e-04 - categorical_accuracy: 1.0000 - precision_1: 1.0000 - recall_1: 1.0000 - auc_1: 1.0000 - val_loss: 1.1088 - val_categorical_accuracy: 0.7720 - val_precision_1: 0.7730 - val_recall_1: 0.7701 - val_auc_1: 0.9126\n",
            "Epoch 20/30\n",
            "30/30 [==============================] - 1s 42ms/step - loss: 2.8748e-04 - categorical_accuracy: 1.0000 - precision_1: 1.0000 - recall_1: 1.0000 - auc_1: 1.0000 - val_loss: 1.1056 - val_categorical_accuracy: 0.7738 - val_precision_1: 0.7822 - val_recall_1: 0.7720 - val_auc_1: 0.9152\n",
            "Epoch 21/30\n",
            "30/30 [==============================] - 1s 36ms/step - loss: 3.3765e-04 - categorical_accuracy: 1.0000 - precision_1: 1.0000 - recall_1: 1.0000 - auc_1: 1.0000 - val_loss: 1.1061 - val_categorical_accuracy: 0.7813 - val_precision_1: 0.7883 - val_recall_1: 0.7794 - val_auc_1: 0.9189\n",
            "Epoch 22/30\n",
            "30/30 [==============================] - 1s 35ms/step - loss: 2.6301e-04 - categorical_accuracy: 1.0000 - precision_1: 1.0000 - recall_1: 1.0000 - auc_1: 1.0000 - val_loss: 1.1257 - val_categorical_accuracy: 0.7944 - val_precision_1: 0.7977 - val_recall_1: 0.7888 - val_auc_1: 0.9232\n",
            "Epoch 23/30\n",
            "30/30 [==============================] - 1s 36ms/step - loss: 2.1722e-04 - categorical_accuracy: 1.0000 - precision_1: 1.0000 - recall_1: 1.0000 - auc_1: 1.0000 - val_loss: 1.1516 - val_categorical_accuracy: 0.7981 - val_precision_1: 0.8023 - val_recall_1: 0.7963 - val_auc_1: 0.9226\n",
            "Epoch 24/30\n",
            "30/30 [==============================] - 1s 36ms/step - loss: 2.5352e-04 - categorical_accuracy: 1.0000 - precision_1: 1.0000 - recall_1: 1.0000 - auc_1: 1.0000 - val_loss: 1.1766 - val_categorical_accuracy: 0.8000 - val_precision_1: 0.8038 - val_recall_1: 0.7963 - val_auc_1: 0.9229\n",
            "Epoch 25/30\n",
            "30/30 [==============================] - 1s 36ms/step - loss: 2.1922e-04 - categorical_accuracy: 1.0000 - precision_1: 1.0000 - recall_1: 1.0000 - auc_1: 1.0000 - val_loss: 1.2017 - val_categorical_accuracy: 0.7981 - val_precision_1: 0.8023 - val_recall_1: 0.7963 - val_auc_1: 0.9246\n",
            "Epoch 26/30\n",
            "30/30 [==============================] - 1s 41ms/step - loss: 2.0928e-04 - categorical_accuracy: 1.0000 - precision_1: 1.0000 - recall_1: 1.0000 - auc_1: 1.0000 - val_loss: 1.2195 - val_categorical_accuracy: 0.8019 - val_precision_1: 0.8026 - val_recall_1: 0.7981 - val_auc_1: 0.9249\n",
            "Epoch 27/30\n",
            "30/30 [==============================] - 1s 43ms/step - loss: 2.0211e-04 - categorical_accuracy: 1.0000 - precision_1: 1.0000 - recall_1: 1.0000 - auc_1: 1.0000 - val_loss: 1.2378 - val_categorical_accuracy: 0.8075 - val_precision_1: 0.8071 - val_recall_1: 0.8056 - val_auc_1: 0.9200\n",
            "Epoch 28/30\n",
            "30/30 [==============================] - 1s 36ms/step - loss: 1.8889e-04 - categorical_accuracy: 1.0000 - precision_1: 1.0000 - recall_1: 1.0000 - auc_1: 1.0000 - val_loss: 1.2553 - val_categorical_accuracy: 0.8037 - val_precision_1: 0.8049 - val_recall_1: 0.8019 - val_auc_1: 0.9208\n",
            "Epoch 29/30\n",
            "30/30 [==============================] - 1s 39ms/step - loss: 2.0277e-04 - categorical_accuracy: 1.0000 - precision_1: 1.0000 - recall_1: 1.0000 - auc_1: 1.0000 - val_loss: 1.2689 - val_categorical_accuracy: 0.8037 - val_precision_1: 0.8049 - val_recall_1: 0.8019 - val_auc_1: 0.9203\n",
            "Epoch 30/30\n",
            "30/30 [==============================] - 1s 43ms/step - loss: 1.9163e-04 - categorical_accuracy: 1.0000 - precision_1: 1.0000 - recall_1: 1.0000 - auc_1: 1.0000 - val_loss: 1.2815 - val_categorical_accuracy: 0.8000 - val_precision_1: 0.8045 - val_recall_1: 0.8000 - val_auc_1: 0.9197\n"
          ]
        }
      ]
    },
    {
      "cell_type": "code",
      "source": [
        "plot(batchnorm_history.history['categorical_accuracy'], batchnorm_history.history['val_categorical_accuracy'], 'Accuracy', 'Model Accuracy')"
      ],
      "metadata": {
        "colab": {
          "base_uri": "https://localhost:8080/",
          "height": 295
        },
        "id": "DIc9bm0izCNr",
        "outputId": "0b541d5f-1f47-42a7-d71c-4d3274cca2d7"
      },
      "execution_count": 49,
      "outputs": [
        {
          "output_type": "display_data",
          "data": {
            "text/plain": [
              "<Figure size 432x288 with 1 Axes>"
            ],
            "image/png": "[encoded data removed]"
          },
          "metadata": {
            "needs_background": "light"
          }
        }
      ]
    },
    {
      "cell_type": "code",
      "source": [
        "plot(batchnorm_history.history['loss'], batchnorm_history.history['val_loss'], 'Loss', 'Model Loss')"
      ],
      "metadata": {
        "colab": {
          "base_uri": "https://localhost:8080/",
          "height": 295
        },
        "id": "S_G91_ApzKfI",
        "outputId": "8b23fa06-e848-4d4b-d7d8-c9aefc56fe31"
      },
      "execution_count": 50,
      "outputs": [
        {
          "output_type": "display_data",
          "data": {
            "text/plain": [
              "<Figure size 432x288 with 1 Axes>"
            ],
            "image/png": "[encoded data removed]"
          },
          "metadata": {
            "needs_background": "light"
          }
        }
      ]
    },
    {
      "cell_type": "code",
      "source": [
        "batchnorm_pred = evaluate_and_predict(batchnorm_model)"
      ],
      "metadata": {
        "colab": {
          "base_uri": "https://localhost:8080/"
        },
        "id": "xmGNAVT5sz36",
        "outputId": "32ea0ea3-67ae-426a-cd7e-c8a6a9387ddb"
      },
      "execution_count": 51,
      "outputs": [
        {
          "output_type": "stream",
          "name": "stdout",
          "text": [
            "9/9 [==============================] - 0s 20ms/step - loss: 1.4401 - categorical_accuracy: 0.7594 - precision_1: 0.7642 - recall_1: 0.7585 - auc_1: 0.9101\n",
            "Test loss: 1.4401063919067383\n",
            "Test categorical_accuracy: 0.7594469785690308\n",
            "Test precision: 0.7641596794128418\n",
            "Test recall: 0.7585253715515137\n",
            "Test auc: 0.9101407527923584\n",
            "9/9 [==============================] - 0s 17ms/step\n"
          ]
        }
      ]
    },
    {
      "cell_type": "code",
      "source": [
        "draw_confusion_matrix(y_test, batchnorm_pred)"
      ],
      "metadata": {
        "colab": {
          "base_uri": "https://localhost:8080/",
          "height": 265
        },
        "id": "iY1wDe7is5nS",
        "outputId": "ac2be7e4-89ad-4219-fb2d-9101c7272382"
      },
      "execution_count": 52,
      "outputs": [
        {
          "output_type": "display_data",
          "data": {
            "text/plain": [
              "<Figure size 432x288 with 1 Axes>"
            ],
            "image/png": "[encoded data removed]"
          },
          "metadata": {
            "needs_background": "light"
          }
        }
      ]
    },
    {
      "cell_type": "code",
      "source": [
        "print(classification_report(y_test.argmax(axis=1), batchnorm_pred.argmax(axis=1)))"
      ],
      "metadata": {
        "colab": {
          "base_uri": "https://localhost:8080/"
        },
        "id": "EvlpTqfgs8bq",
        "outputId": "78ca5e24-7b33-453e-c977-558c282b8296"
      },
      "execution_count": 53,
      "outputs": [
        {
          "output_type": "stream",
          "name": "stdout",
          "text": [
            "              precision    recall  f1-score   support\n",
            "\n",
            "           0       0.77      0.79      0.78       271\n",
            "           1       0.71      0.76      0.74       268\n",
            "           2       0.77      0.70      0.73       284\n",
            "           3       0.79      0.79      0.79       262\n",
            "\n",
            "    accuracy                           0.76      1085\n",
            "   macro avg       0.76      0.76      0.76      1085\n",
            "weighted avg       0.76      0.76      0.76      1085\n",
            "\n"
          ]
        }
      ]
    },
    {
      "cell_type": "markdown",
      "source": [
        "### Dropout"
      ],
      "metadata": {
        "id": "jDe7i48f3zqm"
      }
    },
    {
      "cell_type": "code",
      "source": [
        "dropout_model = build_model(dropOut=True)\n",
        "dropout_model.summary()"
      ],
      "metadata": {
        "colab": {
          "base_uri": "https://localhost:8080/"
        },
        "id": "z6SkEvrs7Lhk",
        "outputId": "8e64f5e5-faa6-4236-cded-1d9497fba39c"
      },
      "execution_count": 54,
      "outputs": [
        {
          "output_type": "stream",
          "name": "stdout",
          "text": [
            "Model: \"sequential_2\"\n",
            "_________________________________________________________________\n",
            " Layer (type)                Output Shape              Param #   \n",
            "=================================================================\n",
            " conv2d_8 (Conv2D)           (None, 62, 62, 32)        896       \n",
            "                                                                 \n",
            " conv2d_9 (Conv2D)           (None, 60, 60, 32)        9248      \n",
            "                                                                 \n",
            " max_pooling2d_4 (MaxPooling  (None, 30, 30, 32)       0         \n",
            " 2D)                                                             \n",
            "                                                                 \n",
            " conv2d_10 (Conv2D)          (None, 28, 28, 64)        18496     \n",
            "                                                                 \n",
            " conv2d_11 (Conv2D)          (None, 26, 26, 64)        36928     \n",
            "                                                                 \n",
            " max_pooling2d_5 (MaxPooling  (None, 13, 13, 64)       0         \n",
            " 2D)                                                             \n",
            "                                                                 \n",
            " flatten_2 (Flatten)         (None, 10816)             0         \n",
            "                                                                 \n",
            " dense_4 (Dense)             (None, 512)               5538304   \n",
            "                                                                 \n",
            " dropout (Dropout)           (None, 512)               0         \n",
            "                                                                 \n",
            " dense_5 (Dense)             (None, 4)                 2052      \n",
            "                                                                 \n",
            "=================================================================\n",
            "Total params: 5,605,924\n",
            "Trainable params: 5,605,924\n",
            "Non-trainable params: 0\n",
            "_________________________________________________________________\n"
          ]
        }
      ]
    },
    {
      "cell_type": "code",
      "source": [
        "dropout_history = dropout_model.fit(\n",
        "    train_ds,\n",
        "    epochs=30,\n",
        "    verbose=1,\n",
        "    validation_data=val_ds\n",
        ")"
      ],
      "metadata": {
        "colab": {
          "base_uri": "https://localhost:8080/"
        },
        "id": "a7HVKI287gVp",
        "outputId": "606dd1f4-4bd7-4f40-d7c2-5d3e6b726be6"
      },
      "execution_count": 55,
      "outputs": [
        {
          "output_type": "stream",
          "name": "stdout",
          "text": [
            "Epoch 1/30\n",
            "30/30 [==============================] - 4s 49ms/step - loss: 1.4369 - categorical_accuracy: 0.3328 - precision_2: 0.3084 - recall_2: 0.0283 - auc_2: 0.5982 - val_loss: 1.2050 - val_categorical_accuracy: 0.3963 - val_precision_2: 0.5442 - val_recall_2: 0.2187 - val_auc_2: 0.7333\n",
            "Epoch 2/30\n",
            "30/30 [==============================] - 1s 35ms/step - loss: 0.9533 - categorical_accuracy: 0.6042 - precision_2: 0.7151 - recall_2: 0.4116 - auc_2: 0.8440 - val_loss: 0.8418 - val_categorical_accuracy: 0.6486 - val_precision_2: 0.7221 - val_recall_2: 0.5682 - val_auc_2: 0.8789\n",
            "Epoch 3/30\n",
            "30/30 [==============================] - 1s 35ms/step - loss: 0.7769 - categorical_accuracy: 0.6944 - precision_2: 0.7632 - recall_2: 0.6114 - auc_2: 0.8967 - val_loss: 0.6867 - val_categorical_accuracy: 0.7551 - val_precision_2: 0.8101 - val_recall_2: 0.6617 - val_auc_2: 0.9213\n",
            "Epoch 4/30\n",
            "30/30 [==============================] - 1s 35ms/step - loss: 0.6647 - categorical_accuracy: 0.7376 - precision_2: 0.7925 - recall_2: 0.6720 - auc_2: 0.9249 - val_loss: 0.6796 - val_categorical_accuracy: 0.7458 - val_precision_2: 0.7948 - val_recall_2: 0.6804 - val_auc_2: 0.9202\n",
            "Epoch 5/30\n",
            "30/30 [==============================] - 1s 35ms/step - loss: 0.5995 - categorical_accuracy: 0.7741 - precision_2: 0.8150 - recall_2: 0.7204 - auc_2: 0.9387 - val_loss: 0.5965 - val_categorical_accuracy: 0.7645 - val_precision_2: 0.8043 - val_recall_2: 0.6916 - val_auc_2: 0.9389\n",
            "Epoch 6/30\n",
            "30/30 [==============================] - 1s 36ms/step - loss: 0.5229 - categorical_accuracy: 0.8069 - precision_2: 0.8428 - recall_2: 0.7561 - auc_2: 0.9531 - val_loss: 0.5430 - val_categorical_accuracy: 0.8000 - val_precision_2: 0.8313 - val_recall_2: 0.7551 - val_auc_2: 0.9485\n",
            "Epoch 7/30\n",
            "30/30 [==============================] - 1s 39ms/step - loss: 0.4572 - categorical_accuracy: 0.8362 - precision_2: 0.8633 - recall_2: 0.8037 - auc_2: 0.9636 - val_loss: 0.6417 - val_categorical_accuracy: 0.7439 - val_precision_2: 0.7771 - val_recall_2: 0.7103 - val_auc_2: 0.9326\n",
            "Epoch 8/30\n",
            "30/30 [==============================] - 1s 44ms/step - loss: 0.4420 - categorical_accuracy: 0.8357 - precision_2: 0.8629 - recall_2: 0.8058 - auc_2: 0.9660 - val_loss: 0.5510 - val_categorical_accuracy: 0.7888 - val_precision_2: 0.8096 - val_recall_2: 0.7551 - val_auc_2: 0.9474\n",
            "Epoch 9/30\n",
            "30/30 [==============================] - 1s 36ms/step - loss: 0.3824 - categorical_accuracy: 0.8614 - precision_2: 0.8870 - recall_2: 0.8352 - auc_2: 0.9745 - val_loss: 0.5732 - val_categorical_accuracy: 0.7701 - val_precision_2: 0.7988 - val_recall_2: 0.7421 - val_auc_2: 0.9443\n",
            "Epoch 10/30\n",
            "30/30 [==============================] - 1s 35ms/step - loss: 0.3764 - categorical_accuracy: 0.8635 - precision_2: 0.8883 - recall_2: 0.8394 - auc_2: 0.9752 - val_loss: 0.5610 - val_categorical_accuracy: 0.8075 - val_precision_2: 0.8313 - val_recall_2: 0.7645 - val_auc_2: 0.9462\n",
            "Epoch 11/30\n",
            "30/30 [==============================] - 1s 35ms/step - loss: 0.3122 - categorical_accuracy: 0.8913 - precision_2: 0.9103 - recall_2: 0.8669 - auc_2: 0.9830 - val_loss: 0.5431 - val_categorical_accuracy: 0.8112 - val_precision_2: 0.8291 - val_recall_2: 0.7888 - val_auc_2: 0.9534\n",
            "Epoch 12/30\n",
            "30/30 [==============================] - 1s 34ms/step - loss: 0.2769 - categorical_accuracy: 0.8934 - precision_2: 0.9105 - recall_2: 0.8770 - auc_2: 0.9867 - val_loss: 0.5508 - val_categorical_accuracy: 0.7925 - val_precision_2: 0.8158 - val_recall_2: 0.7701 - val_auc_2: 0.9506\n",
            "Epoch 13/30\n",
            "30/30 [==============================] - 1s 35ms/step - loss: 0.2216 - categorical_accuracy: 0.9257 - precision_2: 0.9346 - recall_2: 0.9114 - auc_2: 0.9914 - val_loss: 0.6158 - val_categorical_accuracy: 0.7907 - val_precision_2: 0.8042 - val_recall_2: 0.7832 - val_auc_2: 0.9461\n",
            "Epoch 14/30\n",
            "30/30 [==============================] - 1s 35ms/step - loss: 0.1961 - categorical_accuracy: 0.9302 - precision_2: 0.9415 - recall_2: 0.9198 - auc_2: 0.9933 - val_loss: 0.6457 - val_categorical_accuracy: 0.7888 - val_precision_2: 0.8062 - val_recall_2: 0.7776 - val_auc_2: 0.9441\n",
            "Epoch 15/30\n",
            "30/30 [==============================] - 1s 35ms/step - loss: 0.1577 - categorical_accuracy: 0.9444 - precision_2: 0.9539 - recall_2: 0.9370 - auc_2: 0.9957 - val_loss: 0.7229 - val_categorical_accuracy: 0.8019 - val_precision_2: 0.8073 - val_recall_2: 0.7832 - val_auc_2: 0.9412\n",
            "Epoch 16/30\n",
            "30/30 [==============================] - 1s 35ms/step - loss: 0.1328 - categorical_accuracy: 0.9545 - precision_2: 0.9606 - recall_2: 0.9471 - auc_2: 0.9970 - val_loss: 0.7345 - val_categorical_accuracy: 0.7925 - val_precision_2: 0.8004 - val_recall_2: 0.7794 - val_auc_2: 0.9409\n",
            "Epoch 17/30\n",
            "30/30 [==============================] - 1s 35ms/step - loss: 0.0981 - categorical_accuracy: 0.9667 - precision_2: 0.9717 - recall_2: 0.9630 - auc_2: 0.9984 - val_loss: 0.8123 - val_categorical_accuracy: 0.7944 - val_precision_2: 0.8046 - val_recall_2: 0.7925 - val_auc_2: 0.9380\n",
            "Epoch 18/30\n",
            "30/30 [==============================] - 1s 41ms/step - loss: 0.0672 - categorical_accuracy: 0.9775 - precision_2: 0.9798 - recall_2: 0.9754 - auc_2: 0.9994 - val_loss: 0.9168 - val_categorical_accuracy: 0.7944 - val_precision_2: 0.8030 - val_recall_2: 0.7925 - val_auc_2: 0.9288\n",
            "Epoch 19/30\n",
            "30/30 [==============================] - 1s 35ms/step - loss: 0.0526 - categorical_accuracy: 0.9847 - precision_2: 0.9867 - recall_2: 0.9839 - auc_2: 0.9997 - val_loss: 1.0225 - val_categorical_accuracy: 0.7813 - val_precision_2: 0.7901 - val_recall_2: 0.7738 - val_auc_2: 0.9225\n",
            "Epoch 20/30\n",
            "30/30 [==============================] - 1s 35ms/step - loss: 0.1081 - categorical_accuracy: 0.9653 - precision_2: 0.9681 - recall_2: 0.9624 - auc_2: 0.9969 - val_loss: 1.0720 - val_categorical_accuracy: 0.7589 - val_precision_2: 0.7604 - val_recall_2: 0.7533 - val_auc_2: 0.9163\n",
            "Epoch 21/30\n",
            "30/30 [==============================] - 1s 34ms/step - loss: 0.1030 - categorical_accuracy: 0.9632 - precision_2: 0.9657 - recall_2: 0.9603 - auc_2: 0.9979 - val_loss: 0.8759 - val_categorical_accuracy: 0.7626 - val_precision_2: 0.7704 - val_recall_2: 0.7589 - val_auc_2: 0.9311\n",
            "Epoch 22/30\n",
            "30/30 [==============================] - 1s 35ms/step - loss: 0.0699 - categorical_accuracy: 0.9765 - precision_2: 0.9795 - recall_2: 0.9749 - auc_2: 0.9993 - val_loss: 1.0284 - val_categorical_accuracy: 0.7813 - val_precision_2: 0.7860 - val_recall_2: 0.7757 - val_auc_2: 0.9258\n",
            "Epoch 23/30\n",
            "30/30 [==============================] - 1s 36ms/step - loss: 0.0426 - categorical_accuracy: 0.9873 - precision_2: 0.9878 - recall_2: 0.9860 - auc_2: 0.9997 - val_loss: 1.0095 - val_categorical_accuracy: 0.7738 - val_precision_2: 0.7778 - val_recall_2: 0.7720 - val_auc_2: 0.9315\n",
            "Epoch 24/30\n",
            "30/30 [==============================] - 1s 36ms/step - loss: 0.0274 - categorical_accuracy: 0.9913 - precision_2: 0.9928 - recall_2: 0.9907 - auc_2: 0.9999 - val_loss: 1.1435 - val_categorical_accuracy: 0.7776 - val_precision_2: 0.7826 - val_recall_2: 0.7738 - val_auc_2: 0.9194\n",
            "Epoch 25/30\n",
            "30/30 [==============================] - 1s 37ms/step - loss: 0.0310 - categorical_accuracy: 0.9899 - precision_2: 0.9902 - recall_2: 0.9894 - auc_2: 0.9999 - val_loss: 1.1013 - val_categorical_accuracy: 0.7888 - val_precision_2: 0.7943 - val_recall_2: 0.7794 - val_auc_2: 0.9217\n",
            "Epoch 26/30\n",
            "30/30 [==============================] - 1s 35ms/step - loss: 0.0141 - categorical_accuracy: 0.9968 - precision_2: 0.9968 - recall_2: 0.9966 - auc_2: 1.0000 - val_loss: 1.1959 - val_categorical_accuracy: 0.7869 - val_precision_2: 0.7906 - val_recall_2: 0.7832 - val_auc_2: 0.9225\n",
            "Epoch 27/30\n",
            "30/30 [==============================] - 1s 35ms/step - loss: 0.0220 - categorical_accuracy: 0.9929 - precision_2: 0.9931 - recall_2: 0.9923 - auc_2: 0.9999 - val_loss: 1.1969 - val_categorical_accuracy: 0.7738 - val_precision_2: 0.7753 - val_recall_2: 0.7738 - val_auc_2: 0.9136\n",
            "Epoch 28/30\n",
            "30/30 [==============================] - 1s 41ms/step - loss: 0.0351 - categorical_accuracy: 0.9886 - precision_2: 0.9897 - recall_2: 0.9878 - auc_2: 0.9996 - val_loss: 1.0295 - val_categorical_accuracy: 0.8037 - val_precision_2: 0.8110 - val_recall_2: 0.8019 - val_auc_2: 0.9246\n",
            "Epoch 29/30\n",
            "30/30 [==============================] - 1s 43ms/step - loss: 0.0114 - categorical_accuracy: 0.9971 - precision_2: 0.9971 - recall_2: 0.9968 - auc_2: 1.0000 - val_loss: 1.2113 - val_categorical_accuracy: 0.7925 - val_precision_2: 0.7955 - val_recall_2: 0.7925 - val_auc_2: 0.9151\n",
            "Epoch 30/30\n",
            "30/30 [==============================] - 1s 41ms/step - loss: 0.0062 - categorical_accuracy: 0.9995 - precision_2: 0.9995 - recall_2: 0.9995 - auc_2: 1.0000 - val_loss: 1.3422 - val_categorical_accuracy: 0.7963 - val_precision_2: 0.8000 - val_recall_2: 0.7925 - val_auc_2: 0.9158\n"
          ]
        }
      ]
    },
    {
      "cell_type": "code",
      "source": [
        "plot(dropout_history.history['categorical_accuracy'], dropout_history.history['val_categorical_accuracy'], 'Accuracy', 'Model Accuracy')"
      ],
      "metadata": {
        "id": "4WZO5i6q7y7W",
        "colab": {
          "base_uri": "https://localhost:8080/",
          "height": 295
        },
        "outputId": "099bde85-27ee-4d79-82a9-0115548aa505"
      },
      "execution_count": 56,
      "outputs": [
        {
          "output_type": "display_data",
          "data": {
            "text/plain": [
              "<Figure size 432x288 with 1 Axes>"
            ],
            "image/png": "[encoded data removed]"
          },
          "metadata": {
            "needs_background": "light"
          }
        }
      ]
    },
    {
      "cell_type": "code",
      "source": [
        "plot(dropout_history.history['loss'], dropout_history.history['val_loss'], 'Loss', 'Model Loss')"
      ],
      "metadata": {
        "colab": {
          "base_uri": "https://localhost:8080/",
          "height": 295
        },
        "id": "hWTtZL5yzK_d",
        "outputId": "29adfafd-e431-44b8-e432-4c32272e7955"
      },
      "execution_count": 57,
      "outputs": [
        {
          "output_type": "display_data",
          "data": {
            "text/plain": [
              "<Figure size 432x288 with 1 Axes>"
            ],
            "image/png": "[encoded data removed]"
          },
          "metadata": {
            "needs_background": "light"
          }
        }
      ]
    },
    {
      "cell_type": "code",
      "source": [
        "dropout_pred = evaluate_and_predict(dropout_model)"
      ],
      "metadata": {
        "colab": {
          "base_uri": "https://localhost:8080/"
        },
        "outputId": "9d0c7005-e380-41dc-f844-2dd40d81d155",
        "id": "bbDulmveukmi"
      },
      "execution_count": 58,
      "outputs": [
        {
          "output_type": "stream",
          "name": "stdout",
          "text": [
            "9/9 [==============================] - 0s 15ms/step - loss: 1.4574 - categorical_accuracy: 0.7899 - precision_2: 0.7920 - recall_2: 0.7862 - auc_2: 0.9135\n",
            "Test loss: 1.4574482440948486\n",
            "Test categorical_accuracy: 0.7898617386817932\n",
            "Test precision: 0.7920148372650146\n",
            "Test recall: 0.7861751317977905\n",
            "Test auc: 0.9134795069694519\n",
            "9/9 [==============================] - 0s 11ms/step\n"
          ]
        }
      ]
    },
    {
      "cell_type": "code",
      "source": [
        "draw_confusion_matrix(y_test, dropout_pred)"
      ],
      "metadata": {
        "colab": {
          "base_uri": "https://localhost:8080/",
          "height": 265
        },
        "outputId": "0d8927ce-eba6-45a1-c7f3-fedb1567b563",
        "id": "mPNbo6B_ukmm"
      },
      "execution_count": 59,
      "outputs": [
        {
          "output_type": "display_data",
          "data": {
            "text/plain": [
              "<Figure size 432x288 with 1 Axes>"
            ],
            "image/png": "[encoded data removed]"
          },
          "metadata": {
            "needs_background": "light"
          }
        }
      ]
    },
    {
      "cell_type": "code",
      "source": [
        "print(classification_report(y_test.argmax(axis=1), dropout_pred.argmax(axis=1)))"
      ],
      "metadata": {
        "colab": {
          "base_uri": "https://localhost:8080/"
        },
        "outputId": "d571248b-74b2-41a9-d024-f33e5469d08a",
        "id": "gg7R6ukvukmm"
      },
      "execution_count": 60,
      "outputs": [
        {
          "output_type": "stream",
          "name": "stdout",
          "text": [
            "              precision    recall  f1-score   support\n",
            "\n",
            "           0       0.75      0.80      0.78       271\n",
            "           1       0.76      0.81      0.79       268\n",
            "           2       0.81      0.73      0.77       284\n",
            "           3       0.84      0.82      0.83       262\n",
            "\n",
            "    accuracy                           0.79      1085\n",
            "   macro avg       0.79      0.79      0.79      1085\n",
            "weighted avg       0.79      0.79      0.79      1085\n",
            "\n"
          ]
        }
      ]
    },
    {
      "cell_type": "markdown",
      "source": [
        "### L2 Regularisation"
      ],
      "metadata": {
        "id": "Emf39YOx32p3"
      }
    },
    {
      "cell_type": "code",
      "source": [
        "l2reg_model = build_model(l2Reg=True)\n",
        "l2reg_model.summary()"
      ],
      "metadata": {
        "colab": {
          "base_uri": "https://localhost:8080/"
        },
        "id": "79KbFJ7k356q",
        "outputId": "45df83a6-4c14-4250-ebc9-25fde4199616"
      },
      "execution_count": 61,
      "outputs": [
        {
          "output_type": "stream",
          "name": "stdout",
          "text": [
            "Model: \"sequential_3\"\n",
            "_________________________________________________________________\n",
            " Layer (type)                Output Shape              Param #   \n",
            "=================================================================\n",
            " conv2d_12 (Conv2D)          (None, 62, 62, 32)        896       \n",
            "                                                                 \n",
            " conv2d_13 (Conv2D)          (None, 60, 60, 32)        9248      \n",
            "                                                                 \n",
            " max_pooling2d_6 (MaxPooling  (None, 30, 30, 32)       0         \n",
            " 2D)                                                             \n",
            "                                                                 \n",
            " conv2d_14 (Conv2D)          (None, 28, 28, 64)        18496     \n",
            "                                                                 \n",
            " conv2d_15 (Conv2D)          (None, 26, 26, 64)        36928     \n",
            "                                                                 \n",
            " max_pooling2d_7 (MaxPooling  (None, 13, 13, 64)       0         \n",
            " 2D)                                                             \n",
            "                                                                 \n",
            " flatten_3 (Flatten)         (None, 10816)             0         \n",
            "                                                                 \n",
            " dense_6 (Dense)             (None, 512)               5538304   \n",
            "                                                                 \n",
            " dense_7 (Dense)             (None, 4)                 2052      \n",
            "                                                                 \n",
            "=================================================================\n",
            "Total params: 5,605,924\n",
            "Trainable params: 5,605,924\n",
            "Non-trainable params: 0\n",
            "_________________________________________________________________\n"
          ]
        }
      ]
    },
    {
      "cell_type": "code",
      "source": [
        "l2reg_history = l2reg_model.fit(\n",
        "    train_ds,\n",
        "    epochs=30,\n",
        "    verbose=1,\n",
        "    validation_data=val_ds\n",
        ")"
      ],
      "metadata": {
        "colab": {
          "base_uri": "https://localhost:8080/"
        },
        "id": "_dO1Knbq4B0_",
        "outputId": "5de34f34-7ed8-485b-9e80-611d353c0266"
      },
      "execution_count": 62,
      "outputs": [
        {
          "output_type": "stream",
          "name": "stdout",
          "text": [
            "Epoch 1/30\n",
            "30/30 [==============================] - 4s 50ms/step - loss: 6.5096 - categorical_accuracy: 0.3653 - precision_3: 0.4312 - recall_3: 0.0812 - auc_3: 0.6271 - val_loss: 3.2749 - val_categorical_accuracy: 0.5215 - val_precision_3: 0.6667 - val_recall_3: 0.2505 - val_auc_3: 0.7646\n",
            "Epoch 2/30\n",
            "30/30 [==============================] - 1s 35ms/step - loss: 2.4940 - categorical_accuracy: 0.5550 - precision_3: 0.6876 - recall_3: 0.3190 - auc_3: 0.8058 - val_loss: 1.9111 - val_categorical_accuracy: 0.6075 - val_precision_3: 0.6800 - val_recall_3: 0.4766 - val_auc_3: 0.8460\n",
            "Epoch 3/30\n",
            "30/30 [==============================] - 1s 35ms/step - loss: 1.7065 - categorical_accuracy: 0.6368 - precision_3: 0.7171 - recall_3: 0.4876 - auc_3: 0.8566 - val_loss: 1.6210 - val_categorical_accuracy: 0.6243 - val_precision_3: 0.7531 - val_recall_3: 0.4505 - val_auc_3: 0.8478\n",
            "Epoch 4/30\n",
            "30/30 [==============================] - 1s 36ms/step - loss: 1.4945 - categorical_accuracy: 0.6532 - precision_3: 0.7429 - recall_3: 0.5061 - auc_3: 0.8713 - val_loss: 1.4296 - val_categorical_accuracy: 0.6692 - val_precision_3: 0.7938 - val_recall_3: 0.4822 - val_auc_3: 0.8840\n",
            "Epoch 5/30\n",
            "30/30 [==============================] - 1s 36ms/step - loss: 1.3724 - categorical_accuracy: 0.6730 - precision_3: 0.7524 - recall_3: 0.5516 - auc_3: 0.8857 - val_loss: 1.3244 - val_categorical_accuracy: 0.6804 - val_precision_3: 0.7591 - val_recall_3: 0.5832 - val_auc_3: 0.8943\n",
            "Epoch 6/30\n",
            "30/30 [==============================] - 1s 40ms/step - loss: 1.3182 - categorical_accuracy: 0.6939 - precision_3: 0.7660 - recall_3: 0.5844 - auc_3: 0.8928 - val_loss: 1.3694 - val_categorical_accuracy: 0.6542 - val_precision_3: 0.7055 - val_recall_3: 0.5551 - val_auc_3: 0.8701\n",
            "Epoch 7/30\n",
            "30/30 [==============================] - 1s 45ms/step - loss: 1.2654 - categorical_accuracy: 0.6958 - precision_3: 0.7593 - recall_3: 0.6008 - auc_3: 0.8978 - val_loss: 1.2724 - val_categorical_accuracy: 0.6542 - val_precision_3: 0.7494 - val_recall_3: 0.5533 - val_auc_3: 0.8904\n",
            "Epoch 8/30\n",
            "30/30 [==============================] - 1s 42ms/step - loss: 1.2438 - categorical_accuracy: 0.7016 - precision_3: 0.7733 - recall_3: 0.5849 - auc_3: 0.8981 - val_loss: 1.2384 - val_categorical_accuracy: 0.6991 - val_precision_3: 0.7506 - val_recall_3: 0.6131 - val_auc_3: 0.8982\n",
            "Epoch 9/30\n",
            "30/30 [==============================] - 1s 37ms/step - loss: 1.1718 - categorical_accuracy: 0.7220 - precision_3: 0.7853 - recall_3: 0.6328 - auc_3: 0.9112 - val_loss: 1.1276 - val_categorical_accuracy: 0.7645 - val_precision_3: 0.8285 - val_recall_3: 0.6411 - val_auc_3: 0.9207\n",
            "Epoch 10/30\n",
            "30/30 [==============================] - 1s 35ms/step - loss: 1.1567 - categorical_accuracy: 0.7280 - precision_3: 0.7889 - recall_3: 0.6458 - auc_3: 0.9112 - val_loss: 1.1362 - val_categorical_accuracy: 0.7364 - val_precision_3: 0.8056 - val_recall_3: 0.6430 - val_auc_3: 0.9144\n",
            "Epoch 11/30\n",
            "30/30 [==============================] - 1s 35ms/step - loss: 1.1175 - categorical_accuracy: 0.7249 - precision_3: 0.7880 - recall_3: 0.6410 - auc_3: 0.9172 - val_loss: 1.1426 - val_categorical_accuracy: 0.7327 - val_precision_3: 0.7953 - val_recall_3: 0.6318 - val_auc_3: 0.9096\n",
            "Epoch 12/30\n",
            "30/30 [==============================] - 1s 35ms/step - loss: 1.1431 - categorical_accuracy: 0.7127 - precision_3: 0.7732 - recall_3: 0.6204 - auc_3: 0.9077 - val_loss: 1.1114 - val_categorical_accuracy: 0.7308 - val_precision_3: 0.7916 - val_recall_3: 0.6673 - val_auc_3: 0.9161\n",
            "Epoch 13/30\n",
            "30/30 [==============================] - 1s 36ms/step - loss: 1.0941 - categorical_accuracy: 0.7405 - precision_3: 0.7992 - recall_3: 0.6497 - auc_3: 0.9177 - val_loss: 1.0734 - val_categorical_accuracy: 0.7514 - val_precision_3: 0.8195 - val_recall_3: 0.6449 - val_auc_3: 0.9232\n",
            "Epoch 14/30\n",
            "30/30 [==============================] - 1s 36ms/step - loss: 1.0474 - categorical_accuracy: 0.7508 - precision_3: 0.8141 - recall_3: 0.6743 - auc_3: 0.9261 - val_loss: 1.0236 - val_categorical_accuracy: 0.7570 - val_precision_3: 0.8333 - val_recall_3: 0.6822 - val_auc_3: 0.9299\n",
            "Epoch 15/30\n",
            "30/30 [==============================] - 1s 35ms/step - loss: 1.0422 - categorical_accuracy: 0.7505 - precision_3: 0.8115 - recall_3: 0.6706 - auc_3: 0.9249 - val_loss: 1.0432 - val_categorical_accuracy: 0.7477 - val_precision_3: 0.7917 - val_recall_3: 0.6748 - val_auc_3: 0.9215\n",
            "Epoch 16/30\n",
            "30/30 [==============================] - 1s 35ms/step - loss: 0.9976 - categorical_accuracy: 0.7638 - precision_3: 0.8097 - recall_3: 0.6934 - auc_3: 0.9334 - val_loss: 1.0613 - val_categorical_accuracy: 0.7421 - val_precision_3: 0.7872 - val_recall_3: 0.6916 - val_auc_3: 0.9173\n",
            "Epoch 17/30\n",
            "30/30 [==============================] - 1s 36ms/step - loss: 1.0105 - categorical_accuracy: 0.7603 - precision_3: 0.8136 - recall_3: 0.6939 - auc_3: 0.9287 - val_loss: 1.0035 - val_categorical_accuracy: 0.7495 - val_precision_3: 0.8249 - val_recall_3: 0.7047 - val_auc_3: 0.9282\n",
            "Epoch 18/30\n",
            "30/30 [==============================] - 1s 42ms/step - loss: 0.9590 - categorical_accuracy: 0.7735 - precision_3: 0.8273 - recall_3: 0.7008 - auc_3: 0.9385 - val_loss: 0.9685 - val_categorical_accuracy: 0.7664 - val_precision_3: 0.8100 - val_recall_3: 0.7252 - val_auc_3: 0.9339\n",
            "Epoch 19/30\n",
            "30/30 [==============================] - 1s 37ms/step - loss: 0.9763 - categorical_accuracy: 0.7659 - precision_3: 0.8156 - recall_3: 0.6963 - auc_3: 0.9328 - val_loss: 1.0268 - val_categorical_accuracy: 0.7383 - val_precision_3: 0.7836 - val_recall_3: 0.6972 - val_auc_3: 0.9192\n",
            "Epoch 20/30\n",
            "30/30 [==============================] - 1s 36ms/step - loss: 0.9491 - categorical_accuracy: 0.7728 - precision_3: 0.8213 - recall_3: 0.7087 - auc_3: 0.9380 - val_loss: 0.9992 - val_categorical_accuracy: 0.7495 - val_precision_3: 0.7940 - val_recall_3: 0.6916 - val_auc_3: 0.9246\n",
            "Epoch 21/30\n",
            "30/30 [==============================] - 1s 36ms/step - loss: 0.9554 - categorical_accuracy: 0.7709 - precision_3: 0.8256 - recall_3: 0.7103 - auc_3: 0.9356 - val_loss: 1.0235 - val_categorical_accuracy: 0.7421 - val_precision_3: 0.7957 - val_recall_3: 0.6841 - val_auc_3: 0.9178\n",
            "Epoch 22/30\n",
            "30/30 [==============================] - 1s 36ms/step - loss: 0.9847 - categorical_accuracy: 0.7585 - precision_3: 0.8115 - recall_3: 0.6786 - auc_3: 0.9290 - val_loss: 0.9668 - val_categorical_accuracy: 0.7533 - val_precision_3: 0.7918 - val_recall_3: 0.7178 - val_auc_3: 0.9314\n",
            "Epoch 23/30\n",
            "30/30 [==============================] - 1s 35ms/step - loss: 0.9155 - categorical_accuracy: 0.7836 - precision_3: 0.8342 - recall_3: 0.7228 - auc_3: 0.9428 - val_loss: 0.9288 - val_categorical_accuracy: 0.7776 - val_precision_3: 0.8205 - val_recall_3: 0.7346 - val_auc_3: 0.9380\n",
            "Epoch 24/30\n",
            "30/30 [==============================] - 1s 35ms/step - loss: 0.9204 - categorical_accuracy: 0.7831 - precision_3: 0.8235 - recall_3: 0.7243 - auc_3: 0.9407 - val_loss: 0.9490 - val_categorical_accuracy: 0.7757 - val_precision_3: 0.8178 - val_recall_3: 0.7047 - val_auc_3: 0.9337\n",
            "Epoch 25/30\n",
            "30/30 [==============================] - 1s 36ms/step - loss: 0.9333 - categorical_accuracy: 0.7810 - precision_3: 0.8298 - recall_3: 0.7066 - auc_3: 0.9389 - val_loss: 0.9002 - val_categorical_accuracy: 0.7963 - val_precision_3: 0.8243 - val_recall_3: 0.7364 - val_auc_3: 0.9434\n",
            "Epoch 26/30\n",
            "30/30 [==============================] - 1s 35ms/step - loss: 0.8926 - categorical_accuracy: 0.7899 - precision_3: 0.8339 - recall_3: 0.7320 - auc_3: 0.9453 - val_loss: 0.9587 - val_categorical_accuracy: 0.7458 - val_precision_3: 0.7940 - val_recall_3: 0.6916 - val_auc_3: 0.9299\n",
            "Epoch 27/30\n",
            "30/30 [==============================] - 1s 36ms/step - loss: 0.8901 - categorical_accuracy: 0.7852 - precision_3: 0.8354 - recall_3: 0.7275 - auc_3: 0.9452 - val_loss: 0.9282 - val_categorical_accuracy: 0.7832 - val_precision_3: 0.8091 - val_recall_3: 0.7290 - val_auc_3: 0.9351\n",
            "Epoch 28/30\n",
            "30/30 [==============================] - 1s 42ms/step - loss: 0.8898 - categorical_accuracy: 0.7886 - precision_3: 0.8312 - recall_3: 0.7283 - auc_3: 0.9449 - val_loss: 0.9247 - val_categorical_accuracy: 0.7607 - val_precision_3: 0.7911 - val_recall_3: 0.7009 - val_auc_3: 0.9367\n",
            "Epoch 29/30\n",
            "30/30 [==============================] - 1s 43ms/step - loss: 0.8806 - categorical_accuracy: 0.7923 - precision_3: 0.8373 - recall_3: 0.7354 - auc_3: 0.9466 - val_loss: 0.9647 - val_categorical_accuracy: 0.7364 - val_precision_3: 0.7885 - val_recall_3: 0.6897 - val_auc_3: 0.9276\n",
            "Epoch 30/30\n",
            "30/30 [==============================] - 1s 36ms/step - loss: 0.8414 - categorical_accuracy: 0.8056 - precision_3: 0.8521 - recall_3: 0.7558 - auc_3: 0.9530 - val_loss: 0.8746 - val_categorical_accuracy: 0.7869 - val_precision_3: 0.8316 - val_recall_3: 0.7383 - val_auc_3: 0.9449\n"
          ]
        }
      ]
    },
    {
      "cell_type": "code",
      "source": [
        "plot(l2reg_history.history['categorical_accuracy'], l2reg_history.history['val_categorical_accuracy'], 'Accuracy', 'Model Accuracy')"
      ],
      "metadata": {
        "colab": {
          "base_uri": "https://localhost:8080/",
          "height": 295
        },
        "id": "vcOu4OOq4Cyk",
        "outputId": "e56218c0-2a34-4906-f4ab-41e2f8564cc7"
      },
      "execution_count": 63,
      "outputs": [
        {
          "output_type": "display_data",
          "data": {
            "text/plain": [
              "<Figure size 432x288 with 1 Axes>"
            ],
            "image/png": "[encoded data removed]"
          },
          "metadata": {
            "needs_background": "light"
          }
        }
      ]
    },
    {
      "cell_type": "code",
      "source": [
        "plot(l2reg_history.history['loss'], l2reg_history.history['val_loss'], 'Loss', 'Model Loss')"
      ],
      "metadata": {
        "colab": {
          "base_uri": "https://localhost:8080/",
          "height": 295
        },
        "id": "MIfXc1rP9FBv",
        "outputId": "bf2e5144-3d17-4507-c79f-cbd75ea04f0a"
      },
      "execution_count": 64,
      "outputs": [
        {
          "output_type": "display_data",
          "data": {
            "text/plain": [
              "<Figure size 432x288 with 1 Axes>"
            ],
            "image/png": "[encoded data removed]"
          },
          "metadata": {
            "needs_background": "light"
          }
        }
      ]
    },
    {
      "cell_type": "code",
      "source": [
        "l2reg_pred = evaluate_and_predict(l2reg_model)"
      ],
      "metadata": {
        "colab": {
          "base_uri": "https://localhost:8080/"
        },
        "outputId": "8caa894b-4144-477b-eca4-7b69e1ec6190",
        "id": "hKRvrUN0u6BG"
      },
      "execution_count": 65,
      "outputs": [
        {
          "output_type": "stream",
          "name": "stdout",
          "text": [
            "9/9 [==============================] - 0s 14ms/step - loss: 0.9641 - categorical_accuracy: 0.7401 - precision_3: 0.7983 - recall_3: 0.6931 - auc_3: 0.9288\n",
            "Test loss: 0.9640672206878662\n",
            "Test categorical_accuracy: 0.7400921583175659\n",
            "Test precision: 0.7983014583587646\n",
            "Test recall: 0.6930875778198242\n",
            "Test auc: 0.9287766814231873\n",
            "9/9 [==============================] - 0s 12ms/step\n"
          ]
        }
      ]
    },
    {
      "cell_type": "code",
      "source": [
        "draw_confusion_matrix(y_test, l2reg_pred)"
      ],
      "metadata": {
        "colab": {
          "base_uri": "https://localhost:8080/",
          "height": 265
        },
        "outputId": "dbb1885d-d80d-4e4c-f29a-0c889e68d1d1",
        "id": "ax68K5IWu6BG"
      },
      "execution_count": 66,
      "outputs": [
        {
          "output_type": "display_data",
          "data": {
            "text/plain": [
              "<Figure size 432x288 with 1 Axes>"
            ],
            "image/png": "[encoded data removed]"
          },
          "metadata": {
            "needs_background": "light"
          }
        }
      ]
    },
    {
      "cell_type": "code",
      "source": [
        "print(classification_report(y_test.argmax(axis=1), l2reg_pred.argmax(axis=1)))"
      ],
      "metadata": {
        "colab": {
          "base_uri": "https://localhost:8080/"
        },
        "outputId": "4aa03173-9169-4b1d-93e0-83e494b3c155",
        "id": "nhT6p7ixu6BH"
      },
      "execution_count": 67,
      "outputs": [
        {
          "output_type": "stream",
          "name": "stdout",
          "text": [
            "              precision    recall  f1-score   support\n",
            "\n",
            "           0       0.68      0.80      0.73       271\n",
            "           1       0.78      0.67      0.72       268\n",
            "           2       0.73      0.74      0.73       284\n",
            "           3       0.80      0.75      0.78       262\n",
            "\n",
            "    accuracy                           0.74      1085\n",
            "   macro avg       0.75      0.74      0.74      1085\n",
            "weighted avg       0.75      0.74      0.74      1085\n",
            "\n"
          ]
        }
      ]
    }
  ]
}
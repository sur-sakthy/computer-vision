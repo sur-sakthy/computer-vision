{
  "nbformat": 4,
  "nbformat_minor": 0,
  "metadata": {
    "colab": {
      "provenance": [],
      "collapsed_sections": [
        "ABEzVAWI5eS3"
      ],
      "mount_file_id": "1FCmz1FvudVnEjvqD0XItgtetbAT8y8xl",
      "authorship_tag": "ABX9TyOt/bTqiBw42hwSxBQsq2OJ",
      "include_colab_link": true
    },
    "kernelspec": {
      "name": "python3",
      "display_name": "Python 3"
    },
    "language_info": {
      "name": "python"
    },
    "accelerator": "TPU",
    "gpuClass": "standard"
  },
  "cells": [
    {
      "cell_type": "markdown",
      "metadata": {
        "id": "view-in-github",
        "colab_type": "text"
      },
      "source": [
        "<a href=\"https://colab.research.google.com/github/sur-sakthy/computer-vision/blob/main/Assignment_1.ipynb\" target=\"_parent\"><img src=\"https://colab.research.google.com/assets/colab-badge.svg\" alt=\"Open In Colab\"/></a>"
      ]
    },
    {
      "cell_type": "markdown",
      "source": [
        "# Assignment #1\n",
        "The provided data has a train/validation split of 1000/500 (approx.) images. In this task you are to select any 4 classes from the original ImageNette data as your working dataset (i.e. classification whereby you are predicting one of four possible classes).\n",
        "\n",
        "Additionally, you need to reorganise the data into appropriate train/validation/test split before you train your network models. The details of the splitting is left to you, but you must fully justify any final split used in your evaluation."
      ],
      "metadata": {
        "id": "WTJaiwHQzzNo"
      }
    },
    {
      "cell_type": "code",
      "source": [
        "!nvidia-smi"
      ],
      "metadata": {
        "colab": {
          "base_uri": "https://localhost:8080/"
        },
        "id": "jxps2ylf50SH",
        "outputId": "b1638b4f-f77a-4cc5-c936-c430b514df63"
      },
      "execution_count": 1,
      "outputs": [
        {
          "output_type": "stream",
          "name": "stdout",
          "text": [
            "NVIDIA-SMI has failed because it couldn't communicate with the NVIDIA driver. Make sure that the latest NVIDIA driver is installed and running.\n",
            "\n"
          ]
        }
      ]
    },
    {
      "cell_type": "code",
      "execution_count": 2,
      "metadata": {
        "id": "Zq-MwcjOzETs"
      },
      "outputs": [],
      "source": [
        "!cp '/content/drive/MyDrive/EE544 Computer Vision/imagenette2-160.tgz' ./"
      ]
    },
    {
      "cell_type": "code",
      "source": [
        "# remove %%capture command to show output from unzipping\n",
        "%%capture \n",
        "!tar zxvf /content/imagenette2-160.tgz"
      ],
      "metadata": {
        "id": "79KjQJxnAgCv"
      },
      "execution_count": 3,
      "outputs": []
    },
    {
      "cell_type": "markdown",
      "source": [
        "## Imports"
      ],
      "metadata": {
        "id": "mvvEa4-OLaTL"
      }
    },
    {
      "cell_type": "code",
      "source": [
        "import os\n",
        "import glob\n",
        "import pandas as pd\n",
        "import numpy as np\n",
        "import tensorflow as tf\n",
        "import matplotlib.pyplot as plt\n",
        "import seaborn as sns\n",
        "\n",
        "from tensorflow.keras.models import Sequential\n",
        "from tensorflow.keras.layers import Conv2D, Dense, Flatten, MaxPooling2D, BatchNormalization, Dropout\n",
        "from tensorflow.keras.metrics import CategoricalAccuracy, Precision, AUC, Recall\n",
        "from tensorflow.keras.optimizers import Adam\n",
        "from tensorflow.keras.utils import to_categorical\n",
        "from tensorflow.keras.preprocessing.image import ImageDataGenerator, load_img\n",
        "from keras.callbacks import EarlyStopping, ModelCheckpoint\n",
        "from sklearn.model_selection import train_test_split\n",
        "from sklearn.utils import shuffle\n",
        "from sklearn.preprocessing import LabelEncoder\n",
        "from sklearn.metrics import confusion_matrix, classification_report"
      ],
      "metadata": {
        "id": "-4ONl5dQGvub"
      },
      "execution_count": 4,
      "outputs": []
    },
    {
      "cell_type": "markdown",
      "source": [
        "## Constants"
      ],
      "metadata": {
        "id": "SNw6u_X4Vjhq"
      }
    },
    {
      "cell_type": "code",
      "source": [
        "PATH_TO_TRAIN_DATA = '/content/imagenette2-160/train'\n",
        "PATH_TO_VAL_DATA = '/content/imagenette2-160/val'\n",
        "IMG_WIDTH=64\n",
        "IMG_HEIGHT=64\n",
        "NUM_CLASSES=4"
      ],
      "metadata": {
        "id": "Mqij7Db_GdEO"
      },
      "execution_count": 5,
      "outputs": []
    },
    {
      "cell_type": "code",
      "source": [
        "all_classes = os.listdir(PATH_TO_TRAIN_DATA)\n",
        "all_classes"
      ],
      "metadata": {
        "id": "blZUoPmqGmuC",
        "colab": {
          "base_uri": "https://localhost:8080/"
        },
        "outputId": "a112360b-75cf-4cf8-f9c8-a04ec92553b6"
      },
      "execution_count": 6,
      "outputs": [
        {
          "output_type": "execute_result",
          "data": {
            "text/plain": [
              "['n03425413',\n",
              " '.DS_Store',\n",
              " 'n02979186',\n",
              " 'n03000684',\n",
              " 'n03888257',\n",
              " 'n03445777',\n",
              " 'n03394916',\n",
              " 'n03028079',\n",
              " 'n02102040',\n",
              " 'n03417042',\n",
              " 'n01440764']"
            ]
          },
          "metadata": {},
          "execution_count": 6
        }
      ]
    },
    {
      "cell_type": "code",
      "source": [
        "all_classes = os.listdir(PATH_TO_VAL_DATA)\n",
        "all_classes"
      ],
      "metadata": {
        "id": "vJ7YtI7zHS5U",
        "colab": {
          "base_uri": "https://localhost:8080/"
        },
        "outputId": "c57d49ca-f263-45ca-a0db-bc0ba10bddc4"
      },
      "execution_count": 7,
      "outputs": [
        {
          "output_type": "execute_result",
          "data": {
            "text/plain": [
              "['n03425413',\n",
              " 'n02979186',\n",
              " 'n03000684',\n",
              " 'n03888257',\n",
              " 'n03445777',\n",
              " 'n03394916',\n",
              " 'n03028079',\n",
              " 'n02102040',\n",
              " 'n03417042',\n",
              " 'n01440764']"
            ]
          },
          "metadata": {},
          "execution_count": 7
        }
      ]
    },
    {
      "cell_type": "markdown",
      "source": [
        "## Load dataset"
      ],
      "metadata": {
        "id": "GAPRTpueQCQz"
      }
    },
    {
      "cell_type": "code",
      "source": [
        "data = []\n",
        "labels = []"
      ],
      "metadata": {
        "id": "M04-MyRHnivw"
      },
      "execution_count": 8,
      "outputs": []
    },
    {
      "cell_type": "code",
      "source": [
        "def load_dataset(img_folder): \n",
        "    for dir in os.listdir(img_folder):\n",
        "      if dir == 'n03445777' or dir == 'n03417042' or dir == 'n02979186' or dir == 'n03028079' :\n",
        "        for file in os.listdir(os.path.join(img_folder, dir)):\n",
        "            image_path = os.path.join(img_folder, dir, file)\n",
        "            image = tf.keras.preprocessing.image.load_img(image_path, target_size=(64,64))\n",
        "            input_arr = tf.keras.preprocessing.image.img_to_array(image)\n",
        "            input_arr = np.array([input_arr])\n",
        "            image = np.array(image)\n",
        "            data.append(image)\n",
        "            labels.append(dir)"
      ],
      "metadata": {
        "id": "aPu_wDteHj7O"
      },
      "execution_count": 9,
      "outputs": []
    },
    {
      "cell_type": "code",
      "source": [
        "load_dataset(PATH_TO_TRAIN_DATA)\n",
        "load_dataset(PATH_TO_VAL_DATA)"
      ],
      "metadata": {
        "id": "FWqY1YqYmBw3"
      },
      "execution_count": 10,
      "outputs": []
    },
    {
      "cell_type": "code",
      "source": [
        "np.unique(labels)"
      ],
      "metadata": {
        "colab": {
          "base_uri": "https://localhost:8080/"
        },
        "id": "1KtBUddwMf7a",
        "outputId": "9e3dccdb-19ee-4ef0-e9ec-23f91b9a06ca"
      },
      "execution_count": 11,
      "outputs": [
        {
          "output_type": "execute_result",
          "data": {
            "text/plain": [
              "array(['n02979186', 'n03028079', 'n03417042', 'n03445777'], dtype='<U9')"
            ]
          },
          "metadata": {},
          "execution_count": 11
        }
      ]
    },
    {
      "cell_type": "code",
      "source": [
        "data[0]"
      ],
      "metadata": {
        "colab": {
          "base_uri": "https://localhost:8080/"
        },
        "id": "9frhu7uaNGqV",
        "outputId": "12d2e32e-e067-4ab1-b564-b24120c14fc7"
      },
      "execution_count": 12,
      "outputs": [
        {
          "output_type": "execute_result",
          "data": {
            "text/plain": [
              "array([[[146, 101,  72],\n",
              "        [151,  98,  64],\n",
              "        [137,  93,  66],\n",
              "        ...,\n",
              "        [255, 208, 183],\n",
              "        [252, 202, 177],\n",
              "        [245, 195, 170]],\n",
              "\n",
              "       [[185, 138, 110],\n",
              "        [136,  82,  46],\n",
              "        [104,  63,  41],\n",
              "        ...,\n",
              "        [255, 207, 182],\n",
              "        [252, 202, 177],\n",
              "        [247, 197, 172]],\n",
              "\n",
              "       [[135,  88,  58],\n",
              "        [157,  97,  60],\n",
              "        [ 24,   0,   0],\n",
              "        ...,\n",
              "        [255, 206, 181],\n",
              "        [253, 203, 178],\n",
              "        [249, 199, 174]],\n",
              "\n",
              "       ...,\n",
              "\n",
              "       [[ 67,   4,   0],\n",
              "        [ 63,   3,   2],\n",
              "        [ 56,   0,   5],\n",
              "        ...,\n",
              "        [231, 184, 158],\n",
              "        [222, 175, 149],\n",
              "        [222, 175, 149]],\n",
              "\n",
              "       [[107,  38,   5],\n",
              "        [ 86,  22,   0],\n",
              "        [ 72,   2,   0],\n",
              "        ...,\n",
              "        [228, 181, 155],\n",
              "        [231, 184, 158],\n",
              "        [219, 172, 146]],\n",
              "\n",
              "       [[107,  46,   0],\n",
              "        [ 98,  43,   4],\n",
              "        [ 92,  24,   5],\n",
              "        ...,\n",
              "        [231, 184, 158],\n",
              "        [225, 178, 152],\n",
              "        [207, 160, 134]]], dtype=uint8)"
            ]
          },
          "metadata": {},
          "execution_count": 12
        }
      ]
    },
    {
      "cell_type": "markdown",
      "source": [
        "## Shuffle and split"
      ],
      "metadata": {
        "id": "fiEa6VN9QEVS"
      }
    },
    {
      "cell_type": "code",
      "source": [
        "X_train, X_test, y_train, y_test = train_test_split(data, labels, test_size=0.30, random_state=42)\n",
        "X_test, X_val, y_test, y_val = train_test_split(X_test, y_test, test_size=0.33, random_state=42)"
      ],
      "metadata": {
        "id": "wkQrikB6q9LO"
      },
      "execution_count": 13,
      "outputs": []
    },
    {
      "cell_type": "markdown",
      "source": [
        "## Class distribution"
      ],
      "metadata": {
        "id": "aw2IBtfFP8YD"
      }
    },
    {
      "cell_type": "code",
      "source": [
        "df_train = pd.DataFrame(y_train, columns=['label'])\n",
        "df_train.head()"
      ],
      "metadata": {
        "colab": {
          "base_uri": "https://localhost:8080/",
          "height": 206
        },
        "id": "p6O6bXLwOptx",
        "outputId": "e3b0e79b-3750-442a-ba99-a7b72f2edfb2"
      },
      "execution_count": 14,
      "outputs": [
        {
          "output_type": "execute_result",
          "data": {
            "text/plain": [
              "       label\n",
              "0  n03028079\n",
              "1  n02979186\n",
              "2  n02979186\n",
              "3  n03028079\n",
              "4  n03417042"
            ],
            "text/html": [
              "\n",
              "  <div id=\"df-de592648-50b2-42e2-ab2c-3fae4ca50a0a\">\n",
              "    <div class=\"colab-df-container\">\n",
              "      <div>\n",
              "<style scoped>\n",
              "    .dataframe tbody tr th:only-of-type {\n",
              "        vertical-align: middle;\n",
              "    }\n",
              "\n",
              "    .dataframe tbody tr th {\n",
              "        vertical-align: top;\n",
              "    }\n",
              "\n",
              "    .dataframe thead th {\n",
              "        text-align: right;\n",
              "    }\n",
              "</style>\n",
              "<table border=\"1\" class=\"dataframe\">\n",
              "  <thead>\n",
              "    <tr style=\"text-align: right;\">\n",
              "      <th></th>\n",
              "      <th>label</th>\n",
              "    </tr>\n",
              "  </thead>\n",
              "  <tbody>\n",
              "    <tr>\n",
              "      <th>0</th>\n",
              "      <td>n03028079</td>\n",
              "    </tr>\n",
              "    <tr>\n",
              "      <th>1</th>\n",
              "      <td>n02979186</td>\n",
              "    </tr>\n",
              "    <tr>\n",
              "      <th>2</th>\n",
              "      <td>n02979186</td>\n",
              "    </tr>\n",
              "    <tr>\n",
              "      <th>3</th>\n",
              "      <td>n03028079</td>\n",
              "    </tr>\n",
              "    <tr>\n",
              "      <th>4</th>\n",
              "      <td>n03417042</td>\n",
              "    </tr>\n",
              "  </tbody>\n",
              "</table>\n",
              "</div>\n",
              "      <button class=\"colab-df-convert\" onclick=\"convertToInteractive('df-de592648-50b2-42e2-ab2c-3fae4ca50a0a')\"\n",
              "              title=\"Convert this dataframe to an interactive table.\"\n",
              "              style=\"display:none;\">\n",
              "        \n",
              "  <svg xmlns=\"http://www.w3.org/2000/svg\" height=\"24px\"viewBox=\"0 0 24 24\"\n",
              "       width=\"24px\">\n",
              "    <path d=\"M0 0h24v24H0V0z\" fill=\"none\"/>\n",
              "    <path d=\"M18.56 5.44l.94 2.06.94-2.06 2.06-.94-2.06-.94-.94-2.06-.94 2.06-2.06.94zm-11 1L8.5 8.5l.94-2.06 2.06-.94-2.06-.94L8.5 2.5l-.94 2.06-2.06.94zm10 10l.94 2.06.94-2.06 2.06-.94-2.06-.94-.94-2.06-.94 2.06-2.06.94z\"/><path d=\"M17.41 7.96l-1.37-1.37c-.4-.4-.92-.59-1.43-.59-.52 0-1.04.2-1.43.59L10.3 9.45l-7.72 7.72c-.78.78-.78 2.05 0 2.83L4 21.41c.39.39.9.59 1.41.59.51 0 1.02-.2 1.41-.59l7.78-7.78 2.81-2.81c.8-.78.8-2.07 0-2.86zM5.41 20L4 18.59l7.72-7.72 1.47 1.35L5.41 20z\"/>\n",
              "  </svg>\n",
              "      </button>\n",
              "      \n",
              "  <style>\n",
              "    .colab-df-container {\n",
              "      display:flex;\n",
              "      flex-wrap:wrap;\n",
              "      gap: 12px;\n",
              "    }\n",
              "\n",
              "    .colab-df-convert {\n",
              "      background-color: #E8F0FE;\n",
              "      border: none;\n",
              "      border-radius: 50%;\n",
              "      cursor: pointer;\n",
              "      display: none;\n",
              "      fill: #1967D2;\n",
              "      height: 32px;\n",
              "      padding: 0 0 0 0;\n",
              "      width: 32px;\n",
              "    }\n",
              "\n",
              "    .colab-df-convert:hover {\n",
              "      background-color: #E2EBFA;\n",
              "      box-shadow: 0px 1px 2px rgba(60, 64, 67, 0.3), 0px 1px 3px 1px rgba(60, 64, 67, 0.15);\n",
              "      fill: #174EA6;\n",
              "    }\n",
              "\n",
              "    [theme=dark] .colab-df-convert {\n",
              "      background-color: #3B4455;\n",
              "      fill: #D2E3FC;\n",
              "    }\n",
              "\n",
              "    [theme=dark] .colab-df-convert:hover {\n",
              "      background-color: #434B5C;\n",
              "      box-shadow: 0px 1px 3px 1px rgba(0, 0, 0, 0.15);\n",
              "      filter: drop-shadow(0px 1px 2px rgba(0, 0, 0, 0.3));\n",
              "      fill: #FFFFFF;\n",
              "    }\n",
              "  </style>\n",
              "\n",
              "      <script>\n",
              "        const buttonEl =\n",
              "          document.querySelector('#df-de592648-50b2-42e2-ab2c-3fae4ca50a0a button.colab-df-convert');\n",
              "        buttonEl.style.display =\n",
              "          google.colab.kernel.accessAllowed ? 'block' : 'none';\n",
              "\n",
              "        async function convertToInteractive(key) {\n",
              "          const element = document.querySelector('#df-de592648-50b2-42e2-ab2c-3fae4ca50a0a');\n",
              "          const dataTable =\n",
              "            await google.colab.kernel.invokeFunction('convertToInteractive',\n",
              "                                                     [key], {});\n",
              "          if (!dataTable) return;\n",
              "\n",
              "          const docLinkHtml = 'Like what you see? Visit the ' +\n",
              "            '<a target=\"_blank\" href=https://colab.research.google.com/notebooks/data_table.ipynb>data table notebook</a>'\n",
              "            + ' to learn more about interactive tables.';\n",
              "          element.innerHTML = '';\n",
              "          dataTable['output_type'] = 'display_data';\n",
              "          await google.colab.output.renderOutput(dataTable, element);\n",
              "          const docLink = document.createElement('div');\n",
              "          docLink.innerHTML = docLinkHtml;\n",
              "          element.appendChild(docLink);\n",
              "        }\n",
              "      </script>\n",
              "    </div>\n",
              "  </div>\n",
              "  "
            ]
          },
          "metadata": {},
          "execution_count": 14
        }
      ]
    },
    {
      "cell_type": "code",
      "source": [
        "sns.countplot(data=df_train, x='label')\n",
        "plt.show()"
      ],
      "metadata": {
        "colab": {
          "base_uri": "https://localhost:8080/",
          "height": 281
        },
        "id": "dqdcinbjO4hQ",
        "outputId": "947a540e-223a-49d3-89c2-3ba60cc17f6d"
      },
      "execution_count": 15,
      "outputs": [
        {
          "output_type": "display_data",
          "data": {
            "text/plain": [
              "<Figure size 432x288 with 1 Axes>"
            ],
            "image/png": "[encoded data removed]"
          },
          "metadata": {
            "needs_background": "light"
          }
        }
      ]
    },
    {
      "cell_type": "code",
      "source": [
        "df_test = pd.DataFrame(y_test, columns=['label'])\n",
        "df_test.head()"
      ],
      "metadata": {
        "colab": {
          "base_uri": "https://localhost:8080/",
          "height": 206
        },
        "id": "zUJ5K75XPCxp",
        "outputId": "6142b592-412d-4002-d0b5-a30dfd1190f1"
      },
      "execution_count": 16,
      "outputs": [
        {
          "output_type": "execute_result",
          "data": {
            "text/plain": [
              "       label\n",
              "0  n03028079\n",
              "1  n03417042\n",
              "2  n03028079\n",
              "3  n03028079\n",
              "4  n03028079"
            ],
            "text/html": [
              "\n",
              "  <div id=\"df-20e3aaea-24ce-4755-9d7d-5b8431b2f3cc\">\n",
              "    <div class=\"colab-df-container\">\n",
              "      <div>\n",
              "<style scoped>\n",
              "    .dataframe tbody tr th:only-of-type {\n",
              "        vertical-align: middle;\n",
              "    }\n",
              "\n",
              "    .dataframe tbody tr th {\n",
              "        vertical-align: top;\n",
              "    }\n",
              "\n",
              "    .dataframe thead th {\n",
              "        text-align: right;\n",
              "    }\n",
              "</style>\n",
              "<table border=\"1\" class=\"dataframe\">\n",
              "  <thead>\n",
              "    <tr style=\"text-align: right;\">\n",
              "      <th></th>\n",
              "      <th>label</th>\n",
              "    </tr>\n",
              "  </thead>\n",
              "  <tbody>\n",
              "    <tr>\n",
              "      <th>0</th>\n",
              "      <td>n03028079</td>\n",
              "    </tr>\n",
              "    <tr>\n",
              "      <th>1</th>\n",
              "      <td>n03417042</td>\n",
              "    </tr>\n",
              "    <tr>\n",
              "      <th>2</th>\n",
              "      <td>n03028079</td>\n",
              "    </tr>\n",
              "    <tr>\n",
              "      <th>3</th>\n",
              "      <td>n03028079</td>\n",
              "    </tr>\n",
              "    <tr>\n",
              "      <th>4</th>\n",
              "      <td>n03028079</td>\n",
              "    </tr>\n",
              "  </tbody>\n",
              "</table>\n",
              "</div>\n",
              "      <button class=\"colab-df-convert\" onclick=\"convertToInteractive('df-20e3aaea-24ce-4755-9d7d-5b8431b2f3cc')\"\n",
              "              title=\"Convert this dataframe to an interactive table.\"\n",
              "              style=\"display:none;\">\n",
              "        \n",
              "  <svg xmlns=\"http://www.w3.org/2000/svg\" height=\"24px\"viewBox=\"0 0 24 24\"\n",
              "       width=\"24px\">\n",
              "    <path d=\"M0 0h24v24H0V0z\" fill=\"none\"/>\n",
              "    <path d=\"M18.56 5.44l.94 2.06.94-2.06 2.06-.94-2.06-.94-.94-2.06-.94 2.06-2.06.94zm-11 1L8.5 8.5l.94-2.06 2.06-.94-2.06-.94L8.5 2.5l-.94 2.06-2.06.94zm10 10l.94 2.06.94-2.06 2.06-.94-2.06-.94-.94-2.06-.94 2.06-2.06.94z\"/><path d=\"M17.41 7.96l-1.37-1.37c-.4-.4-.92-.59-1.43-.59-.52 0-1.04.2-1.43.59L10.3 9.45l-7.72 7.72c-.78.78-.78 2.05 0 2.83L4 21.41c.39.39.9.59 1.41.59.51 0 1.02-.2 1.41-.59l7.78-7.78 2.81-2.81c.8-.78.8-2.07 0-2.86zM5.41 20L4 18.59l7.72-7.72 1.47 1.35L5.41 20z\"/>\n",
              "  </svg>\n",
              "      </button>\n",
              "      \n",
              "  <style>\n",
              "    .colab-df-container {\n",
              "      display:flex;\n",
              "      flex-wrap:wrap;\n",
              "      gap: 12px;\n",
              "    }\n",
              "\n",
              "    .colab-df-convert {\n",
              "      background-color: #E8F0FE;\n",
              "      border: none;\n",
              "      border-radius: 50%;\n",
              "      cursor: pointer;\n",
              "      display: none;\n",
              "      fill: #1967D2;\n",
              "      height: 32px;\n",
              "      padding: 0 0 0 0;\n",
              "      width: 32px;\n",
              "    }\n",
              "\n",
              "    .colab-df-convert:hover {\n",
              "      background-color: #E2EBFA;\n",
              "      box-shadow: 0px 1px 2px rgba(60, 64, 67, 0.3), 0px 1px 3px 1px rgba(60, 64, 67, 0.15);\n",
              "      fill: #174EA6;\n",
              "    }\n",
              "\n",
              "    [theme=dark] .colab-df-convert {\n",
              "      background-color: #3B4455;\n",
              "      fill: #D2E3FC;\n",
              "    }\n",
              "\n",
              "    [theme=dark] .colab-df-convert:hover {\n",
              "      background-color: #434B5C;\n",
              "      box-shadow: 0px 1px 3px 1px rgba(0, 0, 0, 0.15);\n",
              "      filter: drop-shadow(0px 1px 2px rgba(0, 0, 0, 0.3));\n",
              "      fill: #FFFFFF;\n",
              "    }\n",
              "  </style>\n",
              "\n",
              "      <script>\n",
              "        const buttonEl =\n",
              "          document.querySelector('#df-20e3aaea-24ce-4755-9d7d-5b8431b2f3cc button.colab-df-convert');\n",
              "        buttonEl.style.display =\n",
              "          google.colab.kernel.accessAllowed ? 'block' : 'none';\n",
              "\n",
              "        async function convertToInteractive(key) {\n",
              "          const element = document.querySelector('#df-20e3aaea-24ce-4755-9d7d-5b8431b2f3cc');\n",
              "          const dataTable =\n",
              "            await google.colab.kernel.invokeFunction('convertToInteractive',\n",
              "                                                     [key], {});\n",
              "          if (!dataTable) return;\n",
              "\n",
              "          const docLinkHtml = 'Like what you see? Visit the ' +\n",
              "            '<a target=\"_blank\" href=https://colab.research.google.com/notebooks/data_table.ipynb>data table notebook</a>'\n",
              "            + ' to learn more about interactive tables.';\n",
              "          element.innerHTML = '';\n",
              "          dataTable['output_type'] = 'display_data';\n",
              "          await google.colab.output.renderOutput(dataTable, element);\n",
              "          const docLink = document.createElement('div');\n",
              "          docLink.innerHTML = docLinkHtml;\n",
              "          element.appendChild(docLink);\n",
              "        }\n",
              "      </script>\n",
              "    </div>\n",
              "  </div>\n",
              "  "
            ]
          },
          "metadata": {},
          "execution_count": 16
        }
      ]
    },
    {
      "cell_type": "code",
      "source": [
        "sns.countplot(data=df_test, x='label')\n",
        "plt.show()"
      ],
      "metadata": {
        "colab": {
          "base_uri": "https://localhost:8080/",
          "height": 283
        },
        "id": "dgLwhFaQPMtW",
        "outputId": "d49ddd56-1cb1-4a44-f0f2-40c58b7c1d90"
      },
      "execution_count": 17,
      "outputs": [
        {
          "output_type": "display_data",
          "data": {
            "text/plain": [
              "<Figure size 432x288 with 1 Axes>"
            ],
            "image/png": "[encoded data removed]"
          },
          "metadata": {
            "needs_background": "light"
          }
        }
      ]
    },
    {
      "cell_type": "code",
      "source": [
        "df_val = pd.DataFrame(y_val, columns=['label'])\n",
        "df_val.head()"
      ],
      "metadata": {
        "colab": {
          "base_uri": "https://localhost:8080/",
          "height": 206
        },
        "id": "Ffya_-TJKuHa",
        "outputId": "27517c10-b0b0-4590-8731-27b85b2674bf"
      },
      "execution_count": 18,
      "outputs": [
        {
          "output_type": "execute_result",
          "data": {
            "text/plain": [
              "       label\n",
              "0  n03028079\n",
              "1  n02979186\n",
              "2  n03445777\n",
              "3  n03445777\n",
              "4  n02979186"
            ],
            "text/html": [
              "\n",
              "  <div id=\"df-b54e5dd1-159a-4b0b-9623-ed05e8345cf0\">\n",
              "    <div class=\"colab-df-container\">\n",
              "      <div>\n",
              "<style scoped>\n",
              "    .dataframe tbody tr th:only-of-type {\n",
              "        vertical-align: middle;\n",
              "    }\n",
              "\n",
              "    .dataframe tbody tr th {\n",
              "        vertical-align: top;\n",
              "    }\n",
              "\n",
              "    .dataframe thead th {\n",
              "        text-align: right;\n",
              "    }\n",
              "</style>\n",
              "<table border=\"1\" class=\"dataframe\">\n",
              "  <thead>\n",
              "    <tr style=\"text-align: right;\">\n",
              "      <th></th>\n",
              "      <th>label</th>\n",
              "    </tr>\n",
              "  </thead>\n",
              "  <tbody>\n",
              "    <tr>\n",
              "      <th>0</th>\n",
              "      <td>n03028079</td>\n",
              "    </tr>\n",
              "    <tr>\n",
              "      <th>1</th>\n",
              "      <td>n02979186</td>\n",
              "    </tr>\n",
              "    <tr>\n",
              "      <th>2</th>\n",
              "      <td>n03445777</td>\n",
              "    </tr>\n",
              "    <tr>\n",
              "      <th>3</th>\n",
              "      <td>n03445777</td>\n",
              "    </tr>\n",
              "    <tr>\n",
              "      <th>4</th>\n",
              "      <td>n02979186</td>\n",
              "    </tr>\n",
              "  </tbody>\n",
              "</table>\n",
              "</div>\n",
              "      <button class=\"colab-df-convert\" onclick=\"convertToInteractive('df-b54e5dd1-159a-4b0b-9623-ed05e8345cf0')\"\n",
              "              title=\"Convert this dataframe to an interactive table.\"\n",
              "              style=\"display:none;\">\n",
              "        \n",
              "  <svg xmlns=\"http://www.w3.org/2000/svg\" height=\"24px\"viewBox=\"0 0 24 24\"\n",
              "       width=\"24px\">\n",
              "    <path d=\"M0 0h24v24H0V0z\" fill=\"none\"/>\n",
              "    <path d=\"M18.56 5.44l.94 2.06.94-2.06 2.06-.94-2.06-.94-.94-2.06-.94 2.06-2.06.94zm-11 1L8.5 8.5l.94-2.06 2.06-.94-2.06-.94L8.5 2.5l-.94 2.06-2.06.94zm10 10l.94 2.06.94-2.06 2.06-.94-2.06-.94-.94-2.06-.94 2.06-2.06.94z\"/><path d=\"M17.41 7.96l-1.37-1.37c-.4-.4-.92-.59-1.43-.59-.52 0-1.04.2-1.43.59L10.3 9.45l-7.72 7.72c-.78.78-.78 2.05 0 2.83L4 21.41c.39.39.9.59 1.41.59.51 0 1.02-.2 1.41-.59l7.78-7.78 2.81-2.81c.8-.78.8-2.07 0-2.86zM5.41 20L4 18.59l7.72-7.72 1.47 1.35L5.41 20z\"/>\n",
              "  </svg>\n",
              "      </button>\n",
              "      \n",
              "  <style>\n",
              "    .colab-df-container {\n",
              "      display:flex;\n",
              "      flex-wrap:wrap;\n",
              "      gap: 12px;\n",
              "    }\n",
              "\n",
              "    .colab-df-convert {\n",
              "      background-color: #E8F0FE;\n",
              "      border: none;\n",
              "      border-radius: 50%;\n",
              "      cursor: pointer;\n",
              "      display: none;\n",
              "      fill: #1967D2;\n",
              "      height: 32px;\n",
              "      padding: 0 0 0 0;\n",
              "      width: 32px;\n",
              "    }\n",
              "\n",
              "    .colab-df-convert:hover {\n",
              "      background-color: #E2EBFA;\n",
              "      box-shadow: 0px 1px 2px rgba(60, 64, 67, 0.3), 0px 1px 3px 1px rgba(60, 64, 67, 0.15);\n",
              "      fill: #174EA6;\n",
              "    }\n",
              "\n",
              "    [theme=dark] .colab-df-convert {\n",
              "      background-color: #3B4455;\n",
              "      fill: #D2E3FC;\n",
              "    }\n",
              "\n",
              "    [theme=dark] .colab-df-convert:hover {\n",
              "      background-color: #434B5C;\n",
              "      box-shadow: 0px 1px 3px 1px rgba(0, 0, 0, 0.15);\n",
              "      filter: drop-shadow(0px 1px 2px rgba(0, 0, 0, 0.3));\n",
              "      fill: #FFFFFF;\n",
              "    }\n",
              "  </style>\n",
              "\n",
              "      <script>\n",
              "        const buttonEl =\n",
              "          document.querySelector('#df-b54e5dd1-159a-4b0b-9623-ed05e8345cf0 button.colab-df-convert');\n",
              "        buttonEl.style.display =\n",
              "          google.colab.kernel.accessAllowed ? 'block' : 'none';\n",
              "\n",
              "        async function convertToInteractive(key) {\n",
              "          const element = document.querySelector('#df-b54e5dd1-159a-4b0b-9623-ed05e8345cf0');\n",
              "          const dataTable =\n",
              "            await google.colab.kernel.invokeFunction('convertToInteractive',\n",
              "                                                     [key], {});\n",
              "          if (!dataTable) return;\n",
              "\n",
              "          const docLinkHtml = 'Like what you see? Visit the ' +\n",
              "            '<a target=\"_blank\" href=https://colab.research.google.com/notebooks/data_table.ipynb>data table notebook</a>'\n",
              "            + ' to learn more about interactive tables.';\n",
              "          element.innerHTML = '';\n",
              "          dataTable['output_type'] = 'display_data';\n",
              "          await google.colab.output.renderOutput(dataTable, element);\n",
              "          const docLink = document.createElement('div');\n",
              "          docLink.innerHTML = docLinkHtml;\n",
              "          element.appendChild(docLink);\n",
              "        }\n",
              "      </script>\n",
              "    </div>\n",
              "  </div>\n",
              "  "
            ]
          },
          "metadata": {},
          "execution_count": 18
        }
      ]
    },
    {
      "cell_type": "code",
      "source": [
        "sns.countplot(data=df_val, x='label')\n",
        "plt.show()"
      ],
      "metadata": {
        "colab": {
          "base_uri": "https://localhost:8080/",
          "height": 279
        },
        "id": "zKybFqldKuFN",
        "outputId": "ed1da4b0-eb08-487a-8bc2-99d160f94389"
      },
      "execution_count": 19,
      "outputs": [
        {
          "output_type": "display_data",
          "data": {
            "text/plain": [
              "<Figure size 432x288 with 1 Axes>"
            ],
            "image/png": "[encoded data removed]"
          },
          "metadata": {
            "needs_background": "light"
          }
        }
      ]
    },
    {
      "cell_type": "markdown",
      "source": [
        "## Encoding"
      ],
      "metadata": {
        "id": "k3-odDC4P4iw"
      }
    },
    {
      "cell_type": "code",
      "source": [
        "def one_hot_encode(y, num_classes):\n",
        "  le = LabelEncoder()\n",
        "  return to_categorical(le.fit_transform(y), num_classes)"
      ],
      "metadata": {
        "id": "j05-94gsVG7P"
      },
      "execution_count": 20,
      "outputs": []
    },
    {
      "cell_type": "code",
      "source": [
        "y_train[0]"
      ],
      "metadata": {
        "colab": {
          "base_uri": "https://localhost:8080/",
          "height": 35
        },
        "id": "TIIs6vhcPSlC",
        "outputId": "54bcc7c4-6a40-4978-c277-1b7718620be5"
      },
      "execution_count": 21,
      "outputs": [
        {
          "output_type": "execute_result",
          "data": {
            "text/plain": [
              "'n03028079'"
            ],
            "application/vnd.google.colaboratory.intrinsic+json": {
              "type": "string"
            }
          },
          "metadata": {},
          "execution_count": 21
        }
      ]
    },
    {
      "cell_type": "code",
      "source": [
        "y_train = one_hot_encode(y_train, NUM_CLASSES)"
      ],
      "metadata": {
        "id": "BPYfBPPNPXhm"
      },
      "execution_count": 22,
      "outputs": []
    },
    {
      "cell_type": "code",
      "source": [
        "y_train[0]"
      ],
      "metadata": {
        "colab": {
          "base_uri": "https://localhost:8080/"
        },
        "id": "t7fvDvpkPm04",
        "outputId": "8993f7b7-dfc0-407f-de09-24c45a3b800f"
      },
      "execution_count": 23,
      "outputs": [
        {
          "output_type": "execute_result",
          "data": {
            "text/plain": [
              "array([0., 1., 0., 0.], dtype=float32)"
            ]
          },
          "metadata": {},
          "execution_count": 23
        }
      ]
    },
    {
      "cell_type": "code",
      "source": [
        "y_test[0]"
      ],
      "metadata": {
        "colab": {
          "base_uri": "https://localhost:8080/",
          "height": 35
        },
        "id": "dT7y2i_1PtcM",
        "outputId": "cb181c73-0742-47b7-ca7f-6a7d79605c07"
      },
      "execution_count": 24,
      "outputs": [
        {
          "output_type": "execute_result",
          "data": {
            "text/plain": [
              "'n03028079'"
            ],
            "application/vnd.google.colaboratory.intrinsic+json": {
              "type": "string"
            }
          },
          "metadata": {},
          "execution_count": 24
        }
      ]
    },
    {
      "cell_type": "code",
      "source": [
        "y_test = one_hot_encode(y_test, NUM_CLASSES)"
      ],
      "metadata": {
        "id": "q302nQhQPtWL"
      },
      "execution_count": 25,
      "outputs": []
    },
    {
      "cell_type": "code",
      "source": [
        "y_test[0]"
      ],
      "metadata": {
        "colab": {
          "base_uri": "https://localhost:8080/"
        },
        "id": "xFJEn4BOPtPy",
        "outputId": "43c0aea7-b87c-4f24-94ed-e83c34067598"
      },
      "execution_count": 26,
      "outputs": [
        {
          "output_type": "execute_result",
          "data": {
            "text/plain": [
              "array([0., 1., 0., 0.], dtype=float32)"
            ]
          },
          "metadata": {},
          "execution_count": 26
        }
      ]
    },
    {
      "cell_type": "code",
      "source": [
        "np.array(y_train).shape"
      ],
      "metadata": {
        "colab": {
          "base_uri": "https://localhost:8080/"
        },
        "id": "8BglGxUPeelq",
        "outputId": "dfdfbbaf-ddb2-4bf9-f3f4-f1fb66e5e854"
      },
      "execution_count": 27,
      "outputs": [
        {
          "output_type": "execute_result",
          "data": {
            "text/plain": [
              "(3780, 4)"
            ]
          },
          "metadata": {},
          "execution_count": 27
        }
      ]
    },
    {
      "cell_type": "code",
      "source": [
        "y_val[0]"
      ],
      "metadata": {
        "colab": {
          "base_uri": "https://localhost:8080/",
          "height": 35
        },
        "id": "mDS2VaEgJEQk",
        "outputId": "62fd816e-8dbd-4d77-c025-d3cc9d599d79"
      },
      "execution_count": 28,
      "outputs": [
        {
          "output_type": "execute_result",
          "data": {
            "text/plain": [
              "'n03028079'"
            ],
            "application/vnd.google.colaboratory.intrinsic+json": {
              "type": "string"
            }
          },
          "metadata": {},
          "execution_count": 28
        }
      ]
    },
    {
      "cell_type": "code",
      "source": [
        "y_val = one_hot_encode(y_val, NUM_CLASSES)"
      ],
      "metadata": {
        "id": "niF9uj0WJHR1"
      },
      "execution_count": 29,
      "outputs": []
    },
    {
      "cell_type": "code",
      "source": [
        "y_val"
      ],
      "metadata": {
        "colab": {
          "base_uri": "https://localhost:8080/"
        },
        "id": "QoFFPvuzJHNH",
        "outputId": "58365418-8bba-4015-8cb8-da013be7d915"
      },
      "execution_count": 30,
      "outputs": [
        {
          "output_type": "execute_result",
          "data": {
            "text/plain": [
              "array([[0., 1., 0., 0.],\n",
              "       [1., 0., 0., 0.],\n",
              "       [0., 0., 0., 1.],\n",
              "       ...,\n",
              "       [1., 0., 0., 0.],\n",
              "       [0., 1., 0., 0.],\n",
              "       [1., 0., 0., 0.]], dtype=float32)"
            ]
          },
          "metadata": {},
          "execution_count": 30
        }
      ]
    },
    {
      "cell_type": "markdown",
      "source": [
        "## Create train, validation and test sets"
      ],
      "metadata": {
        "id": "L9lbpcv7QZYC"
      }
    },
    {
      "cell_type": "code",
      "source": [
        "train_datagen = ImageDataGenerator(        \n",
        "        rescale=1./255,\n",
        "        fill_mode=\"nearest\",\n",
        ")\n",
        "\n",
        "val_datagen = ImageDataGenerator(rescale=1./255)\n",
        "test_datagen = ImageDataGenerator(rescale=1./255)"
      ],
      "metadata": {
        "id": "QAmBWWzTQLfu"
      },
      "execution_count": 31,
      "outputs": []
    },
    {
      "cell_type": "code",
      "source": [
        "train_ds = train_datagen.flow(\n",
        "  np.array(X_train), y_train,\n",
        "  shuffle=True,\n",
        "  batch_size=128\n",
        ")\n",
        "\n",
        "val_ds = train_datagen.flow(\n",
        "  np.array(X_val), y_val,\n",
        "  shuffle=True,\n",
        "  batch_size=128\n",
        ")\n",
        "\n",
        "test_ds = test_datagen.flow(\n",
        "  np.array(X_test), y_test,\n",
        "  shuffle=False,\n",
        "  batch_size=128\n",
        ")"
      ],
      "metadata": {
        "id": "DEGRrcKyQLR2"
      },
      "execution_count": 32,
      "outputs": []
    },
    {
      "cell_type": "code",
      "source": [
        "print('Shape of training samples: ', train_ds.x.shape)\n",
        "print('Shape of validation samples: ', val_ds.x.shape)\n",
        "print('Shape of test samples: ', test_ds.x.shape)"
      ],
      "metadata": {
        "colab": {
          "base_uri": "https://localhost:8080/"
        },
        "id": "TWpxTK2fUMbM",
        "outputId": "79a1e8a6-2800-45a9-c242-0cd12fdd310d"
      },
      "execution_count": 33,
      "outputs": [
        {
          "output_type": "stream",
          "name": "stdout",
          "text": [
            "Shape of training samples:  (3780, 64, 64, 3)\n",
            "Shape of validation samples:  (535, 64, 64, 3)\n",
            "Shape of test samples:  (1085, 64, 64, 3)\n"
          ]
        }
      ]
    },
    {
      "cell_type": "markdown",
      "source": [
        "## Build model"
      ],
      "metadata": {
        "id": "mXM62rqgWnmR"
      }
    },
    {
      "cell_type": "code",
      "source": [
        "def build_model(batchNorm=False, dropOut=False, l2Reg=False):\n",
        "  model = Sequential()\n",
        "\n",
        "  if l2Reg:\n",
        "    model.add(Conv2D(32, kernel_size=3, activation='relu', kernel_regularizer='l2', input_shape=(64,64,3)))\n",
        "    model.add(Conv2D(32, kernel_size=3, activation='relu', kernel_regularizer='l2'))\n",
        "  else:\n",
        "    model.add(Conv2D(32, kernel_size=3, activation='relu', input_shape=(64,64,3)))\n",
        "    model.add(Conv2D(32, kernel_size=3, activation='relu'))\n",
        "  \n",
        "  model.add(MaxPooling2D(pool_size=(2,2)))\n",
        "\n",
        "  if batchNorm:\n",
        "    model.add(BatchNormalization())\n",
        "\n",
        "  if l2Reg:\n",
        "    model.add(Conv2D(64, kernel_size=3, activation='relu', kernel_regularizer='l2'))\n",
        "    model.add(Conv2D(64, kernel_size=3, activation='relu', kernel_regularizer='l2'))\n",
        "  else:\n",
        "    model.add(Conv2D(64, kernel_size=3, activation='relu'))\n",
        "    model.add(Conv2D(64, kernel_size=3, activation='relu'))\n",
        "  \n",
        "  model.add(MaxPooling2D(pool_size=(2,2)))\n",
        "\n",
        "  if batchNorm:\n",
        "    model.add(BatchNormalization())\n",
        "\n",
        "  model.add(Flatten())\n",
        "\n",
        "  if l2Reg:\n",
        "    model.add(Dense(512, kernel_regularizer='l2'))\n",
        "  else:\n",
        "    model.add(Dense(512))\n",
        "  \n",
        "  if dropOut:\n",
        "    model.add(Dropout(0.25))\n",
        "\n",
        "  if l2Reg:\n",
        "    model.add(Dense(NUM_CLASSES, activation='softmax', kernel_regularizer='l2'))\n",
        "  else:\n",
        "    model.add(Dense(NUM_CLASSES, activation='softmax'))\n",
        "\n",
        "  model.compile(\n",
        "      optimizer=Adam(),\n",
        "      loss='categorical_crossentropy',\n",
        "      metrics=[\n",
        "          CategoricalAccuracy(),\n",
        "          Precision(), \n",
        "          Recall(),\n",
        "          AUC()\n",
        "        ]\n",
        "  )\n",
        "\n",
        "  return model"
      ],
      "metadata": {
        "id": "zZSDjLoRQA6o"
      },
      "execution_count": 34,
      "outputs": []
    },
    {
      "cell_type": "code",
      "source": [
        "model = build_model()\n",
        "model.summary()"
      ],
      "metadata": {
        "colab": {
          "base_uri": "https://localhost:8080/"
        },
        "id": "rQDGOVCVsKF8",
        "outputId": "c9dc1259-b7d8-49ac-f9e3-2260c60e174e"
      },
      "execution_count": 35,
      "outputs": [
        {
          "output_type": "stream",
          "name": "stdout",
          "text": [
            "Model: \"sequential\"\n",
            "_________________________________________________________________\n",
            " Layer (type)                Output Shape              Param #   \n",
            "=================================================================\n",
            " conv2d (Conv2D)             (None, 62, 62, 32)        896       \n",
            "                                                                 \n",
            " conv2d_1 (Conv2D)           (None, 60, 60, 32)        9248      \n",
            "                                                                 \n",
            " max_pooling2d (MaxPooling2D  (None, 30, 30, 32)       0         \n",
            " )                                                               \n",
            "                                                                 \n",
            " conv2d_2 (Conv2D)           (None, 28, 28, 64)        18496     \n",
            "                                                                 \n",
            " conv2d_3 (Conv2D)           (None, 26, 26, 64)        36928     \n",
            "                                                                 \n",
            " max_pooling2d_1 (MaxPooling  (None, 13, 13, 64)       0         \n",
            " 2D)                                                             \n",
            "                                                                 \n",
            " flatten (Flatten)           (None, 10816)             0         \n",
            "                                                                 \n",
            " dense (Dense)               (None, 512)               5538304   \n",
            "                                                                 \n",
            " dense_1 (Dense)             (None, 4)                 2052      \n",
            "                                                                 \n",
            "=================================================================\n",
            "Total params: 5,605,924\n",
            "Trainable params: 5,605,924\n",
            "Non-trainable params: 0\n",
            "_________________________________________________________________\n"
          ]
        }
      ]
    },
    {
      "cell_type": "markdown",
      "source": [
        "## Train model"
      ],
      "metadata": {
        "id": "Rm888aZjWquk"
      }
    },
    {
      "cell_type": "markdown",
      "source": [
        "### Initialise callbacks"
      ],
      "metadata": {
        "id": "pBeBZRTUPMsV"
      }
    },
    {
      "cell_type": "code",
      "source": [
        "early_stopping = EarlyStopping(monitor='val_loss', verbose=1, patience=20)\n",
        "checkpoint = ModelCheckpoint('/content/drive/MyDrive/EE544 Computer Vision/task-1-best-weights.hdf5', verbose=1, save_best_only=True, monitor='val_categorical_accuracy')"
      ],
      "metadata": {
        "id": "KF2Jfe0ZOn52"
      },
      "execution_count": 36,
      "outputs": []
    },
    {
      "cell_type": "markdown",
      "source": [
        "### Fit the model"
      ],
      "metadata": {
        "id": "fxsKgdiyeDSp"
      }
    },
    {
      "cell_type": "code",
      "source": [
        "history = model.fit(\n",
        "    train_ds,\n",
        "    epochs=30,\n",
        "    verbose=1,\n",
        "    validation_data=val_ds,\n",
        "    callbacks=[checkpoint]\n",
        ")"
      ],
      "metadata": {
        "colab": {
          "base_uri": "https://localhost:8080/"
        },
        "id": "1_jktE3JsRBS",
        "outputId": "ca48f00d-848f-49bb-871f-e0666805a395"
      },
      "execution_count": 37,
      "outputs": [
        {
          "output_type": "stream",
          "name": "stdout",
          "text": [
            "Epoch 1/30\n",
            "30/30 [==============================] - ETA: 0s - loss: 1.3229 - categorical_accuracy: 0.4098 - precision: 0.5292 - recall: 0.1008 - auc: 0.6684\n",
            "Epoch 1: val_categorical_accuracy improved from -inf to 0.54766, saving model to /content/drive/MyDrive/EE544 Computer Vision/task-1-best-weights.hdf5\n",
            "30/30 [==============================] - 94s 3s/step - loss: 1.3229 - categorical_accuracy: 0.4098 - precision: 0.5292 - recall: 0.1008 - auc: 0.6684 - val_loss: 1.0422 - val_categorical_accuracy: 0.5477 - val_precision: 0.6677 - val_recall: 0.4168 - val_auc: 0.8095\n",
            "Epoch 2/30\n",
            "30/30 [==============================] - ETA: 0s - loss: 0.9141 - categorical_accuracy: 0.6368 - precision: 0.7286 - recall: 0.5127 - auc: 0.8564\n",
            "Epoch 2: val_categorical_accuracy improved from 0.54766 to 0.72710, saving model to /content/drive/MyDrive/EE544 Computer Vision/task-1-best-weights.hdf5\n",
            "30/30 [==============================] - 85s 3s/step - loss: 0.9141 - categorical_accuracy: 0.6368 - precision: 0.7286 - recall: 0.5127 - auc: 0.8564 - val_loss: 0.7546 - val_categorical_accuracy: 0.7271 - val_precision: 0.7966 - val_recall: 0.6075 - val_auc: 0.9054\n",
            "Epoch 3/30\n",
            "30/30 [==============================] - ETA: 0s - loss: 0.7460 - categorical_accuracy: 0.7151 - precision: 0.7844 - recall: 0.6217 - auc: 0.9062\n",
            "Epoch 3: val_categorical_accuracy did not improve from 0.72710\n",
            "30/30 [==============================] - 83s 3s/step - loss: 0.7460 - categorical_accuracy: 0.7151 - precision: 0.7844 - recall: 0.6217 - auc: 0.9062 - val_loss: 0.6881 - val_categorical_accuracy: 0.7271 - val_precision: 0.7953 - val_recall: 0.6393 - val_auc: 0.9215\n",
            "Epoch 4/30\n",
            "30/30 [==============================] - ETA: 0s - loss: 0.6268 - categorical_accuracy: 0.7688 - precision: 0.8172 - recall: 0.7082 - auc: 0.9343\n",
            "Epoch 4: val_categorical_accuracy improved from 0.72710 to 0.76262, saving model to /content/drive/MyDrive/EE544 Computer Vision/task-1-best-weights.hdf5\n",
            "30/30 [==============================] - 89s 3s/step - loss: 0.6268 - categorical_accuracy: 0.7688 - precision: 0.8172 - recall: 0.7082 - auc: 0.9343 - val_loss: 0.6601 - val_categorical_accuracy: 0.7626 - val_precision: 0.8008 - val_recall: 0.7065 - val_auc: 0.9255\n",
            "Epoch 5/30\n",
            "30/30 [==============================] - ETA: 0s - loss: 0.5463 - categorical_accuracy: 0.8074 - precision: 0.8448 - recall: 0.7545 - auc: 0.9494\n",
            "Epoch 5: val_categorical_accuracy improved from 0.76262 to 0.77944, saving model to /content/drive/MyDrive/EE544 Computer Vision/task-1-best-weights.hdf5\n",
            "30/30 [==============================] - 86s 3s/step - loss: 0.5463 - categorical_accuracy: 0.8074 - precision: 0.8448 - recall: 0.7545 - auc: 0.9494 - val_loss: 0.5904 - val_categorical_accuracy: 0.7794 - val_precision: 0.8180 - val_recall: 0.7308 - val_auc: 0.9404\n",
            "Epoch 6/30\n",
            "30/30 [==============================] - ETA: 0s - loss: 0.4735 - categorical_accuracy: 0.8249 - precision: 0.8590 - recall: 0.7831 - auc: 0.9616\n",
            "Epoch 6: val_categorical_accuracy improved from 0.77944 to 0.80748, saving model to /content/drive/MyDrive/EE544 Computer Vision/task-1-best-weights.hdf5\n",
            "30/30 [==============================] - 89s 3s/step - loss: 0.4735 - categorical_accuracy: 0.8249 - precision: 0.8590 - recall: 0.7831 - auc: 0.9616 - val_loss: 0.5369 - val_categorical_accuracy: 0.8075 - val_precision: 0.8350 - val_recall: 0.7757 - val_auc: 0.9509\n",
            "Epoch 7/30\n",
            "30/30 [==============================] - ETA: 0s - loss: 0.4315 - categorical_accuracy: 0.8431 - precision: 0.8727 - recall: 0.8090 - auc: 0.9679\n",
            "Epoch 7: val_categorical_accuracy did not improve from 0.80748\n",
            "30/30 [==============================] - 85s 3s/step - loss: 0.4315 - categorical_accuracy: 0.8431 - precision: 0.8727 - recall: 0.8090 - auc: 0.9679 - val_loss: 0.6124 - val_categorical_accuracy: 0.7776 - val_precision: 0.8081 - val_recall: 0.7477 - val_auc: 0.9394\n",
            "Epoch 8/30\n",
            "30/30 [==============================] - ETA: 0s - loss: 0.3549 - categorical_accuracy: 0.8706 - precision: 0.8952 - recall: 0.8471 - auc: 0.9784\n",
            "Epoch 8: val_categorical_accuracy did not improve from 0.80748\n",
            "30/30 [==============================] - 84s 3s/step - loss: 0.3549 - categorical_accuracy: 0.8706 - precision: 0.8952 - recall: 0.8471 - auc: 0.9784 - val_loss: 0.5456 - val_categorical_accuracy: 0.8056 - val_precision: 0.8386 - val_recall: 0.7869 - val_auc: 0.9521\n",
            "Epoch 9/30\n",
            "30/30 [==============================] - ETA: 0s - loss: 0.3080 - categorical_accuracy: 0.8907 - precision: 0.9114 - recall: 0.8733 - auc: 0.9832\n",
            "Epoch 9: val_categorical_accuracy did not improve from 0.80748\n",
            "30/30 [==============================] - 82s 3s/step - loss: 0.3080 - categorical_accuracy: 0.8907 - precision: 0.9114 - recall: 0.8733 - auc: 0.9832 - val_loss: 0.6010 - val_categorical_accuracy: 0.7701 - val_precision: 0.8008 - val_recall: 0.7514 - val_auc: 0.9452\n",
            "Epoch 10/30\n",
            "30/30 [==============================] - ETA: 0s - loss: 0.2893 - categorical_accuracy: 0.8984 - precision: 0.9162 - recall: 0.8788 - auc: 0.9852\n",
            "Epoch 10: val_categorical_accuracy did not improve from 0.80748\n",
            "30/30 [==============================] - 82s 3s/step - loss: 0.2893 - categorical_accuracy: 0.8984 - precision: 0.9162 - recall: 0.8788 - auc: 0.9852 - val_loss: 0.5824 - val_categorical_accuracy: 0.8037 - val_precision: 0.8234 - val_recall: 0.7757 - val_auc: 0.9456\n",
            "Epoch 11/30\n",
            "30/30 [==============================] - ETA: 0s - loss: 0.2356 - categorical_accuracy: 0.9132 - precision: 0.9280 - recall: 0.9003 - auc: 0.9901\n",
            "Epoch 11: val_categorical_accuracy did not improve from 0.80748\n",
            "30/30 [==============================] - 84s 3s/step - loss: 0.2356 - categorical_accuracy: 0.9132 - precision: 0.9280 - recall: 0.9003 - auc: 0.9901 - val_loss: 0.6424 - val_categorical_accuracy: 0.7981 - val_precision: 0.8180 - val_recall: 0.7813 - val_auc: 0.9422\n",
            "Epoch 12/30\n",
            "30/30 [==============================] - ETA: 0s - loss: 0.1753 - categorical_accuracy: 0.9410 - precision: 0.9498 - recall: 0.9315 - auc: 0.9943\n",
            "Epoch 12: val_categorical_accuracy did not improve from 0.80748\n",
            "30/30 [==============================] - 83s 3s/step - loss: 0.1753 - categorical_accuracy: 0.9410 - precision: 0.9498 - recall: 0.9315 - auc: 0.9943 - val_loss: 0.6638 - val_categorical_accuracy: 0.7907 - val_precision: 0.8130 - val_recall: 0.7720 - val_auc: 0.9419\n",
            "Epoch 13/30\n",
            "30/30 [==============================] - ETA: 0s - loss: 0.1539 - categorical_accuracy: 0.9429 - precision: 0.9503 - recall: 0.9360 - auc: 0.9958\n",
            "Epoch 13: val_categorical_accuracy did not improve from 0.80748\n",
            "30/30 [==============================] - 80s 3s/step - loss: 0.1539 - categorical_accuracy: 0.9429 - precision: 0.9503 - recall: 0.9360 - auc: 0.9958 - val_loss: 0.6877 - val_categorical_accuracy: 0.8056 - val_precision: 0.8133 - val_recall: 0.7981 - val_auc: 0.9427\n",
            "Epoch 14/30\n",
            "30/30 [==============================] - ETA: 0s - loss: 0.1050 - categorical_accuracy: 0.9672 - precision: 0.9701 - recall: 0.9630 - auc: 0.9978\n",
            "Epoch 14: val_categorical_accuracy did not improve from 0.80748\n",
            "30/30 [==============================] - 79s 3s/step - loss: 0.1050 - categorical_accuracy: 0.9672 - precision: 0.9701 - recall: 0.9630 - auc: 0.9978 - val_loss: 1.0000 - val_categorical_accuracy: 0.7495 - val_precision: 0.7548 - val_recall: 0.7421 - val_auc: 0.9124\n",
            "Epoch 15/30\n",
            "30/30 [==============================] - ETA: 0s - loss: 0.0738 - categorical_accuracy: 0.9759 - precision: 0.9795 - recall: 0.9725 - auc: 0.9992\n",
            "Epoch 15: val_categorical_accuracy did not improve from 0.80748\n",
            "30/30 [==============================] - 81s 3s/step - loss: 0.0738 - categorical_accuracy: 0.9759 - precision: 0.9795 - recall: 0.9725 - auc: 0.9992 - val_loss: 0.8642 - val_categorical_accuracy: 0.7794 - val_precision: 0.7905 - val_recall: 0.7757 - val_auc: 0.9329\n",
            "Epoch 16/30\n",
            "30/30 [==============================] - ETA: 0s - loss: 0.0449 - categorical_accuracy: 0.9878 - precision: 0.9894 - recall: 0.9865 - auc: 0.9998\n",
            "Epoch 16: val_categorical_accuracy did not improve from 0.80748\n",
            "30/30 [==============================] - 87s 3s/step - loss: 0.0449 - categorical_accuracy: 0.9878 - precision: 0.9894 - recall: 0.9865 - auc: 0.9998 - val_loss: 1.0355 - val_categorical_accuracy: 0.7720 - val_precision: 0.7759 - val_recall: 0.7701 - val_auc: 0.9224\n",
            "Epoch 17/30\n",
            "30/30 [==============================] - ETA: 0s - loss: 0.0406 - categorical_accuracy: 0.9881 - precision: 0.9899 - recall: 0.9862 - auc: 0.9998\n",
            "Epoch 17: val_categorical_accuracy did not improve from 0.80748\n",
            "30/30 [==============================] - 80s 3s/step - loss: 0.0406 - categorical_accuracy: 0.9881 - precision: 0.9899 - recall: 0.9862 - auc: 0.9998 - val_loss: 1.0429 - val_categorical_accuracy: 0.7832 - val_precision: 0.7852 - val_recall: 0.7720 - val_auc: 0.9195\n",
            "Epoch 18/30\n",
            "30/30 [==============================] - ETA: 0s - loss: 0.0826 - categorical_accuracy: 0.9704 - precision: 0.9718 - recall: 0.9677 - auc: 0.9985\n",
            "Epoch 18: val_categorical_accuracy did not improve from 0.80748\n",
            "30/30 [==============================] - 79s 3s/step - loss: 0.0826 - categorical_accuracy: 0.9704 - precision: 0.9718 - recall: 0.9677 - auc: 0.9985 - val_loss: 0.9838 - val_categorical_accuracy: 0.7738 - val_precision: 0.7788 - val_recall: 0.7701 - val_auc: 0.9221\n",
            "Epoch 19/30\n",
            "30/30 [==============================] - ETA: 0s - loss: 0.0902 - categorical_accuracy: 0.9690 - precision: 0.9718 - recall: 0.9659 - auc: 0.9982\n",
            "Epoch 19: val_categorical_accuracy did not improve from 0.80748\n",
            "30/30 [==============================] - 80s 3s/step - loss: 0.0902 - categorical_accuracy: 0.9690 - precision: 0.9718 - recall: 0.9659 - auc: 0.9982 - val_loss: 1.1444 - val_categorical_accuracy: 0.7645 - val_precision: 0.7670 - val_recall: 0.7570 - val_auc: 0.9137\n",
            "Epoch 20/30\n",
            "30/30 [==============================] - ETA: 0s - loss: 0.0468 - categorical_accuracy: 0.9847 - precision: 0.9857 - recall: 0.9836 - auc: 0.9996\n",
            "Epoch 20: val_categorical_accuracy did not improve from 0.80748\n",
            "30/30 [==============================] - 84s 3s/step - loss: 0.0468 - categorical_accuracy: 0.9847 - precision: 0.9857 - recall: 0.9836 - auc: 0.9996 - val_loss: 1.0966 - val_categorical_accuracy: 0.7738 - val_precision: 0.7765 - val_recall: 0.7664 - val_auc: 0.9178\n",
            "Epoch 21/30\n",
            "30/30 [==============================] - ETA: 0s - loss: 0.0303 - categorical_accuracy: 0.9918 - precision: 0.9926 - recall: 0.9913 - auc: 0.9998\n",
            "Epoch 21: val_categorical_accuracy did not improve from 0.80748\n",
            "30/30 [==============================] - 83s 3s/step - loss: 0.0303 - categorical_accuracy: 0.9918 - precision: 0.9926 - recall: 0.9913 - auc: 0.9998 - val_loss: 1.1256 - val_categorical_accuracy: 0.7701 - val_precision: 0.7721 - val_recall: 0.7664 - val_auc: 0.9180\n",
            "Epoch 22/30\n",
            "30/30 [==============================] - ETA: 0s - loss: 0.0511 - categorical_accuracy: 0.9825 - precision: 0.9838 - recall: 0.9817 - auc: 0.9990\n",
            "Epoch 22: val_categorical_accuracy did not improve from 0.80748\n",
            "30/30 [==============================] - 88s 3s/step - loss: 0.0511 - categorical_accuracy: 0.9825 - precision: 0.9838 - recall: 0.9817 - auc: 0.9990 - val_loss: 1.3671 - val_categorical_accuracy: 0.7364 - val_precision: 0.7467 - val_recall: 0.7327 - val_auc: 0.9032\n",
            "Epoch 23/30\n",
            "30/30 [==============================] - ETA: 0s - loss: 0.0542 - categorical_accuracy: 0.9825 - precision: 0.9833 - recall: 0.9810 - auc: 0.9991\n",
            "Epoch 23: val_categorical_accuracy did not improve from 0.80748\n",
            "30/30 [==============================] - 82s 3s/step - loss: 0.0542 - categorical_accuracy: 0.9825 - precision: 0.9833 - recall: 0.9810 - auc: 0.9991 - val_loss: 1.2641 - val_categorical_accuracy: 0.7607 - val_precision: 0.7679 - val_recall: 0.7607 - val_auc: 0.9089\n",
            "Epoch 24/30\n",
            "30/30 [==============================] - ETA: 0s - loss: 0.0253 - categorical_accuracy: 0.9939 - precision: 0.9947 - recall: 0.9937 - auc: 0.9997\n",
            "Epoch 24: val_categorical_accuracy did not improve from 0.80748\n",
            "30/30 [==============================] - 82s 3s/step - loss: 0.0253 - categorical_accuracy: 0.9939 - precision: 0.9947 - recall: 0.9937 - auc: 0.9997 - val_loss: 1.2267 - val_categorical_accuracy: 0.7794 - val_precision: 0.7797 - val_recall: 0.7738 - val_auc: 0.9148\n",
            "Epoch 25/30\n",
            "30/30 [==============================] - ETA: 0s - loss: 0.0051 - categorical_accuracy: 1.0000 - precision: 1.0000 - recall: 1.0000 - auc: 1.0000\n",
            "Epoch 25: val_categorical_accuracy did not improve from 0.80748\n",
            "30/30 [==============================] - 82s 3s/step - loss: 0.0051 - categorical_accuracy: 1.0000 - precision: 1.0000 - recall: 1.0000 - auc: 1.0000 - val_loss: 1.3774 - val_categorical_accuracy: 0.7664 - val_precision: 0.7707 - val_recall: 0.7664 - val_auc: 0.9104\n",
            "Epoch 26/30\n",
            "30/30 [==============================] - ETA: 0s - loss: 0.0022 - categorical_accuracy: 1.0000 - precision: 1.0000 - recall: 1.0000 - auc: 1.0000\n",
            "Epoch 26: val_categorical_accuracy did not improve from 0.80748\n",
            "30/30 [==============================] - 82s 3s/step - loss: 0.0022 - categorical_accuracy: 1.0000 - precision: 1.0000 - recall: 1.0000 - auc: 1.0000 - val_loss: 1.4282 - val_categorical_accuracy: 0.7682 - val_precision: 0.7697 - val_recall: 0.7682 - val_auc: 0.9078\n",
            "Epoch 27/30\n",
            "30/30 [==============================] - ETA: 0s - loss: 0.0011 - categorical_accuracy: 1.0000 - precision: 1.0000 - recall: 1.0000 - auc: 1.0000\n",
            "Epoch 27: val_categorical_accuracy did not improve from 0.80748\n",
            "30/30 [==============================] - 82s 3s/step - loss: 0.0011 - categorical_accuracy: 1.0000 - precision: 1.0000 - recall: 1.0000 - auc: 1.0000 - val_loss: 1.4521 - val_categorical_accuracy: 0.7664 - val_precision: 0.7692 - val_recall: 0.7664 - val_auc: 0.9080\n",
            "Epoch 28/30\n",
            "30/30 [==============================] - ETA: 0s - loss: 7.3933e-04 - categorical_accuracy: 1.0000 - precision: 1.0000 - recall: 1.0000 - auc: 1.0000\n",
            "Epoch 28: val_categorical_accuracy did not improve from 0.80748\n",
            "30/30 [==============================] - 87s 3s/step - loss: 7.3933e-04 - categorical_accuracy: 1.0000 - precision: 1.0000 - recall: 1.0000 - auc: 1.0000 - val_loss: 1.4490 - val_categorical_accuracy: 0.7738 - val_precision: 0.7740 - val_recall: 0.7682 - val_auc: 0.9104\n",
            "Epoch 29/30\n",
            "30/30 [==============================] - ETA: 0s - loss: 6.0483e-04 - categorical_accuracy: 1.0000 - precision: 1.0000 - recall: 1.0000 - auc: 1.0000\n",
            "Epoch 29: val_categorical_accuracy did not improve from 0.80748\n",
            "30/30 [==============================] - 81s 3s/step - loss: 6.0483e-04 - categorical_accuracy: 1.0000 - precision: 1.0000 - recall: 1.0000 - auc: 1.0000 - val_loss: 1.4624 - val_categorical_accuracy: 0.7757 - val_precision: 0.7767 - val_recall: 0.7738 - val_auc: 0.9089\n",
            "Epoch 30/30\n",
            "30/30 [==============================] - ETA: 0s - loss: 5.1963e-04 - categorical_accuracy: 1.0000 - precision: 1.0000 - recall: 1.0000 - auc: 1.0000\n",
            "Epoch 30: val_categorical_accuracy did not improve from 0.80748\n",
            "30/30 [==============================] - 82s 3s/step - loss: 5.1963e-04 - categorical_accuracy: 1.0000 - precision: 1.0000 - recall: 1.0000 - auc: 1.0000 - val_loss: 1.4934 - val_categorical_accuracy: 0.7720 - val_precision: 0.7744 - val_recall: 0.7701 - val_auc: 0.9102\n"
          ]
        }
      ]
    },
    {
      "cell_type": "markdown",
      "source": [
        "## Plot results"
      ],
      "metadata": {
        "id": "ob_QDshaYEg4"
      }
    },
    {
      "cell_type": "code",
      "source": [
        "def plot(train, validation, ylabel, title):\n",
        "  plt.plot(train, color='red', label='train') \n",
        "  plt.plot(validation, color='blue', label='validation') \n",
        "  plt.title(title) \n",
        "  plt.ylabel(ylabel)\n",
        "  plt.xlabel('Epoch')\n",
        "  plt.legend() \n",
        "  plt.grid(linestyle='-', linewidth=0.5)"
      ],
      "metadata": {
        "id": "o0jwjfdCWFBn"
      },
      "execution_count": 38,
      "outputs": []
    },
    {
      "cell_type": "code",
      "source": [
        "plot(history.history['categorical_accuracy'], history.history['val_categorical_accuracy'], 'Accuracy', 'Model Accuracy')"
      ],
      "metadata": {
        "colab": {
          "base_uri": "https://localhost:8080/",
          "height": 295
        },
        "id": "lf9pjTVLvvnq",
        "outputId": "4e8c150e-bdf7-4413-8715-dff17b7ef737"
      },
      "execution_count": 39,
      "outputs": [
        {
          "output_type": "display_data",
          "data": {
            "text/plain": [
              "<Figure size 432x288 with 1 Axes>"
            ],
            "image/png": "[encoded data removed]"
          },
          "metadata": {
            "needs_background": "light"
          }
        }
      ]
    },
    {
      "cell_type": "code",
      "source": [
        "plot(history.history['loss'], history.history['val_loss'], 'Loss', 'Model Loss')"
      ],
      "metadata": {
        "colab": {
          "base_uri": "https://localhost:8080/",
          "height": 295
        },
        "id": "DZ92wFIE5dKL",
        "outputId": "1d6b29b2-8bd1-4a16-9356-bf3e512fc02b"
      },
      "execution_count": 40,
      "outputs": [
        {
          "output_type": "display_data",
          "data": {
            "text/plain": [
              "<Figure size 432x288 with 1 Axes>"
            ],
            "image/png": "[encoded data removed]"
          },
          "metadata": {
            "needs_background": "light"
          }
        }
      ]
    },
    {
      "cell_type": "markdown",
      "source": [
        "## Evaluate model"
      ],
      "metadata": {
        "id": "ABEzVAWI5eS3"
      }
    },
    {
      "cell_type": "code",
      "source": [
        "eval_results = model.evaluate(test_ds, batch_size=30)"
      ],
      "metadata": {
        "id": "KM66wgM-_kFA",
        "colab": {
          "base_uri": "https://localhost:8080/"
        },
        "outputId": "224b7032-527f-4e4a-eeb8-fc52a945c947"
      },
      "execution_count": 41,
      "outputs": [
        {
          "output_type": "stream",
          "name": "stdout",
          "text": [
            "9/9 [==============================] - 7s 806ms/step - loss: 1.6266 - categorical_accuracy: 0.7843 - precision: 0.7865 - recall: 0.7843 - auc: 0.9071\n"
          ]
        }
      ]
    },
    {
      "cell_type": "code",
      "source": [
        "print('Test loss:', eval_results[0])\n",
        "print('Test categorical_accuracy:', eval_results[1])\n",
        "print('Test precision:', eval_results[2])\n",
        "print('Test recall:', eval_results[3])\n",
        "print('Test auc:', eval_results[4])"
      ],
      "metadata": {
        "colab": {
          "base_uri": "https://localhost:8080/"
        },
        "id": "dee871Dgejub",
        "outputId": "bebe8bb2-e4ca-4ad1-ae8a-cec30e9d67d1"
      },
      "execution_count": 42,
      "outputs": [
        {
          "output_type": "stream",
          "name": "stdout",
          "text": [
            "Test loss: 1.626563549041748\n",
            "Test categorical_accuracy: 0.7843317985534668\n",
            "Test precision: 0.7865064740180969\n",
            "Test recall: 0.7843317985534668\n",
            "Test auc: 0.9071344137191772\n"
          ]
        }
      ]
    },
    {
      "cell_type": "code",
      "source": [
        "pred = model.predict(test_ds)"
      ],
      "metadata": {
        "colab": {
          "base_uri": "https://localhost:8080/"
        },
        "id": "MXlcTB3WaoP-",
        "outputId": "3d7c7ad2-5fa4-4bab-d0e9-2cfd10ff0e35"
      },
      "execution_count": 43,
      "outputs": [
        {
          "output_type": "stream",
          "name": "stdout",
          "text": [
            "9/9 [==============================] - 4s 473ms/step\n"
          ]
        }
      ]
    },
    {
      "cell_type": "code",
      "source": [
        "pred"
      ],
      "metadata": {
        "id": "cHZnvE2bdwKc"
      },
      "execution_count": null,
      "outputs": []
    },
    {
      "cell_type": "code",
      "source": [
        "def draw_confusion_matrix(true, pred):\n",
        "  cm = confusion_matrix(true.argmax(axis=1), pred.argmax(axis=1))\n",
        "  sns.heatmap(cm, annot=True, annot_kws={\"size\": 12}, fmt='g', cbar=False, cmap=\"viridis\")\n",
        "  plt.show()"
      ],
      "metadata": {
        "id": "xfqXMoX8b-qE"
      },
      "execution_count": 45,
      "outputs": []
    },
    {
      "cell_type": "code",
      "source": [
        "draw_confusion_matrix(y_test, pred)"
      ],
      "metadata": {
        "colab": {
          "base_uri": "https://localhost:8080/",
          "height": 265
        },
        "id": "0mboVB4q6vYp",
        "outputId": "5a1ddd73-2a12-461e-af03-49c4d2711ab7"
      },
      "execution_count": 46,
      "outputs": [
        {
          "output_type": "display_data",
          "data": {
            "text/plain": [
              "<Figure size 432x288 with 1 Axes>"
            ],
            "image/png": "[encoded data removed]"
          },
          "metadata": {
            "needs_background": "light"
          }
        }
      ]
    },
    {
      "cell_type": "code",
      "source": [
        "print(classification_report(y_test.argmax(axis=1), pred.argmax(axis=1)))"
      ],
      "metadata": {
        "colab": {
          "base_uri": "https://localhost:8080/"
        },
        "id": "Xw_nLMYxcQok",
        "outputId": "6761396b-eff7-4859-e50e-c79cd8029a3e"
      },
      "execution_count": 47,
      "outputs": [
        {
          "output_type": "stream",
          "name": "stdout",
          "text": [
            "              precision    recall  f1-score   support\n",
            "\n",
            "           0       0.77      0.76      0.76       271\n",
            "           1       0.79      0.78      0.78       266\n",
            "           2       0.75      0.80      0.77       262\n",
            "           3       0.83      0.80      0.82       286\n",
            "\n",
            "    accuracy                           0.78      1085\n",
            "   macro avg       0.78      0.78      0.78      1085\n",
            "weighted avg       0.79      0.78      0.78      1085\n",
            "\n"
          ]
        }
      ]
    },
    {
      "cell_type": "markdown",
      "source": [
        "## Improve the baseline networks performance\n",
        "1. Batch Normalisation \n",
        "2. Dropout \n",
        "3. Regularisation"
      ],
      "metadata": {
        "id": "lVlp3SN17Guq"
      }
    },
    {
      "cell_type": "markdown",
      "source": [
        "### Batch Normalisation"
      ],
      "metadata": {
        "id": "SGTQShLWzPE6"
      }
    },
    {
      "cell_type": "code",
      "source": [
        "batchnorm_model = build_model(batchNorm=True)\n",
        "batchnorm_model.summary()"
      ],
      "metadata": {
        "colab": {
          "base_uri": "https://localhost:8080/"
        },
        "id": "T1u-7J57yw-7",
        "outputId": "098eadf2-e6e0-4abf-cbc8-00c021c61a5c"
      },
      "execution_count": 48,
      "outputs": [
        {
          "output_type": "stream",
          "name": "stdout",
          "text": [
            "Model: \"sequential_1\"\n",
            "_________________________________________________________________\n",
            " Layer (type)                Output Shape              Param #   \n",
            "=================================================================\n",
            " conv2d_4 (Conv2D)           (None, 62, 62, 32)        896       \n",
            "                                                                 \n",
            " conv2d_5 (Conv2D)           (None, 60, 60, 32)        9248      \n",
            "                                                                 \n",
            " max_pooling2d_2 (MaxPooling  (None, 30, 30, 32)       0         \n",
            " 2D)                                                             \n",
            "                                                                 \n",
            " batch_normalization (BatchN  (None, 30, 30, 32)       128       \n",
            " ormalization)                                                   \n",
            "                                                                 \n",
            " conv2d_6 (Conv2D)           (None, 28, 28, 64)        18496     \n",
            "                                                                 \n",
            " conv2d_7 (Conv2D)           (None, 26, 26, 64)        36928     \n",
            "                                                                 \n",
            " max_pooling2d_3 (MaxPooling  (None, 13, 13, 64)       0         \n",
            " 2D)                                                             \n",
            "                                                                 \n",
            " batch_normalization_1 (Batc  (None, 13, 13, 64)       256       \n",
            " hNormalization)                                                 \n",
            "                                                                 \n",
            " flatten_1 (Flatten)         (None, 10816)             0         \n",
            "                                                                 \n",
            " dense_2 (Dense)             (None, 512)               5538304   \n",
            "                                                                 \n",
            " dense_3 (Dense)             (None, 4)                 2052      \n",
            "                                                                 \n",
            "=================================================================\n",
            "Total params: 5,606,308\n",
            "Trainable params: 5,606,116\n",
            "Non-trainable params: 192\n",
            "_________________________________________________________________\n"
          ]
        }
      ]
    },
    {
      "cell_type": "code",
      "source": [
        "batchnorm_history = batchnorm_model.fit(\n",
        "    train_ds,\n",
        "    epochs=30,\n",
        "    verbose=1,\n",
        "    validation_data=val_ds\n",
        ")"
      ],
      "metadata": {
        "colab": {
          "base_uri": "https://localhost:8080/"
        },
        "id": "IImVU9wOy6Ld",
        "outputId": "d79ac843-c800-4be6-df68-6632d1efac2c"
      },
      "execution_count": null,
      "outputs": [
        {
          "output_type": "stream",
          "name": "stdout",
          "text": [
            "Epoch 1/30\n",
            "30/30 [==============================] - 86s 3s/step - loss: 6.2554 - categorical_accuracy: 0.5868 - precision_1: 0.5905 - recall_1: 0.5852 - auc_1: 0.7674 - val_loss: 1.6190 - val_categorical_accuracy: 0.2561 - val_precision_1: 0.2556 - val_recall_1: 0.1701 - val_auc_1: 0.5585\n",
            "Epoch 2/30\n",
            "30/30 [==============================] - 82s 3s/step - loss: 1.9516 - categorical_accuracy: 0.7519 - precision_1: 0.7543 - recall_1: 0.7503 - auc_1: 0.8875 - val_loss: 1.7144 - val_categorical_accuracy: 0.2542 - val_precision_1: 0.2765 - val_recall_1: 0.2393 - val_auc_1: 0.5711\n",
            "Epoch 3/30\n",
            "30/30 [==============================] - 82s 3s/step - loss: 0.6970 - categorical_accuracy: 0.8439 - precision_1: 0.8477 - recall_1: 0.8421 - auc_1: 0.9551 - val_loss: 1.9820 - val_categorical_accuracy: 0.2542 - val_precision_1: 0.2596 - val_recall_1: 0.2523 - val_auc_1: 0.5674\n",
            "Epoch 4/30\n",
            "30/30 [==============================] - 85s 3s/step - loss: 0.3167 - categorical_accuracy: 0.9143 - precision_1: 0.9168 - recall_1: 0.9127 - auc_1: 0.9836 - val_loss: 1.7772 - val_categorical_accuracy: 0.3495 - val_precision_1: 0.3923 - val_recall_1: 0.2486 - val_auc_1: 0.5841\n",
            "Epoch 5/30\n",
            "30/30 [==============================] - 82s 3s/step - loss: 0.1062 - categorical_accuracy: 0.9635 - precision_1: 0.9645 - recall_1: 0.9622 - auc_1: 0.9966 - val_loss: 1.4739 - val_categorical_accuracy: 0.4150 - val_precision_1: 0.5796 - val_recall_1: 0.2449 - val_auc_1: 0.6436\n",
            "Epoch 6/30\n",
            "30/30 [==============================] - 84s 3s/step - loss: 0.0301 - categorical_accuracy: 0.9899 - precision_1: 0.9899 - recall_1: 0.9892 - auc_1: 0.9997 - val_loss: 2.0045 - val_categorical_accuracy: 0.3477 - val_precision_1: 0.3806 - val_recall_1: 0.2860 - val_auc_1: 0.6018\n",
            "Epoch 7/30\n",
            "30/30 [==============================] - 82s 3s/step - loss: 0.0137 - categorical_accuracy: 0.9971 - precision_1: 0.9976 - recall_1: 0.9971 - auc_1: 1.0000 - val_loss: 1.6469 - val_categorical_accuracy: 0.5178 - val_precision_1: 0.6406 - val_recall_1: 0.4131 - val_auc_1: 0.6982\n",
            "Epoch 8/30\n",
            "30/30 [==============================] - 84s 3s/step - loss: 0.0081 - categorical_accuracy: 0.9987 - precision_1: 0.9987 - recall_1: 0.9984 - auc_1: 1.0000 - val_loss: 1.7881 - val_categorical_accuracy: 0.4505 - val_precision_1: 0.5163 - val_recall_1: 0.3850 - val_auc_1: 0.6762\n",
            "Epoch 9/30\n",
            "30/30 [==============================] - 82s 3s/step - loss: 0.0027 - categorical_accuracy: 1.0000 - precision_1: 1.0000 - recall_1: 1.0000 - auc_1: 1.0000 - val_loss: 1.5834 - val_categorical_accuracy: 0.5140 - val_precision_1: 0.5702 - val_recall_1: 0.4785 - val_auc_1: 0.7281\n",
            "Epoch 10/30\n",
            "30/30 [==============================] - 82s 3s/step - loss: 0.0017 - categorical_accuracy: 1.0000 - precision_1: 1.0000 - recall_1: 1.0000 - auc_1: 1.0000 - val_loss: 1.4869 - val_categorical_accuracy: 0.5514 - val_precision_1: 0.6233 - val_recall_1: 0.5196 - val_auc_1: 0.7634\n",
            "Epoch 11/30\n",
            "30/30 [==============================] - 82s 3s/step - loss: 0.0012 - categorical_accuracy: 1.0000 - precision_1: 1.0000 - recall_1: 1.0000 - auc_1: 1.0000 - val_loss: 1.4499 - val_categorical_accuracy: 0.5813 - val_precision_1: 0.6338 - val_recall_1: 0.5533 - val_auc_1: 0.7899\n",
            "Epoch 12/30\n",
            "30/30 [==============================] - 83s 3s/step - loss: 0.0010 - categorical_accuracy: 1.0000 - precision_1: 1.0000 - recall_1: 1.0000 - auc_1: 1.0000 - val_loss: 1.3759 - val_categorical_accuracy: 0.6187 - val_precision_1: 0.6489 - val_recall_1: 0.5907 - val_auc_1: 0.8190\n",
            "Epoch 13/30\n",
            "15/30 [==============>...............] - ETA: 40s - loss: 8.7957e-04 - categorical_accuracy: 1.0000 - precision_1: 1.0000 - recall_1: 1.0000 - auc_1: 1.0000"
          ]
        }
      ]
    },
    {
      "cell_type": "code",
      "source": [
        "plot(batchnorm_history.history['categorical_accuracy'], batchnorm_history.history['val_categorical_accuracy'], 'Accuracy', 'Model Accuracy')"
      ],
      "metadata": {
        "id": "DIc9bm0izCNr"
      },
      "execution_count": null,
      "outputs": []
    },
    {
      "cell_type": "code",
      "source": [
        "plot(batchnorm_history.history['loss'], batchnorm_history.history['val_loss'], 'Loss', 'Model Loss')"
      ],
      "metadata": {
        "id": "S_G91_ApzKfI"
      },
      "execution_count": null,
      "outputs": []
    },
    {
      "cell_type": "markdown",
      "source": [
        "### Dropout"
      ],
      "metadata": {
        "id": "jDe7i48f3zqm"
      }
    },
    {
      "cell_type": "code",
      "source": [
        "dropout_model = build_model(dropOut=True)\n",
        "dropout_model.summary()"
      ],
      "metadata": {
        "id": "z6SkEvrs7Lhk"
      },
      "execution_count": null,
      "outputs": []
    },
    {
      "cell_type": "code",
      "source": [
        "dropout_history = dropout_model.fit(\n",
        "    train_ds,\n",
        "    epochs=30,\n",
        "    verbose=1,\n",
        "    validation_data=val_ds\n",
        ")"
      ],
      "metadata": {
        "id": "a7HVKI287gVp"
      },
      "execution_count": null,
      "outputs": []
    },
    {
      "cell_type": "code",
      "source": [
        "plot(dropout_history.history['categorical_accuracy'], dropout_history.history['val_categorical_accuracy'], 'Accuracy', 'Model Accuracy')"
      ],
      "metadata": {
        "id": "4WZO5i6q7y7W"
      },
      "execution_count": null,
      "outputs": []
    },
    {
      "cell_type": "code",
      "source": [
        "plot(dropout_history.history['loss'], dropout_history.history['val_loss'], 'Loss', 'Model Loss')"
      ],
      "metadata": {
        "id": "hWTtZL5yzK_d"
      },
      "execution_count": null,
      "outputs": []
    },
    {
      "cell_type": "markdown",
      "source": [
        "### L2 Regularisation"
      ],
      "metadata": {
        "id": "Emf39YOx32p3"
      }
    },
    {
      "cell_type": "code",
      "source": [
        "l2reg_model = build_model(l2Reg=True)\n",
        "l2reg_model.summary()"
      ],
      "metadata": {
        "id": "79KbFJ7k356q"
      },
      "execution_count": null,
      "outputs": []
    },
    {
      "cell_type": "code",
      "source": [
        "l2reg_history = l2reg_model.fit(\n",
        "    train_ds,\n",
        "    epochs=30,\n",
        "    verbose=1,\n",
        "    validation_data=val_ds\n",
        ")"
      ],
      "metadata": {
        "id": "_dO1Knbq4B0_"
      },
      "execution_count": null,
      "outputs": []
    },
    {
      "cell_type": "code",
      "source": [
        "plot(l2reg_history.history['categorical_accuracy'], l2reg_history.history['val_categorical_accuracy'], 'Accuracy', 'Model Accuracy')"
      ],
      "metadata": {
        "id": "vcOu4OOq4Cyk"
      },
      "execution_count": null,
      "outputs": []
    },
    {
      "cell_type": "code",
      "source": [
        "plot(l2reg_history.history['loss'], l2reg_history.history['val_loss'], 'Loss', 'Model Loss')"
      ],
      "metadata": {
        "id": "MIfXc1rP9FBv"
      },
      "execution_count": null,
      "outputs": []
    },
    {
      "cell_type": "code",
      "source": [],
      "metadata": {
        "id": "GpJySw539I4k"
      },
      "execution_count": null,
      "outputs": []
    }
  ]
}
{
  "nbformat": 4,
  "nbformat_minor": 0,
  "metadata": {
    "colab": {
      "provenance": [],
      "toc_visible": true,
      "include_colab_link": true
    },
    "kernelspec": {
      "name": "python3",
      "display_name": "Python 3"
    },
    "language_info": {
      "name": "python"
    },
    "accelerator": "GPU",
    "gpuClass": "standard"
  },
  "cells": [
    {
      "cell_type": "markdown",
      "metadata": {
        "id": "view-in-github",
        "colab_type": "text"
      },
      "source": [
        "<a href=\"https://colab.research.google.com/github/sur-sakthy/computer-vision/blob/main/Assignment_1.ipynb\" target=\"_parent\"><img src=\"https://colab.research.google.com/assets/colab-badge.svg\" alt=\"Open In Colab\"/></a>"
      ]
    },
    {
      "cell_type": "markdown",
      "source": [
        "# Assignment #1"
      ],
      "metadata": {
        "id": "WTJaiwHQzzNo"
      }
    },
    {
      "cell_type": "code",
      "source": [
        "!nvidia-smi"
      ],
      "metadata": {
        "colab": {
          "base_uri": "https://localhost:8080/"
        },
        "id": "jxps2ylf50SH",
        "outputId": "596d6ad7-0daa-4c9b-9107-7d5088820df3"
      },
      "execution_count": 1,
      "outputs": [
        {
          "output_type": "stream",
          "name": "stdout",
          "text": [
            "Tue Mar 21 07:59:17 2023       \n",
            "+-----------------------------------------------------------------------------+\n",
            "| NVIDIA-SMI 525.85.12    Driver Version: 525.85.12    CUDA Version: 12.0     |\n",
            "|-------------------------------+----------------------+----------------------+\n",
            "| GPU  Name        Persistence-M| Bus-Id        Disp.A | Volatile Uncorr. ECC |\n",
            "| Fan  Temp  Perf  Pwr:Usage/Cap|         Memory-Usage | GPU-Util  Compute M. |\n",
            "|                               |                      |               MIG M. |\n",
            "|===============================+======================+======================|\n",
            "|   0  Tesla T4            Off  | 00000000:00:04.0 Off |                    0 |\n",
            "| N/A   52C    P0    27W /  70W |      0MiB / 15360MiB |      0%      Default |\n",
            "|                               |                      |                  N/A |\n",
            "+-------------------------------+----------------------+----------------------+\n",
            "                                                                               \n",
            "+-----------------------------------------------------------------------------+\n",
            "| Processes:                                                                  |\n",
            "|  GPU   GI   CI        PID   Type   Process name                  GPU Memory |\n",
            "|        ID   ID                                                   Usage      |\n",
            "|=============================================================================|\n",
            "|  No running processes found                                                 |\n",
            "+-----------------------------------------------------------------------------+\n"
          ]
        }
      ]
    },
    {
      "cell_type": "code",
      "source": [
        "from google.colab import drive\n",
        "drive.mount('/content/drive')"
      ],
      "metadata": {
        "colab": {
          "base_uri": "https://localhost:8080/"
        },
        "id": "oPKyLci6IFLJ",
        "outputId": "2d968bbb-a6fc-4832-9e87-ef55f3ff57e8"
      },
      "execution_count": 2,
      "outputs": [
        {
          "output_type": "stream",
          "name": "stdout",
          "text": [
            "Mounted at /content/drive\n"
          ]
        }
      ]
    },
    {
      "cell_type": "code",
      "execution_count": 3,
      "metadata": {
        "id": "Zq-MwcjOzETs"
      },
      "outputs": [],
      "source": [
        "!cp '/content/drive/MyDrive/EE544 Computer Vision/imagenette2-160.tgz' ./"
      ]
    },
    {
      "cell_type": "code",
      "source": [
        "# remove %%capture command to show output from unzipping\n",
        "%%capture \n",
        "!tar zxvf /content/imagenette2-160.tgz"
      ],
      "metadata": {
        "id": "79KjQJxnAgCv"
      },
      "execution_count": 4,
      "outputs": []
    },
    {
      "cell_type": "markdown",
      "source": [
        "## Imports"
      ],
      "metadata": {
        "id": "mvvEa4-OLaTL"
      }
    },
    {
      "cell_type": "code",
      "source": [
        "import os\n",
        "import glob\n",
        "import pandas as pd\n",
        "import numpy as np\n",
        "import tensorflow as tf\n",
        "import matplotlib.pyplot as plt\n",
        "import seaborn as sns\n",
        "\n",
        "from tensorflow.keras.models import Sequential\n",
        "from tensorflow.keras.layers import Conv2D, Dense, Flatten, MaxPooling2D, BatchNormalization, Dropout\n",
        "from tensorflow.keras.metrics import CategoricalAccuracy, Precision, AUC, Recall\n",
        "from tensorflow.keras.optimizers import Adam\n",
        "from tensorflow.keras.utils import to_categorical, img_to_array\n",
        "from tensorflow.keras.preprocessing.image import ImageDataGenerator, load_img\n",
        "from keras.callbacks import EarlyStopping, ModelCheckpoint\n",
        "from sklearn.model_selection import train_test_split\n",
        "from sklearn.utils import shuffle\n",
        "from sklearn.preprocessing import LabelEncoder\n",
        "from sklearn.metrics import confusion_matrix, classification_report"
      ],
      "metadata": {
        "id": "-4ONl5dQGvub"
      },
      "execution_count": 5,
      "outputs": []
    },
    {
      "cell_type": "markdown",
      "source": [
        "## Constants"
      ],
      "metadata": {
        "id": "SNw6u_X4Vjhq"
      }
    },
    {
      "cell_type": "code",
      "source": [
        "PATH_TO_TRAIN_DATA = '/content/imagenette2-160/train'\n",
        "PATH_TO_VAL_DATA = '/content/imagenette2-160/val'\n",
        "\n",
        "IMG_WIDTH=64\n",
        "IMG_HEIGHT=64\n",
        "\n",
        "NUM_CLASSES=4"
      ],
      "metadata": {
        "id": "Mqij7Db_GdEO"
      },
      "execution_count": 6,
      "outputs": []
    },
    {
      "cell_type": "code",
      "source": [
        "all_classes = os.listdir(PATH_TO_TRAIN_DATA)\n",
        "all_classes"
      ],
      "metadata": {
        "id": "blZUoPmqGmuC",
        "colab": {
          "base_uri": "https://localhost:8080/"
        },
        "outputId": "1666de9a-9340-40a2-fedf-47dcfb889188"
      },
      "execution_count": 7,
      "outputs": [
        {
          "output_type": "execute_result",
          "data": {
            "text/plain": [
              "['n03028079',\n",
              " 'n03000684',\n",
              " '.DS_Store',\n",
              " 'n03417042',\n",
              " 'n02979186',\n",
              " 'n01440764',\n",
              " 'n03425413',\n",
              " 'n03445777',\n",
              " 'n03888257',\n",
              " 'n03394916',\n",
              " 'n02102040']"
            ]
          },
          "metadata": {},
          "execution_count": 7
        }
      ]
    },
    {
      "cell_type": "code",
      "source": [
        "all_classes = os.listdir(PATH_TO_VAL_DATA)\n",
        "all_classes"
      ],
      "metadata": {
        "id": "vJ7YtI7zHS5U",
        "colab": {
          "base_uri": "https://localhost:8080/"
        },
        "outputId": "44e31afb-cac0-41ca-f649-ff007369aa4a"
      },
      "execution_count": 8,
      "outputs": [
        {
          "output_type": "execute_result",
          "data": {
            "text/plain": [
              "['n03028079',\n",
              " 'n03000684',\n",
              " 'n03417042',\n",
              " 'n02979186',\n",
              " 'n01440764',\n",
              " 'n03425413',\n",
              " 'n03445777',\n",
              " 'n03888257',\n",
              " 'n03394916',\n",
              " 'n02102040']"
            ]
          },
          "metadata": {},
          "execution_count": 8
        }
      ]
    },
    {
      "cell_type": "markdown",
      "source": [
        "## Load dataset"
      ],
      "metadata": {
        "id": "GAPRTpueQCQz"
      }
    },
    {
      "cell_type": "code",
      "source": [
        "data = []\n",
        "labels = []"
      ],
      "metadata": {
        "id": "M04-MyRHnivw"
      },
      "execution_count": 9,
      "outputs": []
    },
    {
      "cell_type": "code",
      "source": [
        "def load_dataset(img_folder): \n",
        "    for dir in os.listdir(img_folder):\n",
        "      if dir == 'n03445777' or dir == 'n03417042' or dir == 'n02979186' or dir == 'n03028079' :\n",
        "        for file in os.listdir(os.path.join(img_folder, dir)):\n",
        "            image_path = os.path.join(img_folder, dir, file)\n",
        "            image = tf.keras.preprocessing.image.load_img(image_path, target_size=(IMG_WIDTH,IMG_HEIGHT))\n",
        "            image = np.array(image)\n",
        "\n",
        "            data.append(image)\n",
        "            labels.append(dir)"
      ],
      "metadata": {
        "id": "aPu_wDteHj7O"
      },
      "execution_count": 10,
      "outputs": []
    },
    {
      "cell_type": "code",
      "source": [
        "load_dataset(PATH_TO_TRAIN_DATA)\n",
        "load_dataset(PATH_TO_VAL_DATA)"
      ],
      "metadata": {
        "id": "FWqY1YqYmBw3"
      },
      "execution_count": 11,
      "outputs": []
    },
    {
      "cell_type": "code",
      "source": [
        "np.unique(labels)"
      ],
      "metadata": {
        "colab": {
          "base_uri": "https://localhost:8080/"
        },
        "id": "1KtBUddwMf7a",
        "outputId": "a1c70a47-5845-4b54-e7a8-27a294a8e3e5"
      },
      "execution_count": 12,
      "outputs": [
        {
          "output_type": "execute_result",
          "data": {
            "text/plain": [
              "array(['n02979186', 'n03028079', 'n03417042', 'n03445777'], dtype='<U9')"
            ]
          },
          "metadata": {},
          "execution_count": 12
        }
      ]
    },
    {
      "cell_type": "code",
      "source": [
        "data[0]"
      ],
      "metadata": {
        "colab": {
          "base_uri": "https://localhost:8080/"
        },
        "id": "9frhu7uaNGqV",
        "outputId": "f9befb6c-743d-49a4-bd76-dbd9f5797f32"
      },
      "execution_count": 13,
      "outputs": [
        {
          "output_type": "execute_result",
          "data": {
            "text/plain": [
              "array([[[  1,   0,   0],\n",
              "        [ 16,  16,  16],\n",
              "        [ 17,  18,  20],\n",
              "        ...,\n",
              "        [ 18,  19,  14],\n",
              "        [ 19,  18,  14],\n",
              "        [  0,   0,   0]],\n",
              "\n",
              "       [[ 18,  18,  18],\n",
              "        [255, 255, 255],\n",
              "        [255, 255, 255],\n",
              "        ...,\n",
              "        [255, 255, 253],\n",
              "        [255, 255, 253],\n",
              "        [ 13,  13,  13]],\n",
              "\n",
              "       [[ 28,  28,  28],\n",
              "        [245, 245, 245],\n",
              "        [255, 255, 253],\n",
              "        ...,\n",
              "        [255, 254, 255],\n",
              "        [255, 254, 255],\n",
              "        [ 20,  20,  20]],\n",
              "\n",
              "       ...,\n",
              "\n",
              "       [[ 28,  28,  28],\n",
              "        [245, 245, 245],\n",
              "        [254, 255, 255],\n",
              "        ...,\n",
              "        [255, 255, 255],\n",
              "        [255, 255, 255],\n",
              "        [ 19,  19,  19]],\n",
              "\n",
              "       [[ 18,  18,  18],\n",
              "        [255, 255, 255],\n",
              "        [255, 255, 255],\n",
              "        ...,\n",
              "        [245, 245, 245],\n",
              "        [252, 252, 250],\n",
              "        [ 16,  16,  16]],\n",
              "\n",
              "       [[  0,   1,   0],\n",
              "        [ 16,  16,  16],\n",
              "        [ 19,  17,  18],\n",
              "        ...,\n",
              "        [ 21,  21,  19],\n",
              "        [ 16,  16,  14],\n",
              "        [  0,   0,   0]]], dtype=uint8)"
            ]
          },
          "metadata": {},
          "execution_count": 13
        }
      ]
    },
    {
      "cell_type": "markdown",
      "source": [
        "## Split\n",
        "Experimenting with the following splits:\n",
        "\n",
        "Training/Validation/Test:\n",
        "- 80/10/10\n",
        "- 60/30/10\n",
        "- 70/20/10\n"
      ],
      "metadata": {
        "id": "fiEa6VN9QEVS"
      }
    },
    {
      "cell_type": "code",
      "source": [
        "# X_train, X_test, y_train, y_test = train_test_split(data, labels, test_size=0.20, random_state=42)\n",
        "# X_val, X_test, y_val, y_test = train_test_split(X_test, y_test, test_size=0.50, random_state=42)"
      ],
      "metadata": {
        "id": "FO8gQ5m4cWB0"
      },
      "execution_count": 14,
      "outputs": []
    },
    {
      "cell_type": "code",
      "source": [
        "# X_train, X_test, y_train, y_test = train_test_split(data, labels, test_size=0.40, random_state=42)\n",
        "# X_val, X_test, y_val, y_test = train_test_split(X_test, y_test, test_size=0.25, random_state=42)"
      ],
      "metadata": {
        "id": "uWH3Lf09cV_t"
      },
      "execution_count": 15,
      "outputs": []
    },
    {
      "cell_type": "code",
      "source": [
        "X_train, X_test, y_train, y_test = train_test_split(data, labels, test_size=0.30, random_state=42)\n",
        "X_val, X_test, y_val, y_test = train_test_split(X_test, y_test, test_size=0.33, random_state=42)"
      ],
      "metadata": {
        "id": "wkQrikB6q9LO"
      },
      "execution_count": 16,
      "outputs": []
    },
    {
      "cell_type": "markdown",
      "source": [
        "## Class distribution"
      ],
      "metadata": {
        "id": "aw2IBtfFP8YD"
      }
    },
    {
      "cell_type": "code",
      "source": [
        "df_train = pd.DataFrame(y_train, columns=['label'])\n",
        "df_train.head()"
      ],
      "metadata": {
        "colab": {
          "base_uri": "https://localhost:8080/",
          "height": 206
        },
        "id": "p6O6bXLwOptx",
        "outputId": "f482b563-7591-48cb-b5a4-56d3b419fbb4"
      },
      "execution_count": 17,
      "outputs": [
        {
          "output_type": "execute_result",
          "data": {
            "text/plain": [
              "       label\n",
              "0  n02979186\n",
              "1  n03028079\n",
              "2  n03028079\n",
              "3  n02979186\n",
              "4  n03445777"
            ],
            "text/html": [
              "\n",
              "  <div id=\"df-d0294dd3-307d-4b05-b6b8-52da3ee5b1b1\">\n",
              "    <div class=\"colab-df-container\">\n",
              "      <div>\n",
              "<style scoped>\n",
              "    .dataframe tbody tr th:only-of-type {\n",
              "        vertical-align: middle;\n",
              "    }\n",
              "\n",
              "    .dataframe tbody tr th {\n",
              "        vertical-align: top;\n",
              "    }\n",
              "\n",
              "    .dataframe thead th {\n",
              "        text-align: right;\n",
              "    }\n",
              "</style>\n",
              "<table border=\"1\" class=\"dataframe\">\n",
              "  <thead>\n",
              "    <tr style=\"text-align: right;\">\n",
              "      <th></th>\n",
              "      <th>label</th>\n",
              "    </tr>\n",
              "  </thead>\n",
              "  <tbody>\n",
              "    <tr>\n",
              "      <th>0</th>\n",
              "      <td>n02979186</td>\n",
              "    </tr>\n",
              "    <tr>\n",
              "      <th>1</th>\n",
              "      <td>n03028079</td>\n",
              "    </tr>\n",
              "    <tr>\n",
              "      <th>2</th>\n",
              "      <td>n03028079</td>\n",
              "    </tr>\n",
              "    <tr>\n",
              "      <th>3</th>\n",
              "      <td>n02979186</td>\n",
              "    </tr>\n",
              "    <tr>\n",
              "      <th>4</th>\n",
              "      <td>n03445777</td>\n",
              "    </tr>\n",
              "  </tbody>\n",
              "</table>\n",
              "</div>\n",
              "      <button class=\"colab-df-convert\" onclick=\"convertToInteractive('df-d0294dd3-307d-4b05-b6b8-52da3ee5b1b1')\"\n",
              "              title=\"Convert this dataframe to an interactive table.\"\n",
              "              style=\"display:none;\">\n",
              "        \n",
              "  <svg xmlns=\"http://www.w3.org/2000/svg\" height=\"24px\"viewBox=\"0 0 24 24\"\n",
              "       width=\"24px\">\n",
              "    <path d=\"M0 0h24v24H0V0z\" fill=\"none\"/>\n",
              "    <path d=\"M18.56 5.44l.94 2.06.94-2.06 2.06-.94-2.06-.94-.94-2.06-.94 2.06-2.06.94zm-11 1L8.5 8.5l.94-2.06 2.06-.94-2.06-.94L8.5 2.5l-.94 2.06-2.06.94zm10 10l.94 2.06.94-2.06 2.06-.94-2.06-.94-.94-2.06-.94 2.06-2.06.94z\"/><path d=\"M17.41 7.96l-1.37-1.37c-.4-.4-.92-.59-1.43-.59-.52 0-1.04.2-1.43.59L10.3 9.45l-7.72 7.72c-.78.78-.78 2.05 0 2.83L4 21.41c.39.39.9.59 1.41.59.51 0 1.02-.2 1.41-.59l7.78-7.78 2.81-2.81c.8-.78.8-2.07 0-2.86zM5.41 20L4 18.59l7.72-7.72 1.47 1.35L5.41 20z\"/>\n",
              "  </svg>\n",
              "      </button>\n",
              "      \n",
              "  <style>\n",
              "    .colab-df-container {\n",
              "      display:flex;\n",
              "      flex-wrap:wrap;\n",
              "      gap: 12px;\n",
              "    }\n",
              "\n",
              "    .colab-df-convert {\n",
              "      background-color: #E8F0FE;\n",
              "      border: none;\n",
              "      border-radius: 50%;\n",
              "      cursor: pointer;\n",
              "      display: none;\n",
              "      fill: #1967D2;\n",
              "      height: 32px;\n",
              "      padding: 0 0 0 0;\n",
              "      width: 32px;\n",
              "    }\n",
              "\n",
              "    .colab-df-convert:hover {\n",
              "      background-color: #E2EBFA;\n",
              "      box-shadow: 0px 1px 2px rgba(60, 64, 67, 0.3), 0px 1px 3px 1px rgba(60, 64, 67, 0.15);\n",
              "      fill: #174EA6;\n",
              "    }\n",
              "\n",
              "    [theme=dark] .colab-df-convert {\n",
              "      background-color: #3B4455;\n",
              "      fill: #D2E3FC;\n",
              "    }\n",
              "\n",
              "    [theme=dark] .colab-df-convert:hover {\n",
              "      background-color: #434B5C;\n",
              "      box-shadow: 0px 1px 3px 1px rgba(0, 0, 0, 0.15);\n",
              "      filter: drop-shadow(0px 1px 2px rgba(0, 0, 0, 0.3));\n",
              "      fill: #FFFFFF;\n",
              "    }\n",
              "  </style>\n",
              "\n",
              "      <script>\n",
              "        const buttonEl =\n",
              "          document.querySelector('#df-d0294dd3-307d-4b05-b6b8-52da3ee5b1b1 button.colab-df-convert');\n",
              "        buttonEl.style.display =\n",
              "          google.colab.kernel.accessAllowed ? 'block' : 'none';\n",
              "\n",
              "        async function convertToInteractive(key) {\n",
              "          const element = document.querySelector('#df-d0294dd3-307d-4b05-b6b8-52da3ee5b1b1');\n",
              "          const dataTable =\n",
              "            await google.colab.kernel.invokeFunction('convertToInteractive',\n",
              "                                                     [key], {});\n",
              "          if (!dataTable) return;\n",
              "\n",
              "          const docLinkHtml = 'Like what you see? Visit the ' +\n",
              "            '<a target=\"_blank\" href=https://colab.research.google.com/notebooks/data_table.ipynb>data table notebook</a>'\n",
              "            + ' to learn more about interactive tables.';\n",
              "          element.innerHTML = '';\n",
              "          dataTable['output_type'] = 'display_data';\n",
              "          await google.colab.output.renderOutput(dataTable, element);\n",
              "          const docLink = document.createElement('div');\n",
              "          docLink.innerHTML = docLinkHtml;\n",
              "          element.appendChild(docLink);\n",
              "        }\n",
              "      </script>\n",
              "    </div>\n",
              "  </div>\n",
              "  "
            ]
          },
          "metadata": {},
          "execution_count": 17
        }
      ]
    },
    {
      "cell_type": "code",
      "source": [
        "sns.countplot(data=df_train, x='label')\n",
        "plt.show()"
      ],
      "metadata": {
        "colab": {
          "base_uri": "https://localhost:8080/",
          "height": 280
        },
        "id": "dqdcinbjO4hQ",
        "outputId": "c9dd5aff-acc5-46e3-b464-b143e595bc61"
      },
      "execution_count": 18,
      "outputs": [
        {
          "output_type": "display_data",
          "data": {
            "text/plain": [
              "<Figure size 432x288 with 1 Axes>"
            ],
            "image/png": "[encoded data removed]"
          },
          "metadata": {
            "needs_background": "light"
          }
        }
      ]
    },
    {
      "cell_type": "code",
      "source": [
        "df_test = pd.DataFrame(y_test, columns=['label'])\n",
        "df_test.head()"
      ],
      "metadata": {
        "colab": {
          "base_uri": "https://localhost:8080/",
          "height": 206
        },
        "id": "zUJ5K75XPCxp",
        "outputId": "d23802b9-4898-4fcc-b2f8-bd4f934b3030"
      },
      "execution_count": 19,
      "outputs": [
        {
          "output_type": "execute_result",
          "data": {
            "text/plain": [
              "       label\n",
              "0  n02979186\n",
              "1  n03028079\n",
              "2  n03417042\n",
              "3  n03417042\n",
              "4  n03028079"
            ],
            "text/html": [
              "\n",
              "  <div id=\"df-7adef1ee-05c5-494a-89c1-6ec716a1b611\">\n",
              "    <div class=\"colab-df-container\">\n",
              "      <div>\n",
              "<style scoped>\n",
              "    .dataframe tbody tr th:only-of-type {\n",
              "        vertical-align: middle;\n",
              "    }\n",
              "\n",
              "    .dataframe tbody tr th {\n",
              "        vertical-align: top;\n",
              "    }\n",
              "\n",
              "    .dataframe thead th {\n",
              "        text-align: right;\n",
              "    }\n",
              "</style>\n",
              "<table border=\"1\" class=\"dataframe\">\n",
              "  <thead>\n",
              "    <tr style=\"text-align: right;\">\n",
              "      <th></th>\n",
              "      <th>label</th>\n",
              "    </tr>\n",
              "  </thead>\n",
              "  <tbody>\n",
              "    <tr>\n",
              "      <th>0</th>\n",
              "      <td>n02979186</td>\n",
              "    </tr>\n",
              "    <tr>\n",
              "      <th>1</th>\n",
              "      <td>n03028079</td>\n",
              "    </tr>\n",
              "    <tr>\n",
              "      <th>2</th>\n",
              "      <td>n03417042</td>\n",
              "    </tr>\n",
              "    <tr>\n",
              "      <th>3</th>\n",
              "      <td>n03417042</td>\n",
              "    </tr>\n",
              "    <tr>\n",
              "      <th>4</th>\n",
              "      <td>n03028079</td>\n",
              "    </tr>\n",
              "  </tbody>\n",
              "</table>\n",
              "</div>\n",
              "      <button class=\"colab-df-convert\" onclick=\"convertToInteractive('df-7adef1ee-05c5-494a-89c1-6ec716a1b611')\"\n",
              "              title=\"Convert this dataframe to an interactive table.\"\n",
              "              style=\"display:none;\">\n",
              "        \n",
              "  <svg xmlns=\"http://www.w3.org/2000/svg\" height=\"24px\"viewBox=\"0 0 24 24\"\n",
              "       width=\"24px\">\n",
              "    <path d=\"M0 0h24v24H0V0z\" fill=\"none\"/>\n",
              "    <path d=\"M18.56 5.44l.94 2.06.94-2.06 2.06-.94-2.06-.94-.94-2.06-.94 2.06-2.06.94zm-11 1L8.5 8.5l.94-2.06 2.06-.94-2.06-.94L8.5 2.5l-.94 2.06-2.06.94zm10 10l.94 2.06.94-2.06 2.06-.94-2.06-.94-.94-2.06-.94 2.06-2.06.94z\"/><path d=\"M17.41 7.96l-1.37-1.37c-.4-.4-.92-.59-1.43-.59-.52 0-1.04.2-1.43.59L10.3 9.45l-7.72 7.72c-.78.78-.78 2.05 0 2.83L4 21.41c.39.39.9.59 1.41.59.51 0 1.02-.2 1.41-.59l7.78-7.78 2.81-2.81c.8-.78.8-2.07 0-2.86zM5.41 20L4 18.59l7.72-7.72 1.47 1.35L5.41 20z\"/>\n",
              "  </svg>\n",
              "      </button>\n",
              "      \n",
              "  <style>\n",
              "    .colab-df-container {\n",
              "      display:flex;\n",
              "      flex-wrap:wrap;\n",
              "      gap: 12px;\n",
              "    }\n",
              "\n",
              "    .colab-df-convert {\n",
              "      background-color: #E8F0FE;\n",
              "      border: none;\n",
              "      border-radius: 50%;\n",
              "      cursor: pointer;\n",
              "      display: none;\n",
              "      fill: #1967D2;\n",
              "      height: 32px;\n",
              "      padding: 0 0 0 0;\n",
              "      width: 32px;\n",
              "    }\n",
              "\n",
              "    .colab-df-convert:hover {\n",
              "      background-color: #E2EBFA;\n",
              "      box-shadow: 0px 1px 2px rgba(60, 64, 67, 0.3), 0px 1px 3px 1px rgba(60, 64, 67, 0.15);\n",
              "      fill: #174EA6;\n",
              "    }\n",
              "\n",
              "    [theme=dark] .colab-df-convert {\n",
              "      background-color: #3B4455;\n",
              "      fill: #D2E3FC;\n",
              "    }\n",
              "\n",
              "    [theme=dark] .colab-df-convert:hover {\n",
              "      background-color: #434B5C;\n",
              "      box-shadow: 0px 1px 3px 1px rgba(0, 0, 0, 0.15);\n",
              "      filter: drop-shadow(0px 1px 2px rgba(0, 0, 0, 0.3));\n",
              "      fill: #FFFFFF;\n",
              "    }\n",
              "  </style>\n",
              "\n",
              "      <script>\n",
              "        const buttonEl =\n",
              "          document.querySelector('#df-7adef1ee-05c5-494a-89c1-6ec716a1b611 button.colab-df-convert');\n",
              "        buttonEl.style.display =\n",
              "          google.colab.kernel.accessAllowed ? 'block' : 'none';\n",
              "\n",
              "        async function convertToInteractive(key) {\n",
              "          const element = document.querySelector('#df-7adef1ee-05c5-494a-89c1-6ec716a1b611');\n",
              "          const dataTable =\n",
              "            await google.colab.kernel.invokeFunction('convertToInteractive',\n",
              "                                                     [key], {});\n",
              "          if (!dataTable) return;\n",
              "\n",
              "          const docLinkHtml = 'Like what you see? Visit the ' +\n",
              "            '<a target=\"_blank\" href=https://colab.research.google.com/notebooks/data_table.ipynb>data table notebook</a>'\n",
              "            + ' to learn more about interactive tables.';\n",
              "          element.innerHTML = '';\n",
              "          dataTable['output_type'] = 'display_data';\n",
              "          await google.colab.output.renderOutput(dataTable, element);\n",
              "          const docLink = document.createElement('div');\n",
              "          docLink.innerHTML = docLinkHtml;\n",
              "          element.appendChild(docLink);\n",
              "        }\n",
              "      </script>\n",
              "    </div>\n",
              "  </div>\n",
              "  "
            ]
          },
          "metadata": {},
          "execution_count": 19
        }
      ]
    },
    {
      "cell_type": "code",
      "source": [
        "sns.countplot(data=df_test, x='label')\n",
        "plt.show()"
      ],
      "metadata": {
        "colab": {
          "base_uri": "https://localhost:8080/",
          "height": 282
        },
        "id": "dgLwhFaQPMtW",
        "outputId": "079527f9-db89-43a0-d8c2-ae90e7f70e34"
      },
      "execution_count": 20,
      "outputs": [
        {
          "output_type": "display_data",
          "data": {
            "text/plain": [
              "<Figure size 432x288 with 1 Axes>"
            ],
            "image/png": "[encoded data removed]"
          },
          "metadata": {
            "needs_background": "light"
          }
        }
      ]
    },
    {
      "cell_type": "code",
      "source": [
        "df_val = pd.DataFrame(y_val, columns=['label'])\n",
        "df_val.head()"
      ],
      "metadata": {
        "colab": {
          "base_uri": "https://localhost:8080/",
          "height": 206
        },
        "id": "Ffya_-TJKuHa",
        "outputId": "1e1fbe7e-de31-485c-eaec-7d14aa97050e"
      },
      "execution_count": 21,
      "outputs": [
        {
          "output_type": "execute_result",
          "data": {
            "text/plain": [
              "       label\n",
              "0  n02979186\n",
              "1  n03445777\n",
              "2  n02979186\n",
              "3  n03417042\n",
              "4  n02979186"
            ],
            "text/html": [
              "\n",
              "  <div id=\"df-386b2381-6a68-4720-8c24-5a5c75740a9e\">\n",
              "    <div class=\"colab-df-container\">\n",
              "      <div>\n",
              "<style scoped>\n",
              "    .dataframe tbody tr th:only-of-type {\n",
              "        vertical-align: middle;\n",
              "    }\n",
              "\n",
              "    .dataframe tbody tr th {\n",
              "        vertical-align: top;\n",
              "    }\n",
              "\n",
              "    .dataframe thead th {\n",
              "        text-align: right;\n",
              "    }\n",
              "</style>\n",
              "<table border=\"1\" class=\"dataframe\">\n",
              "  <thead>\n",
              "    <tr style=\"text-align: right;\">\n",
              "      <th></th>\n",
              "      <th>label</th>\n",
              "    </tr>\n",
              "  </thead>\n",
              "  <tbody>\n",
              "    <tr>\n",
              "      <th>0</th>\n",
              "      <td>n02979186</td>\n",
              "    </tr>\n",
              "    <tr>\n",
              "      <th>1</th>\n",
              "      <td>n03445777</td>\n",
              "    </tr>\n",
              "    <tr>\n",
              "      <th>2</th>\n",
              "      <td>n02979186</td>\n",
              "    </tr>\n",
              "    <tr>\n",
              "      <th>3</th>\n",
              "      <td>n03417042</td>\n",
              "    </tr>\n",
              "    <tr>\n",
              "      <th>4</th>\n",
              "      <td>n02979186</td>\n",
              "    </tr>\n",
              "  </tbody>\n",
              "</table>\n",
              "</div>\n",
              "      <button class=\"colab-df-convert\" onclick=\"convertToInteractive('df-386b2381-6a68-4720-8c24-5a5c75740a9e')\"\n",
              "              title=\"Convert this dataframe to an interactive table.\"\n",
              "              style=\"display:none;\">\n",
              "        \n",
              "  <svg xmlns=\"http://www.w3.org/2000/svg\" height=\"24px\"viewBox=\"0 0 24 24\"\n",
              "       width=\"24px\">\n",
              "    <path d=\"M0 0h24v24H0V0z\" fill=\"none\"/>\n",
              "    <path d=\"M18.56 5.44l.94 2.06.94-2.06 2.06-.94-2.06-.94-.94-2.06-.94 2.06-2.06.94zm-11 1L8.5 8.5l.94-2.06 2.06-.94-2.06-.94L8.5 2.5l-.94 2.06-2.06.94zm10 10l.94 2.06.94-2.06 2.06-.94-2.06-.94-.94-2.06-.94 2.06-2.06.94z\"/><path d=\"M17.41 7.96l-1.37-1.37c-.4-.4-.92-.59-1.43-.59-.52 0-1.04.2-1.43.59L10.3 9.45l-7.72 7.72c-.78.78-.78 2.05 0 2.83L4 21.41c.39.39.9.59 1.41.59.51 0 1.02-.2 1.41-.59l7.78-7.78 2.81-2.81c.8-.78.8-2.07 0-2.86zM5.41 20L4 18.59l7.72-7.72 1.47 1.35L5.41 20z\"/>\n",
              "  </svg>\n",
              "      </button>\n",
              "      \n",
              "  <style>\n",
              "    .colab-df-container {\n",
              "      display:flex;\n",
              "      flex-wrap:wrap;\n",
              "      gap: 12px;\n",
              "    }\n",
              "\n",
              "    .colab-df-convert {\n",
              "      background-color: #E8F0FE;\n",
              "      border: none;\n",
              "      border-radius: 50%;\n",
              "      cursor: pointer;\n",
              "      display: none;\n",
              "      fill: #1967D2;\n",
              "      height: 32px;\n",
              "      padding: 0 0 0 0;\n",
              "      width: 32px;\n",
              "    }\n",
              "\n",
              "    .colab-df-convert:hover {\n",
              "      background-color: #E2EBFA;\n",
              "      box-shadow: 0px 1px 2px rgba(60, 64, 67, 0.3), 0px 1px 3px 1px rgba(60, 64, 67, 0.15);\n",
              "      fill: #174EA6;\n",
              "    }\n",
              "\n",
              "    [theme=dark] .colab-df-convert {\n",
              "      background-color: #3B4455;\n",
              "      fill: #D2E3FC;\n",
              "    }\n",
              "\n",
              "    [theme=dark] .colab-df-convert:hover {\n",
              "      background-color: #434B5C;\n",
              "      box-shadow: 0px 1px 3px 1px rgba(0, 0, 0, 0.15);\n",
              "      filter: drop-shadow(0px 1px 2px rgba(0, 0, 0, 0.3));\n",
              "      fill: #FFFFFF;\n",
              "    }\n",
              "  </style>\n",
              "\n",
              "      <script>\n",
              "        const buttonEl =\n",
              "          document.querySelector('#df-386b2381-6a68-4720-8c24-5a5c75740a9e button.colab-df-convert');\n",
              "        buttonEl.style.display =\n",
              "          google.colab.kernel.accessAllowed ? 'block' : 'none';\n",
              "\n",
              "        async function convertToInteractive(key) {\n",
              "          const element = document.querySelector('#df-386b2381-6a68-4720-8c24-5a5c75740a9e');\n",
              "          const dataTable =\n",
              "            await google.colab.kernel.invokeFunction('convertToInteractive',\n",
              "                                                     [key], {});\n",
              "          if (!dataTable) return;\n",
              "\n",
              "          const docLinkHtml = 'Like what you see? Visit the ' +\n",
              "            '<a target=\"_blank\" href=https://colab.research.google.com/notebooks/data_table.ipynb>data table notebook</a>'\n",
              "            + ' to learn more about interactive tables.';\n",
              "          element.innerHTML = '';\n",
              "          dataTable['output_type'] = 'display_data';\n",
              "          await google.colab.output.renderOutput(dataTable, element);\n",
              "          const docLink = document.createElement('div');\n",
              "          docLink.innerHTML = docLinkHtml;\n",
              "          element.appendChild(docLink);\n",
              "        }\n",
              "      </script>\n",
              "    </div>\n",
              "  </div>\n",
              "  "
            ]
          },
          "metadata": {},
          "execution_count": 21
        }
      ]
    },
    {
      "cell_type": "code",
      "source": [
        "sns.countplot(data=df_val, x='label')\n",
        "plt.show()"
      ],
      "metadata": {
        "colab": {
          "base_uri": "https://localhost:8080/",
          "height": 279
        },
        "id": "zKybFqldKuFN",
        "outputId": "3425eecb-e10d-402a-8169-fe3311e57739"
      },
      "execution_count": 22,
      "outputs": [
        {
          "output_type": "display_data",
          "data": {
            "text/plain": [
              "<Figure size 432x288 with 1 Axes>"
            ],
            "image/png": "[encoded data removed]"
          },
          "metadata": {
            "needs_background": "light"
          }
        }
      ]
    },
    {
      "cell_type": "markdown",
      "source": [
        "## Encoding"
      ],
      "metadata": {
        "id": "k3-odDC4P4iw"
      }
    },
    {
      "cell_type": "code",
      "source": [
        "def one_hot_encode(y, num_classes):\n",
        "  le = LabelEncoder()\n",
        "  return to_categorical(le.fit_transform(y), num_classes)"
      ],
      "metadata": {
        "id": "j05-94gsVG7P"
      },
      "execution_count": 23,
      "outputs": []
    },
    {
      "cell_type": "code",
      "source": [
        "y_train[0]"
      ],
      "metadata": {
        "colab": {
          "base_uri": "https://localhost:8080/",
          "height": 35
        },
        "id": "TIIs6vhcPSlC",
        "outputId": "1504c976-7868-4fbd-d55c-7011274b8c8d"
      },
      "execution_count": 24,
      "outputs": [
        {
          "output_type": "execute_result",
          "data": {
            "text/plain": [
              "'n02979186'"
            ],
            "application/vnd.google.colaboratory.intrinsic+json": {
              "type": "string"
            }
          },
          "metadata": {},
          "execution_count": 24
        }
      ]
    },
    {
      "cell_type": "code",
      "source": [
        "y_train = one_hot_encode(y_train, NUM_CLASSES)"
      ],
      "metadata": {
        "id": "BPYfBPPNPXhm"
      },
      "execution_count": 25,
      "outputs": []
    },
    {
      "cell_type": "code",
      "source": [
        "y_train[0]"
      ],
      "metadata": {
        "colab": {
          "base_uri": "https://localhost:8080/"
        },
        "id": "t7fvDvpkPm04",
        "outputId": "81203d20-1c77-43e5-a1ee-889b95609d70"
      },
      "execution_count": 26,
      "outputs": [
        {
          "output_type": "execute_result",
          "data": {
            "text/plain": [
              "array([1., 0., 0., 0.], dtype=float32)"
            ]
          },
          "metadata": {},
          "execution_count": 26
        }
      ]
    },
    {
      "cell_type": "code",
      "source": [
        "y_test[0]"
      ],
      "metadata": {
        "colab": {
          "base_uri": "https://localhost:8080/",
          "height": 35
        },
        "id": "dT7y2i_1PtcM",
        "outputId": "b6c4f0b8-2062-4f3a-f181-a21faee5a765"
      },
      "execution_count": 27,
      "outputs": [
        {
          "output_type": "execute_result",
          "data": {
            "text/plain": [
              "'n02979186'"
            ],
            "application/vnd.google.colaboratory.intrinsic+json": {
              "type": "string"
            }
          },
          "metadata": {},
          "execution_count": 27
        }
      ]
    },
    {
      "cell_type": "code",
      "source": [
        "y_test = one_hot_encode(y_test, NUM_CLASSES)"
      ],
      "metadata": {
        "id": "q302nQhQPtWL"
      },
      "execution_count": 28,
      "outputs": []
    },
    {
      "cell_type": "code",
      "source": [
        "y_test[0]"
      ],
      "metadata": {
        "colab": {
          "base_uri": "https://localhost:8080/"
        },
        "id": "xFJEn4BOPtPy",
        "outputId": "92c15514-e232-4543-c69f-563f7d3b8c5d"
      },
      "execution_count": 29,
      "outputs": [
        {
          "output_type": "execute_result",
          "data": {
            "text/plain": [
              "array([1., 0., 0., 0.], dtype=float32)"
            ]
          },
          "metadata": {},
          "execution_count": 29
        }
      ]
    },
    {
      "cell_type": "code",
      "source": [
        "np.array(y_train).shape"
      ],
      "metadata": {
        "colab": {
          "base_uri": "https://localhost:8080/"
        },
        "id": "8BglGxUPeelq",
        "outputId": "272baecc-5c3d-4727-b7ca-a7ea8807b1a3"
      },
      "execution_count": 30,
      "outputs": [
        {
          "output_type": "execute_result",
          "data": {
            "text/plain": [
              "(3780, 4)"
            ]
          },
          "metadata": {},
          "execution_count": 30
        }
      ]
    },
    {
      "cell_type": "code",
      "source": [
        "y_val[0]"
      ],
      "metadata": {
        "colab": {
          "base_uri": "https://localhost:8080/",
          "height": 35
        },
        "id": "mDS2VaEgJEQk",
        "outputId": "dd17b991-d070-4052-b04e-fd15fcb1b0b6"
      },
      "execution_count": 31,
      "outputs": [
        {
          "output_type": "execute_result",
          "data": {
            "text/plain": [
              "'n02979186'"
            ],
            "application/vnd.google.colaboratory.intrinsic+json": {
              "type": "string"
            }
          },
          "metadata": {},
          "execution_count": 31
        }
      ]
    },
    {
      "cell_type": "code",
      "source": [
        "y_val = one_hot_encode(y_val, NUM_CLASSES)"
      ],
      "metadata": {
        "id": "niF9uj0WJHR1"
      },
      "execution_count": 32,
      "outputs": []
    },
    {
      "cell_type": "code",
      "source": [
        "y_val"
      ],
      "metadata": {
        "colab": {
          "base_uri": "https://localhost:8080/"
        },
        "id": "QoFFPvuzJHNH",
        "outputId": "0c550bf6-28db-4f32-e572-5c004b203a76"
      },
      "execution_count": 33,
      "outputs": [
        {
          "output_type": "execute_result",
          "data": {
            "text/plain": [
              "array([[1., 0., 0., 0.],\n",
              "       [0., 0., 0., 1.],\n",
              "       [1., 0., 0., 0.],\n",
              "       ...,\n",
              "       [0., 0., 1., 0.],\n",
              "       [0., 1., 0., 0.],\n",
              "       [0., 0., 0., 1.]], dtype=float32)"
            ]
          },
          "metadata": {},
          "execution_count": 33
        }
      ]
    },
    {
      "cell_type": "markdown",
      "source": [
        "## Create train, validation and test sets"
      ],
      "metadata": {
        "id": "L9lbpcv7QZYC"
      }
    },
    {
      "cell_type": "code",
      "source": [
        "train_datagen = ImageDataGenerator(        \n",
        "        rescale=1./255,\n",
        "        fill_mode=\"nearest\"\n",
        ")\n",
        "\n",
        "val_datagen = ImageDataGenerator(rescale=1./255)\n",
        "test_datagen = ImageDataGenerator(rescale=1./255)\n",
        "\n",
        "# data augmented training data\n",
        "train_aug_datagen = ImageDataGenerator(        \n",
        "        rescale=1./255,\n",
        "        fill_mode=\"nearest\",\n",
        "        rotation_range=40,\n",
        "        width_shift_range=0.2,\n",
        "        height_shift_range=0.2,\n",
        "        shear_range=0.2,\n",
        "        zoom_range=0.2,\n",
        "        horizontal_flip=True\n",
        ")"
      ],
      "metadata": {
        "id": "QAmBWWzTQLfu"
      },
      "execution_count": 34,
      "outputs": []
    },
    {
      "cell_type": "code",
      "source": [
        "train_ds = train_datagen.flow(\n",
        "  np.array(X_train), y_train,\n",
        "  shuffle=True,\n",
        "  batch_size=128\n",
        ")\n",
        "\n",
        "train_aug_ds = train_datagen.flow(\n",
        "  np.array(X_train), y_train,\n",
        "  shuffle=True,\n",
        "  batch_size=128\n",
        ")\n",
        "\n",
        "val_ds = val_datagen.flow(\n",
        "  np.array(X_val), y_val,\n",
        "  shuffle=True,\n",
        "  batch_size=128\n",
        ")\n",
        "\n",
        "test_ds = test_datagen.flow(\n",
        "  np.array(X_test), y_test,\n",
        "  shuffle=False,\n",
        "  batch_size=128\n",
        ")"
      ],
      "metadata": {
        "id": "DEGRrcKyQLR2"
      },
      "execution_count": 35,
      "outputs": []
    },
    {
      "cell_type": "code",
      "source": [
        "print('Shape of training samples: ', train_ds.x.shape)\n",
        "print('Shape of validation samples: ', val_ds.x.shape)\n",
        "print('Shape of test samples: ', test_ds.x.shape)\n",
        "\n",
        "print('--------------------------')\n",
        "print('Shape of augmented training samples: ', train_ds.x.shape)"
      ],
      "metadata": {
        "colab": {
          "base_uri": "https://localhost:8080/"
        },
        "id": "TWpxTK2fUMbM",
        "outputId": "874aa16c-da1d-440f-d74b-dce3b862483d"
      },
      "execution_count": 36,
      "outputs": [
        {
          "output_type": "stream",
          "name": "stdout",
          "text": [
            "Shape of training samples:  (3780, 64, 64, 3)\n",
            "Shape of validation samples:  (1085, 64, 64, 3)\n",
            "Shape of test samples:  (535, 64, 64, 3)\n",
            "--------------------------\n",
            "Shape of augmented training samples:  (3780, 64, 64, 3)\n"
          ]
        }
      ]
    },
    {
      "cell_type": "markdown",
      "source": [
        "## Build model"
      ],
      "metadata": {
        "id": "mXM62rqgWnmR"
      }
    },
    {
      "cell_type": "code",
      "source": [
        "def build_model(batchNorm=False, dropOut=False, l2Reg=False):\n",
        "  model = Sequential()\n",
        "\n",
        "  if l2Reg:\n",
        "    model.add(Conv2D(32, kernel_size=3, activation='relu', kernel_regularizer='l2', input_shape=(64,64,3)))\n",
        "    model.add(Conv2D(32, kernel_size=3, activation='relu', kernel_regularizer='l2'))\n",
        "  else:\n",
        "    model.add(Conv2D(32, kernel_size=3, activation='relu', input_shape=(64,64,3)))\n",
        "    model.add(Conv2D(32, kernel_size=3, activation='relu'))\n",
        "  \n",
        "  model.add(MaxPooling2D(pool_size=(2,2)))\n",
        "\n",
        "  if batchNorm:\n",
        "    model.add(BatchNormalization())\n",
        "\n",
        "  if l2Reg:\n",
        "    model.add(Conv2D(64, kernel_size=3, activation='relu', kernel_regularizer='l2'))\n",
        "    model.add(Conv2D(64, kernel_size=3, activation='relu', kernel_regularizer='l2'))\n",
        "  else:\n",
        "    model.add(Conv2D(64, kernel_size=3, activation='relu'))\n",
        "    model.add(Conv2D(64, kernel_size=3, activation='relu'))\n",
        "  \n",
        "  model.add(MaxPooling2D(pool_size=(2,2)))\n",
        "\n",
        "  if batchNorm:\n",
        "    model.add(BatchNormalization())\n",
        "\n",
        "  model.add(Flatten())\n",
        "\n",
        "  if l2Reg:\n",
        "    model.add(Dense(512, kernel_regularizer='l2'))\n",
        "  else:\n",
        "    model.add(Dense(512))\n",
        "  \n",
        "  if dropOut:\n",
        "    model.add(Dropout(0.5))\n",
        "\n",
        "  if l2Reg:\n",
        "    model.add(Dense(NUM_CLASSES, activation='softmax', kernel_regularizer='l2'))\n",
        "  else:\n",
        "    model.add(Dense(NUM_CLASSES, activation='softmax'))\n",
        "\n",
        "  model.compile(\n",
        "      optimizer=Adam(),\n",
        "      loss='categorical_crossentropy',\n",
        "      metrics=[\n",
        "          CategoricalAccuracy(),\n",
        "          Precision(), \n",
        "          Recall(),\n",
        "          AUC()\n",
        "        ]\n",
        "  )\n",
        "\n",
        "  return model"
      ],
      "metadata": {
        "id": "zZSDjLoRQA6o"
      },
      "execution_count": 37,
      "outputs": []
    },
    {
      "cell_type": "code",
      "source": [
        "baseline_model = build_model()\n",
        "baseline_model.summary()"
      ],
      "metadata": {
        "colab": {
          "base_uri": "https://localhost:8080/"
        },
        "id": "rQDGOVCVsKF8",
        "outputId": "a99cfec9-c6c1-48df-b999-e31e7597646b"
      },
      "execution_count": 38,
      "outputs": [
        {
          "output_type": "stream",
          "name": "stdout",
          "text": [
            "Model: \"sequential\"\n",
            "_________________________________________________________________\n",
            " Layer (type)                Output Shape              Param #   \n",
            "=================================================================\n",
            " conv2d (Conv2D)             (None, 62, 62, 32)        896       \n",
            "                                                                 \n",
            " conv2d_1 (Conv2D)           (None, 60, 60, 32)        9248      \n",
            "                                                                 \n",
            " max_pooling2d (MaxPooling2D  (None, 30, 30, 32)       0         \n",
            " )                                                               \n",
            "                                                                 \n",
            " conv2d_2 (Conv2D)           (None, 28, 28, 64)        18496     \n",
            "                                                                 \n",
            " conv2d_3 (Conv2D)           (None, 26, 26, 64)        36928     \n",
            "                                                                 \n",
            " max_pooling2d_1 (MaxPooling  (None, 13, 13, 64)       0         \n",
            " 2D)                                                             \n",
            "                                                                 \n",
            " flatten (Flatten)           (None, 10816)             0         \n",
            "                                                                 \n",
            " dense (Dense)               (None, 512)               5538304   \n",
            "                                                                 \n",
            " dense_1 (Dense)             (None, 4)                 2052      \n",
            "                                                                 \n",
            "=================================================================\n",
            "Total params: 5,605,924\n",
            "Trainable params: 5,605,924\n",
            "Non-trainable params: 0\n",
            "_________________________________________________________________\n"
          ]
        }
      ]
    },
    {
      "cell_type": "markdown",
      "source": [
        "## Train model"
      ],
      "metadata": {
        "id": "Rm888aZjWquk"
      }
    },
    {
      "cell_type": "markdown",
      "source": [
        "### Initialise callbacks"
      ],
      "metadata": {
        "id": "pBeBZRTUPMsV"
      }
    },
    {
      "cell_type": "code",
      "source": [
        "early_stopping = EarlyStopping(monitor='val_loss', verbose=1, patience=2)\n",
        "checkpoint = ModelCheckpoint('/content/drive/MyDrive/EE544 Computer Vision/task-1-weights.hdf5', verbose=1, save_best_only=True, monitor='val_categorical_accuracy')"
      ],
      "metadata": {
        "id": "KF2Jfe0ZOn52"
      },
      "execution_count": 39,
      "outputs": []
    },
    {
      "cell_type": "markdown",
      "source": [
        "### Fit the model"
      ],
      "metadata": {
        "id": "fxsKgdiyeDSp"
      }
    },
    {
      "cell_type": "code",
      "source": [
        "baseline_history = baseline_model.fit(\n",
        "    train_ds,\n",
        "    epochs=30,\n",
        "    verbose=1,\n",
        "    validation_data=val_ds,\n",
        "    callbacks=[checkpoint]\n",
        ")"
      ],
      "metadata": {
        "colab": {
          "base_uri": "https://localhost:8080/"
        },
        "id": "1_jktE3JsRBS",
        "outputId": "d860dc94-c6b0-4084-ef51-7b0c3735621c"
      },
      "execution_count": 40,
      "outputs": [
        {
          "output_type": "stream",
          "name": "stdout",
          "text": [
            "Epoch 1/30\n",
            "29/30 [============================>.] - ETA: 0s - loss: 1.3437 - categorical_accuracy: 0.4491 - precision: 0.5852 - recall: 0.1476 - auc: 0.6937\n",
            "Epoch 1: val_categorical_accuracy improved from -inf to 0.59078, saving model to /content/drive/MyDrive/EE544 Computer Vision/task-1-weights.hdf5\n",
            "30/30 [==============================] - 18s 160ms/step - loss: 1.3303 - categorical_accuracy: 0.4550 - precision: 0.5959 - recall: 0.1537 - auc: 0.6997 - val_loss: 0.9701 - val_categorical_accuracy: 0.5908 - val_precision: 0.7491 - val_recall: 0.3714 - val_auc: 0.8427\n",
            "Epoch 2/30\n",
            "30/30 [==============================] - ETA: 0s - loss: 0.8271 - categorical_accuracy: 0.6675 - precision: 0.7591 - recall: 0.5627 - auc: 0.8833\n",
            "Epoch 2: val_categorical_accuracy improved from 0.59078 to 0.70599, saving model to /content/drive/MyDrive/EE544 Computer Vision/task-1-weights.hdf5\n",
            "30/30 [==============================] - 2s 59ms/step - loss: 0.8271 - categorical_accuracy: 0.6675 - precision: 0.7591 - recall: 0.5627 - auc: 0.8833 - val_loss: 0.7758 - val_categorical_accuracy: 0.7060 - val_precision: 0.7987 - val_recall: 0.5594 - val_auc: 0.9022\n",
            "Epoch 3/30\n",
            "29/30 [============================>.] - ETA: 0s - loss: 0.6665 - categorical_accuracy: 0.7508 - precision: 0.8085 - recall: 0.6681 - auc: 0.9253\n",
            "Epoch 3: val_categorical_accuracy improved from 0.70599 to 0.75023, saving model to /content/drive/MyDrive/EE544 Computer Vision/task-1-weights.hdf5\n",
            "30/30 [==============================] - 2s 53ms/step - loss: 0.6616 - categorical_accuracy: 0.7532 - precision: 0.8112 - recall: 0.6720 - auc: 0.9264 - val_loss: 0.6497 - val_categorical_accuracy: 0.7502 - val_precision: 0.8043 - val_recall: 0.6894 - val_auc: 0.9290\n",
            "Epoch 4/30\n",
            "29/30 [============================>.] - ETA: 0s - loss: 0.5513 - categorical_accuracy: 0.7960 - precision: 0.8341 - recall: 0.7475 - auc: 0.9478\n",
            "Epoch 4: val_categorical_accuracy improved from 0.75023 to 0.77143, saving model to /content/drive/MyDrive/EE544 Computer Vision/task-1-weights.hdf5\n",
            "30/30 [==============================] - 1s 48ms/step - loss: 0.5496 - categorical_accuracy: 0.7963 - precision: 0.8349 - recall: 0.7479 - auc: 0.9482 - val_loss: 0.6252 - val_categorical_accuracy: 0.7714 - val_precision: 0.8170 - val_recall: 0.7281 - val_auc: 0.9363\n",
            "Epoch 5/30\n",
            "30/30 [==============================] - ETA: 0s - loss: 0.5089 - categorical_accuracy: 0.8050 - precision: 0.8497 - recall: 0.7643 - auc: 0.9556\n",
            "Epoch 5: val_categorical_accuracy improved from 0.77143 to 0.78986, saving model to /content/drive/MyDrive/EE544 Computer Vision/task-1-weights.hdf5\n",
            "30/30 [==============================] - 1s 44ms/step - loss: 0.5089 - categorical_accuracy: 0.8050 - precision: 0.8497 - recall: 0.7643 - auc: 0.9556 - val_loss: 0.5860 - val_categorical_accuracy: 0.7899 - val_precision: 0.8160 - val_recall: 0.7355 - val_auc: 0.9437\n",
            "Epoch 6/30\n",
            "30/30 [==============================] - ETA: 0s - loss: 0.4875 - categorical_accuracy: 0.8214 - precision: 0.8542 - recall: 0.7767 - auc: 0.9591\n",
            "Epoch 6: val_categorical_accuracy did not improve from 0.78986\n",
            "30/30 [==============================] - 1s 37ms/step - loss: 0.4875 - categorical_accuracy: 0.8214 - precision: 0.8542 - recall: 0.7767 - auc: 0.9591 - val_loss: 0.6023 - val_categorical_accuracy: 0.7659 - val_precision: 0.8068 - val_recall: 0.7235 - val_auc: 0.9402\n",
            "Epoch 7/30\n",
            "29/30 [============================>.] - ETA: 0s - loss: 0.4279 - categorical_accuracy: 0.8390 - precision: 0.8729 - recall: 0.8031 - auc: 0.9684\n",
            "Epoch 7: val_categorical_accuracy did not improve from 0.78986\n",
            "30/30 [==============================] - 1s 36ms/step - loss: 0.4242 - categorical_accuracy: 0.8407 - precision: 0.8744 - recall: 0.8050 - auc: 0.9690 - val_loss: 0.5989 - val_categorical_accuracy: 0.7889 - val_precision: 0.8137 - val_recall: 0.7567 - val_auc: 0.9439\n",
            "Epoch 8/30\n",
            "29/30 [============================>.] - ETA: 0s - loss: 0.3530 - categorical_accuracy: 0.8719 - precision: 0.8966 - recall: 0.8480 - auc: 0.9778\n",
            "Epoch 8: val_categorical_accuracy improved from 0.78986 to 0.80461, saving model to /content/drive/MyDrive/EE544 Computer Vision/task-1-weights.hdf5\n",
            "30/30 [==============================] - 1s 44ms/step - loss: 0.3512 - categorical_accuracy: 0.8730 - precision: 0.8977 - recall: 0.8492 - auc: 0.9781 - val_loss: 0.5635 - val_categorical_accuracy: 0.8046 - val_precision: 0.8327 - val_recall: 0.7751 - val_auc: 0.9496\n",
            "Epoch 9/30\n",
            "29/30 [============================>.] - ETA: 0s - loss: 0.2889 - categorical_accuracy: 0.9039 - precision: 0.9175 - recall: 0.8864 - auc: 0.9847\n",
            "Epoch 9: val_categorical_accuracy did not improve from 0.80461\n",
            "30/30 [==============================] - 1s 37ms/step - loss: 0.2949 - categorical_accuracy: 0.9019 - precision: 0.9158 - recall: 0.8839 - auc: 0.9840 - val_loss: 0.6114 - val_categorical_accuracy: 0.7991 - val_precision: 0.8195 - val_recall: 0.7825 - val_auc: 0.9453\n",
            "Epoch 10/30\n",
            "29/30 [============================>.] - ETA: 0s - loss: 0.2413 - categorical_accuracy: 0.9143 - precision: 0.9293 - recall: 0.9001 - auc: 0.9898\n",
            "Epoch 10: val_categorical_accuracy improved from 0.80461 to 0.80645, saving model to /content/drive/MyDrive/EE544 Computer Vision/task-1-weights.hdf5\n",
            "30/30 [==============================] - 1s 44ms/step - loss: 0.2395 - categorical_accuracy: 0.9156 - precision: 0.9304 - recall: 0.9019 - auc: 0.9900 - val_loss: 0.6221 - val_categorical_accuracy: 0.8065 - val_precision: 0.8188 - val_recall: 0.7871 - val_auc: 0.9468\n",
            "Epoch 11/30\n",
            "29/30 [============================>.] - ETA: 0s - loss: 0.2038 - categorical_accuracy: 0.9285 - precision: 0.9379 - recall: 0.9179 - auc: 0.9924\n",
            "Epoch 11: val_categorical_accuracy did not improve from 0.80645\n",
            "30/30 [==============================] - 2s 49ms/step - loss: 0.2036 - categorical_accuracy: 0.9294 - precision: 0.9384 - recall: 0.9188 - auc: 0.9924 - val_loss: 0.7650 - val_categorical_accuracy: 0.7770 - val_precision: 0.7952 - val_recall: 0.7622 - val_auc: 0.9311\n",
            "Epoch 12/30\n",
            "29/30 [============================>.] - ETA: 0s - loss: 0.1584 - categorical_accuracy: 0.9452 - precision: 0.9515 - recall: 0.9351 - auc: 0.9956\n",
            "Epoch 12: val_categorical_accuracy did not improve from 0.80645\n",
            "30/30 [==============================] - 1s 37ms/step - loss: 0.1588 - categorical_accuracy: 0.9455 - precision: 0.9518 - recall: 0.9354 - auc: 0.9956 - val_loss: 0.7398 - val_categorical_accuracy: 0.7843 - val_precision: 0.7958 - val_recall: 0.7724 - val_auc: 0.9399\n",
            "Epoch 13/30\n",
            "29/30 [============================>.] - ETA: 0s - loss: 0.1301 - categorical_accuracy: 0.9524 - precision: 0.9595 - recall: 0.9461 - auc: 0.9972\n",
            "Epoch 13: val_categorical_accuracy did not improve from 0.80645\n",
            "30/30 [==============================] - 1s 37ms/step - loss: 0.1303 - categorical_accuracy: 0.9529 - precision: 0.9600 - recall: 0.9466 - auc: 0.9971 - val_loss: 0.7802 - val_categorical_accuracy: 0.7972 - val_precision: 0.8148 - val_recall: 0.7908 - val_auc: 0.9397\n",
            "Epoch 14/30\n",
            "29/30 [============================>.] - ETA: 0s - loss: 0.0869 - categorical_accuracy: 0.9743 - precision: 0.9779 - recall: 0.9712 - auc: 0.9986\n",
            "Epoch 14: val_categorical_accuracy did not improve from 0.80645\n",
            "30/30 [==============================] - 1s 37ms/step - loss: 0.0866 - categorical_accuracy: 0.9743 - precision: 0.9779 - recall: 0.9714 - auc: 0.9986 - val_loss: 0.8824 - val_categorical_accuracy: 0.7834 - val_precision: 0.7958 - val_recall: 0.7760 - val_auc: 0.9315\n",
            "Epoch 15/30\n",
            "29/30 [============================>.] - ETA: 0s - loss: 0.0632 - categorical_accuracy: 0.9778 - precision: 0.9810 - recall: 0.9754 - auc: 0.9993\n",
            "Epoch 15: val_categorical_accuracy did not improve from 0.80645\n",
            "30/30 [==============================] - 1s 36ms/step - loss: 0.0683 - categorical_accuracy: 0.9759 - precision: 0.9792 - recall: 0.9733 - auc: 0.9992 - val_loss: 0.9602 - val_categorical_accuracy: 0.7871 - val_precision: 0.7912 - val_recall: 0.7825 - val_auc: 0.9323\n",
            "Epoch 16/30\n",
            "29/30 [============================>.] - ETA: 0s - loss: 0.0962 - categorical_accuracy: 0.9652 - precision: 0.9667 - recall: 0.9622 - auc: 0.9980\n",
            "Epoch 16: val_categorical_accuracy did not improve from 0.80645\n",
            "30/30 [==============================] - 1s 37ms/step - loss: 0.0966 - categorical_accuracy: 0.9648 - precision: 0.9668 - recall: 0.9619 - auc: 0.9980 - val_loss: 0.9323 - val_categorical_accuracy: 0.7926 - val_precision: 0.7955 - val_recall: 0.7853 - val_auc: 0.9331\n",
            "Epoch 17/30\n",
            "29/30 [============================>.] - ETA: 0s - loss: 0.0835 - categorical_accuracy: 0.9663 - precision: 0.9689 - recall: 0.9644 - auc: 0.9985\n",
            "Epoch 17: val_categorical_accuracy did not improve from 0.80645\n",
            "30/30 [==============================] - 1s 43ms/step - loss: 0.0884 - categorical_accuracy: 0.9646 - precision: 0.9673 - recall: 0.9627 - auc: 0.9983 - val_loss: 1.0262 - val_categorical_accuracy: 0.7972 - val_precision: 0.8043 - val_recall: 0.7880 - val_auc: 0.9313\n",
            "Epoch 18/30\n",
            "29/30 [============================>.] - ETA: 0s - loss: 0.0722 - categorical_accuracy: 0.9778 - precision: 0.9797 - recall: 0.9759 - auc: 0.9990\n",
            "Epoch 18: val_categorical_accuracy did not improve from 0.80645\n",
            "30/30 [==============================] - 1s 37ms/step - loss: 0.0709 - categorical_accuracy: 0.9783 - precision: 0.9801 - recall: 0.9765 - auc: 0.9990 - val_loss: 1.0006 - val_categorical_accuracy: 0.7926 - val_precision: 0.7961 - val_recall: 0.7843 - val_auc: 0.9294\n",
            "Epoch 19/30\n",
            "29/30 [============================>.] - ETA: 0s - loss: 0.0272 - categorical_accuracy: 0.9932 - precision: 0.9934 - recall: 0.9923 - auc: 0.9999\n",
            "Epoch 19: val_categorical_accuracy did not improve from 0.80645\n",
            "30/30 [==============================] - 1s 37ms/step - loss: 0.0268 - categorical_accuracy: 0.9934 - precision: 0.9936 - recall: 0.9926 - auc: 0.9999 - val_loss: 1.1937 - val_categorical_accuracy: 0.7954 - val_precision: 0.7989 - val_recall: 0.7908 - val_auc: 0.9192\n",
            "Epoch 20/30\n",
            "29/30 [============================>.] - ETA: 0s - loss: 0.0167 - categorical_accuracy: 0.9964 - precision: 0.9967 - recall: 0.9962 - auc: 1.0000\n",
            "Epoch 20: val_categorical_accuracy did not improve from 0.80645\n",
            "30/30 [==============================] - 1s 45ms/step - loss: 0.0164 - categorical_accuracy: 0.9966 - precision: 0.9968 - recall: 0.9963 - auc: 1.0000 - val_loss: 1.2444 - val_categorical_accuracy: 0.7862 - val_precision: 0.7899 - val_recall: 0.7797 - val_auc: 0.9209\n",
            "Epoch 21/30\n",
            "29/30 [============================>.] - ETA: 0s - loss: 0.0103 - categorical_accuracy: 0.9975 - precision: 0.9981 - recall: 0.9975 - auc: 1.0000\n",
            "Epoch 21: val_categorical_accuracy improved from 0.80645 to 0.80922, saving model to /content/drive/MyDrive/EE544 Computer Vision/task-1-weights.hdf5\n",
            "30/30 [==============================] - 3s 117ms/step - loss: 0.0101 - categorical_accuracy: 0.9976 - precision: 0.9981 - recall: 0.9976 - auc: 1.0000 - val_loss: 1.2215 - val_categorical_accuracy: 0.8092 - val_precision: 0.8154 - val_recall: 0.8018 - val_auc: 0.9258\n",
            "Epoch 22/30\n",
            "30/30 [==============================] - ETA: 0s - loss: 0.0049 - categorical_accuracy: 0.9995 - precision: 0.9995 - recall: 0.9995 - auc: 1.0000\n",
            "Epoch 22: val_categorical_accuracy did not improve from 0.80922\n",
            "30/30 [==============================] - 1s 38ms/step - loss: 0.0049 - categorical_accuracy: 0.9995 - precision: 0.9995 - recall: 0.9995 - auc: 1.0000 - val_loss: 1.3172 - val_categorical_accuracy: 0.8046 - val_precision: 0.8088 - val_recall: 0.7991 - val_auc: 0.9214\n",
            "Epoch 23/30\n",
            "29/30 [============================>.] - ETA: 0s - loss: 0.0023 - categorical_accuracy: 1.0000 - precision: 1.0000 - recall: 1.0000 - auc: 1.0000\n",
            "Epoch 23: val_categorical_accuracy did not improve from 0.80922\n",
            "30/30 [==============================] - 1s 36ms/step - loss: 0.0022 - categorical_accuracy: 1.0000 - precision: 1.0000 - recall: 1.0000 - auc: 1.0000 - val_loss: 1.3170 - val_categorical_accuracy: 0.8083 - val_precision: 0.8102 - val_recall: 0.8028 - val_auc: 0.9261\n",
            "Epoch 24/30\n",
            "29/30 [============================>.] - ETA: 0s - loss: 0.0016 - categorical_accuracy: 1.0000 - precision: 1.0000 - recall: 1.0000 - auc: 1.0000\n",
            "Epoch 24: val_categorical_accuracy did not improve from 0.80922\n",
            "30/30 [==============================] - 1s 37ms/step - loss: 0.0016 - categorical_accuracy: 1.0000 - precision: 1.0000 - recall: 1.0000 - auc: 1.0000 - val_loss: 1.3976 - val_categorical_accuracy: 0.8037 - val_precision: 0.8065 - val_recall: 0.7991 - val_auc: 0.9208\n",
            "Epoch 25/30\n",
            "29/30 [============================>.] - ETA: 0s - loss: 0.0013 - categorical_accuracy: 0.9997 - precision: 0.9997 - recall: 0.9997 - auc: 1.0000\n",
            "Epoch 25: val_categorical_accuracy did not improve from 0.80922\n",
            "30/30 [==============================] - 1s 37ms/step - loss: 0.0013 - categorical_accuracy: 0.9997 - precision: 0.9997 - recall: 0.9997 - auc: 1.0000 - val_loss: 1.4092 - val_categorical_accuracy: 0.8065 - val_precision: 0.8080 - val_recall: 0.8028 - val_auc: 0.9211\n",
            "Epoch 26/30\n",
            "29/30 [============================>.] - ETA: 0s - loss: 8.6217e-04 - categorical_accuracy: 1.0000 - precision: 1.0000 - recall: 1.0000 - auc: 1.0000\n",
            "Epoch 26: val_categorical_accuracy did not improve from 0.80922\n",
            "30/30 [==============================] - 1s 36ms/step - loss: 8.5848e-04 - categorical_accuracy: 1.0000 - precision: 1.0000 - recall: 1.0000 - auc: 1.0000 - val_loss: 1.4222 - val_categorical_accuracy: 0.8046 - val_precision: 0.8061 - val_recall: 0.8009 - val_auc: 0.9216\n",
            "Epoch 27/30\n",
            "30/30 [==============================] - ETA: 0s - loss: 6.9797e-04 - categorical_accuracy: 1.0000 - precision: 1.0000 - recall: 1.0000 - auc: 1.0000\n",
            "Epoch 27: val_categorical_accuracy improved from 0.80922 to 0.81198, saving model to /content/drive/MyDrive/EE544 Computer Vision/task-1-weights.hdf5\n",
            "30/30 [==============================] - 1s 44ms/step - loss: 6.9797e-04 - categorical_accuracy: 1.0000 - precision: 1.0000 - recall: 1.0000 - auc: 1.0000 - val_loss: 1.4667 - val_categorical_accuracy: 0.8120 - val_precision: 0.8126 - val_recall: 0.8074 - val_auc: 0.9190\n",
            "Epoch 28/30\n",
            "29/30 [============================>.] - ETA: 0s - loss: 6.0013e-04 - categorical_accuracy: 1.0000 - precision: 1.0000 - recall: 1.0000 - auc: 1.0000\n",
            "Epoch 28: val_categorical_accuracy did not improve from 0.81198\n",
            "30/30 [==============================] - 1s 38ms/step - loss: 6.0106e-04 - categorical_accuracy: 1.0000 - precision: 1.0000 - recall: 1.0000 - auc: 1.0000 - val_loss: 1.4812 - val_categorical_accuracy: 0.8111 - val_precision: 0.8119 - val_recall: 0.8074 - val_auc: 0.9196\n",
            "Epoch 29/30\n",
            "30/30 [==============================] - ETA: 0s - loss: 5.1281e-04 - categorical_accuracy: 1.0000 - precision: 1.0000 - recall: 1.0000 - auc: 1.0000\n",
            "Epoch 29: val_categorical_accuracy did not improve from 0.81198\n",
            "30/30 [==============================] - 1s 40ms/step - loss: 5.1281e-04 - categorical_accuracy: 1.0000 - precision: 1.0000 - recall: 1.0000 - auc: 1.0000 - val_loss: 1.5056 - val_categorical_accuracy: 0.8092 - val_precision: 0.8094 - val_recall: 0.8065 - val_auc: 0.9179\n",
            "Epoch 30/30\n",
            "29/30 [============================>.] - ETA: 0s - loss: 4.5609e-04 - categorical_accuracy: 1.0000 - precision: 1.0000 - recall: 1.0000 - auc: 1.0000\n",
            "Epoch 30: val_categorical_accuracy did not improve from 0.81198\n",
            "30/30 [==============================] - 1s 43ms/step - loss: 4.5284e-04 - categorical_accuracy: 1.0000 - precision: 1.0000 - recall: 1.0000 - auc: 1.0000 - val_loss: 1.5308 - val_categorical_accuracy: 0.8074 - val_precision: 0.8081 - val_recall: 0.8074 - val_auc: 0.9176\n"
          ]
        }
      ]
    },
    {
      "cell_type": "markdown",
      "source": [
        "## Plot results"
      ],
      "metadata": {
        "id": "ob_QDshaYEg4"
      }
    },
    {
      "cell_type": "code",
      "source": [
        "def plot(train, validation, ylabel, title):\n",
        "  plt.plot(train, color='red', label='train') \n",
        "  plt.plot(validation, color='blue', label='validation') \n",
        "  plt.title(title) \n",
        "  plt.ylabel(ylabel)\n",
        "  plt.xlabel('Epoch')\n",
        "  plt.legend() \n",
        "  plt.grid(linestyle='-', linewidth=0.5)"
      ],
      "metadata": {
        "id": "o0jwjfdCWFBn"
      },
      "execution_count": 41,
      "outputs": []
    },
    {
      "cell_type": "code",
      "source": [
        "plot(baseline_history.history['categorical_accuracy'], baseline_history.history['val_categorical_accuracy'], 'Accuracy', 'Model Accuracy')"
      ],
      "metadata": {
        "colab": {
          "base_uri": "https://localhost:8080/",
          "height": 295
        },
        "id": "lf9pjTVLvvnq",
        "outputId": "7a13a538-7687-4934-b07e-e825c05105af"
      },
      "execution_count": 42,
      "outputs": [
        {
          "output_type": "display_data",
          "data": {
            "text/plain": [
              "<Figure size 432x288 with 1 Axes>"
            ],
            "image/png": "[encoded data removed]"
          },
          "metadata": {
            "needs_background": "light"
          }
        }
      ]
    },
    {
      "cell_type": "code",
      "source": [
        "plot(baseline_history.history['loss'], baseline_history.history['val_loss'], 'Loss', 'Model Loss')"
      ],
      "metadata": {
        "colab": {
          "base_uri": "https://localhost:8080/",
          "height": 295
        },
        "id": "DZ92wFIE5dKL",
        "outputId": "6196c3ad-90c4-4b0b-8dff-d509391f1a1e"
      },
      "execution_count": 43,
      "outputs": [
        {
          "output_type": "display_data",
          "data": {
            "text/plain": [
              "<Figure size 432x288 with 1 Axes>"
            ],
            "image/png": "[encoded data removed]"
          },
          "metadata": {
            "needs_background": "light"
          }
        }
      ]
    },
    {
      "cell_type": "markdown",
      "source": [
        "## Evaluate model"
      ],
      "metadata": {
        "id": "ABEzVAWI5eS3"
      }
    },
    {
      "cell_type": "code",
      "source": [
        "def evaluate_and_predict(model): \n",
        "  # evaluate on test dataset\n",
        "  eval_results = model.evaluate(test_ds, batch_size=30)\n",
        "\n",
        "  # print evaluation results\n",
        "  print('Test loss:', eval_results[0])\n",
        "  print('Test categorical_accuracy:', eval_results[1])\n",
        "  print('Test precision:', eval_results[2])\n",
        "  print('Test recall:', eval_results[3])\n",
        "  print('Test auc:', eval_results[4])\n",
        "\n",
        "  # predict\n",
        "  return model.predict(test_ds)"
      ],
      "metadata": {
        "id": "KM66wgM-_kFA"
      },
      "execution_count": 44,
      "outputs": []
    },
    {
      "cell_type": "code",
      "source": [
        "pred = evaluate_and_predict(baseline_model)"
      ],
      "metadata": {
        "colab": {
          "base_uri": "https://localhost:8080/"
        },
        "id": "MXlcTB3WaoP-",
        "outputId": "2e922025-336a-4262-b8fa-8254dd9eb078"
      },
      "execution_count": 45,
      "outputs": [
        {
          "output_type": "stream",
          "name": "stdout",
          "text": [
            "5/5 [==============================] - 0s 41ms/step - loss: 1.4735 - categorical_accuracy: 0.8187 - precision: 0.8187 - recall: 0.8187 - auc: 0.9196\n",
            "Test loss: 1.4735220670700073\n",
            "Test categorical_accuracy: 0.818691611289978\n",
            "Test precision: 0.818691611289978\n",
            "Test recall: 0.818691611289978\n",
            "Test auc: 0.9195655584335327\n",
            "5/5 [==============================] - 0s 12ms/step\n"
          ]
        }
      ]
    },
    {
      "cell_type": "code",
      "source": [
        "pred"
      ],
      "metadata": {
        "colab": {
          "base_uri": "https://localhost:8080/"
        },
        "id": "cHZnvE2bdwKc",
        "outputId": "2a3d3381-b69b-4df2-91a1-79ab5c74a1d2"
      },
      "execution_count": 46,
      "outputs": [
        {
          "output_type": "execute_result",
          "data": {
            "text/plain": [
              "array([[6.8085492e-02, 2.5010774e-01, 4.4164355e-04, 6.8136513e-01],\n",
              "       [2.5547839e-09, 5.2474421e-03, 9.9475253e-01, 6.7188251e-09],\n",
              "       [2.6731756e-01, 8.2338899e-02, 5.4839516e-01, 1.0194841e-01],\n",
              "       ...,\n",
              "       [5.7329452e-03, 9.9426514e-01, 9.4499271e-08, 1.8122397e-06],\n",
              "       [1.0000000e+00, 1.1639106e-25, 1.5850429e-11, 2.2722995e-13],\n",
              "       [7.3203657e-14, 1.0000000e+00, 1.7020231e-09, 5.5026117e-08]],\n",
              "      dtype=float32)"
            ]
          },
          "metadata": {},
          "execution_count": 46
        }
      ]
    },
    {
      "cell_type": "code",
      "source": [
        "def draw_confusion_matrix(true, pred):\n",
        "  cm = confusion_matrix(true.argmax(axis=1), pred.argmax(axis=1))\n",
        "  sns.heatmap(cm, annot=True, annot_kws={\"size\": 12}, fmt='g', cbar=False, cmap=\"viridis\")\n",
        "  plt.show()"
      ],
      "metadata": {
        "id": "xfqXMoX8b-qE"
      },
      "execution_count": 47,
      "outputs": []
    },
    {
      "cell_type": "code",
      "source": [
        "draw_confusion_matrix(y_test, pred)"
      ],
      "metadata": {
        "colab": {
          "base_uri": "https://localhost:8080/",
          "height": 265
        },
        "id": "0mboVB4q6vYp",
        "outputId": "4b0fa79f-632b-4bbf-e3c5-133e94c6d94a"
      },
      "execution_count": 48,
      "outputs": [
        {
          "output_type": "display_data",
          "data": {
            "text/plain": [
              "<Figure size 432x288 with 1 Axes>"
            ],
            "image/png": "[encoded data removed]"
          },
          "metadata": {
            "needs_background": "light"
          }
        }
      ]
    },
    {
      "cell_type": "code",
      "source": [
        "print(classification_report(y_test.argmax(axis=1), pred.argmax(axis=1)))"
      ],
      "metadata": {
        "colab": {
          "base_uri": "https://localhost:8080/"
        },
        "id": "Xw_nLMYxcQok",
        "outputId": "435a2a4e-1e7a-49a2-b32e-3c32650e33c5"
      },
      "execution_count": 49,
      "outputs": [
        {
          "output_type": "stream",
          "name": "stdout",
          "text": [
            "              precision    recall  f1-score   support\n",
            "\n",
            "           0       0.80      0.83      0.82       119\n",
            "           1       0.85      0.78      0.82       153\n",
            "           2       0.81      0.80      0.80       136\n",
            "           3       0.81      0.87      0.84       127\n",
            "\n",
            "    accuracy                           0.82       535\n",
            "   macro avg       0.82      0.82      0.82       535\n",
            "weighted avg       0.82      0.82      0.82       535\n",
            "\n"
          ]
        }
      ]
    },
    {
      "cell_type": "markdown",
      "source": [
        "## Improve the baseline networks performance\n",
        "1. Batch Normalisation \n",
        "2. Dropout \n",
        "3. Data Augmentation\n",
        "4. Regularisation"
      ],
      "metadata": {
        "id": "lVlp3SN17Guq"
      }
    },
    {
      "cell_type": "markdown",
      "source": [
        "### Batch Normalisation"
      ],
      "metadata": {
        "id": "SGTQShLWzPE6"
      }
    },
    {
      "cell_type": "code",
      "source": [
        "batchnorm_model = build_model(batchNorm=True)\n",
        "batchnorm_model.summary()"
      ],
      "metadata": {
        "colab": {
          "base_uri": "https://localhost:8080/"
        },
        "id": "T1u-7J57yw-7",
        "outputId": "2533cb0d-3c49-4779-ea8d-36831df5853c"
      },
      "execution_count": 50,
      "outputs": [
        {
          "output_type": "stream",
          "name": "stdout",
          "text": [
            "Model: \"sequential_1\"\n",
            "_________________________________________________________________\n",
            " Layer (type)                Output Shape              Param #   \n",
            "=================================================================\n",
            " conv2d_4 (Conv2D)           (None, 62, 62, 32)        896       \n",
            "                                                                 \n",
            " conv2d_5 (Conv2D)           (None, 60, 60, 32)        9248      \n",
            "                                                                 \n",
            " max_pooling2d_2 (MaxPooling  (None, 30, 30, 32)       0         \n",
            " 2D)                                                             \n",
            "                                                                 \n",
            " batch_normalization (BatchN  (None, 30, 30, 32)       128       \n",
            " ormalization)                                                   \n",
            "                                                                 \n",
            " conv2d_6 (Conv2D)           (None, 28, 28, 64)        18496     \n",
            "                                                                 \n",
            " conv2d_7 (Conv2D)           (None, 26, 26, 64)        36928     \n",
            "                                                                 \n",
            " max_pooling2d_3 (MaxPooling  (None, 13, 13, 64)       0         \n",
            " 2D)                                                             \n",
            "                                                                 \n",
            " batch_normalization_1 (Batc  (None, 13, 13, 64)       256       \n",
            " hNormalization)                                                 \n",
            "                                                                 \n",
            " flatten_1 (Flatten)         (None, 10816)             0         \n",
            "                                                                 \n",
            " dense_2 (Dense)             (None, 512)               5538304   \n",
            "                                                                 \n",
            " dense_3 (Dense)             (None, 4)                 2052      \n",
            "                                                                 \n",
            "=================================================================\n",
            "Total params: 5,606,308\n",
            "Trainable params: 5,606,116\n",
            "Non-trainable params: 192\n",
            "_________________________________________________________________\n"
          ]
        }
      ]
    },
    {
      "cell_type": "code",
      "source": [
        "batchnorm_history = batchnorm_model.fit(\n",
        "    train_ds,\n",
        "    epochs=30,\n",
        "    verbose=1,\n",
        "    validation_data=val_ds\n",
        ")"
      ],
      "metadata": {
        "colab": {
          "base_uri": "https://localhost:8080/"
        },
        "id": "IImVU9wOy6Ld",
        "outputId": "fe809ed1-2bf6-438f-bb00-da28e9ff0091"
      },
      "execution_count": 51,
      "outputs": [
        {
          "output_type": "stream",
          "name": "stdout",
          "text": [
            "Epoch 1/30\n",
            "30/30 [==============================] - 4s 51ms/step - loss: 5.4950 - categorical_accuracy: 0.6045 - precision_1: 0.6072 - recall_1: 0.6008 - auc_1: 0.7801 - val_loss: 1.3914 - val_categorical_accuracy: 0.2949 - val_precision_1: 0.4545 - val_recall_1: 0.0184 - val_auc_1: 0.5835\n",
            "Epoch 2/30\n",
            "30/30 [==============================] - 1s 37ms/step - loss: 1.5094 - categorical_accuracy: 0.7913 - precision_1: 0.7934 - recall_1: 0.7884 - auc_1: 0.9125 - val_loss: 1.6294 - val_categorical_accuracy: 0.2885 - val_precision_1: 0.3426 - val_recall_1: 0.1475 - val_auc_1: 0.5807\n",
            "Epoch 3/30\n",
            "30/30 [==============================] - 1s 38ms/step - loss: 0.6089 - categorical_accuracy: 0.8667 - precision_1: 0.8696 - recall_1: 0.8646 - auc_1: 0.9646 - val_loss: 1.4623 - val_categorical_accuracy: 0.3493 - val_precision_1: 0.7226 - val_recall_1: 0.0912 - val_auc_1: 0.6074\n",
            "Epoch 4/30\n",
            "30/30 [==============================] - 1s 38ms/step - loss: 0.2454 - categorical_accuracy: 0.9347 - precision_1: 0.9363 - recall_1: 0.9333 - auc_1: 0.9883 - val_loss: 1.2400 - val_categorical_accuracy: 0.4009 - val_precision_1: 0.8716 - val_recall_1: 0.0876 - val_auc_1: 0.6997\n",
            "Epoch 5/30\n",
            "30/30 [==============================] - 1s 44ms/step - loss: 0.0852 - categorical_accuracy: 0.9712 - precision_1: 0.9719 - recall_1: 0.9701 - auc_1: 0.9975 - val_loss: 1.6260 - val_categorical_accuracy: 0.3014 - val_precision_1: 0.3333 - val_recall_1: 0.2691 - val_auc_1: 0.6501\n",
            "Epoch 6/30\n",
            "30/30 [==============================] - 1s 40ms/step - loss: 0.0240 - categorical_accuracy: 0.9921 - precision_1: 0.9923 - recall_1: 0.9918 - auc_1: 0.9999 - val_loss: 1.7688 - val_categorical_accuracy: 0.3161 - val_precision_1: 0.3256 - val_recall_1: 0.2959 - val_auc_1: 0.6518\n",
            "Epoch 7/30\n",
            "30/30 [==============================] - 1s 37ms/step - loss: 0.0081 - categorical_accuracy: 0.9979 - precision_1: 0.9981 - recall_1: 0.9979 - auc_1: 1.0000 - val_loss: 1.4979 - val_categorical_accuracy: 0.5945 - val_precision_1: 0.7192 - val_recall_1: 0.4037 - val_auc_1: 0.7480\n",
            "Epoch 8/30\n",
            "30/30 [==============================] - 1s 37ms/step - loss: 0.0036 - categorical_accuracy: 0.9997 - precision_1: 0.9997 - recall_1: 0.9997 - auc_1: 1.0000 - val_loss: 1.6604 - val_categorical_accuracy: 0.4774 - val_precision_1: 0.5479 - val_recall_1: 0.4267 - val_auc_1: 0.6950\n",
            "Epoch 9/30\n",
            "30/30 [==============================] - 1s 37ms/step - loss: 0.0013 - categorical_accuracy: 1.0000 - precision_1: 1.0000 - recall_1: 1.0000 - auc_1: 1.0000 - val_loss: 1.5125 - val_categorical_accuracy: 0.5594 - val_precision_1: 0.6335 - val_recall_1: 0.4986 - val_auc_1: 0.7492\n",
            "Epoch 10/30\n",
            "30/30 [==============================] - 1s 37ms/step - loss: 9.1881e-04 - categorical_accuracy: 1.0000 - precision_1: 1.0000 - recall_1: 1.0000 - auc_1: 1.0000 - val_loss: 1.4803 - val_categorical_accuracy: 0.5530 - val_precision_1: 0.6112 - val_recall_1: 0.5115 - val_auc_1: 0.7662\n",
            "Epoch 11/30\n",
            "30/30 [==============================] - 1s 38ms/step - loss: 5.9241e-04 - categorical_accuracy: 1.0000 - precision_1: 1.0000 - recall_1: 1.0000 - auc_1: 1.0000 - val_loss: 1.4752 - val_categorical_accuracy: 0.5696 - val_precision_1: 0.6054 - val_recall_1: 0.5401 - val_auc_1: 0.7848\n",
            "Epoch 12/30\n",
            "30/30 [==============================] - 1s 37ms/step - loss: 5.1849e-04 - categorical_accuracy: 1.0000 - precision_1: 1.0000 - recall_1: 1.0000 - auc_1: 1.0000 - val_loss: 1.4220 - val_categorical_accuracy: 0.5982 - val_precision_1: 0.6180 - val_recall_1: 0.5696 - val_auc_1: 0.8116\n",
            "Epoch 13/30\n",
            "30/30 [==============================] - 1s 37ms/step - loss: 4.4111e-04 - categorical_accuracy: 1.0000 - precision_1: 1.0000 - recall_1: 1.0000 - auc_1: 1.0000 - val_loss: 1.3592 - val_categorical_accuracy: 0.6286 - val_precision_1: 0.6421 - val_recall_1: 0.6018 - val_auc_1: 0.8374\n",
            "Epoch 14/30\n",
            "30/30 [==============================] - 1s 38ms/step - loss: 4.1454e-04 - categorical_accuracy: 1.0000 - precision_1: 1.0000 - recall_1: 1.0000 - auc_1: 1.0000 - val_loss: 1.3180 - val_categorical_accuracy: 0.6498 - val_precision_1: 0.6644 - val_recall_1: 0.6350 - val_auc_1: 0.8562\n",
            "Epoch 15/30\n",
            "30/30 [==============================] - 1s 49ms/step - loss: 4.4370e-04 - categorical_accuracy: 1.0000 - precision_1: 1.0000 - recall_1: 1.0000 - auc_1: 1.0000 - val_loss: 1.2771 - val_categorical_accuracy: 0.6756 - val_precision_1: 0.6887 - val_recall_1: 0.6627 - val_auc_1: 0.8725\n",
            "Epoch 16/30\n",
            "30/30 [==============================] - 1s 38ms/step - loss: 3.9121e-04 - categorical_accuracy: 1.0000 - precision_1: 1.0000 - recall_1: 1.0000 - auc_1: 1.0000 - val_loss: 1.2256 - val_categorical_accuracy: 0.7060 - val_precision_1: 0.7207 - val_recall_1: 0.6968 - val_auc_1: 0.8867\n",
            "Epoch 17/30\n",
            "30/30 [==============================] - 1s 37ms/step - loss: 3.9153e-04 - categorical_accuracy: 1.0000 - precision_1: 1.0000 - recall_1: 1.0000 - auc_1: 1.0000 - val_loss: 1.1732 - val_categorical_accuracy: 0.7235 - val_precision_1: 0.7347 - val_recall_1: 0.7171 - val_auc_1: 0.8997\n",
            "Epoch 18/30\n",
            "30/30 [==============================] - 1s 37ms/step - loss: 2.9188e-04 - categorical_accuracy: 1.0000 - precision_1: 1.0000 - recall_1: 1.0000 - auc_1: 1.0000 - val_loss: 1.1743 - val_categorical_accuracy: 0.7373 - val_precision_1: 0.7448 - val_recall_1: 0.7290 - val_auc_1: 0.9075\n",
            "Epoch 19/30\n",
            "30/30 [==============================] - 1s 38ms/step - loss: 2.9159e-04 - categorical_accuracy: 1.0000 - precision_1: 1.0000 - recall_1: 1.0000 - auc_1: 1.0000 - val_loss: 1.1992 - val_categorical_accuracy: 0.7530 - val_precision_1: 0.7584 - val_recall_1: 0.7465 - val_auc_1: 0.9091\n",
            "Epoch 20/30\n",
            "30/30 [==============================] - 1s 37ms/step - loss: 2.6572e-04 - categorical_accuracy: 1.0000 - precision_1: 1.0000 - recall_1: 1.0000 - auc_1: 1.0000 - val_loss: 1.2331 - val_categorical_accuracy: 0.7631 - val_precision_1: 0.7672 - val_recall_1: 0.7594 - val_auc_1: 0.9126\n",
            "Epoch 21/30\n",
            "30/30 [==============================] - 1s 38ms/step - loss: 2.3466e-04 - categorical_accuracy: 1.0000 - precision_1: 1.0000 - recall_1: 1.0000 - auc_1: 1.0000 - val_loss: 1.2920 - val_categorical_accuracy: 0.7650 - val_precision_1: 0.7683 - val_recall_1: 0.7641 - val_auc_1: 0.9135\n",
            "Epoch 22/30\n",
            "30/30 [==============================] - 1s 38ms/step - loss: 2.2363e-04 - categorical_accuracy: 1.0000 - precision_1: 1.0000 - recall_1: 1.0000 - auc_1: 1.0000 - val_loss: 1.3518 - val_categorical_accuracy: 0.7631 - val_precision_1: 0.7658 - val_recall_1: 0.7594 - val_auc_1: 0.9137\n",
            "Epoch 23/30\n",
            "30/30 [==============================] - 1s 37ms/step - loss: 2.0542e-04 - categorical_accuracy: 1.0000 - precision_1: 1.0000 - recall_1: 1.0000 - auc_1: 1.0000 - val_loss: 1.4106 - val_categorical_accuracy: 0.7641 - val_precision_1: 0.7700 - val_recall_1: 0.7622 - val_auc_1: 0.9128\n",
            "Epoch 24/30\n",
            "30/30 [==============================] - 1s 44ms/step - loss: 2.1774e-04 - categorical_accuracy: 1.0000 - precision_1: 1.0000 - recall_1: 1.0000 - auc_1: 1.0000 - val_loss: 1.4647 - val_categorical_accuracy: 0.7677 - val_precision_1: 0.7692 - val_recall_1: 0.7650 - val_auc_1: 0.9105\n",
            "Epoch 25/30\n",
            "30/30 [==============================] - 1s 40ms/step - loss: 1.9827e-04 - categorical_accuracy: 1.0000 - precision_1: 1.0000 - recall_1: 1.0000 - auc_1: 1.0000 - val_loss: 1.5180 - val_categorical_accuracy: 0.7659 - val_precision_1: 0.7683 - val_recall_1: 0.7641 - val_auc_1: 0.9106\n",
            "Epoch 26/30\n",
            "30/30 [==============================] - 1s 38ms/step - loss: 1.7650e-04 - categorical_accuracy: 1.0000 - precision_1: 1.0000 - recall_1: 1.0000 - auc_1: 1.0000 - val_loss: 1.5629 - val_categorical_accuracy: 0.7668 - val_precision_1: 0.7699 - val_recall_1: 0.7650 - val_auc_1: 0.9093\n",
            "Epoch 27/30\n",
            "30/30 [==============================] - 1s 38ms/step - loss: 1.9758e-04 - categorical_accuracy: 1.0000 - precision_1: 1.0000 - recall_1: 1.0000 - auc_1: 1.0000 - val_loss: 1.5997 - val_categorical_accuracy: 0.7687 - val_precision_1: 0.7720 - val_recall_1: 0.7677 - val_auc_1: 0.9084\n",
            "Epoch 28/30\n",
            "30/30 [==============================] - 1s 38ms/step - loss: 1.9661e-04 - categorical_accuracy: 1.0000 - precision_1: 1.0000 - recall_1: 1.0000 - auc_1: 1.0000 - val_loss: 1.6326 - val_categorical_accuracy: 0.7677 - val_precision_1: 0.7720 - val_recall_1: 0.7677 - val_auc_1: 0.9076\n",
            "Epoch 29/30\n",
            "30/30 [==============================] - 1s 37ms/step - loss: 1.5542e-04 - categorical_accuracy: 1.0000 - precision_1: 1.0000 - recall_1: 1.0000 - auc_1: 1.0000 - val_loss: 1.6576 - val_categorical_accuracy: 0.7705 - val_precision_1: 0.7729 - val_recall_1: 0.7687 - val_auc_1: 0.9076\n",
            "Epoch 30/30\n",
            "30/30 [==============================] - 1s 38ms/step - loss: 1.5830e-04 - categorical_accuracy: 1.0000 - precision_1: 1.0000 - recall_1: 1.0000 - auc_1: 1.0000 - val_loss: 1.6766 - val_categorical_accuracy: 0.7705 - val_precision_1: 0.7737 - val_recall_1: 0.7687 - val_auc_1: 0.9064\n"
          ]
        }
      ]
    },
    {
      "cell_type": "code",
      "source": [
        "plot(batchnorm_history.history['categorical_accuracy'], batchnorm_history.history['val_categorical_accuracy'], 'Accuracy', 'Model Accuracy')"
      ],
      "metadata": {
        "colab": {
          "base_uri": "https://localhost:8080/",
          "height": 295
        },
        "id": "DIc9bm0izCNr",
        "outputId": "d80bef7c-0358-4082-9b27-73c83a712904"
      },
      "execution_count": 52,
      "outputs": [
        {
          "output_type": "display_data",
          "data": {
            "text/plain": [
              "<Figure size 432x288 with 1 Axes>"
            ],
            "image/png": "[encoded data removed]"
          },
          "metadata": {
            "needs_background": "light"
          }
        }
      ]
    },
    {
      "cell_type": "code",
      "source": [
        "plot(batchnorm_history.history['loss'], batchnorm_history.history['val_loss'], 'Loss', 'Model Loss')"
      ],
      "metadata": {
        "colab": {
          "base_uri": "https://localhost:8080/",
          "height": 295
        },
        "id": "S_G91_ApzKfI",
        "outputId": "ee176c85-90ba-4e30-998f-334184380bb4"
      },
      "execution_count": 53,
      "outputs": [
        {
          "output_type": "display_data",
          "data": {
            "text/plain": [
              "<Figure size 432x288 with 1 Axes>"
            ],
            "image/png": "[encoded data removed]"
          },
          "metadata": {
            "needs_background": "light"
          }
        }
      ]
    },
    {
      "cell_type": "code",
      "source": [
        "batchnorm_pred = evaluate_and_predict(batchnorm_model)"
      ],
      "metadata": {
        "colab": {
          "base_uri": "https://localhost:8080/"
        },
        "id": "xmGNAVT5sz36",
        "outputId": "a145554f-25c0-4de5-f5c5-af711658b2e5"
      },
      "execution_count": 54,
      "outputs": [
        {
          "output_type": "stream",
          "name": "stdout",
          "text": [
            "5/5 [==============================] - 0s 14ms/step - loss: 1.6161 - categorical_accuracy: 0.7664 - precision_1: 0.7692 - recall_1: 0.7664 - auc_1: 0.9010\n",
            "Test loss: 1.6161214113235474\n",
            "Test categorical_accuracy: 0.7663551568984985\n",
            "Test precision: 0.7692307829856873\n",
            "Test recall: 0.7663551568984985\n",
            "Test auc: 0.9010434746742249\n",
            "5/5 [==============================] - 0s 11ms/step\n"
          ]
        }
      ]
    },
    {
      "cell_type": "code",
      "source": [
        "draw_confusion_matrix(y_test, batchnorm_pred)"
      ],
      "metadata": {
        "colab": {
          "base_uri": "https://localhost:8080/",
          "height": 265
        },
        "id": "iY1wDe7is5nS",
        "outputId": "4515ad12-1efb-4648-a116-1d198e52b674"
      },
      "execution_count": 55,
      "outputs": [
        {
          "output_type": "display_data",
          "data": {
            "text/plain": [
              "<Figure size 432x288 with 1 Axes>"
            ],
            "image/png": "[encoded data removed]"
          },
          "metadata": {
            "needs_background": "light"
          }
        }
      ]
    },
    {
      "cell_type": "code",
      "source": [
        "print(classification_report(y_test.argmax(axis=1), batchnorm_pred.argmax(axis=1)))"
      ],
      "metadata": {
        "colab": {
          "base_uri": "https://localhost:8080/"
        },
        "id": "EvlpTqfgs8bq",
        "outputId": "5fe4fea2-082b-408c-d223-de2067c24ed3"
      },
      "execution_count": 56,
      "outputs": [
        {
          "output_type": "stream",
          "name": "stdout",
          "text": [
            "              precision    recall  f1-score   support\n",
            "\n",
            "           0       0.72      0.77      0.74       119\n",
            "           1       0.81      0.79      0.80       153\n",
            "           2       0.74      0.74      0.74       136\n",
            "           3       0.80      0.76      0.78       127\n",
            "\n",
            "    accuracy                           0.77       535\n",
            "   macro avg       0.77      0.77      0.77       535\n",
            "weighted avg       0.77      0.77      0.77       535\n",
            "\n"
          ]
        }
      ]
    },
    {
      "cell_type": "markdown",
      "source": [
        "### Dropout"
      ],
      "metadata": {
        "id": "jDe7i48f3zqm"
      }
    },
    {
      "cell_type": "code",
      "source": [
        "dropout_model = build_model(dropOut=True)\n",
        "dropout_model.summary()"
      ],
      "metadata": {
        "colab": {
          "base_uri": "https://localhost:8080/"
        },
        "id": "z6SkEvrs7Lhk",
        "outputId": "bc94364a-f12e-417e-9192-9de3ea6bcd89"
      },
      "execution_count": 57,
      "outputs": [
        {
          "output_type": "stream",
          "name": "stdout",
          "text": [
            "Model: \"sequential_2\"\n",
            "_________________________________________________________________\n",
            " Layer (type)                Output Shape              Param #   \n",
            "=================================================================\n",
            " conv2d_8 (Conv2D)           (None, 62, 62, 32)        896       \n",
            "                                                                 \n",
            " conv2d_9 (Conv2D)           (None, 60, 60, 32)        9248      \n",
            "                                                                 \n",
            " max_pooling2d_4 (MaxPooling  (None, 30, 30, 32)       0         \n",
            " 2D)                                                             \n",
            "                                                                 \n",
            " conv2d_10 (Conv2D)          (None, 28, 28, 64)        18496     \n",
            "                                                                 \n",
            " conv2d_11 (Conv2D)          (None, 26, 26, 64)        36928     \n",
            "                                                                 \n",
            " max_pooling2d_5 (MaxPooling  (None, 13, 13, 64)       0         \n",
            " 2D)                                                             \n",
            "                                                                 \n",
            " flatten_2 (Flatten)         (None, 10816)             0         \n",
            "                                                                 \n",
            " dense_4 (Dense)             (None, 512)               5538304   \n",
            "                                                                 \n",
            " dropout (Dropout)           (None, 512)               0         \n",
            "                                                                 \n",
            " dense_5 (Dense)             (None, 4)                 2052      \n",
            "                                                                 \n",
            "=================================================================\n",
            "Total params: 5,605,924\n",
            "Trainable params: 5,605,924\n",
            "Non-trainable params: 0\n",
            "_________________________________________________________________\n"
          ]
        }
      ]
    },
    {
      "cell_type": "code",
      "source": [
        "dropout_history = dropout_model.fit(\n",
        "    train_ds,\n",
        "    epochs=30,\n",
        "    verbose=1,\n",
        "    validation_data=val_ds,\n",
        "    callbacks=[early_stopping]\n",
        ")"
      ],
      "metadata": {
        "colab": {
          "base_uri": "https://localhost:8080/"
        },
        "id": "a7HVKI287gVp",
        "outputId": "d702236e-e7b9-4f43-f628-5de1c51dbeeb"
      },
      "execution_count": 58,
      "outputs": [
        {
          "output_type": "stream",
          "name": "stdout",
          "text": [
            "Epoch 1/30\n",
            "30/30 [==============================] - 4s 62ms/step - loss: 1.3618 - categorical_accuracy: 0.4659 - precision_2: 0.6079 - recall_2: 0.1870 - auc_2: 0.7092 - val_loss: 0.9326 - val_categorical_accuracy: 0.6166 - val_precision_2: 0.7062 - val_recall_2: 0.4230 - val_auc_2: 0.8551\n",
            "Epoch 2/30\n",
            "30/30 [==============================] - 1s 38ms/step - loss: 0.8230 - categorical_accuracy: 0.6751 - precision_2: 0.7479 - recall_2: 0.5587 - auc_2: 0.8852 - val_loss: 0.7204 - val_categorical_accuracy: 0.7309 - val_precision_2: 0.7960 - val_recall_2: 0.6184 - val_auc_2: 0.9140\n",
            "Epoch 3/30\n",
            "30/30 [==============================] - 1s 37ms/step - loss: 0.6367 - categorical_accuracy: 0.7619 - precision_2: 0.8132 - recall_2: 0.7003 - auc_2: 0.9317 - val_loss: 0.6993 - val_categorical_accuracy: 0.7318 - val_precision_2: 0.7802 - val_recall_2: 0.6839 - val_auc_2: 0.9184\n",
            "Epoch 4/30\n",
            "30/30 [==============================] - 1s 36ms/step - loss: 0.5910 - categorical_accuracy: 0.7799 - precision_2: 0.8326 - recall_2: 0.7291 - auc_2: 0.9408 - val_loss: 0.6277 - val_categorical_accuracy: 0.7733 - val_precision_2: 0.8121 - val_recall_2: 0.7327 - val_auc_2: 0.9354\n",
            "Epoch 5/30\n",
            "30/30 [==============================] - 1s 37ms/step - loss: 0.5238 - categorical_accuracy: 0.8127 - precision_2: 0.8532 - recall_2: 0.7595 - auc_2: 0.9532 - val_loss: 0.6497 - val_categorical_accuracy: 0.7843 - val_precision_2: 0.8042 - val_recall_2: 0.7456 - val_auc_2: 0.9349\n",
            "Epoch 6/30\n",
            "30/30 [==============================] - 1s 37ms/step - loss: 0.4530 - categorical_accuracy: 0.8407 - precision_2: 0.8732 - recall_2: 0.8071 - auc_2: 0.9647 - val_loss: 0.5988 - val_categorical_accuracy: 0.7945 - val_precision_2: 0.8260 - val_recall_2: 0.7659 - val_auc_2: 0.9425\n",
            "Epoch 7/30\n",
            "30/30 [==============================] - 1s 36ms/step - loss: 0.4260 - categorical_accuracy: 0.8447 - precision_2: 0.8752 - recall_2: 0.8164 - auc_2: 0.9685 - val_loss: 0.6329 - val_categorical_accuracy: 0.7779 - val_precision_2: 0.8006 - val_recall_2: 0.7364 - val_auc_2: 0.9360\n",
            "Epoch 8/30\n",
            "30/30 [==============================] - 1s 37ms/step - loss: 0.3993 - categorical_accuracy: 0.8545 - precision_2: 0.8800 - recall_2: 0.8262 - auc_2: 0.9722 - val_loss: 0.6983 - val_categorical_accuracy: 0.7484 - val_precision_2: 0.7777 - val_recall_2: 0.7124 - val_auc_2: 0.9246\n",
            "Epoch 8: early stopping\n"
          ]
        }
      ]
    },
    {
      "cell_type": "code",
      "source": [
        "plot(dropout_history.history['categorical_accuracy'], dropout_history.history['val_categorical_accuracy'], 'Accuracy', 'Model Accuracy')"
      ],
      "metadata": {
        "id": "4WZO5i6q7y7W",
        "colab": {
          "base_uri": "https://localhost:8080/",
          "height": 295
        },
        "outputId": "1d08ae5f-3068-46c7-a409-35ccc9e4ba2e"
      },
      "execution_count": 59,
      "outputs": [
        {
          "output_type": "display_data",
          "data": {
            "text/plain": [
              "<Figure size 432x288 with 1 Axes>"
            ],
            "image/png": "[encoded data removed]"
          },
          "metadata": {
            "needs_background": "light"
          }
        }
      ]
    },
    {
      "cell_type": "code",
      "source": [
        "plot(dropout_history.history['loss'], dropout_history.history['val_loss'], 'Loss', 'Model Loss')"
      ],
      "metadata": {
        "colab": {
          "base_uri": "https://localhost:8080/",
          "height": 295
        },
        "id": "hWTtZL5yzK_d",
        "outputId": "d32bd1ad-e454-42b8-da6f-972d06b0602a"
      },
      "execution_count": 60,
      "outputs": [
        {
          "output_type": "display_data",
          "data": {
            "text/plain": [
              "<Figure size 432x288 with 1 Axes>"
            ],
            "image/png": "[encoded data removed]"
          },
          "metadata": {
            "needs_background": "light"
          }
        }
      ]
    },
    {
      "cell_type": "code",
      "source": [
        "dropout_pred = evaluate_and_predict(dropout_model)"
      ],
      "metadata": {
        "colab": {
          "base_uri": "https://localhost:8080/"
        },
        "outputId": "e8010e4a-675e-4781-e389-15c74ba59417",
        "id": "bbDulmveukmi"
      },
      "execution_count": 61,
      "outputs": [
        {
          "output_type": "stream",
          "name": "stdout",
          "text": [
            "5/5 [==============================] - 0s 13ms/step - loss: 0.6876 - categorical_accuracy: 0.7607 - precision_2: 0.7864 - recall_2: 0.7364 - auc_2: 0.9252\n",
            "Test loss: 0.687620997428894\n",
            "Test categorical_accuracy: 0.7607476711273193\n",
            "Test precision: 0.7864271402359009\n",
            "Test recall: 0.7364485859870911\n",
            "Test auc: 0.9251911044120789\n",
            "5/5 [==============================] - 0s 10ms/step\n"
          ]
        }
      ]
    },
    {
      "cell_type": "code",
      "source": [
        "draw_confusion_matrix(y_test, dropout_pred)"
      ],
      "metadata": {
        "colab": {
          "base_uri": "https://localhost:8080/",
          "height": 265
        },
        "outputId": "a5d98404-945a-461d-b7e9-e2f42b833927",
        "id": "mPNbo6B_ukmm"
      },
      "execution_count": 62,
      "outputs": [
        {
          "output_type": "display_data",
          "data": {
            "text/plain": [
              "<Figure size 432x288 with 1 Axes>"
            ],
            "image/png": "[encoded data removed]"
          },
          "metadata": {
            "needs_background": "light"
          }
        }
      ]
    },
    {
      "cell_type": "code",
      "source": [
        "print(classification_report(y_test.argmax(axis=1), dropout_pred.argmax(axis=1)))"
      ],
      "metadata": {
        "colab": {
          "base_uri": "https://localhost:8080/"
        },
        "outputId": "21a4dff5-4ea4-4c9d-d217-1aa6595ae64a",
        "id": "gg7R6ukvukmm"
      },
      "execution_count": 63,
      "outputs": [
        {
          "output_type": "stream",
          "name": "stdout",
          "text": [
            "              precision    recall  f1-score   support\n",
            "\n",
            "           0       0.79      0.78      0.78       119\n",
            "           1       0.88      0.73      0.80       153\n",
            "           2       0.79      0.66      0.72       136\n",
            "           3       0.64      0.89      0.74       127\n",
            "\n",
            "    accuracy                           0.76       535\n",
            "   macro avg       0.77      0.76      0.76       535\n",
            "weighted avg       0.78      0.76      0.76       535\n",
            "\n"
          ]
        }
      ]
    },
    {
      "cell_type": "markdown",
      "source": [
        "### Data Augmentation"
      ],
      "metadata": {
        "id": "wbJbGMXhLLXO"
      }
    },
    {
      "cell_type": "code",
      "source": [
        "dataaug_model = build_model()\n",
        "dataaug_model.summary()"
      ],
      "metadata": {
        "colab": {
          "base_uri": "https://localhost:8080/"
        },
        "outputId": "03a7c32d-afe9-4fea-85f7-64f5a9ba3d71",
        "id": "Mt0lTF5cLVb5"
      },
      "execution_count": 64,
      "outputs": [
        {
          "output_type": "stream",
          "name": "stdout",
          "text": [
            "Model: \"sequential_3\"\n",
            "_________________________________________________________________\n",
            " Layer (type)                Output Shape              Param #   \n",
            "=================================================================\n",
            " conv2d_12 (Conv2D)          (None, 62, 62, 32)        896       \n",
            "                                                                 \n",
            " conv2d_13 (Conv2D)          (None, 60, 60, 32)        9248      \n",
            "                                                                 \n",
            " max_pooling2d_6 (MaxPooling  (None, 30, 30, 32)       0         \n",
            " 2D)                                                             \n",
            "                                                                 \n",
            " conv2d_14 (Conv2D)          (None, 28, 28, 64)        18496     \n",
            "                                                                 \n",
            " conv2d_15 (Conv2D)          (None, 26, 26, 64)        36928     \n",
            "                                                                 \n",
            " max_pooling2d_7 (MaxPooling  (None, 13, 13, 64)       0         \n",
            " 2D)                                                             \n",
            "                                                                 \n",
            " flatten_3 (Flatten)         (None, 10816)             0         \n",
            "                                                                 \n",
            " dense_6 (Dense)             (None, 512)               5538304   \n",
            "                                                                 \n",
            " dense_7 (Dense)             (None, 4)                 2052      \n",
            "                                                                 \n",
            "=================================================================\n",
            "Total params: 5,605,924\n",
            "Trainable params: 5,605,924\n",
            "Non-trainable params: 0\n",
            "_________________________________________________________________\n"
          ]
        }
      ]
    },
    {
      "cell_type": "code",
      "source": [
        "dataaug_history = dataaug_model.fit(\n",
        "    train_aug_ds,\n",
        "    epochs=30,\n",
        "    verbose=1,\n",
        "    validation_data=val_ds\n",
        ")"
      ],
      "metadata": {
        "colab": {
          "base_uri": "https://localhost:8080/"
        },
        "outputId": "f0faac09-20cd-4f25-f138-2ab1ef72273e",
        "id": "w5y3MBTiLVb6"
      },
      "execution_count": 65,
      "outputs": [
        {
          "output_type": "stream",
          "name": "stdout",
          "text": [
            "Epoch 1/30\n",
            "30/30 [==============================] - 5s 49ms/step - loss: 1.4024 - categorical_accuracy: 0.4101 - precision_3: 0.5441 - recall_3: 0.1354 - auc_3: 0.6795 - val_loss: 0.9847 - val_categorical_accuracy: 0.5862 - val_precision_3: 0.6919 - val_recall_3: 0.3622 - val_auc_3: 0.8375\n",
            "Epoch 2/30\n",
            "30/30 [==============================] - 1s 37ms/step - loss: 0.8447 - categorical_accuracy: 0.6677 - precision_3: 0.7557 - recall_3: 0.5312 - auc_3: 0.8788 - val_loss: 0.7741 - val_categorical_accuracy: 0.7041 - val_precision_3: 0.7568 - val_recall_3: 0.6111 - val_auc_3: 0.9006\n",
            "Epoch 3/30\n",
            "30/30 [==============================] - 1s 37ms/step - loss: 0.6421 - categorical_accuracy: 0.7519 - precision_3: 0.8033 - recall_3: 0.6873 - auc_3: 0.9301 - val_loss: 0.6914 - val_categorical_accuracy: 0.7438 - val_precision_3: 0.8013 - val_recall_3: 0.6876 - val_auc_3: 0.9216\n",
            "Epoch 4/30\n",
            "30/30 [==============================] - 1s 37ms/step - loss: 0.5778 - categorical_accuracy: 0.7828 - precision_3: 0.8313 - recall_3: 0.7302 - auc_3: 0.9429 - val_loss: 0.6411 - val_categorical_accuracy: 0.7548 - val_precision_3: 0.7941 - val_recall_3: 0.7143 - val_auc_3: 0.9330\n",
            "Epoch 5/30\n",
            "30/30 [==============================] - 1s 37ms/step - loss: 0.5402 - categorical_accuracy: 0.8029 - precision_3: 0.8420 - recall_3: 0.7556 - auc_3: 0.9501 - val_loss: 0.6256 - val_categorical_accuracy: 0.7659 - val_precision_3: 0.8067 - val_recall_3: 0.7115 - val_auc_3: 0.9341\n",
            "Epoch 6/30\n",
            "30/30 [==============================] - 1s 37ms/step - loss: 0.4801 - categorical_accuracy: 0.8183 - precision_3: 0.8477 - recall_3: 0.7831 - auc_3: 0.9601 - val_loss: 0.6766 - val_categorical_accuracy: 0.7659 - val_precision_3: 0.7931 - val_recall_3: 0.7244 - val_auc_3: 0.9279\n",
            "Epoch 7/30\n",
            "30/30 [==============================] - 1s 37ms/step - loss: 0.4367 - categorical_accuracy: 0.8389 - precision_3: 0.8703 - recall_3: 0.8040 - auc_3: 0.9665 - val_loss: 0.6596 - val_categorical_accuracy: 0.7742 - val_precision_3: 0.8077 - val_recall_3: 0.7392 - val_auc_3: 0.9317\n",
            "Epoch 8/30\n",
            "30/30 [==============================] - 1s 37ms/step - loss: 0.3924 - categorical_accuracy: 0.8593 - precision_3: 0.8869 - recall_3: 0.8257 - auc_3: 0.9732 - val_loss: 0.5695 - val_categorical_accuracy: 0.8009 - val_precision_3: 0.8287 - val_recall_3: 0.7622 - val_auc_3: 0.9471\n",
            "Epoch 9/30\n",
            "30/30 [==============================] - 1s 44ms/step - loss: 0.3257 - categorical_accuracy: 0.8820 - precision_3: 0.9046 - recall_3: 0.8632 - auc_3: 0.9812 - val_loss: 0.5761 - val_categorical_accuracy: 0.7991 - val_precision_3: 0.8167 - val_recall_3: 0.7760 - val_auc_3: 0.9488\n",
            "Epoch 10/30\n",
            "30/30 [==============================] - 1s 46ms/step - loss: 0.2875 - categorical_accuracy: 0.8963 - precision_3: 0.9200 - recall_3: 0.8791 - auc_3: 0.9856 - val_loss: 0.6168 - val_categorical_accuracy: 0.8074 - val_precision_3: 0.8255 - val_recall_3: 0.7889 - val_auc_3: 0.9469\n",
            "Epoch 11/30\n",
            "30/30 [==============================] - 1s 43ms/step - loss: 0.2553 - categorical_accuracy: 0.9108 - precision_3: 0.9258 - recall_3: 0.8976 - auc_3: 0.9881 - val_loss: 0.7839 - val_categorical_accuracy: 0.7502 - val_precision_3: 0.7711 - val_recall_3: 0.7327 - val_auc_3: 0.9218\n",
            "Epoch 12/30\n",
            "30/30 [==============================] - 1s 37ms/step - loss: 0.3036 - categorical_accuracy: 0.8839 - precision_3: 0.9022 - recall_3: 0.8664 - auc_3: 0.9835 - val_loss: 0.6381 - val_categorical_accuracy: 0.7945 - val_precision_3: 0.8185 - val_recall_3: 0.7816 - val_auc_3: 0.9466\n",
            "Epoch 13/30\n",
            "30/30 [==============================] - 1s 36ms/step - loss: 0.2087 - categorical_accuracy: 0.9246 - precision_3: 0.9373 - recall_3: 0.9130 - auc_3: 0.9921 - val_loss: 0.6967 - val_categorical_accuracy: 0.7963 - val_precision_3: 0.8126 - val_recall_3: 0.7834 - val_auc_3: 0.9405\n",
            "Epoch 14/30\n",
            "30/30 [==============================] - 1s 37ms/step - loss: 0.1744 - categorical_accuracy: 0.9392 - precision_3: 0.9499 - recall_3: 0.9286 - auc_3: 0.9946 - val_loss: 0.7434 - val_categorical_accuracy: 0.7899 - val_precision_3: 0.8023 - val_recall_3: 0.7779 - val_auc_3: 0.9395\n",
            "Epoch 15/30\n",
            "30/30 [==============================] - 1s 37ms/step - loss: 0.1449 - categorical_accuracy: 0.9532 - precision_3: 0.9594 - recall_3: 0.9447 - auc_3: 0.9960 - val_loss: 0.7592 - val_categorical_accuracy: 0.8037 - val_precision_3: 0.8173 - val_recall_3: 0.7917 - val_auc_3: 0.9417\n",
            "Epoch 16/30\n",
            "30/30 [==============================] - 1s 37ms/step - loss: 0.1133 - categorical_accuracy: 0.9632 - precision_3: 0.9684 - recall_3: 0.9579 - auc_3: 0.9975 - val_loss: 0.9452 - val_categorical_accuracy: 0.7742 - val_precision_3: 0.7812 - val_recall_3: 0.7668 - val_auc_3: 0.9299\n",
            "Epoch 17/30\n",
            "30/30 [==============================] - 1s 36ms/step - loss: 0.1331 - categorical_accuracy: 0.9513 - precision_3: 0.9577 - recall_3: 0.9466 - auc_3: 0.9967 - val_loss: 0.8440 - val_categorical_accuracy: 0.7889 - val_precision_3: 0.7953 - val_recall_3: 0.7806 - val_auc_3: 0.9335\n",
            "Epoch 18/30\n",
            "30/30 [==============================] - 1s 37ms/step - loss: 0.0787 - categorical_accuracy: 0.9767 - precision_3: 0.9797 - recall_3: 0.9722 - auc_3: 0.9990 - val_loss: 0.9149 - val_categorical_accuracy: 0.8074 - val_precision_3: 0.8121 - val_recall_3: 0.8009 - val_auc_3: 0.9385\n",
            "Epoch 19/30\n",
            "30/30 [==============================] - 1s 38ms/step - loss: 0.0498 - categorical_accuracy: 0.9876 - precision_3: 0.9889 - recall_3: 0.9860 - auc_3: 0.9994 - val_loss: 1.0468 - val_categorical_accuracy: 0.7899 - val_precision_3: 0.7972 - val_recall_3: 0.7862 - val_auc_3: 0.9292\n",
            "Epoch 20/30\n",
            "30/30 [==============================] - 1s 45ms/step - loss: 0.0490 - categorical_accuracy: 0.9847 - precision_3: 0.9849 - recall_3: 0.9823 - auc_3: 0.9995 - val_loss: 1.0478 - val_categorical_accuracy: 0.7908 - val_precision_3: 0.7961 - val_recall_3: 0.7880 - val_auc_3: 0.9320\n",
            "Epoch 21/30\n",
            "30/30 [==============================] - 1s 37ms/step - loss: 0.0540 - categorical_accuracy: 0.9820 - precision_3: 0.9822 - recall_3: 0.9807 - auc_3: 0.9995 - val_loss: 1.0700 - val_categorical_accuracy: 0.8000 - val_precision_3: 0.8050 - val_recall_3: 0.7954 - val_auc_3: 0.9271\n",
            "Epoch 22/30\n",
            "30/30 [==============================] - 1s 36ms/step - loss: 0.0571 - categorical_accuracy: 0.9802 - precision_3: 0.9809 - recall_3: 0.9786 - auc_3: 0.9993 - val_loss: 1.1172 - val_categorical_accuracy: 0.7788 - val_precision_3: 0.7854 - val_recall_3: 0.7724 - val_auc_3: 0.9219\n",
            "Epoch 23/30\n",
            "30/30 [==============================] - 1s 37ms/step - loss: 0.0522 - categorical_accuracy: 0.9831 - precision_3: 0.9843 - recall_3: 0.9812 - auc_3: 0.9993 - val_loss: 1.1199 - val_categorical_accuracy: 0.8065 - val_precision_3: 0.8087 - val_recall_3: 0.8028 - val_auc_3: 0.9282\n",
            "Epoch 24/30\n",
            "30/30 [==============================] - 1s 37ms/step - loss: 0.0224 - categorical_accuracy: 0.9950 - precision_3: 0.9955 - recall_3: 0.9944 - auc_3: 0.9999 - val_loss: 1.2299 - val_categorical_accuracy: 0.8018 - val_precision_3: 0.8082 - val_recall_3: 0.8000 - val_auc_3: 0.9274\n",
            "Epoch 25/30\n",
            "30/30 [==============================] - 1s 37ms/step - loss: 0.0135 - categorical_accuracy: 0.9971 - precision_3: 0.9976 - recall_3: 0.9966 - auc_3: 1.0000 - val_loss: 1.2559 - val_categorical_accuracy: 0.8037 - val_precision_3: 0.8112 - val_recall_3: 0.8037 - val_auc_3: 0.9292\n",
            "Epoch 26/30\n",
            "30/30 [==============================] - 1s 37ms/step - loss: 0.0058 - categorical_accuracy: 0.9995 - precision_3: 0.9995 - recall_3: 0.9995 - auc_3: 1.0000 - val_loss: 1.3360 - val_categorical_accuracy: 0.7843 - val_precision_3: 0.7877 - val_recall_3: 0.7797 - val_auc_3: 0.9230\n",
            "Epoch 27/30\n",
            "30/30 [==============================] - 1s 37ms/step - loss: 0.0059 - categorical_accuracy: 0.9989 - precision_3: 0.9989 - recall_3: 0.9989 - auc_3: 1.0000 - val_loss: 1.3625 - val_categorical_accuracy: 0.8018 - val_precision_3: 0.8037 - val_recall_3: 0.8000 - val_auc_3: 0.9239\n",
            "Epoch 28/30\n",
            "30/30 [==============================] - 1s 36ms/step - loss: 0.0024 - categorical_accuracy: 1.0000 - precision_3: 1.0000 - recall_3: 1.0000 - auc_3: 1.0000 - val_loss: 1.4223 - val_categorical_accuracy: 0.7982 - val_precision_3: 0.8026 - val_recall_3: 0.7982 - val_auc_3: 0.9201\n",
            "Epoch 29/30\n",
            "30/30 [==============================] - 1s 39ms/step - loss: 0.0012 - categorical_accuracy: 1.0000 - precision_3: 1.0000 - recall_3: 1.0000 - auc_3: 1.0000 - val_loss: 1.4456 - val_categorical_accuracy: 0.8046 - val_precision_3: 0.8083 - val_recall_3: 0.8046 - val_auc_3: 0.9215\n",
            "Epoch 30/30\n",
            "30/30 [==============================] - 1s 44ms/step - loss: 8.2747e-04 - categorical_accuracy: 1.0000 - precision_3: 1.0000 - recall_3: 1.0000 - auc_3: 1.0000 - val_loss: 1.4806 - val_categorical_accuracy: 0.8028 - val_precision_3: 0.8046 - val_recall_3: 0.8009 - val_auc_3: 0.9209\n"
          ]
        }
      ]
    },
    {
      "cell_type": "code",
      "source": [
        "plot(dataaug_history.history['categorical_accuracy'], dataaug_history.history['val_categorical_accuracy'], 'Accuracy', 'Model Accuracy')"
      ],
      "metadata": {
        "colab": {
          "base_uri": "https://localhost:8080/",
          "height": 295
        },
        "outputId": "49167605-b84b-4d01-c318-61183606b4d1",
        "id": "ft1TY-58LVb6"
      },
      "execution_count": 66,
      "outputs": [
        {
          "output_type": "display_data",
          "data": {
            "text/plain": [
              "<Figure size 432x288 with 1 Axes>"
            ],
            "image/png": "[encoded data removed]"
          },
          "metadata": {
            "needs_background": "light"
          }
        }
      ]
    },
    {
      "cell_type": "code",
      "source": [
        "plot(dataaug_history.history['loss'], dataaug_history.history['val_loss'], 'Loss', 'Model Loss')"
      ],
      "metadata": {
        "colab": {
          "base_uri": "https://localhost:8080/",
          "height": 295
        },
        "outputId": "83cc76cf-066e-47b6-8d7f-909b81675c48",
        "id": "r0IVeT1LLVb6"
      },
      "execution_count": 67,
      "outputs": [
        {
          "output_type": "display_data",
          "data": {
            "text/plain": [
              "<Figure size 432x288 with 1 Axes>"
            ],
            "image/png": "[encoded data removed]"
          },
          "metadata": {
            "needs_background": "light"
          }
        }
      ]
    },
    {
      "cell_type": "code",
      "source": [
        "dataaug_pred = evaluate_and_predict(dataaug_model)"
      ],
      "metadata": {
        "colab": {
          "base_uri": "https://localhost:8080/"
        },
        "outputId": "c9df5550-62ff-4de5-be52-0810252180a0",
        "id": "tB53MgJWLVb6"
      },
      "execution_count": 68,
      "outputs": [
        {
          "output_type": "stream",
          "name": "stdout",
          "text": [
            "5/5 [==============================] - 0s 19ms/step - loss: 1.5867 - categorical_accuracy: 0.7869 - precision_3: 0.7895 - recall_3: 0.7850 - auc_3: 0.9129\n",
            "Test loss: 1.5866658687591553\n",
            "Test categorical_accuracy: 0.7869158983230591\n",
            "Test precision: 0.7894737124443054\n",
            "Test recall: 0.7850467562675476\n",
            "Test auc: 0.9128722548484802\n",
            "5/5 [==============================] - 0s 13ms/step\n"
          ]
        }
      ]
    },
    {
      "cell_type": "code",
      "source": [
        "draw_confusion_matrix(y_test, dataaug_pred)"
      ],
      "metadata": {
        "colab": {
          "base_uri": "https://localhost:8080/",
          "height": 265
        },
        "outputId": "56b641f6-3ef9-4558-bbac-102c85695a4e",
        "id": "_2T-V2ipLVb6"
      },
      "execution_count": 69,
      "outputs": [
        {
          "output_type": "display_data",
          "data": {
            "text/plain": [
              "<Figure size 432x288 with 1 Axes>"
            ],
            "image/png": "[encoded data removed]"
          },
          "metadata": {
            "needs_background": "light"
          }
        }
      ]
    },
    {
      "cell_type": "code",
      "source": [
        "print(classification_report(y_test.argmax(axis=1), dataaug_pred.argmax(axis=1)))"
      ],
      "metadata": {
        "colab": {
          "base_uri": "https://localhost:8080/"
        },
        "outputId": "f3d47c28-e3ea-401e-cf33-bc2278b6ddb4",
        "id": "6eJjMlPqLVb6"
      },
      "execution_count": 70,
      "outputs": [
        {
          "output_type": "stream",
          "name": "stdout",
          "text": [
            "              precision    recall  f1-score   support\n",
            "\n",
            "           0       0.75      0.79      0.77       119\n",
            "           1       0.83      0.80      0.82       153\n",
            "           2       0.76      0.76      0.76       136\n",
            "           3       0.80      0.80      0.80       127\n",
            "\n",
            "    accuracy                           0.79       535\n",
            "   macro avg       0.79      0.79      0.79       535\n",
            "weighted avg       0.79      0.79      0.79       535\n",
            "\n"
          ]
        }
      ]
    },
    {
      "cell_type": "markdown",
      "source": [
        "### L2 Regularisation"
      ],
      "metadata": {
        "id": "Emf39YOx32p3"
      }
    },
    {
      "cell_type": "code",
      "source": [
        "l2reg_model = build_model(l2Reg=True)\n",
        "l2reg_model.summary()"
      ],
      "metadata": {
        "colab": {
          "base_uri": "https://localhost:8080/"
        },
        "id": "79KbFJ7k356q",
        "outputId": "b04ccd24-c354-4b48-867a-faa2ec09427f"
      },
      "execution_count": 71,
      "outputs": [
        {
          "output_type": "stream",
          "name": "stdout",
          "text": [
            "Model: \"sequential_4\"\n",
            "_________________________________________________________________\n",
            " Layer (type)                Output Shape              Param #   \n",
            "=================================================================\n",
            " conv2d_16 (Conv2D)          (None, 62, 62, 32)        896       \n",
            "                                                                 \n",
            " conv2d_17 (Conv2D)          (None, 60, 60, 32)        9248      \n",
            "                                                                 \n",
            " max_pooling2d_8 (MaxPooling  (None, 30, 30, 32)       0         \n",
            " 2D)                                                             \n",
            "                                                                 \n",
            " conv2d_18 (Conv2D)          (None, 28, 28, 64)        18496     \n",
            "                                                                 \n",
            " conv2d_19 (Conv2D)          (None, 26, 26, 64)        36928     \n",
            "                                                                 \n",
            " max_pooling2d_9 (MaxPooling  (None, 13, 13, 64)       0         \n",
            " 2D)                                                             \n",
            "                                                                 \n",
            " flatten_4 (Flatten)         (None, 10816)             0         \n",
            "                                                                 \n",
            " dense_8 (Dense)             (None, 512)               5538304   \n",
            "                                                                 \n",
            " dense_9 (Dense)             (None, 4)                 2052      \n",
            "                                                                 \n",
            "=================================================================\n",
            "Total params: 5,605,924\n",
            "Trainable params: 5,605,924\n",
            "Non-trainable params: 0\n",
            "_________________________________________________________________\n"
          ]
        }
      ]
    },
    {
      "cell_type": "code",
      "source": [
        "l2reg_history = l2reg_model.fit(\n",
        "    train_ds,\n",
        "    epochs=30,\n",
        "    verbose=1,\n",
        "    validation_data=val_ds\n",
        ")"
      ],
      "metadata": {
        "colab": {
          "base_uri": "https://localhost:8080/"
        },
        "id": "_dO1Knbq4B0_",
        "outputId": "d844bc0f-86fb-4b15-a244-355b8c9db8b1"
      },
      "execution_count": 72,
      "outputs": [
        {
          "output_type": "stream",
          "name": "stdout",
          "text": [
            "Epoch 1/30\n",
            "30/30 [==============================] - 4s 49ms/step - loss: 6.0192 - categorical_accuracy: 0.3601 - precision_4: 0.4368 - recall_4: 0.0603 - auc_4: 0.6212 - val_loss: 2.7831 - val_categorical_accuracy: 0.4876 - val_precision_4: 0.6553 - val_recall_4: 0.1594 - val_auc_4: 0.7406\n",
            "Epoch 2/30\n",
            "30/30 [==============================] - 1s 37ms/step - loss: 2.2064 - categorical_accuracy: 0.5185 - precision_4: 0.6686 - recall_4: 0.2481 - auc_4: 0.7659 - val_loss: 1.7917 - val_categorical_accuracy: 0.5263 - val_precision_4: 0.6453 - val_recall_4: 0.2968 - val_auc_4: 0.7923\n",
            "Epoch 3/30\n",
            "30/30 [==============================] - 1s 36ms/step - loss: 1.6358 - categorical_accuracy: 0.5870 - precision_4: 0.6925 - recall_4: 0.3706 - auc_4: 0.8225 - val_loss: 1.5392 - val_categorical_accuracy: 0.5843 - val_precision_4: 0.6837 - val_recall_4: 0.4323 - val_auc_4: 0.8382\n",
            "Epoch 4/30\n",
            "30/30 [==============================] - 1s 36ms/step - loss: 1.4291 - categorical_accuracy: 0.6413 - precision_4: 0.7280 - recall_4: 0.4958 - auc_4: 0.8629 - val_loss: 1.3587 - val_categorical_accuracy: 0.6581 - val_precision_4: 0.7695 - val_recall_4: 0.4922 - val_auc_4: 0.8764\n",
            "Epoch 5/30\n",
            "30/30 [==============================] - 1s 36ms/step - loss: 1.3010 - categorical_accuracy: 0.6767 - precision_4: 0.7542 - recall_4: 0.5648 - auc_4: 0.8857 - val_loss: 1.3371 - val_categorical_accuracy: 0.6433 - val_precision_4: 0.7439 - val_recall_4: 0.4765 - val_auc_4: 0.8683\n",
            "Epoch 6/30\n",
            "30/30 [==============================] - 1s 37ms/step - loss: 1.2649 - categorical_accuracy: 0.6762 - precision_4: 0.7516 - recall_4: 0.5611 - auc_4: 0.8871 - val_loss: 1.2302 - val_categorical_accuracy: 0.6940 - val_precision_4: 0.7672 - val_recall_4: 0.5770 - val_auc_4: 0.8933\n",
            "Epoch 7/30\n",
            "30/30 [==============================] - 1s 39ms/step - loss: 1.1779 - categorical_accuracy: 0.7101 - precision_4: 0.7833 - recall_4: 0.6042 - auc_4: 0.9043 - val_loss: 1.1619 - val_categorical_accuracy: 0.7189 - val_precision_4: 0.7926 - val_recall_4: 0.6129 - val_auc_4: 0.9075\n",
            "Epoch 8/30\n",
            "30/30 [==============================] - 1s 44ms/step - loss: 1.1478 - categorical_accuracy: 0.7183 - precision_4: 0.7869 - recall_4: 0.6156 - auc_4: 0.9061 - val_loss: 1.1569 - val_categorical_accuracy: 0.7051 - val_precision_4: 0.7952 - val_recall_4: 0.5760 - val_auc_4: 0.9026\n",
            "Epoch 9/30\n",
            "30/30 [==============================] - 1s 48ms/step - loss: 1.1048 - categorical_accuracy: 0.7307 - precision_4: 0.7931 - recall_4: 0.6339 - auc_4: 0.9126 - val_loss: 1.1162 - val_categorical_accuracy: 0.7078 - val_precision_4: 0.7845 - val_recall_4: 0.6341 - val_auc_4: 0.9088\n",
            "Epoch 10/30\n",
            "30/30 [==============================] - 1s 39ms/step - loss: 1.0918 - categorical_accuracy: 0.7204 - precision_4: 0.7866 - recall_4: 0.6320 - auc_4: 0.9124 - val_loss: 1.1077 - val_categorical_accuracy: 0.7235 - val_precision_4: 0.7921 - val_recall_4: 0.6249 - val_auc_4: 0.9083\n",
            "Epoch 11/30\n",
            "30/30 [==============================] - 1s 37ms/step - loss: 1.0601 - categorical_accuracy: 0.7294 - precision_4: 0.8007 - recall_4: 0.6452 - auc_4: 0.9182 - val_loss: 1.0224 - val_categorical_accuracy: 0.7502 - val_precision_4: 0.8151 - val_recall_4: 0.6664 - val_auc_4: 0.9249\n",
            "Epoch 12/30\n",
            "30/30 [==============================] - 1s 37ms/step - loss: 1.0124 - categorical_accuracy: 0.7487 - precision_4: 0.8056 - recall_4: 0.6667 - auc_4: 0.9261 - val_loss: 1.0176 - val_categorical_accuracy: 0.7641 - val_precision_4: 0.8286 - val_recall_4: 0.6774 - val_auc_4: 0.9249\n",
            "Epoch 13/30\n",
            "30/30 [==============================] - 1s 37ms/step - loss: 0.9901 - categorical_accuracy: 0.7585 - precision_4: 0.8134 - recall_4: 0.6849 - auc_4: 0.9288 - val_loss: 1.0042 - val_categorical_accuracy: 0.7548 - val_precision_4: 0.8248 - val_recall_4: 0.6553 - val_auc_4: 0.9256\n",
            "Epoch 14/30\n",
            "30/30 [==============================] - 1s 37ms/step - loss: 0.9668 - categorical_accuracy: 0.7698 - precision_4: 0.8200 - recall_4: 0.6968 - auc_4: 0.9328 - val_loss: 0.9897 - val_categorical_accuracy: 0.7567 - val_precision_4: 0.8081 - val_recall_4: 0.6793 - val_auc_4: 0.9264\n",
            "Epoch 15/30\n",
            "30/30 [==============================] - 1s 37ms/step - loss: 0.9314 - categorical_accuracy: 0.7765 - precision_4: 0.8295 - recall_4: 0.7079 - auc_4: 0.9389 - val_loss: 0.9748 - val_categorical_accuracy: 0.7631 - val_precision_4: 0.8124 - val_recall_4: 0.6986 - val_auc_4: 0.9284\n",
            "Epoch 16/30\n",
            "30/30 [==============================] - 1s 37ms/step - loss: 0.9112 - categorical_accuracy: 0.7788 - precision_4: 0.8305 - recall_4: 0.7246 - auc_4: 0.9408 - val_loss: 1.0431 - val_categorical_accuracy: 0.7207 - val_precision_4: 0.7861 - val_recall_4: 0.6673 - val_auc_4: 0.9115\n",
            "Epoch 17/30\n",
            "30/30 [==============================] - 1s 37ms/step - loss: 0.9211 - categorical_accuracy: 0.7709 - precision_4: 0.8244 - recall_4: 0.7005 - auc_4: 0.9377 - val_loss: 1.0340 - val_categorical_accuracy: 0.7189 - val_precision_4: 0.7650 - val_recall_4: 0.6359 - val_auc_4: 0.9123\n",
            "Epoch 18/30\n",
            "30/30 [==============================] - 1s 36ms/step - loss: 0.9482 - categorical_accuracy: 0.7601 - precision_4: 0.8146 - recall_4: 0.6894 - auc_4: 0.9318 - val_loss: 1.0187 - val_categorical_accuracy: 0.7419 - val_precision_4: 0.7983 - val_recall_4: 0.6747 - val_auc_4: 0.9160\n",
            "Epoch 19/30\n",
            "30/30 [==============================] - 1s 43ms/step - loss: 0.8860 - categorical_accuracy: 0.7913 - precision_4: 0.8455 - recall_4: 0.7209 - auc_4: 0.9439 - val_loss: 0.9665 - val_categorical_accuracy: 0.7558 - val_precision_4: 0.8153 - val_recall_4: 0.6995 - val_auc_4: 0.9253\n",
            "Epoch 20/30\n",
            "30/30 [==============================] - 1s 49ms/step - loss: 0.8670 - categorical_accuracy: 0.7894 - precision_4: 0.8379 - recall_4: 0.7304 - auc_4: 0.9454 - val_loss: 0.9187 - val_categorical_accuracy: 0.7650 - val_precision_4: 0.8195 - val_recall_4: 0.7115 - val_auc_4: 0.9352\n",
            "Epoch 21/30\n",
            "30/30 [==============================] - 1s 39ms/step - loss: 0.8396 - categorical_accuracy: 0.8011 - precision_4: 0.8420 - recall_4: 0.7458 - auc_4: 0.9488 - val_loss: 1.0221 - val_categorical_accuracy: 0.7217 - val_precision_4: 0.7691 - val_recall_4: 0.6691 - val_auc_4: 0.9084\n",
            "Epoch 22/30\n",
            "30/30 [==============================] - 1s 37ms/step - loss: 0.8763 - categorical_accuracy: 0.7770 - precision_4: 0.8262 - recall_4: 0.7220 - auc_4: 0.9419 - val_loss: 0.9312 - val_categorical_accuracy: 0.7724 - val_precision_4: 0.8167 - val_recall_4: 0.7106 - val_auc_4: 0.9310\n",
            "Epoch 23/30\n",
            "30/30 [==============================] - 1s 38ms/step - loss: 0.8384 - categorical_accuracy: 0.7987 - precision_4: 0.8427 - recall_4: 0.7386 - auc_4: 0.9487 - val_loss: 0.9786 - val_categorical_accuracy: 0.7336 - val_precision_4: 0.7996 - val_recall_4: 0.6654 - val_auc_4: 0.9190\n",
            "Epoch 24/30\n",
            "30/30 [==============================] - 1s 37ms/step - loss: 0.8335 - categorical_accuracy: 0.8008 - precision_4: 0.8488 - recall_4: 0.7500 - auc_4: 0.9494 - val_loss: 0.9557 - val_categorical_accuracy: 0.7493 - val_precision_4: 0.7959 - val_recall_4: 0.6866 - val_auc_4: 0.9228\n",
            "Epoch 25/30\n",
            "30/30 [==============================] - 1s 37ms/step - loss: 0.8572 - categorical_accuracy: 0.7836 - precision_4: 0.8287 - recall_4: 0.7283 - auc_4: 0.9437 - val_loss: 0.9438 - val_categorical_accuracy: 0.7677 - val_precision_4: 0.8250 - val_recall_4: 0.6866 - val_auc_4: 0.9271\n",
            "Epoch 26/30\n",
            "30/30 [==============================] - 1s 37ms/step - loss: 0.8396 - categorical_accuracy: 0.7942 - precision_4: 0.8446 - recall_4: 0.7331 - auc_4: 0.9482 - val_loss: 0.9174 - val_categorical_accuracy: 0.7659 - val_precision_4: 0.8071 - val_recall_4: 0.7134 - val_auc_4: 0.9336\n",
            "Epoch 27/30\n",
            "30/30 [==============================] - 1s 37ms/step - loss: 0.8109 - categorical_accuracy: 0.8074 - precision_4: 0.8503 - recall_4: 0.7545 - auc_4: 0.9526 - val_loss: 0.9043 - val_categorical_accuracy: 0.7751 - val_precision_4: 0.8183 - val_recall_4: 0.7180 - val_auc_4: 0.9336\n",
            "Epoch 28/30\n",
            "30/30 [==============================] - 1s 37ms/step - loss: 0.7971 - categorical_accuracy: 0.8124 - precision_4: 0.8521 - recall_4: 0.7635 - auc_4: 0.9532 - val_loss: 0.9232 - val_categorical_accuracy: 0.7521 - val_precision_4: 0.8070 - val_recall_4: 0.7051 - val_auc_4: 0.9279\n",
            "Epoch 29/30\n",
            "30/30 [==============================] - 1s 37ms/step - loss: 0.8126 - categorical_accuracy: 0.8024 - precision_4: 0.8434 - recall_4: 0.7508 - auc_4: 0.9500 - val_loss: 0.9687 - val_categorical_accuracy: 0.7373 - val_precision_4: 0.7759 - val_recall_4: 0.6636 - val_auc_4: 0.9182\n",
            "Epoch 30/30\n",
            "30/30 [==============================] - 1s 43ms/step - loss: 0.8328 - categorical_accuracy: 0.7976 - precision_4: 0.8433 - recall_4: 0.7373 - auc_4: 0.9469 - val_loss: 0.9175 - val_categorical_accuracy: 0.7668 - val_precision_4: 0.8070 - val_recall_4: 0.7051 - val_auc_4: 0.9299\n"
          ]
        }
      ]
    },
    {
      "cell_type": "code",
      "source": [
        "plot(l2reg_history.history['categorical_accuracy'], l2reg_history.history['val_categorical_accuracy'], 'Accuracy', 'Model Accuracy')"
      ],
      "metadata": {
        "colab": {
          "base_uri": "https://localhost:8080/",
          "height": 295
        },
        "id": "vcOu4OOq4Cyk",
        "outputId": "b276ae93-a0fc-4c8e-a633-7c859684541a"
      },
      "execution_count": 73,
      "outputs": [
        {
          "output_type": "display_data",
          "data": {
            "text/plain": [
              "<Figure size 432x288 with 1 Axes>"
            ],
            "image/png": "[encoded data removed]"
          },
          "metadata": {
            "needs_background": "light"
          }
        }
      ]
    },
    {
      "cell_type": "code",
      "source": [
        "plot(l2reg_history.history['loss'], l2reg_history.history['val_loss'], 'Loss', 'Model Loss')"
      ],
      "metadata": {
        "colab": {
          "base_uri": "https://localhost:8080/",
          "height": 295
        },
        "id": "MIfXc1rP9FBv",
        "outputId": "e31ff66b-ad09-4c64-aff6-7cc2ed1d5d5e"
      },
      "execution_count": 74,
      "outputs": [
        {
          "output_type": "display_data",
          "data": {
            "text/plain": [
              "<Figure size 432x288 with 1 Axes>"
            ],
            "image/png": "[encoded data removed]"
          },
          "metadata": {
            "needs_background": "light"
          }
        }
      ]
    },
    {
      "cell_type": "code",
      "source": [
        "l2reg_pred = evaluate_and_predict(l2reg_model)"
      ],
      "metadata": {
        "colab": {
          "base_uri": "https://localhost:8080/"
        },
        "outputId": "6f55ad9b-119a-4757-e876-b5ebf89a0fc3",
        "id": "hKRvrUN0u6BG"
      },
      "execution_count": 75,
      "outputs": [
        {
          "output_type": "stream",
          "name": "stdout",
          "text": [
            "5/5 [==============================] - 0s 17ms/step - loss: 0.9321 - categorical_accuracy: 0.7664 - precision_4: 0.8056 - recall_4: 0.6972 - auc_4: 0.9254\n",
            "Test loss: 0.9320512413978577\n",
            "Test categorical_accuracy: 0.7663551568984985\n",
            "Test precision: 0.8056155443191528\n",
            "Test recall: 0.6971962451934814\n",
            "Test auc: 0.9254415035247803\n",
            "5/5 [==============================] - 0s 16ms/step\n"
          ]
        }
      ]
    },
    {
      "cell_type": "code",
      "source": [
        "draw_confusion_matrix(y_test, l2reg_pred)"
      ],
      "metadata": {
        "colab": {
          "base_uri": "https://localhost:8080/",
          "height": 265
        },
        "outputId": "683e5c03-876b-4920-94b7-1a979491efd5",
        "id": "ax68K5IWu6BG"
      },
      "execution_count": 76,
      "outputs": [
        {
          "output_type": "display_data",
          "data": {
            "text/plain": [
              "<Figure size 432x288 with 1 Axes>"
            ],
            "image/png": "[encoded data removed]"
          },
          "metadata": {
            "needs_background": "light"
          }
        }
      ]
    },
    {
      "cell_type": "code",
      "source": [
        "print(classification_report(y_test.argmax(axis=1), l2reg_pred.argmax(axis=1)))"
      ],
      "metadata": {
        "colab": {
          "base_uri": "https://localhost:8080/"
        },
        "outputId": "a7b9e8e2-2688-4b7d-9b41-7a8cd71583ad",
        "id": "nhT6p7ixu6BH"
      },
      "execution_count": 77,
      "outputs": [
        {
          "output_type": "stream",
          "name": "stdout",
          "text": [
            "              precision    recall  f1-score   support\n",
            "\n",
            "           0       0.88      0.76      0.82       119\n",
            "           1       0.85      0.65      0.74       153\n",
            "           2       0.70      0.77      0.74       136\n",
            "           3       0.69      0.91      0.78       127\n",
            "\n",
            "    accuracy                           0.77       535\n",
            "   macro avg       0.78      0.77      0.77       535\n",
            "weighted avg       0.78      0.77      0.77       535\n",
            "\n"
          ]
        }
      ]
    },
    {
      "cell_type": "code",
      "source": [],
      "metadata": {
        "id": "HBjRr-33lnOP"
      },
      "execution_count": 77,
      "outputs": []
    }
  ]
}
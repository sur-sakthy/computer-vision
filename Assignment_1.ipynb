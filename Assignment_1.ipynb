{
  "nbformat": 4,
  "nbformat_minor": 0,
  "metadata": {
    "colab": {
      "provenance": [],
      "mount_file_id": "1FCmz1FvudVnEjvqD0XItgtetbAT8y8xl",
      "authorship_tag": "ABX9TyMYV3a3veChadE5HiXxFv3S",
      "include_colab_link": true
    },
    "kernelspec": {
      "name": "python3",
      "display_name": "Python 3"
    },
    "language_info": {
      "name": "python"
    }
  },
  "cells": [
    {
      "cell_type": "markdown",
      "metadata": {
        "id": "view-in-github",
        "colab_type": "text"
      },
      "source": [
        "<a href=\"https://colab.research.google.com/github/sur-sakthy/computer-vision/blob/main/Assignment_1.ipynb\" target=\"_parent\"><img src=\"https://colab.research.google.com/assets/colab-badge.svg\" alt=\"Open In Colab\"/></a>"
      ]
    },
    {
      "cell_type": "markdown",
      "source": [
        "# Assignment #1\n",
        "The provided data has a train/validation split of 1000/500 (approx.) images. In this task you are to select any 4 classes from the original ImageNette data as your working dataset (i.e. classification whereby you are predicting one of four possible classes).\n",
        "\n",
        "Additionally, you need to reorganise the data into appropriate train/validation/test split before you train your network models. The details of the splitting is left to you, but you must fully justify any final split used in your evaluation."
      ],
      "metadata": {
        "id": "WTJaiwHQzzNo"
      }
    },
    {
      "cell_type": "code",
      "source": [
        "!nvidia-smi"
      ],
      "metadata": {
        "colab": {
          "base_uri": "https://localhost:8080/"
        },
        "id": "jxps2ylf50SH",
        "outputId": "c2ac0dea-d842-481a-cf07-8d3706c68c53"
      },
      "execution_count": 1,
      "outputs": [
        {
          "output_type": "stream",
          "name": "stdout",
          "text": [
            "NVIDIA-SMI has failed because it couldn't communicate with the NVIDIA driver. Make sure that the latest NVIDIA driver is installed and running.\n",
            "\n"
          ]
        }
      ]
    },
    {
      "cell_type": "code",
      "execution_count": 2,
      "metadata": {
        "id": "Zq-MwcjOzETs"
      },
      "outputs": [],
      "source": [
        "!cp '/content/drive/MyDrive/EE544 Computer Vision/imagenette2-160.tgz' ./"
      ]
    },
    {
      "cell_type": "code",
      "source": [
        "# remove %%capture command to show output from unzipping\n",
        "%%capture \n",
        "!tar zxvf /content/imagenette2-160.tgz"
      ],
      "metadata": {
        "id": "79KjQJxnAgCv"
      },
      "execution_count": 3,
      "outputs": []
    },
    {
      "cell_type": "markdown",
      "source": [
        "## Imports"
      ],
      "metadata": {
        "id": "mvvEa4-OLaTL"
      }
    },
    {
      "cell_type": "code",
      "source": [
        "import os\n",
        "import glob\n",
        "import pandas as pd\n",
        "import numpy as np\n",
        "import tensorflow as tf\n",
        "import cv2\n",
        "import matplotlib.pyplot as plt\n",
        "import seaborn as sns\n",
        "\n",
        "from tensorflow.keras.models import Sequential\n",
        "from tensorflow.keras.layers import Conv2D, Dense, Flatten, MaxPooling2D, BatchNormalization, Dropout\n",
        "from tensorflow.keras.metrics import CategoricalAccuracy, Precision, AUC, Recall\n",
        "from tensorflow.keras.optimizers import Adam\n",
        "from tensorflow.keras.utils import to_categorical\n",
        "from tensorflow.keras.preprocessing.image import ImageDataGenerator\n",
        "from keras.callbacks import EarlyStopping, ModelCheckpoint\n",
        "from sklearn.model_selection import train_test_split\n",
        "from sklearn.utils import shuffle\n",
        "from sklearn.preprocessing import LabelEncoder\n",
        "from sklearn.metrics import confusion_matrix, classification_report"
      ],
      "metadata": {
        "id": "-4ONl5dQGvub"
      },
      "execution_count": 4,
      "outputs": []
    },
    {
      "cell_type": "markdown",
      "source": [
        "## Constants"
      ],
      "metadata": {
        "id": "SNw6u_X4Vjhq"
      }
    },
    {
      "cell_type": "code",
      "source": [
        "PATH_TO_TRAIN_DATA = '/content/imagenette2-160/train'\n",
        "PATH_TO_VAL_DATA = '/content/imagenette2-160/val'\n",
        "IMG_WIDTH=64\n",
        "IMG_HEIGHT=64\n",
        "NUM_CLASSES=4"
      ],
      "metadata": {
        "id": "Mqij7Db_GdEO"
      },
      "execution_count": 5,
      "outputs": []
    },
    {
      "cell_type": "code",
      "source": [
        "all_classes = os.listdir(PATH_TO_TRAIN_DATA)\n",
        "all_classes"
      ],
      "metadata": {
        "id": "blZUoPmqGmuC",
        "colab": {
          "base_uri": "https://localhost:8080/"
        },
        "outputId": "a06b96af-d8c0-4279-95c4-9edc0295e8c7"
      },
      "execution_count": 6,
      "outputs": [
        {
          "output_type": "execute_result",
          "data": {
            "text/plain": [
              "['n03888257',\n",
              " 'n02102040',\n",
              " 'n02979186',\n",
              " 'n03425413',\n",
              " 'n03445777',\n",
              " 'n03000684',\n",
              " 'n03028079',\n",
              " 'n03394916',\n",
              " 'n03417042',\n",
              " 'n01440764',\n",
              " '.DS_Store']"
            ]
          },
          "metadata": {},
          "execution_count": 6
        }
      ]
    },
    {
      "cell_type": "code",
      "source": [
        "all_classes = os.listdir(PATH_TO_VAL_DATA)\n",
        "all_classes"
      ],
      "metadata": {
        "id": "vJ7YtI7zHS5U",
        "colab": {
          "base_uri": "https://localhost:8080/"
        },
        "outputId": "639523f1-aaf8-42ab-aedc-f86e60ca410f"
      },
      "execution_count": 7,
      "outputs": [
        {
          "output_type": "execute_result",
          "data": {
            "text/plain": [
              "['n03888257',\n",
              " 'n02102040',\n",
              " 'n02979186',\n",
              " 'n03425413',\n",
              " 'n03445777',\n",
              " 'n03000684',\n",
              " 'n03028079',\n",
              " 'n03394916',\n",
              " 'n03417042',\n",
              " 'n01440764']"
            ]
          },
          "metadata": {},
          "execution_count": 7
        }
      ]
    },
    {
      "cell_type": "markdown",
      "source": [
        "## Load dataset"
      ],
      "metadata": {
        "id": "GAPRTpueQCQz"
      }
    },
    {
      "cell_type": "code",
      "source": [
        "data = []\n",
        "labels = []"
      ],
      "metadata": {
        "id": "M04-MyRHnivw"
      },
      "execution_count": 8,
      "outputs": []
    },
    {
      "cell_type": "code",
      "source": [
        "def load_dataset(img_folder): \n",
        "    for dir in os.listdir(img_folder):\n",
        "      if dir == 'n03445777' or dir == 'n03417042' or dir == 'n02979186' or dir == 'n03028079' :\n",
        "        for file in os.listdir(os.path.join(img_folder, dir)):\n",
        "       \n",
        "            image_path = os.path.join(img_folder, dir, file)\n",
        "            image = cv2.imread(image_path)\n",
        "            image = cv2.resize(image, (IMG_HEIGHT, IMG_WIDTH), interpolation = cv2.INTER_AREA)\n",
        "            image = np.array(image)\n",
        "            image = image.astype('float32')\n",
        "            image /= 255\n",
        "            data.append(image)\n",
        "            labels.append(dir)"
      ],
      "metadata": {
        "id": "aPu_wDteHj7O"
      },
      "execution_count": 9,
      "outputs": []
    },
    {
      "cell_type": "code",
      "source": [
        "load_dataset(PATH_TO_TRAIN_DATA)\n",
        "load_dataset(PATH_TO_VAL_DATA)"
      ],
      "metadata": {
        "id": "FWqY1YqYmBw3"
      },
      "execution_count": 10,
      "outputs": []
    },
    {
      "cell_type": "code",
      "source": [
        "np.unique(labels)"
      ],
      "metadata": {
        "colab": {
          "base_uri": "https://localhost:8080/"
        },
        "id": "1KtBUddwMf7a",
        "outputId": "2343bc82-fc77-42b9-c72f-b373e67a0e69"
      },
      "execution_count": 11,
      "outputs": [
        {
          "output_type": "execute_result",
          "data": {
            "text/plain": [
              "array(['n02979186', 'n03028079', 'n03417042', 'n03445777'], dtype='<U9')"
            ]
          },
          "metadata": {},
          "execution_count": 11
        }
      ]
    },
    {
      "cell_type": "code",
      "source": [
        "data[0]"
      ],
      "metadata": {
        "colab": {
          "base_uri": "https://localhost:8080/"
        },
        "id": "9frhu7uaNGqV",
        "outputId": "2e119189-238d-48dd-ad50-265926dffd5e"
      },
      "execution_count": 12,
      "outputs": [
        {
          "output_type": "execute_result",
          "data": {
            "text/plain": [
              "array([[[0.1254902 , 0.13333334, 0.10980392],\n",
              "        [0.1254902 , 0.13333334, 0.10980392],\n",
              "        [0.12941177, 0.13333334, 0.11372549],\n",
              "        ...,\n",
              "        [0.3372549 , 0.28627452, 0.11764706],\n",
              "        [0.34509805, 0.29411766, 0.12156863],\n",
              "        [0.34901962, 0.29803923, 0.1254902 ]],\n",
              "\n",
              "       [[0.12941177, 0.13333334, 0.11764706],\n",
              "        [0.12941177, 0.13333334, 0.11764706],\n",
              "        [0.12941177, 0.13333334, 0.11764706],\n",
              "        ...,\n",
              "        [0.34509805, 0.29803923, 0.1254902 ],\n",
              "        [0.35686275, 0.30588236, 0.12941177],\n",
              "        [0.3647059 , 0.30980393, 0.13333334]],\n",
              "\n",
              "       [[0.12941177, 0.13725491, 0.1254902 ],\n",
              "        [0.12941177, 0.13725491, 0.1254902 ],\n",
              "        [0.12941177, 0.14117648, 0.12941177],\n",
              "        ...,\n",
              "        [0.35686275, 0.30980393, 0.13333334],\n",
              "        [0.3647059 , 0.3137255 , 0.12941177],\n",
              "        [0.37254903, 0.31764707, 0.12941177]],\n",
              "\n",
              "       ...,\n",
              "\n",
              "       [[0.05098039, 0.05882353, 0.05882353],\n",
              "        [0.05098039, 0.05882353, 0.05882353],\n",
              "        [0.05490196, 0.0627451 , 0.0627451 ],\n",
              "        ...,\n",
              "        [0.02745098, 0.02745098, 0.02745098],\n",
              "        [0.0627451 , 0.06666667, 0.06666667],\n",
              "        [0.09019608, 0.09803922, 0.09803922]],\n",
              "\n",
              "       [[0.04705882, 0.05490196, 0.05490196],\n",
              "        [0.04705882, 0.05490196, 0.05490196],\n",
              "        [0.05098039, 0.05882353, 0.05882353],\n",
              "        ...,\n",
              "        [0.02352941, 0.02352941, 0.02352941],\n",
              "        [0.05882353, 0.0627451 , 0.0627451 ],\n",
              "        [0.08627451, 0.09411765, 0.09411765]],\n",
              "\n",
              "       [[0.04313726, 0.05098039, 0.05098039],\n",
              "        [0.04313726, 0.05098039, 0.05098039],\n",
              "        [0.04705882, 0.05490196, 0.05490196],\n",
              "        ...,\n",
              "        [0.02352941, 0.02352941, 0.02352941],\n",
              "        [0.05490196, 0.05882353, 0.05882353],\n",
              "        [0.08235294, 0.09019608, 0.09019608]]], dtype=float32)"
            ]
          },
          "metadata": {},
          "execution_count": 12
        }
      ]
    },
    {
      "cell_type": "code",
      "source": [
        "np.min(data), np.max(data)"
      ],
      "metadata": {
        "colab": {
          "base_uri": "https://localhost:8080/"
        },
        "id": "D4urf0BxNM-3",
        "outputId": "d3e7fc61-a7cd-4aa3-f4f7-3459386f297b"
      },
      "execution_count": 13,
      "outputs": [
        {
          "output_type": "execute_result",
          "data": {
            "text/plain": [
              "(0.0, 1.0)"
            ]
          },
          "metadata": {},
          "execution_count": 13
        }
      ]
    },
    {
      "cell_type": "markdown",
      "source": [
        "## Shuffle and split"
      ],
      "metadata": {
        "id": "fiEa6VN9QEVS"
      }
    },
    {
      "cell_type": "code",
      "source": [
        "data, labels = shuffle(data, labels, random_state=0)"
      ],
      "metadata": {
        "id": "65D_onXrN8rj"
      },
      "execution_count": 14,
      "outputs": []
    },
    {
      "cell_type": "code",
      "source": [
        "X_train, X_test, y_train, y_test = train_test_split(data, labels, test_size=0.30, random_state=42)"
      ],
      "metadata": {
        "id": "wkQrikB6q9LO"
      },
      "execution_count": 15,
      "outputs": []
    },
    {
      "cell_type": "markdown",
      "source": [
        "## Class distribution"
      ],
      "metadata": {
        "id": "aw2IBtfFP8YD"
      }
    },
    {
      "cell_type": "code",
      "source": [
        "df_train = pd.DataFrame(y_train, columns=['label'])\n",
        "df_train.head()"
      ],
      "metadata": {
        "colab": {
          "base_uri": "https://localhost:8080/",
          "height": 206
        },
        "id": "p6O6bXLwOptx",
        "outputId": "015d1f2d-4ff3-4ad8-87e0-95d257226556"
      },
      "execution_count": 16,
      "outputs": [
        {
          "output_type": "execute_result",
          "data": {
            "text/plain": [
              "       label\n",
              "0  n03028079\n",
              "1  n02979186\n",
              "2  n03417042\n",
              "3  n03445777\n",
              "4  n03028079"
            ],
            "text/html": [
              "\n",
              "  <div id=\"df-661bab88-a276-43eb-8d58-a6f4a055e88f\">\n",
              "    <div class=\"colab-df-container\">\n",
              "      <div>\n",
              "<style scoped>\n",
              "    .dataframe tbody tr th:only-of-type {\n",
              "        vertical-align: middle;\n",
              "    }\n",
              "\n",
              "    .dataframe tbody tr th {\n",
              "        vertical-align: top;\n",
              "    }\n",
              "\n",
              "    .dataframe thead th {\n",
              "        text-align: right;\n",
              "    }\n",
              "</style>\n",
              "<table border=\"1\" class=\"dataframe\">\n",
              "  <thead>\n",
              "    <tr style=\"text-align: right;\">\n",
              "      <th></th>\n",
              "      <th>label</th>\n",
              "    </tr>\n",
              "  </thead>\n",
              "  <tbody>\n",
              "    <tr>\n",
              "      <th>0</th>\n",
              "      <td>n03028079</td>\n",
              "    </tr>\n",
              "    <tr>\n",
              "      <th>1</th>\n",
              "      <td>n02979186</td>\n",
              "    </tr>\n",
              "    <tr>\n",
              "      <th>2</th>\n",
              "      <td>n03417042</td>\n",
              "    </tr>\n",
              "    <tr>\n",
              "      <th>3</th>\n",
              "      <td>n03445777</td>\n",
              "    </tr>\n",
              "    <tr>\n",
              "      <th>4</th>\n",
              "      <td>n03028079</td>\n",
              "    </tr>\n",
              "  </tbody>\n",
              "</table>\n",
              "</div>\n",
              "      <button class=\"colab-df-convert\" onclick=\"convertToInteractive('df-661bab88-a276-43eb-8d58-a6f4a055e88f')\"\n",
              "              title=\"Convert this dataframe to an interactive table.\"\n",
              "              style=\"display:none;\">\n",
              "        \n",
              "  <svg xmlns=\"http://www.w3.org/2000/svg\" height=\"24px\"viewBox=\"0 0 24 24\"\n",
              "       width=\"24px\">\n",
              "    <path d=\"M0 0h24v24H0V0z\" fill=\"none\"/>\n",
              "    <path d=\"M18.56 5.44l.94 2.06.94-2.06 2.06-.94-2.06-.94-.94-2.06-.94 2.06-2.06.94zm-11 1L8.5 8.5l.94-2.06 2.06-.94-2.06-.94L8.5 2.5l-.94 2.06-2.06.94zm10 10l.94 2.06.94-2.06 2.06-.94-2.06-.94-.94-2.06-.94 2.06-2.06.94z\"/><path d=\"M17.41 7.96l-1.37-1.37c-.4-.4-.92-.59-1.43-.59-.52 0-1.04.2-1.43.59L10.3 9.45l-7.72 7.72c-.78.78-.78 2.05 0 2.83L4 21.41c.39.39.9.59 1.41.59.51 0 1.02-.2 1.41-.59l7.78-7.78 2.81-2.81c.8-.78.8-2.07 0-2.86zM5.41 20L4 18.59l7.72-7.72 1.47 1.35L5.41 20z\"/>\n",
              "  </svg>\n",
              "      </button>\n",
              "      \n",
              "  <style>\n",
              "    .colab-df-container {\n",
              "      display:flex;\n",
              "      flex-wrap:wrap;\n",
              "      gap: 12px;\n",
              "    }\n",
              "\n",
              "    .colab-df-convert {\n",
              "      background-color: #E8F0FE;\n",
              "      border: none;\n",
              "      border-radius: 50%;\n",
              "      cursor: pointer;\n",
              "      display: none;\n",
              "      fill: #1967D2;\n",
              "      height: 32px;\n",
              "      padding: 0 0 0 0;\n",
              "      width: 32px;\n",
              "    }\n",
              "\n",
              "    .colab-df-convert:hover {\n",
              "      background-color: #E2EBFA;\n",
              "      box-shadow: 0px 1px 2px rgba(60, 64, 67, 0.3), 0px 1px 3px 1px rgba(60, 64, 67, 0.15);\n",
              "      fill: #174EA6;\n",
              "    }\n",
              "\n",
              "    [theme=dark] .colab-df-convert {\n",
              "      background-color: #3B4455;\n",
              "      fill: #D2E3FC;\n",
              "    }\n",
              "\n",
              "    [theme=dark] .colab-df-convert:hover {\n",
              "      background-color: #434B5C;\n",
              "      box-shadow: 0px 1px 3px 1px rgba(0, 0, 0, 0.15);\n",
              "      filter: drop-shadow(0px 1px 2px rgba(0, 0, 0, 0.3));\n",
              "      fill: #FFFFFF;\n",
              "    }\n",
              "  </style>\n",
              "\n",
              "      <script>\n",
              "        const buttonEl =\n",
              "          document.querySelector('#df-661bab88-a276-43eb-8d58-a6f4a055e88f button.colab-df-convert');\n",
              "        buttonEl.style.display =\n",
              "          google.colab.kernel.accessAllowed ? 'block' : 'none';\n",
              "\n",
              "        async function convertToInteractive(key) {\n",
              "          const element = document.querySelector('#df-661bab88-a276-43eb-8d58-a6f4a055e88f');\n",
              "          const dataTable =\n",
              "            await google.colab.kernel.invokeFunction('convertToInteractive',\n",
              "                                                     [key], {});\n",
              "          if (!dataTable) return;\n",
              "\n",
              "          const docLinkHtml = 'Like what you see? Visit the ' +\n",
              "            '<a target=\"_blank\" href=https://colab.research.google.com/notebooks/data_table.ipynb>data table notebook</a>'\n",
              "            + ' to learn more about interactive tables.';\n",
              "          element.innerHTML = '';\n",
              "          dataTable['output_type'] = 'display_data';\n",
              "          await google.colab.output.renderOutput(dataTable, element);\n",
              "          const docLink = document.createElement('div');\n",
              "          docLink.innerHTML = docLinkHtml;\n",
              "          element.appendChild(docLink);\n",
              "        }\n",
              "      </script>\n",
              "    </div>\n",
              "  </div>\n",
              "  "
            ]
          },
          "metadata": {},
          "execution_count": 16
        }
      ]
    },
    {
      "cell_type": "code",
      "source": [
        "sns.countplot(df_train['label'])\n",
        "plt.show()"
      ],
      "metadata": {
        "colab": {
          "base_uri": "https://localhost:8080/",
          "height": 334
        },
        "id": "dqdcinbjO4hQ",
        "outputId": "e0e9774d-98b7-402a-b37b-b8780e0f20b9"
      },
      "execution_count": 17,
      "outputs": [
        {
          "output_type": "stream",
          "name": "stderr",
          "text": [
            "/usr/local/lib/python3.9/dist-packages/seaborn/_decorators.py:36: FutureWarning: Pass the following variable as a keyword arg: x. From version 0.12, the only valid positional argument will be `data`, and passing other arguments without an explicit keyword will result in an error or misinterpretation.\n",
            "  warnings.warn(\n"
          ]
        },
        {
          "output_type": "display_data",
          "data": {
            "text/plain": [
              "<Figure size 432x288 with 1 Axes>"
            ],
            "image/png": "[encoded data removed]"
          },
          "metadata": {
            "needs_background": "light"
          }
        }
      ]
    },
    {
      "cell_type": "code",
      "source": [
        "df_test = pd.DataFrame(y_test, columns=['label'])\n",
        "df_test.head()"
      ],
      "metadata": {
        "colab": {
          "base_uri": "https://localhost:8080/",
          "height": 206
        },
        "id": "zUJ5K75XPCxp",
        "outputId": "a0bd4aea-22bb-417b-ae09-3ae30b95d3b9"
      },
      "execution_count": 18,
      "outputs": [
        {
          "output_type": "execute_result",
          "data": {
            "text/plain": [
              "       label\n",
              "0  n03028079\n",
              "1  n03028079\n",
              "2  n03028079\n",
              "3  n03417042\n",
              "4  n03417042"
            ],
            "text/html": [
              "\n",
              "  <div id=\"df-86f09ce2-e79b-45ba-9557-2c07bed1ea56\">\n",
              "    <div class=\"colab-df-container\">\n",
              "      <div>\n",
              "<style scoped>\n",
              "    .dataframe tbody tr th:only-of-type {\n",
              "        vertical-align: middle;\n",
              "    }\n",
              "\n",
              "    .dataframe tbody tr th {\n",
              "        vertical-align: top;\n",
              "    }\n",
              "\n",
              "    .dataframe thead th {\n",
              "        text-align: right;\n",
              "    }\n",
              "</style>\n",
              "<table border=\"1\" class=\"dataframe\">\n",
              "  <thead>\n",
              "    <tr style=\"text-align: right;\">\n",
              "      <th></th>\n",
              "      <th>label</th>\n",
              "    </tr>\n",
              "  </thead>\n",
              "  <tbody>\n",
              "    <tr>\n",
              "      <th>0</th>\n",
              "      <td>n03028079</td>\n",
              "    </tr>\n",
              "    <tr>\n",
              "      <th>1</th>\n",
              "      <td>n03028079</td>\n",
              "    </tr>\n",
              "    <tr>\n",
              "      <th>2</th>\n",
              "      <td>n03028079</td>\n",
              "    </tr>\n",
              "    <tr>\n",
              "      <th>3</th>\n",
              "      <td>n03417042</td>\n",
              "    </tr>\n",
              "    <tr>\n",
              "      <th>4</th>\n",
              "      <td>n03417042</td>\n",
              "    </tr>\n",
              "  </tbody>\n",
              "</table>\n",
              "</div>\n",
              "      <button class=\"colab-df-convert\" onclick=\"convertToInteractive('df-86f09ce2-e79b-45ba-9557-2c07bed1ea56')\"\n",
              "              title=\"Convert this dataframe to an interactive table.\"\n",
              "              style=\"display:none;\">\n",
              "        \n",
              "  <svg xmlns=\"http://www.w3.org/2000/svg\" height=\"24px\"viewBox=\"0 0 24 24\"\n",
              "       width=\"24px\">\n",
              "    <path d=\"M0 0h24v24H0V0z\" fill=\"none\"/>\n",
              "    <path d=\"M18.56 5.44l.94 2.06.94-2.06 2.06-.94-2.06-.94-.94-2.06-.94 2.06-2.06.94zm-11 1L8.5 8.5l.94-2.06 2.06-.94-2.06-.94L8.5 2.5l-.94 2.06-2.06.94zm10 10l.94 2.06.94-2.06 2.06-.94-2.06-.94-.94-2.06-.94 2.06-2.06.94z\"/><path d=\"M17.41 7.96l-1.37-1.37c-.4-.4-.92-.59-1.43-.59-.52 0-1.04.2-1.43.59L10.3 9.45l-7.72 7.72c-.78.78-.78 2.05 0 2.83L4 21.41c.39.39.9.59 1.41.59.51 0 1.02-.2 1.41-.59l7.78-7.78 2.81-2.81c.8-.78.8-2.07 0-2.86zM5.41 20L4 18.59l7.72-7.72 1.47 1.35L5.41 20z\"/>\n",
              "  </svg>\n",
              "      </button>\n",
              "      \n",
              "  <style>\n",
              "    .colab-df-container {\n",
              "      display:flex;\n",
              "      flex-wrap:wrap;\n",
              "      gap: 12px;\n",
              "    }\n",
              "\n",
              "    .colab-df-convert {\n",
              "      background-color: #E8F0FE;\n",
              "      border: none;\n",
              "      border-radius: 50%;\n",
              "      cursor: pointer;\n",
              "      display: none;\n",
              "      fill: #1967D2;\n",
              "      height: 32px;\n",
              "      padding: 0 0 0 0;\n",
              "      width: 32px;\n",
              "    }\n",
              "\n",
              "    .colab-df-convert:hover {\n",
              "      background-color: #E2EBFA;\n",
              "      box-shadow: 0px 1px 2px rgba(60, 64, 67, 0.3), 0px 1px 3px 1px rgba(60, 64, 67, 0.15);\n",
              "      fill: #174EA6;\n",
              "    }\n",
              "\n",
              "    [theme=dark] .colab-df-convert {\n",
              "      background-color: #3B4455;\n",
              "      fill: #D2E3FC;\n",
              "    }\n",
              "\n",
              "    [theme=dark] .colab-df-convert:hover {\n",
              "      background-color: #434B5C;\n",
              "      box-shadow: 0px 1px 3px 1px rgba(0, 0, 0, 0.15);\n",
              "      filter: drop-shadow(0px 1px 2px rgba(0, 0, 0, 0.3));\n",
              "      fill: #FFFFFF;\n",
              "    }\n",
              "  </style>\n",
              "\n",
              "      <script>\n",
              "        const buttonEl =\n",
              "          document.querySelector('#df-86f09ce2-e79b-45ba-9557-2c07bed1ea56 button.colab-df-convert');\n",
              "        buttonEl.style.display =\n",
              "          google.colab.kernel.accessAllowed ? 'block' : 'none';\n",
              "\n",
              "        async function convertToInteractive(key) {\n",
              "          const element = document.querySelector('#df-86f09ce2-e79b-45ba-9557-2c07bed1ea56');\n",
              "          const dataTable =\n",
              "            await google.colab.kernel.invokeFunction('convertToInteractive',\n",
              "                                                     [key], {});\n",
              "          if (!dataTable) return;\n",
              "\n",
              "          const docLinkHtml = 'Like what you see? Visit the ' +\n",
              "            '<a target=\"_blank\" href=https://colab.research.google.com/notebooks/data_table.ipynb>data table notebook</a>'\n",
              "            + ' to learn more about interactive tables.';\n",
              "          element.innerHTML = '';\n",
              "          dataTable['output_type'] = 'display_data';\n",
              "          await google.colab.output.renderOutput(dataTable, element);\n",
              "          const docLink = document.createElement('div');\n",
              "          docLink.innerHTML = docLinkHtml;\n",
              "          element.appendChild(docLink);\n",
              "        }\n",
              "      </script>\n",
              "    </div>\n",
              "  </div>\n",
              "  "
            ]
          },
          "metadata": {},
          "execution_count": 18
        }
      ]
    },
    {
      "cell_type": "code",
      "source": [
        "sns.countplot(df_test['label'])\n",
        "plt.show()"
      ],
      "metadata": {
        "colab": {
          "base_uri": "https://localhost:8080/",
          "height": 334
        },
        "id": "dgLwhFaQPMtW",
        "outputId": "6da9b48a-b020-4d60-a7cf-db951e4cd912"
      },
      "execution_count": 19,
      "outputs": [
        {
          "output_type": "stream",
          "name": "stderr",
          "text": [
            "/usr/local/lib/python3.9/dist-packages/seaborn/_decorators.py:36: FutureWarning: Pass the following variable as a keyword arg: x. From version 0.12, the only valid positional argument will be `data`, and passing other arguments without an explicit keyword will result in an error or misinterpretation.\n",
            "  warnings.warn(\n"
          ]
        },
        {
          "output_type": "display_data",
          "data": {
            "text/plain": [
              "<Figure size 432x288 with 1 Axes>"
            ],
            "image/png": "[encoded data removed]"
          },
          "metadata": {
            "needs_background": "light"
          }
        }
      ]
    },
    {
      "cell_type": "markdown",
      "source": [
        "## Encoding"
      ],
      "metadata": {
        "id": "k3-odDC4P4iw"
      }
    },
    {
      "cell_type": "code",
      "source": [
        "def one_hot_encode(y, num_classes):\n",
        "  le = LabelEncoder()\n",
        "  return to_categorical(le.fit_transform(y), num_classes)"
      ],
      "metadata": {
        "id": "j05-94gsVG7P"
      },
      "execution_count": 20,
      "outputs": []
    },
    {
      "cell_type": "code",
      "source": [
        "y_train[0]"
      ],
      "metadata": {
        "colab": {
          "base_uri": "https://localhost:8080/",
          "height": 35
        },
        "id": "TIIs6vhcPSlC",
        "outputId": "417323d1-4d6a-497a-a569-a3d9ef625c93"
      },
      "execution_count": 21,
      "outputs": [
        {
          "output_type": "execute_result",
          "data": {
            "text/plain": [
              "'n03028079'"
            ],
            "application/vnd.google.colaboratory.intrinsic+json": {
              "type": "string"
            }
          },
          "metadata": {},
          "execution_count": 21
        }
      ]
    },
    {
      "cell_type": "code",
      "source": [
        "y_train = one_hot_encode(y_train, NUM_CLASSES)"
      ],
      "metadata": {
        "id": "BPYfBPPNPXhm"
      },
      "execution_count": 22,
      "outputs": []
    },
    {
      "cell_type": "code",
      "source": [
        "y_train[0]"
      ],
      "metadata": {
        "colab": {
          "base_uri": "https://localhost:8080/"
        },
        "id": "t7fvDvpkPm04",
        "outputId": "88cbd83a-5a00-45a6-de26-c9cf3c32e1e9"
      },
      "execution_count": 23,
      "outputs": [
        {
          "output_type": "execute_result",
          "data": {
            "text/plain": [
              "array([0., 1., 0., 0.], dtype=float32)"
            ]
          },
          "metadata": {},
          "execution_count": 23
        }
      ]
    },
    {
      "cell_type": "code",
      "source": [
        "y_test[0]"
      ],
      "metadata": {
        "colab": {
          "base_uri": "https://localhost:8080/",
          "height": 35
        },
        "id": "dT7y2i_1PtcM",
        "outputId": "f69642f1-f98c-4423-bf15-ab0ffc497cac"
      },
      "execution_count": 24,
      "outputs": [
        {
          "output_type": "execute_result",
          "data": {
            "text/plain": [
              "'n03028079'"
            ],
            "application/vnd.google.colaboratory.intrinsic+json": {
              "type": "string"
            }
          },
          "metadata": {},
          "execution_count": 24
        }
      ]
    },
    {
      "cell_type": "code",
      "source": [
        "y_test = one_hot_encode(y_test, NUM_CLASSES)"
      ],
      "metadata": {
        "id": "q302nQhQPtWL"
      },
      "execution_count": 25,
      "outputs": []
    },
    {
      "cell_type": "code",
      "source": [
        "y_test[0]"
      ],
      "metadata": {
        "colab": {
          "base_uri": "https://localhost:8080/"
        },
        "id": "xFJEn4BOPtPy",
        "outputId": "6809753d-9032-44b5-b67d-00f95c3a1857"
      },
      "execution_count": 26,
      "outputs": [
        {
          "output_type": "execute_result",
          "data": {
            "text/plain": [
              "array([0., 1., 0., 0.], dtype=float32)"
            ]
          },
          "metadata": {},
          "execution_count": 26
        }
      ]
    },
    {
      "cell_type": "markdown",
      "source": [
        "## Create train, validation and test sets"
      ],
      "metadata": {
        "id": "L9lbpcv7QZYC"
      }
    },
    {
      "cell_type": "code",
      "source": [
        "train_datagen = ImageDataGenerator(        \n",
        "        fill_mode=\"nearest\",\n",
        "        shear_range=0.2,\n",
        "        zoom_range=0.2,\n",
        "        horizontal_flip=True,\n",
        "        validation_split=0.1\n",
        ")\n",
        "\n",
        "test_datagen = ImageDataGenerator()"
      ],
      "metadata": {
        "id": "QAmBWWzTQLfu"
      },
      "execution_count": 27,
      "outputs": []
    },
    {
      "cell_type": "code",
      "source": [
        "train_ds = train_datagen.flow(\n",
        "  np.array(X_train), y_train,\n",
        "  subset=\"training\",\n",
        "  shuffle=True,\n",
        "  batch_size=20\n",
        ")\n",
        "\n",
        "val_ds = train_datagen.flow(\n",
        "  np.array(X_train), y_train,\n",
        "  subset=\"validation\",\n",
        "  shuffle=True,\n",
        "  batch_size=20\n",
        ")\n",
        "\n",
        "test_ds = test_datagen.flow(\n",
        "  np.array(X_test), y_test,\n",
        "  shuffle=False,\n",
        "  batch_size=20\n",
        ")"
      ],
      "metadata": {
        "id": "DEGRrcKyQLR2"
      },
      "execution_count": 28,
      "outputs": []
    },
    {
      "cell_type": "markdown",
      "source": [
        "## Build model"
      ],
      "metadata": {
        "id": "mXM62rqgWnmR"
      }
    },
    {
      "cell_type": "code",
      "source": [
        "def build_model(batchNorm=False, dropOut=False):\n",
        "  model = Sequential()\n",
        "\n",
        "  model.add(Conv2D(32, kernel_size=3, activation='relu', input_shape=(64,64,3)))\n",
        "\n",
        "  if batchNorm:\n",
        "    model.add(BatchNormalization())\n",
        "  \n",
        "  model.add(Conv2D(32, kernel_size=3, activation='relu'))\n",
        "  \n",
        "  if batchNorm:\n",
        "    model.add(BatchNormalization())\n",
        "  \n",
        "  model.add(MaxPooling2D(pool_size=(2,2)))\n",
        "\n",
        "  if dropOut:\n",
        "    model.add(Dropout(0.5))\n",
        "\n",
        "  model.add(Conv2D(64, kernel_size=3, activation='relu'))\n",
        "  model.add(Conv2D(64, kernel_size=3, activation='relu'))\n",
        "  \n",
        "  if batchNorm:\n",
        "    model.add(BatchNormalization())\n",
        "  \n",
        "  model.add(MaxPooling2D(pool_size=(2,2)))\n",
        "\n",
        "  model.add(Flatten())\n",
        "  model.add(Dense(512))\n",
        "\n",
        "  if batchNorm:\n",
        "    model.add(BatchNormalization())\n",
        "\n",
        "  if dropOut:\n",
        "    model.add(Dropout(0.5))\n",
        "\n",
        "  model.add(Dense(NUM_CLASSES, activation='softmax'))\n",
        "\n",
        "  model.compile(\n",
        "      optimizer=Adam(),\n",
        "      loss='categorical_crossentropy',\n",
        "      metrics=[\n",
        "          CategoricalAccuracy(),\n",
        "          Precision(), \n",
        "          Recall(),\n",
        "          AUC()\n",
        "        ]\n",
        "  )\n",
        "\n",
        "  return model"
      ],
      "metadata": {
        "id": "zZSDjLoRQA6o"
      },
      "execution_count": 29,
      "outputs": []
    },
    {
      "cell_type": "code",
      "source": [
        "model = build_model()\n",
        "model.summary()"
      ],
      "metadata": {
        "colab": {
          "base_uri": "https://localhost:8080/"
        },
        "id": "rQDGOVCVsKF8",
        "outputId": "ad5d285c-9b68-463e-ff9b-8dda9a8ff4b7"
      },
      "execution_count": 30,
      "outputs": [
        {
          "output_type": "stream",
          "name": "stdout",
          "text": [
            "Model: \"sequential\"\n",
            "_________________________________________________________________\n",
            " Layer (type)                Output Shape              Param #   \n",
            "=================================================================\n",
            " conv2d (Conv2D)             (None, 62, 62, 32)        896       \n",
            "                                                                 \n",
            " conv2d_1 (Conv2D)           (None, 60, 60, 32)        9248      \n",
            "                                                                 \n",
            " max_pooling2d (MaxPooling2D  (None, 30, 30, 32)       0         \n",
            " )                                                               \n",
            "                                                                 \n",
            " conv2d_2 (Conv2D)           (None, 28, 28, 64)        18496     \n",
            "                                                                 \n",
            " conv2d_3 (Conv2D)           (None, 26, 26, 64)        36928     \n",
            "                                                                 \n",
            " max_pooling2d_1 (MaxPooling  (None, 13, 13, 64)       0         \n",
            " 2D)                                                             \n",
            "                                                                 \n",
            " flatten (Flatten)           (None, 10816)             0         \n",
            "                                                                 \n",
            " dense (Dense)               (None, 512)               5538304   \n",
            "                                                                 \n",
            " dense_1 (Dense)             (None, 4)                 2052      \n",
            "                                                                 \n",
            "=================================================================\n",
            "Total params: 5,605,924\n",
            "Trainable params: 5,605,924\n",
            "Non-trainable params: 0\n",
            "_________________________________________________________________\n"
          ]
        }
      ]
    },
    {
      "cell_type": "markdown",
      "source": [
        "## Train model"
      ],
      "metadata": {
        "id": "Rm888aZjWquk"
      }
    },
    {
      "cell_type": "markdown",
      "source": [
        "### Initialise callbacks"
      ],
      "metadata": {
        "id": "pBeBZRTUPMsV"
      }
    },
    {
      "cell_type": "code",
      "source": [
        "early_stopping = EarlyStopping(monitor='val_loss', verbose=1, patience=5)\n",
        "checkpoint = ModelCheckpoint('/content/drive/MyDrive/EE544 Computer Vision/task-1-best-weights.hdf5', verbose=1, save_best_only=True, monitor='val_categorical_accuracy')"
      ],
      "metadata": {
        "id": "KF2Jfe0ZOn52"
      },
      "execution_count": 31,
      "outputs": []
    },
    {
      "cell_type": "markdown",
      "source": [
        "### Fit the model"
      ],
      "metadata": {
        "id": "fxsKgdiyeDSp"
      }
    },
    {
      "cell_type": "code",
      "source": [
        "history = model.fit(\n",
        "    train_ds,\n",
        "    epochs=150,\n",
        "    verbose=1,\n",
        "    validation_data=val_ds,\n",
        "    callbacks=[early_stopping, checkpoint]\n",
        ")"
      ],
      "metadata": {
        "colab": {
          "base_uri": "https://localhost:8080/"
        },
        "id": "1_jktE3JsRBS",
        "outputId": "4b022162-da36-4018-91bb-3fffa08134c8"
      },
      "execution_count": 32,
      "outputs": [
        {
          "output_type": "stream",
          "name": "stdout",
          "text": [
            "Epoch 1/150\n",
            "171/171 [==============================] - ETA: 0s - loss: 1.0047 - categorical_accuracy: 0.5814 - precision: 0.7142 - recall: 0.4077 - auc: 0.8251\n",
            "Epoch 1: val_categorical_accuracy improved from -inf to 0.65608, saving model to /content/drive/MyDrive/EE544 Computer Vision/task-1-best-weights.hdf5\n",
            "171/171 [==============================] - 89s 501ms/step - loss: 1.0047 - categorical_accuracy: 0.5814 - precision: 0.7142 - recall: 0.4077 - auc: 0.8251 - val_loss: 0.8502 - val_categorical_accuracy: 0.6561 - val_precision: 0.7509 - val_recall: 0.5265 - val_auc: 0.8775\n",
            "Epoch 2/150\n",
            "171/171 [==============================] - ETA: 0s - loss: 0.8216 - categorical_accuracy: 0.6793 - precision: 0.7606 - recall: 0.5735 - auc: 0.8864\n",
            "Epoch 2: val_categorical_accuracy improved from 0.65608 to 0.70106, saving model to /content/drive/MyDrive/EE544 Computer Vision/task-1-best-weights.hdf5\n",
            "171/171 [==============================] - 89s 521ms/step - loss: 0.8216 - categorical_accuracy: 0.6793 - precision: 0.7606 - recall: 0.5735 - auc: 0.8864 - val_loss: 0.7809 - val_categorical_accuracy: 0.7011 - val_precision: 0.7614 - val_recall: 0.6164 - val_auc: 0.9022\n",
            "Epoch 3/150\n",
            "171/171 [==============================] - ETA: 0s - loss: 0.7117 - categorical_accuracy: 0.7322 - precision: 0.7805 - recall: 0.6555 - auc: 0.9145\n",
            "Epoch 3: val_categorical_accuracy improved from 0.70106 to 0.70635, saving model to /content/drive/MyDrive/EE544 Computer Vision/task-1-best-weights.hdf5\n",
            "171/171 [==============================] - 86s 500ms/step - loss: 0.7117 - categorical_accuracy: 0.7322 - precision: 0.7805 - recall: 0.6555 - auc: 0.9145 - val_loss: 0.7741 - val_categorical_accuracy: 0.7063 - val_precision: 0.7567 - val_recall: 0.6005 - val_auc: 0.8978\n",
            "Epoch 4/150\n",
            "171/171 [==============================] - ETA: 0s - loss: 0.7108 - categorical_accuracy: 0.7302 - precision: 0.7938 - recall: 0.6508 - auc: 0.9146\n",
            "Epoch 4: val_categorical_accuracy improved from 0.70635 to 0.74603, saving model to /content/drive/MyDrive/EE544 Computer Vision/task-1-best-weights.hdf5\n",
            "171/171 [==============================] - 84s 489ms/step - loss: 0.7108 - categorical_accuracy: 0.7302 - precision: 0.7938 - recall: 0.6508 - auc: 0.9146 - val_loss: 0.6986 - val_categorical_accuracy: 0.7460 - val_precision: 0.8139 - val_recall: 0.6825 - val_auc: 0.9166\n",
            "Epoch 5/150\n",
            "171/171 [==============================] - ETA: 0s - loss: 0.6542 - categorical_accuracy: 0.7507 - precision: 0.8047 - recall: 0.6890 - auc: 0.9276\n",
            "Epoch 5: val_categorical_accuracy did not improve from 0.74603\n",
            "171/171 [==============================] - 82s 480ms/step - loss: 0.6542 - categorical_accuracy: 0.7507 - precision: 0.8047 - recall: 0.6890 - auc: 0.9276 - val_loss: 0.7427 - val_categorical_accuracy: 0.7169 - val_precision: 0.7477 - val_recall: 0.6429 - val_auc: 0.9076\n",
            "Epoch 6/150\n",
            "171/171 [==============================] - ETA: 0s - loss: 0.5931 - categorical_accuracy: 0.7740 - precision: 0.8199 - recall: 0.7305 - auc: 0.9398\n",
            "Epoch 6: val_categorical_accuracy did not improve from 0.74603\n",
            "171/171 [==============================] - 82s 480ms/step - loss: 0.5931 - categorical_accuracy: 0.7740 - precision: 0.8199 - recall: 0.7305 - auc: 0.9398 - val_loss: 0.7169 - val_categorical_accuracy: 0.7354 - val_precision: 0.7950 - val_recall: 0.6667 - val_auc: 0.9156\n",
            "Epoch 7/150\n",
            "171/171 [==============================] - ETA: 0s - loss: 0.5613 - categorical_accuracy: 0.7889 - precision: 0.8301 - recall: 0.7410 - auc: 0.9459\n",
            "Epoch 7: val_categorical_accuracy did not improve from 0.74603\n",
            "171/171 [==============================] - 85s 496ms/step - loss: 0.5613 - categorical_accuracy: 0.7889 - precision: 0.8301 - recall: 0.7410 - auc: 0.9459 - val_loss: 0.6758 - val_categorical_accuracy: 0.7249 - val_precision: 0.7872 - val_recall: 0.6852 - val_auc: 0.9233\n",
            "Epoch 8/150\n",
            "171/171 [==============================] - ETA: 0s - loss: 0.4770 - categorical_accuracy: 0.8201 - precision: 0.8520 - recall: 0.7851 - auc: 0.9606\n",
            "Epoch 8: val_categorical_accuracy improved from 0.74603 to 0.77249, saving model to /content/drive/MyDrive/EE544 Computer Vision/task-1-best-weights.hdf5\n",
            "171/171 [==============================] - 83s 482ms/step - loss: 0.4770 - categorical_accuracy: 0.8201 - precision: 0.8520 - recall: 0.7851 - auc: 0.9606 - val_loss: 0.6764 - val_categorical_accuracy: 0.7725 - val_precision: 0.8011 - val_recall: 0.7566 - val_auc: 0.9302\n",
            "Epoch 9/150\n",
            "171/171 [==============================] - ETA: 0s - loss: 0.4926 - categorical_accuracy: 0.8139 - precision: 0.8475 - recall: 0.7807 - auc: 0.9581\n",
            "Epoch 9: val_categorical_accuracy did not improve from 0.77249\n",
            "171/171 [==============================] - 84s 492ms/step - loss: 0.4926 - categorical_accuracy: 0.8139 - precision: 0.8475 - recall: 0.7807 - auc: 0.9581 - val_loss: 0.6549 - val_categorical_accuracy: 0.7593 - val_precision: 0.8101 - val_recall: 0.7222 - val_auc: 0.9321\n",
            "Epoch 10/150\n",
            "171/171 [==============================] - ETA: 0s - loss: 0.4513 - categorical_accuracy: 0.8310 - precision: 0.8592 - recall: 0.7984 - auc: 0.9643\n",
            "Epoch 10: val_categorical_accuracy improved from 0.77249 to 0.79101, saving model to /content/drive/MyDrive/EE544 Computer Vision/task-1-best-weights.hdf5\n",
            "171/171 [==============================] - 88s 513ms/step - loss: 0.4513 - categorical_accuracy: 0.8310 - precision: 0.8592 - recall: 0.7984 - auc: 0.9643 - val_loss: 0.5475 - val_categorical_accuracy: 0.7910 - val_precision: 0.8223 - val_recall: 0.7593 - val_auc: 0.9505\n",
            "Epoch 11/150\n",
            "171/171 [==============================] - ETA: 0s - loss: 0.4275 - categorical_accuracy: 0.8430 - precision: 0.8700 - recall: 0.8166 - auc: 0.9680\n",
            "Epoch 11: val_categorical_accuracy improved from 0.79101 to 0.81217, saving model to /content/drive/MyDrive/EE544 Computer Vision/task-1-best-weights.hdf5\n",
            "171/171 [==============================] - 86s 505ms/step - loss: 0.4275 - categorical_accuracy: 0.8430 - precision: 0.8700 - recall: 0.8166 - auc: 0.9680 - val_loss: 0.5069 - val_categorical_accuracy: 0.8122 - val_precision: 0.8409 - val_recall: 0.7831 - val_auc: 0.9572\n",
            "Epoch 12/150\n",
            "171/171 [==============================] - ETA: 0s - loss: 0.4180 - categorical_accuracy: 0.8471 - precision: 0.8726 - recall: 0.8195 - auc: 0.9693\n",
            "Epoch 12: val_categorical_accuracy improved from 0.81217 to 0.83069, saving model to /content/drive/MyDrive/EE544 Computer Vision/task-1-best-weights.hdf5\n",
            "171/171 [==============================] - 89s 518ms/step - loss: 0.4180 - categorical_accuracy: 0.8471 - precision: 0.8726 - recall: 0.8195 - auc: 0.9693 - val_loss: 0.5261 - val_categorical_accuracy: 0.8307 - val_precision: 0.8436 - val_recall: 0.7989 - val_auc: 0.9536\n",
            "Epoch 13/150\n",
            "171/171 [==============================] - ETA: 0s - loss: 0.3765 - categorical_accuracy: 0.8613 - precision: 0.8807 - recall: 0.8398 - auc: 0.9745\n",
            "Epoch 13: val_categorical_accuracy improved from 0.83069 to 0.84921, saving model to /content/drive/MyDrive/EE544 Computer Vision/task-1-best-weights.hdf5\n",
            "171/171 [==============================] - 86s 504ms/step - loss: 0.3765 - categorical_accuracy: 0.8613 - precision: 0.8807 - recall: 0.8398 - auc: 0.9745 - val_loss: 0.4711 - val_categorical_accuracy: 0.8492 - val_precision: 0.8778 - val_recall: 0.8175 - val_auc: 0.9623\n",
            "Epoch 14/150\n",
            "171/171 [==============================] - ETA: 0s - loss: 0.3781 - categorical_accuracy: 0.8610 - precision: 0.8823 - recall: 0.8398 - auc: 0.9749\n",
            "Epoch 14: val_categorical_accuracy did not improve from 0.84921\n",
            "171/171 [==============================] - 85s 500ms/step - loss: 0.3781 - categorical_accuracy: 0.8610 - precision: 0.8823 - recall: 0.8398 - auc: 0.9749 - val_loss: 0.5042 - val_categorical_accuracy: 0.8386 - val_precision: 0.8600 - val_recall: 0.7963 - val_auc: 0.9559\n",
            "Epoch 15/150\n",
            "171/171 [==============================] - ETA: 0s - loss: 0.3426 - categorical_accuracy: 0.8754 - precision: 0.8941 - recall: 0.8533 - auc: 0.9788\n",
            "Epoch 15: val_categorical_accuracy did not improve from 0.84921\n",
            "171/171 [==============================] - 85s 500ms/step - loss: 0.3426 - categorical_accuracy: 0.8754 - precision: 0.8941 - recall: 0.8533 - auc: 0.9788 - val_loss: 0.5938 - val_categorical_accuracy: 0.8254 - val_precision: 0.8539 - val_recall: 0.8042 - val_auc: 0.9433\n",
            "Epoch 16/150\n",
            "171/171 [==============================] - ETA: 0s - loss: 0.3666 - categorical_accuracy: 0.8613 - precision: 0.8848 - recall: 0.8401 - auc: 0.9760\n",
            "Epoch 16: val_categorical_accuracy did not improve from 0.84921\n",
            "171/171 [==============================] - 85s 495ms/step - loss: 0.3666 - categorical_accuracy: 0.8613 - precision: 0.8848 - recall: 0.8401 - auc: 0.9760 - val_loss: 0.5844 - val_categorical_accuracy: 0.8175 - val_precision: 0.8444 - val_recall: 0.8042 - val_auc: 0.9533\n",
            "Epoch 17/150\n",
            "171/171 [==============================] - ETA: 0s - loss: 0.3142 - categorical_accuracy: 0.8871 - precision: 0.8992 - recall: 0.8707 - auc: 0.9820\n",
            "Epoch 17: val_categorical_accuracy did not improve from 0.84921\n",
            "171/171 [==============================] - 83s 486ms/step - loss: 0.3142 - categorical_accuracy: 0.8871 - precision: 0.8992 - recall: 0.8707 - auc: 0.9820 - val_loss: 0.5055 - val_categorical_accuracy: 0.8254 - val_precision: 0.8397 - val_recall: 0.8175 - val_auc: 0.9610\n",
            "Epoch 18/150\n",
            "171/171 [==============================] - ETA: 0s - loss: 0.2885 - categorical_accuracy: 0.8886 - precision: 0.9068 - recall: 0.8751 - auc: 0.9848\n",
            "Epoch 18: val_categorical_accuracy did not improve from 0.84921\n",
            "171/171 [==============================] - 86s 505ms/step - loss: 0.2885 - categorical_accuracy: 0.8886 - precision: 0.9068 - recall: 0.8751 - auc: 0.9848 - val_loss: 0.5890 - val_categorical_accuracy: 0.7804 - val_precision: 0.8033 - val_recall: 0.7672 - val_auc: 0.9480\n",
            "Epoch 18: early stopping\n"
          ]
        }
      ]
    },
    {
      "cell_type": "markdown",
      "source": [
        "## Plot results"
      ],
      "metadata": {
        "id": "ob_QDshaYEg4"
      }
    },
    {
      "cell_type": "code",
      "source": [
        "def plot(train, validation, ylabel, title):\n",
        "  plt.plot(train, color='red', label='train') \n",
        "  plt.plot(validation, color='blue', label='validation') \n",
        "  plt.title(title) \n",
        "  plt.ylabel(ylabel)\n",
        "  plt.xlabel('Epoch')\n",
        "  plt.legend() \n",
        "  plt.grid(linestyle='-', linewidth=0.5)"
      ],
      "metadata": {
        "id": "o0jwjfdCWFBn"
      },
      "execution_count": 33,
      "outputs": []
    },
    {
      "cell_type": "code",
      "source": [
        "plot(history.history['categorical_accuracy'], history.history['val_categorical_accuracy'], 'Accuracy', 'Model Accuracy')"
      ],
      "metadata": {
        "colab": {
          "base_uri": "https://localhost:8080/",
          "height": 295
        },
        "id": "lf9pjTVLvvnq",
        "outputId": "fd63763a-5d82-4e70-f3bc-aad625203b86"
      },
      "execution_count": 34,
      "outputs": [
        {
          "output_type": "display_data",
          "data": {
            "text/plain": [
              "<Figure size 432x288 with 1 Axes>"
            ],
            "image/png": "[encoded data removed]"
          },
          "metadata": {
            "needs_background": "light"
          }
        }
      ]
    },
    {
      "cell_type": "code",
      "source": [
        "plot(history.history['loss'], history.history['val_loss'], 'Loss', 'Model Loss')"
      ],
      "metadata": {
        "colab": {
          "base_uri": "https://localhost:8080/",
          "height": 295
        },
        "id": "DZ92wFIE5dKL",
        "outputId": "8145a2a7-abc4-4f2e-9fe7-8e730b913de3"
      },
      "execution_count": 35,
      "outputs": [
        {
          "output_type": "display_data",
          "data": {
            "text/plain": [
              "<Figure size 432x288 with 1 Axes>"
            ],
            "image/png": "[encoded data removed]"
          },
          "metadata": {
            "needs_background": "light"
          }
        }
      ]
    },
    {
      "cell_type": "markdown",
      "source": [
        "## Evaluate model"
      ],
      "metadata": {
        "id": "ABEzVAWI5eS3"
      }
    },
    {
      "cell_type": "code",
      "source": [
        "eval_results = model.evaluate(test_ds, batch_size=30)"
      ],
      "metadata": {
        "id": "KM66wgM-_kFA",
        "colab": {
          "base_uri": "https://localhost:8080/"
        },
        "outputId": "9b8f9d06-8555-4527-84a4-dd0231da4d52"
      },
      "execution_count": 36,
      "outputs": [
        {
          "output_type": "stream",
          "name": "stdout",
          "text": [
            "81/81 [==============================] - 8s 95ms/step - loss: 0.5214 - categorical_accuracy: 0.8401 - precision: 0.8552 - recall: 0.8241 - auc: 0.9593\n"
          ]
        }
      ]
    },
    {
      "cell_type": "code",
      "source": [
        "print('Test loss:', eval_results[0])\n",
        "print('Test categorical_accuracy:', eval_results[1])\n",
        "print('Test precision:', eval_results[2])\n",
        "print('Test recall:', eval_results[3])\n",
        "print('Test auc:', eval_results[4])"
      ],
      "metadata": {
        "colab": {
          "base_uri": "https://localhost:8080/"
        },
        "id": "dee871Dgejub",
        "outputId": "6efb635c-786b-4c8d-ffa3-71a3bd19d61f"
      },
      "execution_count": 37,
      "outputs": [
        {
          "output_type": "stream",
          "name": "stdout",
          "text": [
            "Test loss: 0.5214337110519409\n",
            "Test categorical_accuracy: 0.8401234745979309\n",
            "Test precision: 0.8552210330963135\n",
            "Test recall: 0.8240740895271301\n",
            "Test auc: 0.9593361616134644\n"
          ]
        }
      ]
    },
    {
      "cell_type": "code",
      "source": [
        "pred = model.predict(test_ds)"
      ],
      "metadata": {
        "colab": {
          "base_uri": "https://localhost:8080/"
        },
        "id": "MXlcTB3WaoP-",
        "outputId": "0fe32729-b87c-45f2-f25a-d705c630a84f"
      },
      "execution_count": 38,
      "outputs": [
        {
          "output_type": "stream",
          "name": "stdout",
          "text": [
            "81/81 [==============================] - 7s 81ms/step\n"
          ]
        }
      ]
    },
    {
      "cell_type": "code",
      "source": [
        "pred"
      ],
      "metadata": {
        "colab": {
          "base_uri": "https://localhost:8080/"
        },
        "id": "cHZnvE2bdwKc",
        "outputId": "cfa5f936-3525-4ec1-b93f-e0008669ad77"
      },
      "execution_count": 39,
      "outputs": [
        {
          "output_type": "execute_result",
          "data": {
            "text/plain": [
              "array([[5.45629846e-05, 9.79866982e-01, 1.95628125e-02, 5.15651831e-04],\n",
              "       [2.21536588e-03, 8.83757174e-01, 1.12571634e-01, 1.45590305e-03],\n",
              "       [8.77555576e-04, 8.99473429e-01, 9.91699770e-02, 4.79061011e-04],\n",
              "       ...,\n",
              "       [1.60287499e-01, 7.34492019e-02, 3.20429534e-01, 4.45833683e-01],\n",
              "       [5.03198802e-02, 7.68025501e-08, 9.49648082e-01, 3.19269311e-05],\n",
              "       [2.47445314e-06, 2.31748648e-13, 1.47965722e-12, 9.99997497e-01]],\n",
              "      dtype=float32)"
            ]
          },
          "metadata": {},
          "execution_count": 39
        }
      ]
    },
    {
      "cell_type": "code",
      "source": [
        "def draw_confusion_matrix(true, pred):\n",
        "  cm = confusion_matrix(true.argmax(axis=1), pred.argmax(axis=1))\n",
        "  sns.heatmap(cm, annot=True, annot_kws={\"size\": 12}, fmt='g', cbar=False, cmap=\"viridis\")\n",
        "  plt.show()"
      ],
      "metadata": {
        "id": "xfqXMoX8b-qE"
      },
      "execution_count": 40,
      "outputs": []
    },
    {
      "cell_type": "code",
      "source": [
        "draw_confusion_matrix(y_test, pred)"
      ],
      "metadata": {
        "colab": {
          "base_uri": "https://localhost:8080/",
          "height": 265
        },
        "id": "0mboVB4q6vYp",
        "outputId": "d184171c-836a-4174-bd47-288de027ae62"
      },
      "execution_count": 41,
      "outputs": [
        {
          "output_type": "display_data",
          "data": {
            "text/plain": [
              "<Figure size 432x288 with 1 Axes>"
            ],
            "image/png": "[encoded data removed]"
          },
          "metadata": {
            "needs_background": "light"
          }
        }
      ]
    },
    {
      "cell_type": "code",
      "source": [
        "print(classification_report(y_test.argmax(axis=1), pred.argmax(axis=1)))"
      ],
      "metadata": {
        "colab": {
          "base_uri": "https://localhost:8080/"
        },
        "id": "Xw_nLMYxcQok",
        "outputId": "de6ff525-292d-460c-f718-51397f9df0f6"
      },
      "execution_count": 42,
      "outputs": [
        {
          "output_type": "stream",
          "name": "stdout",
          "text": [
            "              precision    recall  f1-score   support\n",
            "\n",
            "           0       0.83      0.87      0.85       398\n",
            "           1       0.85      0.79      0.82       402\n",
            "           2       0.78      0.89      0.83       403\n",
            "           3       0.91      0.82      0.86       417\n",
            "\n",
            "    accuracy                           0.84      1620\n",
            "   macro avg       0.84      0.84      0.84      1620\n",
            "weighted avg       0.84      0.84      0.84      1620\n",
            "\n"
          ]
        }
      ]
    },
    {
      "cell_type": "markdown",
      "source": [
        "## Improve the baseline networks performance\n",
        "1. Batch Normalisation \n",
        "2. Dropout \n",
        "3. Kernel Initialisation\n",
        "4. Regularisation"
      ],
      "metadata": {
        "id": "lVlp3SN17Guq"
      }
    },
    {
      "cell_type": "code",
      "source": [
        "improved_model = build_model(batchNorm=True)\n",
        "improved_model.summary()"
      ],
      "metadata": {
        "colab": {
          "base_uri": "https://localhost:8080/"
        },
        "id": "z6SkEvrs7Lhk",
        "outputId": "a30f2d12-3f6b-4c09-c29a-256036242d85"
      },
      "execution_count": 43,
      "outputs": [
        {
          "output_type": "stream",
          "name": "stdout",
          "text": [
            "Model: \"sequential_1\"\n",
            "_________________________________________________________________\n",
            " Layer (type)                Output Shape              Param #   \n",
            "=================================================================\n",
            " conv2d_4 (Conv2D)           (None, 62, 62, 32)        896       \n",
            "                                                                 \n",
            " batch_normalization (BatchN  (None, 62, 62, 32)       128       \n",
            " ormalization)                                                   \n",
            "                                                                 \n",
            " conv2d_5 (Conv2D)           (None, 60, 60, 32)        9248      \n",
            "                                                                 \n",
            " batch_normalization_1 (Batc  (None, 60, 60, 32)       128       \n",
            " hNormalization)                                                 \n",
            "                                                                 \n",
            " max_pooling2d_2 (MaxPooling  (None, 30, 30, 32)       0         \n",
            " 2D)                                                             \n",
            "                                                                 \n",
            " conv2d_6 (Conv2D)           (None, 28, 28, 64)        18496     \n",
            "                                                                 \n",
            " conv2d_7 (Conv2D)           (None, 26, 26, 64)        36928     \n",
            "                                                                 \n",
            " batch_normalization_2 (Batc  (None, 26, 26, 64)       256       \n",
            " hNormalization)                                                 \n",
            "                                                                 \n",
            " max_pooling2d_3 (MaxPooling  (None, 13, 13, 64)       0         \n",
            " 2D)                                                             \n",
            "                                                                 \n",
            " flatten_1 (Flatten)         (None, 10816)             0         \n",
            "                                                                 \n",
            " dense_2 (Dense)             (None, 512)               5538304   \n",
            "                                                                 \n",
            " batch_normalization_3 (Batc  (None, 512)              2048      \n",
            " hNormalization)                                                 \n",
            "                                                                 \n",
            " dense_3 (Dense)             (None, 4)                 2052      \n",
            "                                                                 \n",
            "=================================================================\n",
            "Total params: 5,608,484\n",
            "Trainable params: 5,607,204\n",
            "Non-trainable params: 1,280\n",
            "_________________________________________________________________\n"
          ]
        }
      ]
    },
    {
      "cell_type": "code",
      "source": [
        "improved_history = improved_model.fit(\n",
        "    train_ds,\n",
        "    epochs=5,\n",
        "    verbose=1,\n",
        "    validation_data=val_ds\n",
        ")"
      ],
      "metadata": {
        "colab": {
          "base_uri": "https://localhost:8080/"
        },
        "id": "a7HVKI287gVp",
        "outputId": "97707f7b-4cc5-4a7f-a3d1-cb046b34481e"
      },
      "execution_count": null,
      "outputs": [
        {
          "output_type": "stream",
          "name": "stdout",
          "text": [
            "Epoch 1/5\n",
            "171/171 [==============================] - 101s 567ms/step - loss: 1.4668 - categorical_accuracy: 0.6343 - precision_1: 0.6614 - recall_1: 0.5897 - auc_1: 0.8321 - val_loss: 2.5495 - val_categorical_accuracy: 0.2434 - val_precision_1: 0.2434 - val_recall_1: 0.2434 - val_auc_1: 0.5712\n",
            "Epoch 2/5\n",
            "171/171 [==============================] - 99s 579ms/step - loss: 0.7295 - categorical_accuracy: 0.7372 - precision_1: 0.7740 - recall_1: 0.6925 - auc_1: 0.9140 - val_loss: 2.5240 - val_categorical_accuracy: 0.2487 - val_precision_1: 0.2487 - val_recall_1: 0.2487 - val_auc_1: 0.6450\n",
            "Epoch 3/5\n",
            "171/171 [==============================] - 100s 584ms/step - loss: 0.6747 - categorical_accuracy: 0.7449 - precision_1: 0.7891 - recall_1: 0.6949 - auc_1: 0.9243 - val_loss: 1.0547 - val_categorical_accuracy: 0.5741 - val_precision_1: 0.6194 - val_recall_1: 0.5079 - val_auc_1: 0.8354\n",
            "Epoch 4/5\n",
            "  8/171 [>.............................] - ETA: 1:36 - loss: 0.6290 - categorical_accuracy: 0.7625 - precision_1: 0.7945 - recall_1: 0.7250 - auc_1: 0.9349"
          ]
        }
      ]
    },
    {
      "cell_type": "code",
      "source": [],
      "metadata": {
        "id": "4WZO5i6q7y7W"
      },
      "execution_count": null,
      "outputs": []
    }
  ]
}
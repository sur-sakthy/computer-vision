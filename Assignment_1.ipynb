{
  "nbformat": 4,
  "nbformat_minor": 0,
  "metadata": {
    "colab": {
      "provenance": [],
      "toc_visible": true,
      "mount_file_id": "1FCmz1FvudVnEjvqD0XItgtetbAT8y8xl",
      "authorship_tag": "ABX9TyNNmZrlFAG9kjFZT5ckuPE8",
      "include_colab_link": true
    },
    "kernelspec": {
      "name": "python3",
      "display_name": "Python 3"
    },
    "language_info": {
      "name": "python"
    },
    "accelerator": "GPU",
    "gpuClass": "standard"
  },
  "cells": [
    {
      "cell_type": "markdown",
      "metadata": {
        "id": "view-in-github",
        "colab_type": "text"
      },
      "source": [
        "<a href=\"https://colab.research.google.com/github/sur-sakthy/computer-vision/blob/main/Assignment_1.ipynb\" target=\"_parent\"><img src=\"https://colab.research.google.com/assets/colab-badge.svg\" alt=\"Open In Colab\"/></a>"
      ]
    },
    {
      "cell_type": "markdown",
      "source": [
        "# Assignment #1"
      ],
      "metadata": {
        "id": "WTJaiwHQzzNo"
      }
    },
    {
      "cell_type": "code",
      "source": [
        "!nvidia-smi"
      ],
      "metadata": {
        "colab": {
          "base_uri": "https://localhost:8080/"
        },
        "id": "jxps2ylf50SH",
        "outputId": "af72cd52-1ccd-4491-b551-af08a601e8e5"
      },
      "execution_count": 1,
      "outputs": [
        {
          "output_type": "stream",
          "name": "stdout",
          "text": [
            "Sat Mar 18 19:26:40 2023       \n",
            "+-----------------------------------------------------------------------------+\n",
            "| NVIDIA-SMI 525.85.12    Driver Version: 525.85.12    CUDA Version: 12.0     |\n",
            "|-------------------------------+----------------------+----------------------+\n",
            "| GPU  Name        Persistence-M| Bus-Id        Disp.A | Volatile Uncorr. ECC |\n",
            "| Fan  Temp  Perf  Pwr:Usage/Cap|         Memory-Usage | GPU-Util  Compute M. |\n",
            "|                               |                      |               MIG M. |\n",
            "|===============================+======================+======================|\n",
            "|   0  Tesla T4            Off  | 00000000:00:04.0 Off |                    0 |\n",
            "| N/A   72C    P0    30W /  70W |      0MiB / 15360MiB |      0%      Default |\n",
            "|                               |                      |                  N/A |\n",
            "+-------------------------------+----------------------+----------------------+\n",
            "                                                                               \n",
            "+-----------------------------------------------------------------------------+\n",
            "| Processes:                                                                  |\n",
            "|  GPU   GI   CI        PID   Type   Process name                  GPU Memory |\n",
            "|        ID   ID                                                   Usage      |\n",
            "|=============================================================================|\n",
            "|  No running processes found                                                 |\n",
            "+-----------------------------------------------------------------------------+\n"
          ]
        }
      ]
    },
    {
      "cell_type": "code",
      "execution_count": 2,
      "metadata": {
        "id": "Zq-MwcjOzETs"
      },
      "outputs": [],
      "source": [
        "!cp '/content/drive/MyDrive/EE544 Computer Vision/imagenette2-160.tgz' ./"
      ]
    },
    {
      "cell_type": "code",
      "source": [
        "# remove %%capture command to show output from unzipping\n",
        "%%capture \n",
        "!tar zxvf /content/imagenette2-160.tgz"
      ],
      "metadata": {
        "id": "79KjQJxnAgCv"
      },
      "execution_count": 3,
      "outputs": []
    },
    {
      "cell_type": "markdown",
      "source": [
        "## Imports"
      ],
      "metadata": {
        "id": "mvvEa4-OLaTL"
      }
    },
    {
      "cell_type": "code",
      "source": [
        "import os\n",
        "import glob\n",
        "import pandas as pd\n",
        "import numpy as np\n",
        "import tensorflow as tf\n",
        "import matplotlib.pyplot as plt\n",
        "import seaborn as sns\n",
        "\n",
        "from tensorflow.keras.models import Sequential\n",
        "from tensorflow.keras.layers import Conv2D, Dense, Flatten, MaxPooling2D, BatchNormalization, Dropout\n",
        "from tensorflow.keras.metrics import CategoricalAccuracy, Precision, AUC, Recall\n",
        "from tensorflow.keras.optimizers import Adam\n",
        "from tensorflow.keras.utils import to_categorical\n",
        "from tensorflow.keras.preprocessing.image import ImageDataGenerator, load_img\n",
        "from keras.callbacks import EarlyStopping, ModelCheckpoint\n",
        "from sklearn.model_selection import train_test_split\n",
        "from sklearn.utils import shuffle\n",
        "from sklearn.preprocessing import LabelEncoder\n",
        "from sklearn.metrics import confusion_matrix, classification_report"
      ],
      "metadata": {
        "id": "-4ONl5dQGvub"
      },
      "execution_count": 4,
      "outputs": []
    },
    {
      "cell_type": "markdown",
      "source": [
        "## Constants"
      ],
      "metadata": {
        "id": "SNw6u_X4Vjhq"
      }
    },
    {
      "cell_type": "code",
      "source": [
        "PATH_TO_TRAIN_DATA = '/content/imagenette2-160/train'\n",
        "PATH_TO_VAL_DATA = '/content/imagenette2-160/val'\n",
        "\n",
        "IMG_WIDTH=64\n",
        "IMG_HEIGHT=64\n",
        "\n",
        "NUM_CLASSES=4"
      ],
      "metadata": {
        "id": "Mqij7Db_GdEO"
      },
      "execution_count": 5,
      "outputs": []
    },
    {
      "cell_type": "code",
      "source": [
        "all_classes = os.listdir(PATH_TO_TRAIN_DATA)\n",
        "all_classes"
      ],
      "metadata": {
        "id": "blZUoPmqGmuC",
        "colab": {
          "base_uri": "https://localhost:8080/"
        },
        "outputId": "a06165a1-2428-41d7-9604-b75f91bf2857"
      },
      "execution_count": 6,
      "outputs": [
        {
          "output_type": "execute_result",
          "data": {
            "text/plain": [
              "['n03888257',\n",
              " 'n02979186',\n",
              " 'n02102040',\n",
              " '.DS_Store',\n",
              " 'n03417042',\n",
              " 'n03028079',\n",
              " 'n03000684',\n",
              " 'n03394916',\n",
              " 'n03425413',\n",
              " 'n01440764',\n",
              " 'n03445777']"
            ]
          },
          "metadata": {},
          "execution_count": 6
        }
      ]
    },
    {
      "cell_type": "code",
      "source": [
        "all_classes = os.listdir(PATH_TO_VAL_DATA)\n",
        "all_classes"
      ],
      "metadata": {
        "id": "vJ7YtI7zHS5U",
        "colab": {
          "base_uri": "https://localhost:8080/"
        },
        "outputId": "b0ebc553-78fc-46f7-dadc-1912ec877983"
      },
      "execution_count": 7,
      "outputs": [
        {
          "output_type": "execute_result",
          "data": {
            "text/plain": [
              "['n03888257',\n",
              " 'n02979186',\n",
              " 'n02102040',\n",
              " 'n03417042',\n",
              " 'n03028079',\n",
              " 'n03000684',\n",
              " 'n03394916',\n",
              " 'n03425413',\n",
              " 'n01440764',\n",
              " 'n03445777']"
            ]
          },
          "metadata": {},
          "execution_count": 7
        }
      ]
    },
    {
      "cell_type": "markdown",
      "source": [
        "## Load dataset"
      ],
      "metadata": {
        "id": "GAPRTpueQCQz"
      }
    },
    {
      "cell_type": "code",
      "source": [
        "data = []\n",
        "labels = []"
      ],
      "metadata": {
        "id": "M04-MyRHnivw"
      },
      "execution_count": 8,
      "outputs": []
    },
    {
      "cell_type": "code",
      "source": [
        "def load_dataset(img_folder): \n",
        "    for dir in os.listdir(img_folder):\n",
        "      if dir == 'n03445777' or dir == 'n03417042' or dir == 'n02979186' or dir == 'n03028079' :\n",
        "        for file in os.listdir(os.path.join(img_folder, dir)):\n",
        "            image_path = os.path.join(img_folder, dir, file)\n",
        "            image = tf.keras.preprocessing.image.load_img(image_path, target_size=(IMG_WIDTH,IMG_HEIGHT))\n",
        "            image = np.array(image)\n",
        "\n",
        "            data.append(image)\n",
        "            labels.append(dir)"
      ],
      "metadata": {
        "id": "aPu_wDteHj7O"
      },
      "execution_count": 9,
      "outputs": []
    },
    {
      "cell_type": "code",
      "source": [
        "load_dataset(PATH_TO_TRAIN_DATA)\n",
        "load_dataset(PATH_TO_VAL_DATA)"
      ],
      "metadata": {
        "id": "FWqY1YqYmBw3"
      },
      "execution_count": 10,
      "outputs": []
    },
    {
      "cell_type": "code",
      "source": [
        "np.unique(labels)"
      ],
      "metadata": {
        "colab": {
          "base_uri": "https://localhost:8080/"
        },
        "id": "1KtBUddwMf7a",
        "outputId": "748ee78a-abc2-4988-e028-c59eadd37149"
      },
      "execution_count": 11,
      "outputs": [
        {
          "output_type": "execute_result",
          "data": {
            "text/plain": [
              "array(['n02979186', 'n03028079', 'n03417042', 'n03445777'], dtype='<U9')"
            ]
          },
          "metadata": {},
          "execution_count": 11
        }
      ]
    },
    {
      "cell_type": "code",
      "source": [
        "data[0]"
      ],
      "metadata": {
        "colab": {
          "base_uri": "https://localhost:8080/"
        },
        "id": "9frhu7uaNGqV",
        "outputId": "f3ab2e1a-9dde-4b39-b24c-862c322d3d74"
      },
      "execution_count": 12,
      "outputs": [
        {
          "output_type": "execute_result",
          "data": {
            "text/plain": [
              "array([[[0, 0, 0],\n",
              "        [0, 0, 0],\n",
              "        [0, 0, 0],\n",
              "        ...,\n",
              "        [0, 0, 0],\n",
              "        [0, 0, 0],\n",
              "        [0, 0, 0]],\n",
              "\n",
              "       [[0, 0, 0],\n",
              "        [0, 0, 0],\n",
              "        [0, 0, 0],\n",
              "        ...,\n",
              "        [0, 0, 0],\n",
              "        [0, 0, 0],\n",
              "        [0, 0, 0]],\n",
              "\n",
              "       [[0, 0, 0],\n",
              "        [0, 0, 0],\n",
              "        [0, 0, 0],\n",
              "        ...,\n",
              "        [0, 0, 0],\n",
              "        [0, 0, 0],\n",
              "        [0, 0, 0]],\n",
              "\n",
              "       ...,\n",
              "\n",
              "       [[0, 0, 0],\n",
              "        [0, 0, 0],\n",
              "        [0, 0, 0],\n",
              "        ...,\n",
              "        [0, 0, 0],\n",
              "        [0, 0, 0],\n",
              "        [0, 0, 0]],\n",
              "\n",
              "       [[0, 0, 0],\n",
              "        [0, 0, 0],\n",
              "        [0, 0, 0],\n",
              "        ...,\n",
              "        [0, 0, 0],\n",
              "        [0, 0, 0],\n",
              "        [0, 0, 0]],\n",
              "\n",
              "       [[0, 0, 0],\n",
              "        [0, 0, 0],\n",
              "        [0, 0, 0],\n",
              "        ...,\n",
              "        [0, 0, 0],\n",
              "        [0, 0, 0],\n",
              "        [0, 0, 0]]], dtype=uint8)"
            ]
          },
          "metadata": {},
          "execution_count": 12
        }
      ]
    },
    {
      "cell_type": "markdown",
      "source": [
        "## Split\n",
        "Experimenting with the following splits:\n",
        "\n",
        "Training/Validation/Test:\n",
        "- 80/10/10\n",
        "- 60/30/10\n",
        "- 70/20/10\n"
      ],
      "metadata": {
        "id": "fiEa6VN9QEVS"
      }
    },
    {
      "cell_type": "code",
      "source": [
        "# X_train, X_test, y_train, y_test = train_test_split(data, labels, test_size=0.20, random_state=42)\n",
        "# X_val, X_test, y_val, y_test = train_test_split(X_test, y_test, test_size=0.50, random_state=42)"
      ],
      "metadata": {
        "id": "FO8gQ5m4cWB0"
      },
      "execution_count": 13,
      "outputs": []
    },
    {
      "cell_type": "code",
      "source": [
        "# X_train, X_test, y_train, y_test = train_test_split(data, labels, test_size=0.40, random_state=42)\n",
        "# X_val, X_test, y_val, y_test = train_test_split(X_test, y_test, test_size=0.25, random_state=42)"
      ],
      "metadata": {
        "id": "uWH3Lf09cV_t"
      },
      "execution_count": 14,
      "outputs": []
    },
    {
      "cell_type": "code",
      "source": [
        "X_train, X_test, y_train, y_test = train_test_split(data, labels, test_size=0.30, random_state=42)\n",
        "X_val, X_test, y_val, y_test = train_test_split(X_test, y_test, test_size=0.33, random_state=42)"
      ],
      "metadata": {
        "id": "wkQrikB6q9LO"
      },
      "execution_count": 15,
      "outputs": []
    },
    {
      "cell_type": "markdown",
      "source": [
        "## Class distribution"
      ],
      "metadata": {
        "id": "aw2IBtfFP8YD"
      }
    },
    {
      "cell_type": "code",
      "source": [
        "df_train = pd.DataFrame(y_train, columns=['label'])\n",
        "df_train.head()"
      ],
      "metadata": {
        "colab": {
          "base_uri": "https://localhost:8080/",
          "height": 206
        },
        "id": "p6O6bXLwOptx",
        "outputId": "f62a43d3-d2a9-45cf-be07-ff029f025857"
      },
      "execution_count": 16,
      "outputs": [
        {
          "output_type": "execute_result",
          "data": {
            "text/plain": [
              "       label\n",
              "0  n03028079\n",
              "1  n02979186\n",
              "2  n02979186\n",
              "3  n03028079\n",
              "4  n03445777"
            ],
            "text/html": [
              "\n",
              "  <div id=\"df-b7e23703-79c3-4e10-b438-150c213e7213\">\n",
              "    <div class=\"colab-df-container\">\n",
              "      <div>\n",
              "<style scoped>\n",
              "    .dataframe tbody tr th:only-of-type {\n",
              "        vertical-align: middle;\n",
              "    }\n",
              "\n",
              "    .dataframe tbody tr th {\n",
              "        vertical-align: top;\n",
              "    }\n",
              "\n",
              "    .dataframe thead th {\n",
              "        text-align: right;\n",
              "    }\n",
              "</style>\n",
              "<table border=\"1\" class=\"dataframe\">\n",
              "  <thead>\n",
              "    <tr style=\"text-align: right;\">\n",
              "      <th></th>\n",
              "      <th>label</th>\n",
              "    </tr>\n",
              "  </thead>\n",
              "  <tbody>\n",
              "    <tr>\n",
              "      <th>0</th>\n",
              "      <td>n03028079</td>\n",
              "    </tr>\n",
              "    <tr>\n",
              "      <th>1</th>\n",
              "      <td>n02979186</td>\n",
              "    </tr>\n",
              "    <tr>\n",
              "      <th>2</th>\n",
              "      <td>n02979186</td>\n",
              "    </tr>\n",
              "    <tr>\n",
              "      <th>3</th>\n",
              "      <td>n03028079</td>\n",
              "    </tr>\n",
              "    <tr>\n",
              "      <th>4</th>\n",
              "      <td>n03445777</td>\n",
              "    </tr>\n",
              "  </tbody>\n",
              "</table>\n",
              "</div>\n",
              "      <button class=\"colab-df-convert\" onclick=\"convertToInteractive('df-b7e23703-79c3-4e10-b438-150c213e7213')\"\n",
              "              title=\"Convert this dataframe to an interactive table.\"\n",
              "              style=\"display:none;\">\n",
              "        \n",
              "  <svg xmlns=\"http://www.w3.org/2000/svg\" height=\"24px\"viewBox=\"0 0 24 24\"\n",
              "       width=\"24px\">\n",
              "    <path d=\"M0 0h24v24H0V0z\" fill=\"none\"/>\n",
              "    <path d=\"M18.56 5.44l.94 2.06.94-2.06 2.06-.94-2.06-.94-.94-2.06-.94 2.06-2.06.94zm-11 1L8.5 8.5l.94-2.06 2.06-.94-2.06-.94L8.5 2.5l-.94 2.06-2.06.94zm10 10l.94 2.06.94-2.06 2.06-.94-2.06-.94-.94-2.06-.94 2.06-2.06.94z\"/><path d=\"M17.41 7.96l-1.37-1.37c-.4-.4-.92-.59-1.43-.59-.52 0-1.04.2-1.43.59L10.3 9.45l-7.72 7.72c-.78.78-.78 2.05 0 2.83L4 21.41c.39.39.9.59 1.41.59.51 0 1.02-.2 1.41-.59l7.78-7.78 2.81-2.81c.8-.78.8-2.07 0-2.86zM5.41 20L4 18.59l7.72-7.72 1.47 1.35L5.41 20z\"/>\n",
              "  </svg>\n",
              "      </button>\n",
              "      \n",
              "  <style>\n",
              "    .colab-df-container {\n",
              "      display:flex;\n",
              "      flex-wrap:wrap;\n",
              "      gap: 12px;\n",
              "    }\n",
              "\n",
              "    .colab-df-convert {\n",
              "      background-color: #E8F0FE;\n",
              "      border: none;\n",
              "      border-radius: 50%;\n",
              "      cursor: pointer;\n",
              "      display: none;\n",
              "      fill: #1967D2;\n",
              "      height: 32px;\n",
              "      padding: 0 0 0 0;\n",
              "      width: 32px;\n",
              "    }\n",
              "\n",
              "    .colab-df-convert:hover {\n",
              "      background-color: #E2EBFA;\n",
              "      box-shadow: 0px 1px 2px rgba(60, 64, 67, 0.3), 0px 1px 3px 1px rgba(60, 64, 67, 0.15);\n",
              "      fill: #174EA6;\n",
              "    }\n",
              "\n",
              "    [theme=dark] .colab-df-convert {\n",
              "      background-color: #3B4455;\n",
              "      fill: #D2E3FC;\n",
              "    }\n",
              "\n",
              "    [theme=dark] .colab-df-convert:hover {\n",
              "      background-color: #434B5C;\n",
              "      box-shadow: 0px 1px 3px 1px rgba(0, 0, 0, 0.15);\n",
              "      filter: drop-shadow(0px 1px 2px rgba(0, 0, 0, 0.3));\n",
              "      fill: #FFFFFF;\n",
              "    }\n",
              "  </style>\n",
              "\n",
              "      <script>\n",
              "        const buttonEl =\n",
              "          document.querySelector('#df-b7e23703-79c3-4e10-b438-150c213e7213 button.colab-df-convert');\n",
              "        buttonEl.style.display =\n",
              "          google.colab.kernel.accessAllowed ? 'block' : 'none';\n",
              "\n",
              "        async function convertToInteractive(key) {\n",
              "          const element = document.querySelector('#df-b7e23703-79c3-4e10-b438-150c213e7213');\n",
              "          const dataTable =\n",
              "            await google.colab.kernel.invokeFunction('convertToInteractive',\n",
              "                                                     [key], {});\n",
              "          if (!dataTable) return;\n",
              "\n",
              "          const docLinkHtml = 'Like what you see? Visit the ' +\n",
              "            '<a target=\"_blank\" href=https://colab.research.google.com/notebooks/data_table.ipynb>data table notebook</a>'\n",
              "            + ' to learn more about interactive tables.';\n",
              "          element.innerHTML = '';\n",
              "          dataTable['output_type'] = 'display_data';\n",
              "          await google.colab.output.renderOutput(dataTable, element);\n",
              "          const docLink = document.createElement('div');\n",
              "          docLink.innerHTML = docLinkHtml;\n",
              "          element.appendChild(docLink);\n",
              "        }\n",
              "      </script>\n",
              "    </div>\n",
              "  </div>\n",
              "  "
            ]
          },
          "metadata": {},
          "execution_count": 16
        }
      ]
    },
    {
      "cell_type": "code",
      "source": [
        "sns.countplot(data=df_train, x='label')\n",
        "plt.show()"
      ],
      "metadata": {
        "colab": {
          "base_uri": "https://localhost:8080/",
          "height": 281
        },
        "id": "dqdcinbjO4hQ",
        "outputId": "9aa8ed72-77bb-4e10-f59e-5f726288351f"
      },
      "execution_count": 17,
      "outputs": [
        {
          "output_type": "display_data",
          "data": {
            "text/plain": [
              "<Figure size 432x288 with 1 Axes>"
            ],
            "image/png": "[encoded data removed]"
          },
          "metadata": {
            "needs_background": "light"
          }
        }
      ]
    },
    {
      "cell_type": "code",
      "source": [
        "df_test = pd.DataFrame(y_test, columns=['label'])\n",
        "df_test.head()"
      ],
      "metadata": {
        "colab": {
          "base_uri": "https://localhost:8080/",
          "height": 206
        },
        "id": "zUJ5K75XPCxp",
        "outputId": "421e2fe6-c1c9-4387-a861-285bfcfab83a"
      },
      "execution_count": 18,
      "outputs": [
        {
          "output_type": "execute_result",
          "data": {
            "text/plain": [
              "       label\n",
              "0  n03028079\n",
              "1  n02979186\n",
              "2  n03417042\n",
              "3  n03417042\n",
              "4  n02979186"
            ],
            "text/html": [
              "\n",
              "  <div id=\"df-c1f0961b-a7e0-497c-ba7d-1ece90584eb1\">\n",
              "    <div class=\"colab-df-container\">\n",
              "      <div>\n",
              "<style scoped>\n",
              "    .dataframe tbody tr th:only-of-type {\n",
              "        vertical-align: middle;\n",
              "    }\n",
              "\n",
              "    .dataframe tbody tr th {\n",
              "        vertical-align: top;\n",
              "    }\n",
              "\n",
              "    .dataframe thead th {\n",
              "        text-align: right;\n",
              "    }\n",
              "</style>\n",
              "<table border=\"1\" class=\"dataframe\">\n",
              "  <thead>\n",
              "    <tr style=\"text-align: right;\">\n",
              "      <th></th>\n",
              "      <th>label</th>\n",
              "    </tr>\n",
              "  </thead>\n",
              "  <tbody>\n",
              "    <tr>\n",
              "      <th>0</th>\n",
              "      <td>n03028079</td>\n",
              "    </tr>\n",
              "    <tr>\n",
              "      <th>1</th>\n",
              "      <td>n02979186</td>\n",
              "    </tr>\n",
              "    <tr>\n",
              "      <th>2</th>\n",
              "      <td>n03417042</td>\n",
              "    </tr>\n",
              "    <tr>\n",
              "      <th>3</th>\n",
              "      <td>n03417042</td>\n",
              "    </tr>\n",
              "    <tr>\n",
              "      <th>4</th>\n",
              "      <td>n02979186</td>\n",
              "    </tr>\n",
              "  </tbody>\n",
              "</table>\n",
              "</div>\n",
              "      <button class=\"colab-df-convert\" onclick=\"convertToInteractive('df-c1f0961b-a7e0-497c-ba7d-1ece90584eb1')\"\n",
              "              title=\"Convert this dataframe to an interactive table.\"\n",
              "              style=\"display:none;\">\n",
              "        \n",
              "  <svg xmlns=\"http://www.w3.org/2000/svg\" height=\"24px\"viewBox=\"0 0 24 24\"\n",
              "       width=\"24px\">\n",
              "    <path d=\"M0 0h24v24H0V0z\" fill=\"none\"/>\n",
              "    <path d=\"M18.56 5.44l.94 2.06.94-2.06 2.06-.94-2.06-.94-.94-2.06-.94 2.06-2.06.94zm-11 1L8.5 8.5l.94-2.06 2.06-.94-2.06-.94L8.5 2.5l-.94 2.06-2.06.94zm10 10l.94 2.06.94-2.06 2.06-.94-2.06-.94-.94-2.06-.94 2.06-2.06.94z\"/><path d=\"M17.41 7.96l-1.37-1.37c-.4-.4-.92-.59-1.43-.59-.52 0-1.04.2-1.43.59L10.3 9.45l-7.72 7.72c-.78.78-.78 2.05 0 2.83L4 21.41c.39.39.9.59 1.41.59.51 0 1.02-.2 1.41-.59l7.78-7.78 2.81-2.81c.8-.78.8-2.07 0-2.86zM5.41 20L4 18.59l7.72-7.72 1.47 1.35L5.41 20z\"/>\n",
              "  </svg>\n",
              "      </button>\n",
              "      \n",
              "  <style>\n",
              "    .colab-df-container {\n",
              "      display:flex;\n",
              "      flex-wrap:wrap;\n",
              "      gap: 12px;\n",
              "    }\n",
              "\n",
              "    .colab-df-convert {\n",
              "      background-color: #E8F0FE;\n",
              "      border: none;\n",
              "      border-radius: 50%;\n",
              "      cursor: pointer;\n",
              "      display: none;\n",
              "      fill: #1967D2;\n",
              "      height: 32px;\n",
              "      padding: 0 0 0 0;\n",
              "      width: 32px;\n",
              "    }\n",
              "\n",
              "    .colab-df-convert:hover {\n",
              "      background-color: #E2EBFA;\n",
              "      box-shadow: 0px 1px 2px rgba(60, 64, 67, 0.3), 0px 1px 3px 1px rgba(60, 64, 67, 0.15);\n",
              "      fill: #174EA6;\n",
              "    }\n",
              "\n",
              "    [theme=dark] .colab-df-convert {\n",
              "      background-color: #3B4455;\n",
              "      fill: #D2E3FC;\n",
              "    }\n",
              "\n",
              "    [theme=dark] .colab-df-convert:hover {\n",
              "      background-color: #434B5C;\n",
              "      box-shadow: 0px 1px 3px 1px rgba(0, 0, 0, 0.15);\n",
              "      filter: drop-shadow(0px 1px 2px rgba(0, 0, 0, 0.3));\n",
              "      fill: #FFFFFF;\n",
              "    }\n",
              "  </style>\n",
              "\n",
              "      <script>\n",
              "        const buttonEl =\n",
              "          document.querySelector('#df-c1f0961b-a7e0-497c-ba7d-1ece90584eb1 button.colab-df-convert');\n",
              "        buttonEl.style.display =\n",
              "          google.colab.kernel.accessAllowed ? 'block' : 'none';\n",
              "\n",
              "        async function convertToInteractive(key) {\n",
              "          const element = document.querySelector('#df-c1f0961b-a7e0-497c-ba7d-1ece90584eb1');\n",
              "          const dataTable =\n",
              "            await google.colab.kernel.invokeFunction('convertToInteractive',\n",
              "                                                     [key], {});\n",
              "          if (!dataTable) return;\n",
              "\n",
              "          const docLinkHtml = 'Like what you see? Visit the ' +\n",
              "            '<a target=\"_blank\" href=https://colab.research.google.com/notebooks/data_table.ipynb>data table notebook</a>'\n",
              "            + ' to learn more about interactive tables.';\n",
              "          element.innerHTML = '';\n",
              "          dataTable['output_type'] = 'display_data';\n",
              "          await google.colab.output.renderOutput(dataTable, element);\n",
              "          const docLink = document.createElement('div');\n",
              "          docLink.innerHTML = docLinkHtml;\n",
              "          element.appendChild(docLink);\n",
              "        }\n",
              "      </script>\n",
              "    </div>\n",
              "  </div>\n",
              "  "
            ]
          },
          "metadata": {},
          "execution_count": 18
        }
      ]
    },
    {
      "cell_type": "code",
      "source": [
        "sns.countplot(data=df_test, x='label')\n",
        "plt.show()"
      ],
      "metadata": {
        "colab": {
          "base_uri": "https://localhost:8080/",
          "height": 279
        },
        "id": "dgLwhFaQPMtW",
        "outputId": "3858794d-e018-4e86-d83f-0ffa68d6623d"
      },
      "execution_count": 19,
      "outputs": [
        {
          "output_type": "display_data",
          "data": {
            "text/plain": [
              "<Figure size 432x288 with 1 Axes>"
            ],
            "image/png": "[encoded data removed]"
          },
          "metadata": {
            "needs_background": "light"
          }
        }
      ]
    },
    {
      "cell_type": "code",
      "source": [
        "df_val = pd.DataFrame(y_val, columns=['label'])\n",
        "df_val.head()"
      ],
      "metadata": {
        "colab": {
          "base_uri": "https://localhost:8080/",
          "height": 206
        },
        "id": "Ffya_-TJKuHa",
        "outputId": "4ee1041c-4271-499e-ea96-c43513953ed8"
      },
      "execution_count": 20,
      "outputs": [
        {
          "output_type": "execute_result",
          "data": {
            "text/plain": [
              "       label\n",
              "0  n03028079\n",
              "1  n03445777\n",
              "2  n03028079\n",
              "3  n03028079\n",
              "4  n03028079"
            ],
            "text/html": [
              "\n",
              "  <div id=\"df-47f946fe-247b-489b-b493-691b99849132\">\n",
              "    <div class=\"colab-df-container\">\n",
              "      <div>\n",
              "<style scoped>\n",
              "    .dataframe tbody tr th:only-of-type {\n",
              "        vertical-align: middle;\n",
              "    }\n",
              "\n",
              "    .dataframe tbody tr th {\n",
              "        vertical-align: top;\n",
              "    }\n",
              "\n",
              "    .dataframe thead th {\n",
              "        text-align: right;\n",
              "    }\n",
              "</style>\n",
              "<table border=\"1\" class=\"dataframe\">\n",
              "  <thead>\n",
              "    <tr style=\"text-align: right;\">\n",
              "      <th></th>\n",
              "      <th>label</th>\n",
              "    </tr>\n",
              "  </thead>\n",
              "  <tbody>\n",
              "    <tr>\n",
              "      <th>0</th>\n",
              "      <td>n03028079</td>\n",
              "    </tr>\n",
              "    <tr>\n",
              "      <th>1</th>\n",
              "      <td>n03445777</td>\n",
              "    </tr>\n",
              "    <tr>\n",
              "      <th>2</th>\n",
              "      <td>n03028079</td>\n",
              "    </tr>\n",
              "    <tr>\n",
              "      <th>3</th>\n",
              "      <td>n03028079</td>\n",
              "    </tr>\n",
              "    <tr>\n",
              "      <th>4</th>\n",
              "      <td>n03028079</td>\n",
              "    </tr>\n",
              "  </tbody>\n",
              "</table>\n",
              "</div>\n",
              "      <button class=\"colab-df-convert\" onclick=\"convertToInteractive('df-47f946fe-247b-489b-b493-691b99849132')\"\n",
              "              title=\"Convert this dataframe to an interactive table.\"\n",
              "              style=\"display:none;\">\n",
              "        \n",
              "  <svg xmlns=\"http://www.w3.org/2000/svg\" height=\"24px\"viewBox=\"0 0 24 24\"\n",
              "       width=\"24px\">\n",
              "    <path d=\"M0 0h24v24H0V0z\" fill=\"none\"/>\n",
              "    <path d=\"M18.56 5.44l.94 2.06.94-2.06 2.06-.94-2.06-.94-.94-2.06-.94 2.06-2.06.94zm-11 1L8.5 8.5l.94-2.06 2.06-.94-2.06-.94L8.5 2.5l-.94 2.06-2.06.94zm10 10l.94 2.06.94-2.06 2.06-.94-2.06-.94-.94-2.06-.94 2.06-2.06.94z\"/><path d=\"M17.41 7.96l-1.37-1.37c-.4-.4-.92-.59-1.43-.59-.52 0-1.04.2-1.43.59L10.3 9.45l-7.72 7.72c-.78.78-.78 2.05 0 2.83L4 21.41c.39.39.9.59 1.41.59.51 0 1.02-.2 1.41-.59l7.78-7.78 2.81-2.81c.8-.78.8-2.07 0-2.86zM5.41 20L4 18.59l7.72-7.72 1.47 1.35L5.41 20z\"/>\n",
              "  </svg>\n",
              "      </button>\n",
              "      \n",
              "  <style>\n",
              "    .colab-df-container {\n",
              "      display:flex;\n",
              "      flex-wrap:wrap;\n",
              "      gap: 12px;\n",
              "    }\n",
              "\n",
              "    .colab-df-convert {\n",
              "      background-color: #E8F0FE;\n",
              "      border: none;\n",
              "      border-radius: 50%;\n",
              "      cursor: pointer;\n",
              "      display: none;\n",
              "      fill: #1967D2;\n",
              "      height: 32px;\n",
              "      padding: 0 0 0 0;\n",
              "      width: 32px;\n",
              "    }\n",
              "\n",
              "    .colab-df-convert:hover {\n",
              "      background-color: #E2EBFA;\n",
              "      box-shadow: 0px 1px 2px rgba(60, 64, 67, 0.3), 0px 1px 3px 1px rgba(60, 64, 67, 0.15);\n",
              "      fill: #174EA6;\n",
              "    }\n",
              "\n",
              "    [theme=dark] .colab-df-convert {\n",
              "      background-color: #3B4455;\n",
              "      fill: #D2E3FC;\n",
              "    }\n",
              "\n",
              "    [theme=dark] .colab-df-convert:hover {\n",
              "      background-color: #434B5C;\n",
              "      box-shadow: 0px 1px 3px 1px rgba(0, 0, 0, 0.15);\n",
              "      filter: drop-shadow(0px 1px 2px rgba(0, 0, 0, 0.3));\n",
              "      fill: #FFFFFF;\n",
              "    }\n",
              "  </style>\n",
              "\n",
              "      <script>\n",
              "        const buttonEl =\n",
              "          document.querySelector('#df-47f946fe-247b-489b-b493-691b99849132 button.colab-df-convert');\n",
              "        buttonEl.style.display =\n",
              "          google.colab.kernel.accessAllowed ? 'block' : 'none';\n",
              "\n",
              "        async function convertToInteractive(key) {\n",
              "          const element = document.querySelector('#df-47f946fe-247b-489b-b493-691b99849132');\n",
              "          const dataTable =\n",
              "            await google.colab.kernel.invokeFunction('convertToInteractive',\n",
              "                                                     [key], {});\n",
              "          if (!dataTable) return;\n",
              "\n",
              "          const docLinkHtml = 'Like what you see? Visit the ' +\n",
              "            '<a target=\"_blank\" href=https://colab.research.google.com/notebooks/data_table.ipynb>data table notebook</a>'\n",
              "            + ' to learn more about interactive tables.';\n",
              "          element.innerHTML = '';\n",
              "          dataTable['output_type'] = 'display_data';\n",
              "          await google.colab.output.renderOutput(dataTable, element);\n",
              "          const docLink = document.createElement('div');\n",
              "          docLink.innerHTML = docLinkHtml;\n",
              "          element.appendChild(docLink);\n",
              "        }\n",
              "      </script>\n",
              "    </div>\n",
              "  </div>\n",
              "  "
            ]
          },
          "metadata": {},
          "execution_count": 20
        }
      ]
    },
    {
      "cell_type": "code",
      "source": [
        "sns.countplot(data=df_val, x='label')\n",
        "plt.show()"
      ],
      "metadata": {
        "colab": {
          "base_uri": "https://localhost:8080/",
          "height": 279
        },
        "id": "zKybFqldKuFN",
        "outputId": "97312745-0342-4643-8479-12bc9abf4b54"
      },
      "execution_count": 21,
      "outputs": [
        {
          "output_type": "display_data",
          "data": {
            "text/plain": [
              "<Figure size 432x288 with 1 Axes>"
            ],
            "image/png": "[encoded data removed]"
          },
          "metadata": {
            "needs_background": "light"
          }
        }
      ]
    },
    {
      "cell_type": "markdown",
      "source": [
        "## Encoding"
      ],
      "metadata": {
        "id": "k3-odDC4P4iw"
      }
    },
    {
      "cell_type": "code",
      "source": [
        "def one_hot_encode(y, num_classes):\n",
        "  le = LabelEncoder()\n",
        "  return to_categorical(le.fit_transform(y), num_classes)"
      ],
      "metadata": {
        "id": "j05-94gsVG7P"
      },
      "execution_count": 22,
      "outputs": []
    },
    {
      "cell_type": "code",
      "source": [
        "y_train[0]"
      ],
      "metadata": {
        "colab": {
          "base_uri": "https://localhost:8080/",
          "height": 35
        },
        "id": "TIIs6vhcPSlC",
        "outputId": "93a239a8-07c8-4e39-d789-7828058bcad3"
      },
      "execution_count": 23,
      "outputs": [
        {
          "output_type": "execute_result",
          "data": {
            "text/plain": [
              "'n03028079'"
            ],
            "application/vnd.google.colaboratory.intrinsic+json": {
              "type": "string"
            }
          },
          "metadata": {},
          "execution_count": 23
        }
      ]
    },
    {
      "cell_type": "code",
      "source": [
        "y_train = one_hot_encode(y_train, NUM_CLASSES)"
      ],
      "metadata": {
        "id": "BPYfBPPNPXhm"
      },
      "execution_count": 24,
      "outputs": []
    },
    {
      "cell_type": "code",
      "source": [
        "y_train[0]"
      ],
      "metadata": {
        "colab": {
          "base_uri": "https://localhost:8080/"
        },
        "id": "t7fvDvpkPm04",
        "outputId": "61497493-3a38-4ee3-f251-117ee74139cd"
      },
      "execution_count": 25,
      "outputs": [
        {
          "output_type": "execute_result",
          "data": {
            "text/plain": [
              "array([0., 1., 0., 0.], dtype=float32)"
            ]
          },
          "metadata": {},
          "execution_count": 25
        }
      ]
    },
    {
      "cell_type": "code",
      "source": [
        "y_test[0]"
      ],
      "metadata": {
        "colab": {
          "base_uri": "https://localhost:8080/",
          "height": 35
        },
        "id": "dT7y2i_1PtcM",
        "outputId": "bc499e2b-3e27-48cb-98a1-cb141e0b848b"
      },
      "execution_count": 26,
      "outputs": [
        {
          "output_type": "execute_result",
          "data": {
            "text/plain": [
              "'n03028079'"
            ],
            "application/vnd.google.colaboratory.intrinsic+json": {
              "type": "string"
            }
          },
          "metadata": {},
          "execution_count": 26
        }
      ]
    },
    {
      "cell_type": "code",
      "source": [
        "y_test = one_hot_encode(y_test, NUM_CLASSES)"
      ],
      "metadata": {
        "id": "q302nQhQPtWL"
      },
      "execution_count": 27,
      "outputs": []
    },
    {
      "cell_type": "code",
      "source": [
        "y_test[0]"
      ],
      "metadata": {
        "colab": {
          "base_uri": "https://localhost:8080/"
        },
        "id": "xFJEn4BOPtPy",
        "outputId": "8b124018-004f-40bf-ddeb-85804945e436"
      },
      "execution_count": 28,
      "outputs": [
        {
          "output_type": "execute_result",
          "data": {
            "text/plain": [
              "array([0., 1., 0., 0.], dtype=float32)"
            ]
          },
          "metadata": {},
          "execution_count": 28
        }
      ]
    },
    {
      "cell_type": "code",
      "source": [
        "np.array(y_train).shape"
      ],
      "metadata": {
        "colab": {
          "base_uri": "https://localhost:8080/"
        },
        "id": "8BglGxUPeelq",
        "outputId": "9c18f4ea-f94e-46ee-96d2-dc68fa79d55d"
      },
      "execution_count": 29,
      "outputs": [
        {
          "output_type": "execute_result",
          "data": {
            "text/plain": [
              "(3780, 4)"
            ]
          },
          "metadata": {},
          "execution_count": 29
        }
      ]
    },
    {
      "cell_type": "code",
      "source": [
        "y_val[0]"
      ],
      "metadata": {
        "colab": {
          "base_uri": "https://localhost:8080/",
          "height": 35
        },
        "id": "mDS2VaEgJEQk",
        "outputId": "e8f22909-d598-4578-b267-f2eb3bded6de"
      },
      "execution_count": 30,
      "outputs": [
        {
          "output_type": "execute_result",
          "data": {
            "text/plain": [
              "'n03028079'"
            ],
            "application/vnd.google.colaboratory.intrinsic+json": {
              "type": "string"
            }
          },
          "metadata": {},
          "execution_count": 30
        }
      ]
    },
    {
      "cell_type": "code",
      "source": [
        "y_val = one_hot_encode(y_val, NUM_CLASSES)"
      ],
      "metadata": {
        "id": "niF9uj0WJHR1"
      },
      "execution_count": 31,
      "outputs": []
    },
    {
      "cell_type": "code",
      "source": [
        "y_val"
      ],
      "metadata": {
        "colab": {
          "base_uri": "https://localhost:8080/"
        },
        "id": "QoFFPvuzJHNH",
        "outputId": "9ef3788d-0a9a-43d9-e536-ecb7517bf4f9"
      },
      "execution_count": 32,
      "outputs": [
        {
          "output_type": "execute_result",
          "data": {
            "text/plain": [
              "array([[0., 1., 0., 0.],\n",
              "       [0., 0., 0., 1.],\n",
              "       [0., 1., 0., 0.],\n",
              "       ...,\n",
              "       [0., 0., 1., 0.],\n",
              "       [1., 0., 0., 0.],\n",
              "       [0., 0., 0., 1.]], dtype=float32)"
            ]
          },
          "metadata": {},
          "execution_count": 32
        }
      ]
    },
    {
      "cell_type": "markdown",
      "source": [
        "## Create train, validation and test sets"
      ],
      "metadata": {
        "id": "L9lbpcv7QZYC"
      }
    },
    {
      "cell_type": "code",
      "source": [
        "train_datagen = ImageDataGenerator(        \n",
        "        rescale=1./255,\n",
        "        fill_mode=\"nearest\"\n",
        ")\n",
        "\n",
        "val_datagen = ImageDataGenerator(rescale=1./255)\n",
        "test_datagen = ImageDataGenerator(rescale=1./255)\n",
        "\n",
        "# data augmented training data\n",
        "train_aug_datagen = ImageDataGenerator(        \n",
        "        rescale=1./255,\n",
        "        fill_mode=\"nearest\",\n",
        "        rotation_range=40,\n",
        "        width_shift_range=0.2,\n",
        "        height_shift_range=0.2,\n",
        "        shear_range=0.2,\n",
        "        zoom_range=0.2,\n",
        "        horizontal_flip=True\n",
        ")"
      ],
      "metadata": {
        "id": "QAmBWWzTQLfu"
      },
      "execution_count": 34,
      "outputs": []
    },
    {
      "cell_type": "code",
      "source": [
        "train_ds = train_datagen.flow(\n",
        "  np.array(X_train), y_train,\n",
        "  shuffle=True,\n",
        "  batch_size=128\n",
        ")\n",
        "\n",
        "train_aug_ds = train_datagen.flow(\n",
        "  np.array(X_train), y_train,\n",
        "  shuffle=True,\n",
        "  batch_size=128\n",
        ")\n",
        "\n",
        "val_ds = val_datagen.flow(\n",
        "  np.array(X_val), y_val,\n",
        "  shuffle=True,\n",
        "  batch_size=128\n",
        ")\n",
        "\n",
        "test_ds = test_datagen.flow(\n",
        "  np.array(X_test), y_test,\n",
        "  shuffle=False,\n",
        "  batch_size=128\n",
        ")"
      ],
      "metadata": {
        "id": "DEGRrcKyQLR2"
      },
      "execution_count": 35,
      "outputs": []
    },
    {
      "cell_type": "code",
      "source": [
        "print('Shape of training samples: ', train_ds.x.shape)\n",
        "print('Shape of validation samples: ', val_ds.x.shape)\n",
        "print('Shape of test samples: ', test_ds.x.shape)\n",
        "\n",
        "print('--------------------------')\n",
        "print('Shape of augmented training samples: ', train_ds.x.shape)"
      ],
      "metadata": {
        "colab": {
          "base_uri": "https://localhost:8080/"
        },
        "id": "TWpxTK2fUMbM",
        "outputId": "13496ac4-56a3-43a3-ef5e-e3299aa2d9bc"
      },
      "execution_count": 36,
      "outputs": [
        {
          "output_type": "stream",
          "name": "stdout",
          "text": [
            "Shape of training samples:  (3780, 64, 64, 3)\n",
            "Shape of validation samples:  (1085, 64, 64, 3)\n",
            "Shape of test samples:  (535, 64, 64, 3)\n",
            "--------------------------\n",
            "Shape of augmented training samples:  (3780, 64, 64, 3)\n"
          ]
        }
      ]
    },
    {
      "cell_type": "markdown",
      "source": [
        "## Build model"
      ],
      "metadata": {
        "id": "mXM62rqgWnmR"
      }
    },
    {
      "cell_type": "code",
      "source": [
        "def build_model(batchNorm=False, dropOut=False, l2Reg=False):\n",
        "  model = Sequential()\n",
        "\n",
        "  if l2Reg:\n",
        "    model.add(Conv2D(32, kernel_size=3, activation='relu', kernel_regularizer='l2', input_shape=(64,64,3)))\n",
        "    model.add(Conv2D(32, kernel_size=3, activation='relu', kernel_regularizer='l2'))\n",
        "  else:\n",
        "    model.add(Conv2D(32, kernel_size=3, activation='relu', input_shape=(64,64,3)))\n",
        "    model.add(Conv2D(32, kernel_size=3, activation='relu'))\n",
        "  \n",
        "  model.add(MaxPooling2D(pool_size=(2,2)))\n",
        "\n",
        "  if batchNorm:\n",
        "    model.add(BatchNormalization())\n",
        "\n",
        "  if l2Reg:\n",
        "    model.add(Conv2D(64, kernel_size=3, activation='relu', kernel_regularizer='l2'))\n",
        "    model.add(Conv2D(64, kernel_size=3, activation='relu', kernel_regularizer='l2'))\n",
        "  else:\n",
        "    model.add(Conv2D(64, kernel_size=3, activation='relu'))\n",
        "    model.add(Conv2D(64, kernel_size=3, activation='relu'))\n",
        "  \n",
        "  model.add(MaxPooling2D(pool_size=(2,2)))\n",
        "\n",
        "  if batchNorm:\n",
        "    model.add(BatchNormalization())\n",
        "\n",
        "  model.add(Flatten())\n",
        "\n",
        "  if l2Reg:\n",
        "    model.add(Dense(512, kernel_regularizer='l2'))\n",
        "  else:\n",
        "    model.add(Dense(512))\n",
        "  \n",
        "  if dropOut:\n",
        "    model.add(Dropout(0.25))\n",
        "\n",
        "  if l2Reg:\n",
        "    model.add(Dense(NUM_CLASSES, activation='softmax', kernel_regularizer='l2'))\n",
        "  else:\n",
        "    model.add(Dense(NUM_CLASSES, activation='softmax'))\n",
        "\n",
        "  model.compile(\n",
        "      optimizer=Adam(),\n",
        "      loss='categorical_crossentropy',\n",
        "      metrics=[\n",
        "          CategoricalAccuracy(),\n",
        "          Precision(), \n",
        "          Recall(),\n",
        "          AUC()\n",
        "        ]\n",
        "  )\n",
        "\n",
        "  return model"
      ],
      "metadata": {
        "id": "zZSDjLoRQA6o"
      },
      "execution_count": 37,
      "outputs": []
    },
    {
      "cell_type": "code",
      "source": [
        "baseline_model = build_model()\n",
        "baseline_model.summary()"
      ],
      "metadata": {
        "colab": {
          "base_uri": "https://localhost:8080/"
        },
        "id": "rQDGOVCVsKF8",
        "outputId": "c9280677-ba12-4128-e531-4b6eadfdcc33"
      },
      "execution_count": 37,
      "outputs": [
        {
          "output_type": "stream",
          "name": "stdout",
          "text": [
            "Model: \"sequential\"\n",
            "_________________________________________________________________\n",
            " Layer (type)                Output Shape              Param #   \n",
            "=================================================================\n",
            " conv2d (Conv2D)             (None, 62, 62, 32)        896       \n",
            "                                                                 \n",
            " conv2d_1 (Conv2D)           (None, 60, 60, 32)        9248      \n",
            "                                                                 \n",
            " max_pooling2d (MaxPooling2D  (None, 30, 30, 32)       0         \n",
            " )                                                               \n",
            "                                                                 \n",
            " conv2d_2 (Conv2D)           (None, 28, 28, 64)        18496     \n",
            "                                                                 \n",
            " conv2d_3 (Conv2D)           (None, 26, 26, 64)        36928     \n",
            "                                                                 \n",
            " max_pooling2d_1 (MaxPooling  (None, 13, 13, 64)       0         \n",
            " 2D)                                                             \n",
            "                                                                 \n",
            " flatten (Flatten)           (None, 10816)             0         \n",
            "                                                                 \n",
            " dense (Dense)               (None, 512)               5538304   \n",
            "                                                                 \n",
            " dense_1 (Dense)             (None, 4)                 2052      \n",
            "                                                                 \n",
            "=================================================================\n",
            "Total params: 5,605,924\n",
            "Trainable params: 5,605,924\n",
            "Non-trainable params: 0\n",
            "_________________________________________________________________\n"
          ]
        }
      ]
    },
    {
      "cell_type": "markdown",
      "source": [
        "## Train model"
      ],
      "metadata": {
        "id": "Rm888aZjWquk"
      }
    },
    {
      "cell_type": "markdown",
      "source": [
        "### Initialise callbacks"
      ],
      "metadata": {
        "id": "pBeBZRTUPMsV"
      }
    },
    {
      "cell_type": "code",
      "source": [
        "early_stopping = EarlyStopping(monitor='val_loss', verbose=1, patience=20)\n",
        "checkpoint = ModelCheckpoint('/content/drive/MyDrive/EE544 Computer Vision/task-1-weights.hdf5', verbose=1, save_best_only=True, monitor='val_categorical_accuracy')"
      ],
      "metadata": {
        "id": "KF2Jfe0ZOn52"
      },
      "execution_count": 38,
      "outputs": []
    },
    {
      "cell_type": "markdown",
      "source": [
        "### Fit the model"
      ],
      "metadata": {
        "id": "fxsKgdiyeDSp"
      }
    },
    {
      "cell_type": "code",
      "source": [
        "baseline_history = baseline_model.fit(\n",
        "    train_ds,\n",
        "    epochs=30,\n",
        "    verbose=1,\n",
        "    validation_data=val_ds,\n",
        "    callbacks=[checkpoint]\n",
        ")"
      ],
      "metadata": {
        "colab": {
          "base_uri": "https://localhost:8080/"
        },
        "id": "1_jktE3JsRBS",
        "outputId": "c67a14c6-950a-41b6-cb94-5357005991e3"
      },
      "execution_count": 39,
      "outputs": [
        {
          "output_type": "stream",
          "name": "stdout",
          "text": [
            "Epoch 1/30\n",
            "26/26 [==============================] - ETA: 0s - loss: 1.4910 - categorical_accuracy: 0.4349 - precision: 0.5186 - recall: 0.1290 - auc: 0.6777\n",
            "Epoch 1: val_categorical_accuracy improved from -inf to 0.51481, saving model to /content/drive/MyDrive/EE544 Computer Vision/task-1-weights.hdf5\n",
            "26/26 [==============================] - 7s 104ms/step - loss: 1.4910 - categorical_accuracy: 0.4349 - precision: 0.5186 - recall: 0.1290 - auc: 0.6777 - val_loss: 1.1132 - val_categorical_accuracy: 0.5148 - val_precision: 0.6074 - val_recall: 0.3648 - val_auc: 0.7766\n",
            "Epoch 2/30\n",
            "25/26 [===========================>..] - ETA: 0s - loss: 0.8915 - categorical_accuracy: 0.6398 - precision: 0.7248 - recall: 0.4926 - auc: 0.8622\n",
            "Epoch 2: val_categorical_accuracy improved from 0.51481 to 0.67901, saving model to /content/drive/MyDrive/EE544 Computer Vision/task-1-weights.hdf5\n",
            "26/26 [==============================] - 1s 50ms/step - loss: 0.8900 - categorical_accuracy: 0.6392 - precision: 0.7252 - recall: 0.4944 - auc: 0.8626 - val_loss: 0.8214 - val_categorical_accuracy: 0.6790 - val_precision: 0.7514 - val_recall: 0.5858 - val_auc: 0.8845\n",
            "Epoch 3/30\n",
            "26/26 [==============================] - ETA: 0s - loss: 0.7248 - categorical_accuracy: 0.7247 - precision: 0.7818 - recall: 0.6435 - auc: 0.9108\n",
            "Epoch 3: val_categorical_accuracy improved from 0.67901 to 0.71481, saving model to /content/drive/MyDrive/EE544 Computer Vision/task-1-weights.hdf5\n",
            "26/26 [==============================] - 1s 46ms/step - loss: 0.7248 - categorical_accuracy: 0.7247 - precision: 0.7818 - recall: 0.6435 - auc: 0.9108 - val_loss: 0.7270 - val_categorical_accuracy: 0.7148 - val_precision: 0.7841 - val_recall: 0.6389 - val_auc: 0.9101\n",
            "Epoch 4/30\n",
            "26/26 [==============================] - ETA: 0s - loss: 0.6115 - categorical_accuracy: 0.7765 - precision: 0.8215 - recall: 0.7185 - auc: 0.9364\n",
            "Epoch 4: val_categorical_accuracy improved from 0.71481 to 0.74568, saving model to /content/drive/MyDrive/EE544 Computer Vision/task-1-weights.hdf5\n",
            "26/26 [==============================] - 1s 48ms/step - loss: 0.6115 - categorical_accuracy: 0.7765 - precision: 0.8215 - recall: 0.7185 - auc: 0.9364 - val_loss: 0.6976 - val_categorical_accuracy: 0.7457 - val_precision: 0.7819 - val_recall: 0.6926 - val_auc: 0.9181\n",
            "Epoch 5/30\n",
            "26/26 [==============================] - ETA: 0s - loss: 0.5700 - categorical_accuracy: 0.7818 - precision: 0.8258 - recall: 0.7432 - auc: 0.9444\n",
            "Epoch 5: val_categorical_accuracy did not improve from 0.74568\n",
            "26/26 [==============================] - 1s 39ms/step - loss: 0.5700 - categorical_accuracy: 0.7818 - precision: 0.8258 - recall: 0.7432 - auc: 0.9444 - val_loss: 0.6927 - val_categorical_accuracy: 0.7389 - val_precision: 0.7822 - val_recall: 0.6895 - val_auc: 0.9189\n",
            "Epoch 6/30\n",
            "26/26 [==============================] - ETA: 0s - loss: 0.5283 - categorical_accuracy: 0.8012 - precision: 0.8460 - recall: 0.7614 - auc: 0.9518\n",
            "Epoch 6: val_categorical_accuracy improved from 0.74568 to 0.76605, saving model to /content/drive/MyDrive/EE544 Computer Vision/task-1-weights.hdf5\n",
            "26/26 [==============================] - 1s 47ms/step - loss: 0.5283 - categorical_accuracy: 0.8012 - precision: 0.8460 - recall: 0.7614 - auc: 0.9518 - val_loss: 0.6305 - val_categorical_accuracy: 0.7660 - val_precision: 0.8181 - val_recall: 0.6994 - val_auc: 0.9321\n",
            "Epoch 7/30\n",
            "26/26 [==============================] - ETA: 0s - loss: 0.4622 - categorical_accuracy: 0.8349 - precision: 0.8734 - recall: 0.7941 - auc: 0.9636\n",
            "Epoch 7: val_categorical_accuracy improved from 0.76605 to 0.77160, saving model to /content/drive/MyDrive/EE544 Computer Vision/task-1-weights.hdf5\n",
            "26/26 [==============================] - 1s 47ms/step - loss: 0.4622 - categorical_accuracy: 0.8349 - precision: 0.8734 - recall: 0.7941 - auc: 0.9636 - val_loss: 0.6249 - val_categorical_accuracy: 0.7716 - val_precision: 0.8106 - val_recall: 0.7395 - val_auc: 0.9362\n",
            "Epoch 8/30\n",
            "26/26 [==============================] - ETA: 0s - loss: 0.4249 - categorical_accuracy: 0.8469 - precision: 0.8838 - recall: 0.8142 - auc: 0.9688\n",
            "Epoch 8: val_categorical_accuracy improved from 0.77160 to 0.77346, saving model to /content/drive/MyDrive/EE544 Computer Vision/task-1-weights.hdf5\n",
            "26/26 [==============================] - 1s 47ms/step - loss: 0.4249 - categorical_accuracy: 0.8469 - precision: 0.8838 - recall: 0.8142 - auc: 0.9688 - val_loss: 0.6102 - val_categorical_accuracy: 0.7735 - val_precision: 0.8160 - val_recall: 0.7389 - val_auc: 0.9387\n",
            "Epoch 9/30\n",
            "26/26 [==============================] - ETA: 0s - loss: 0.4011 - categorical_accuracy: 0.8540 - precision: 0.8774 - recall: 0.8262 - auc: 0.9715\n",
            "Epoch 9: val_categorical_accuracy improved from 0.77346 to 0.77716, saving model to /content/drive/MyDrive/EE544 Computer Vision/task-1-weights.hdf5\n",
            "26/26 [==============================] - 1s 54ms/step - loss: 0.4011 - categorical_accuracy: 0.8540 - precision: 0.8774 - recall: 0.8262 - auc: 0.9715 - val_loss: 0.6178 - val_categorical_accuracy: 0.7772 - val_precision: 0.8124 - val_recall: 0.7377 - val_auc: 0.9365\n",
            "Epoch 10/30\n",
            "25/26 [===========================>..] - ETA: 0s - loss: 0.3969 - categorical_accuracy: 0.8580 - precision: 0.8845 - recall: 0.8265 - auc: 0.9723\n",
            "Epoch 10: val_categorical_accuracy did not improve from 0.77716\n",
            "26/26 [==============================] - 1s 50ms/step - loss: 0.3936 - categorical_accuracy: 0.8602 - precision: 0.8868 - recall: 0.8290 - auc: 0.9728 - val_loss: 0.6012 - val_categorical_accuracy: 0.7753 - val_precision: 0.8167 - val_recall: 0.7426 - val_auc: 0.9400\n",
            "Epoch 11/30\n",
            "25/26 [===========================>..] - ETA: 0s - loss: 0.3220 - categorical_accuracy: 0.8850 - precision: 0.9064 - recall: 0.8621 - auc: 0.9815\n",
            "Epoch 11: val_categorical_accuracy did not improve from 0.77716\n",
            "26/26 [==============================] - 1s 50ms/step - loss: 0.3234 - categorical_accuracy: 0.8833 - precision: 0.9044 - recall: 0.8614 - auc: 0.9813 - val_loss: 0.6696 - val_categorical_accuracy: 0.7611 - val_precision: 0.7918 - val_recall: 0.7302 - val_auc: 0.9316\n",
            "Epoch 12/30\n",
            "26/26 [==============================] - ETA: 0s - loss: 0.2899 - categorical_accuracy: 0.8944 - precision: 0.9126 - recall: 0.8762 - auc: 0.9852\n",
            "Epoch 12: val_categorical_accuracy did not improve from 0.77716\n",
            "26/26 [==============================] - 1s 43ms/step - loss: 0.2899 - categorical_accuracy: 0.8944 - precision: 0.9126 - recall: 0.8762 - auc: 0.9852 - val_loss: 0.6769 - val_categorical_accuracy: 0.7747 - val_precision: 0.7979 - val_recall: 0.7531 - val_auc: 0.9354\n",
            "Epoch 13/30\n",
            "26/26 [==============================] - ETA: 0s - loss: 0.2504 - categorical_accuracy: 0.9062 - precision: 0.9195 - recall: 0.8923 - auc: 0.9893\n",
            "Epoch 13: val_categorical_accuracy improved from 0.77716 to 0.79259, saving model to /content/drive/MyDrive/EE544 Computer Vision/task-1-weights.hdf5\n",
            "26/26 [==============================] - 1s 47ms/step - loss: 0.2504 - categorical_accuracy: 0.9062 - precision: 0.9195 - recall: 0.8923 - auc: 0.9893 - val_loss: 0.6381 - val_categorical_accuracy: 0.7926 - val_precision: 0.8157 - val_recall: 0.7759 - val_auc: 0.9417\n",
            "Epoch 14/30\n",
            "26/26 [==============================] - ETA: 0s - loss: 0.2091 - categorical_accuracy: 0.9275 - precision: 0.9397 - recall: 0.9139 - auc: 0.9923\n",
            "Epoch 14: val_categorical_accuracy did not improve from 0.79259\n",
            "26/26 [==============================] - 1s 40ms/step - loss: 0.2091 - categorical_accuracy: 0.9275 - precision: 0.9397 - recall: 0.9139 - auc: 0.9923 - val_loss: 0.7165 - val_categorical_accuracy: 0.7716 - val_precision: 0.7898 - val_recall: 0.7562 - val_auc: 0.9341\n",
            "Epoch 15/30\n",
            "25/26 [===========================>..] - ETA: 0s - loss: 0.1769 - categorical_accuracy: 0.9370 - precision: 0.9481 - recall: 0.9283 - auc: 0.9946\n",
            "Epoch 15: val_categorical_accuracy did not improve from 0.79259\n",
            "26/26 [==============================] - 1s 39ms/step - loss: 0.1763 - categorical_accuracy: 0.9373 - precision: 0.9486 - recall: 0.9287 - auc: 0.9946 - val_loss: 0.7626 - val_categorical_accuracy: 0.7796 - val_precision: 0.7923 - val_recall: 0.7630 - val_auc: 0.9302\n",
            "Epoch 16/30\n",
            "26/26 [==============================] - ETA: 0s - loss: 0.1300 - categorical_accuracy: 0.9565 - precision: 0.9625 - recall: 0.9500 - auc: 0.9972\n",
            "Epoch 16: val_categorical_accuracy did not improve from 0.79259\n",
            "26/26 [==============================] - 1s 39ms/step - loss: 0.1300 - categorical_accuracy: 0.9565 - precision: 0.9625 - recall: 0.9500 - auc: 0.9972 - val_loss: 0.7993 - val_categorical_accuracy: 0.7722 - val_precision: 0.7861 - val_recall: 0.7623 - val_auc: 0.9317\n",
            "Epoch 17/30\n",
            "26/26 [==============================] - ETA: 0s - loss: 0.1096 - categorical_accuracy: 0.9630 - precision: 0.9667 - recall: 0.9583 - auc: 0.9982\n",
            "Epoch 17: val_categorical_accuracy did not improve from 0.79259\n",
            "26/26 [==============================] - 1s 39ms/step - loss: 0.1096 - categorical_accuracy: 0.9630 - precision: 0.9667 - recall: 0.9583 - auc: 0.9982 - val_loss: 0.8729 - val_categorical_accuracy: 0.7735 - val_precision: 0.7822 - val_recall: 0.7691 - val_auc: 0.9280\n",
            "Epoch 18/30\n",
            "26/26 [==============================] - ETA: 0s - loss: 0.0915 - categorical_accuracy: 0.9716 - precision: 0.9748 - recall: 0.9670 - auc: 0.9981\n",
            "Epoch 18: val_categorical_accuracy did not improve from 0.79259\n",
            "26/26 [==============================] - 1s 39ms/step - loss: 0.0915 - categorical_accuracy: 0.9716 - precision: 0.9748 - recall: 0.9670 - auc: 0.9981 - val_loss: 0.9437 - val_categorical_accuracy: 0.7679 - val_precision: 0.7772 - val_recall: 0.7642 - val_auc: 0.9240\n",
            "Epoch 19/30\n",
            "26/26 [==============================] - ETA: 0s - loss: 0.0802 - categorical_accuracy: 0.9728 - precision: 0.9770 - recall: 0.9704 - auc: 0.9989\n",
            "Epoch 19: val_categorical_accuracy did not improve from 0.79259\n",
            "26/26 [==============================] - 1s 41ms/step - loss: 0.0802 - categorical_accuracy: 0.9728 - precision: 0.9770 - recall: 0.9704 - auc: 0.9989 - val_loss: 1.0998 - val_categorical_accuracy: 0.7395 - val_precision: 0.7503 - val_recall: 0.7346 - val_auc: 0.9113\n",
            "Epoch 20/30\n",
            "26/26 [==============================] - ETA: 0s - loss: 0.0659 - categorical_accuracy: 0.9781 - precision: 0.9808 - recall: 0.9762 - auc: 0.9993\n",
            "Epoch 20: val_categorical_accuracy did not improve from 0.79259\n",
            "26/26 [==============================] - 1s 38ms/step - loss: 0.0659 - categorical_accuracy: 0.9781 - precision: 0.9808 - recall: 0.9762 - auc: 0.9993 - val_loss: 1.0553 - val_categorical_accuracy: 0.7772 - val_precision: 0.7837 - val_recall: 0.7716 - val_auc: 0.9210\n",
            "Epoch 21/30\n",
            "26/26 [==============================] - ETA: 0s - loss: 0.0431 - categorical_accuracy: 0.9873 - precision: 0.9886 - recall: 0.9861 - auc: 0.9997\n",
            "Epoch 21: val_categorical_accuracy did not improve from 0.79259\n",
            "26/26 [==============================] - 1s 44ms/step - loss: 0.0431 - categorical_accuracy: 0.9873 - precision: 0.9886 - recall: 0.9861 - auc: 0.9997 - val_loss: 1.1554 - val_categorical_accuracy: 0.7580 - val_precision: 0.7642 - val_recall: 0.7500 - val_auc: 0.9112\n",
            "Epoch 22/30\n",
            "26/26 [==============================] - ETA: 0s - loss: 0.0424 - categorical_accuracy: 0.9880 - precision: 0.9886 - recall: 0.9870 - auc: 0.9997\n",
            "Epoch 22: val_categorical_accuracy did not improve from 0.79259\n",
            "26/26 [==============================] - 1s 45ms/step - loss: 0.0424 - categorical_accuracy: 0.9880 - precision: 0.9886 - recall: 0.9870 - auc: 0.9997 - val_loss: 1.3213 - val_categorical_accuracy: 0.7568 - val_precision: 0.7649 - val_recall: 0.7512 - val_auc: 0.9079\n",
            "Epoch 23/30\n",
            "26/26 [==============================] - ETA: 0s - loss: 0.0465 - categorical_accuracy: 0.9864 - precision: 0.9882 - recall: 0.9852 - auc: 0.9996\n",
            "Epoch 23: val_categorical_accuracy did not improve from 0.79259\n",
            "26/26 [==============================] - 1s 47ms/step - loss: 0.0465 - categorical_accuracy: 0.9864 - precision: 0.9882 - recall: 0.9852 - auc: 0.9996 - val_loss: 1.2561 - val_categorical_accuracy: 0.7580 - val_precision: 0.7638 - val_recall: 0.7543 - val_auc: 0.9107\n",
            "Epoch 24/30\n",
            "25/26 [===========================>..] - ETA: 0s - loss: 0.0368 - categorical_accuracy: 0.9891 - precision: 0.9891 - recall: 0.9888 - auc: 0.9998\n",
            "Epoch 24: val_categorical_accuracy did not improve from 0.79259\n",
            "26/26 [==============================] - 1s 45ms/step - loss: 0.0368 - categorical_accuracy: 0.9892 - precision: 0.9892 - recall: 0.9889 - auc: 0.9998 - val_loss: 1.2305 - val_categorical_accuracy: 0.7531 - val_precision: 0.7608 - val_recall: 0.7481 - val_auc: 0.9097\n",
            "Epoch 25/30\n",
            "25/26 [===========================>..] - ETA: 0s - loss: 0.0188 - categorical_accuracy: 0.9958 - precision: 0.9961 - recall: 0.9955 - auc: 1.0000\n",
            "Epoch 25: val_categorical_accuracy did not improve from 0.79259\n",
            "26/26 [==============================] - 1s 39ms/step - loss: 0.0197 - categorical_accuracy: 0.9954 - precision: 0.9957 - recall: 0.9951 - auc: 1.0000 - val_loss: 1.3966 - val_categorical_accuracy: 0.7630 - val_precision: 0.7664 - val_recall: 0.7593 - val_auc: 0.9041\n",
            "Epoch 26/30\n",
            "26/26 [==============================] - ETA: 0s - loss: 0.0125 - categorical_accuracy: 0.9981 - precision: 0.9985 - recall: 0.9981 - auc: 1.0000\n",
            "Epoch 26: val_categorical_accuracy did not improve from 0.79259\n",
            "26/26 [==============================] - 1s 39ms/step - loss: 0.0125 - categorical_accuracy: 0.9981 - precision: 0.9985 - recall: 0.9981 - auc: 1.0000 - val_loss: 1.3718 - val_categorical_accuracy: 0.7654 - val_precision: 0.7699 - val_recall: 0.7642 - val_auc: 0.9072\n",
            "Epoch 27/30\n",
            "26/26 [==============================] - ETA: 0s - loss: 0.0056 - categorical_accuracy: 0.9997 - precision: 0.9997 - recall: 0.9997 - auc: 1.0000\n",
            "Epoch 27: val_categorical_accuracy did not improve from 0.79259\n",
            "26/26 [==============================] - 1s 40ms/step - loss: 0.0056 - categorical_accuracy: 0.9997 - precision: 0.9997 - recall: 0.9997 - auc: 1.0000 - val_loss: 1.4217 - val_categorical_accuracy: 0.7673 - val_precision: 0.7703 - val_recall: 0.7660 - val_auc: 0.9092\n",
            "Epoch 28/30\n",
            "26/26 [==============================] - ETA: 0s - loss: 0.0025 - categorical_accuracy: 1.0000 - precision: 1.0000 - recall: 1.0000 - auc: 1.0000\n",
            "Epoch 28: val_categorical_accuracy did not improve from 0.79259\n",
            "26/26 [==============================] - 1s 39ms/step - loss: 0.0025 - categorical_accuracy: 1.0000 - precision: 1.0000 - recall: 1.0000 - auc: 1.0000 - val_loss: 1.4853 - val_categorical_accuracy: 0.7759 - val_precision: 0.7783 - val_recall: 0.7716 - val_auc: 0.9051\n",
            "Epoch 29/30\n",
            "26/26 [==============================] - ETA: 0s - loss: 0.0013 - categorical_accuracy: 1.0000 - precision: 1.0000 - recall: 1.0000 - auc: 1.0000\n",
            "Epoch 29: val_categorical_accuracy did not improve from 0.79259\n",
            "26/26 [==============================] - 1s 40ms/step - loss: 0.0013 - categorical_accuracy: 1.0000 - precision: 1.0000 - recall: 1.0000 - auc: 1.0000 - val_loss: 1.5242 - val_categorical_accuracy: 0.7778 - val_precision: 0.7795 - val_recall: 0.7747 - val_auc: 0.9079\n",
            "Epoch 30/30\n",
            "26/26 [==============================] - ETA: 0s - loss: 9.6324e-04 - categorical_accuracy: 1.0000 - precision: 1.0000 - recall: 1.0000 - auc: 1.0000\n",
            "Epoch 30: val_categorical_accuracy did not improve from 0.79259\n",
            "26/26 [==============================] - 1s 38ms/step - loss: 9.6324e-04 - categorical_accuracy: 1.0000 - precision: 1.0000 - recall: 1.0000 - auc: 1.0000 - val_loss: 1.5483 - val_categorical_accuracy: 0.7772 - val_precision: 0.7790 - val_recall: 0.7722 - val_auc: 0.9070\n"
          ]
        }
      ]
    },
    {
      "cell_type": "markdown",
      "source": [
        "## Plot results"
      ],
      "metadata": {
        "id": "ob_QDshaYEg4"
      }
    },
    {
      "cell_type": "code",
      "source": [
        "def plot(train, validation, ylabel, title):\n",
        "  plt.plot(train, color='red', label='train') \n",
        "  plt.plot(validation, color='blue', label='validation') \n",
        "  plt.title(title) \n",
        "  plt.ylabel(ylabel)\n",
        "  plt.xlabel('Epoch')\n",
        "  plt.legend() \n",
        "  plt.grid(linestyle='-', linewidth=0.5)"
      ],
      "metadata": {
        "id": "o0jwjfdCWFBn"
      },
      "execution_count": 41,
      "outputs": []
    },
    {
      "cell_type": "code",
      "source": [
        "plot(baseline_history.history['categorical_accuracy'], baseline_history.history['val_categorical_accuracy'], 'Accuracy', 'Model Accuracy')"
      ],
      "metadata": {
        "colab": {
          "base_uri": "https://localhost:8080/",
          "height": 295
        },
        "id": "lf9pjTVLvvnq",
        "outputId": "ace740cb-10e4-4c20-902a-c41fc067bb36"
      },
      "execution_count": 41,
      "outputs": [
        {
          "output_type": "display_data",
          "data": {
            "text/plain": [
              "<Figure size 432x288 with 1 Axes>"
            ],
            "image/png": "[encoded data removed]"
          },
          "metadata": {
            "needs_background": "light"
          }
        }
      ]
    },
    {
      "cell_type": "code",
      "source": [
        "plot(baseline_history.history['loss'], baseline_history.history['val_loss'], 'Loss', 'Model Loss')"
      ],
      "metadata": {
        "colab": {
          "base_uri": "https://localhost:8080/",
          "height": 295
        },
        "id": "DZ92wFIE5dKL",
        "outputId": "b2e31f82-568f-4f08-8b79-c900bda905b0"
      },
      "execution_count": 42,
      "outputs": [
        {
          "output_type": "display_data",
          "data": {
            "text/plain": [
              "<Figure size 432x288 with 1 Axes>"
            ],
            "image/png": "[encoded data removed]"
          },
          "metadata": {
            "needs_background": "light"
          }
        }
      ]
    },
    {
      "cell_type": "markdown",
      "source": [
        "## Evaluate model"
      ],
      "metadata": {
        "id": "ABEzVAWI5eS3"
      }
    },
    {
      "cell_type": "code",
      "source": [
        "def evaluate_and_predict(model): \n",
        "  # evaluate on test dataset\n",
        "  eval_results = model.evaluate(test_ds, batch_size=30)\n",
        "\n",
        "  # print evaluation results\n",
        "  print('Test loss:', eval_results[0])\n",
        "  print('Test categorical_accuracy:', eval_results[1])\n",
        "  print('Test precision:', eval_results[2])\n",
        "  print('Test recall:', eval_results[3])\n",
        "  print('Test auc:', eval_results[4])\n",
        "\n",
        "  # predict\n",
        "  return model.predict(test_ds)"
      ],
      "metadata": {
        "id": "KM66wgM-_kFA"
      },
      "execution_count": 42,
      "outputs": []
    },
    {
      "cell_type": "code",
      "source": [
        "pred = evaluate_and_predict(baseline_model)"
      ],
      "metadata": {
        "colab": {
          "base_uri": "https://localhost:8080/"
        },
        "id": "MXlcTB3WaoP-",
        "outputId": "423f2204-5fd2-4283-c3d8-b295c8eabc91"
      },
      "execution_count": 44,
      "outputs": [
        {
          "output_type": "stream",
          "name": "stdout",
          "text": [
            "5/5 [==============================] - 0s 42ms/step - loss: 1.4135 - categorical_accuracy: 0.7722 - precision: 0.7747 - recall: 0.7704 - auc: 0.9110\n",
            "Test loss: 1.413521647453308\n",
            "Test categorical_accuracy: 0.7722222208976746\n",
            "Test precision: 0.774674117565155\n",
            "Test recall: 0.770370364189148\n",
            "Test auc: 0.9110053181648254\n",
            "5/5 [==============================] - 0s 12ms/step\n"
          ]
        }
      ]
    },
    {
      "cell_type": "code",
      "source": [
        "pred"
      ],
      "metadata": {
        "colab": {
          "base_uri": "https://localhost:8080/"
        },
        "id": "cHZnvE2bdwKc",
        "outputId": "959dfba5-67e8-42a9-c715-6392fb2b8d16"
      },
      "execution_count": null,
      "outputs": [
        {
          "output_type": "execute_result",
          "data": {
            "text/plain": [
              "array([[8.4868147e-11, 1.0000000e+00, 1.2046555e-11, 4.0186773e-08],\n",
              "       [6.4260966e-01, 4.2547010e-10, 3.5739034e-01, 4.0912447e-14],\n",
              "       [1.3106530e-15, 9.1043894e-06, 9.9999094e-01, 2.0680625e-12],\n",
              "       ...,\n",
              "       [9.9999821e-01, 1.0713179e-19, 1.8260299e-06, 3.2767096e-12],\n",
              "       [3.3501622e-12, 1.0000000e+00, 5.8214616e-14, 1.7375434e-13],\n",
              "       [1.0000000e+00, 1.2252081e-13, 3.4425957e-10, 6.9219792e-19]],\n",
              "      dtype=float32)"
            ]
          },
          "metadata": {},
          "execution_count": 43
        }
      ]
    },
    {
      "cell_type": "code",
      "source": [
        "def draw_confusion_matrix(true, pred):\n",
        "  cm = confusion_matrix(true.argmax(axis=1), pred.argmax(axis=1))\n",
        "  sns.heatmap(cm, annot=True, annot_kws={\"size\": 12}, fmt='g', cbar=False, cmap=\"viridis\")\n",
        "  plt.show()"
      ],
      "metadata": {
        "id": "xfqXMoX8b-qE"
      },
      "execution_count": 43,
      "outputs": []
    },
    {
      "cell_type": "code",
      "source": [
        "draw_confusion_matrix(y_test, pred)"
      ],
      "metadata": {
        "colab": {
          "base_uri": "https://localhost:8080/",
          "height": 265
        },
        "id": "0mboVB4q6vYp",
        "outputId": "6c642cf9-0c5f-4ae9-bc5a-1ca4353b8d83"
      },
      "execution_count": null,
      "outputs": [
        {
          "output_type": "display_data",
          "data": {
            "text/plain": [
              "<Figure size 432x288 with 1 Axes>"
            ],
            "image/png": "[encoded data removed]"
          },
          "metadata": {
            "needs_background": "light"
          }
        }
      ]
    },
    {
      "cell_type": "code",
      "source": [
        "print(classification_report(y_test.argmax(axis=1), pred.argmax(axis=1)))"
      ],
      "metadata": {
        "colab": {
          "base_uri": "https://localhost:8080/"
        },
        "id": "Xw_nLMYxcQok",
        "outputId": "9becba44-36ff-4101-9753-674e8cb9d5a0"
      },
      "execution_count": null,
      "outputs": [
        {
          "output_type": "stream",
          "name": "stdout",
          "text": [
            "              precision    recall  f1-score   support\n",
            "\n",
            "           0       0.79      0.87      0.83       150\n",
            "           1       0.82      0.84      0.83       122\n",
            "           2       0.86      0.79      0.82       136\n",
            "           3       0.84      0.80      0.82       127\n",
            "\n",
            "    accuracy                           0.83       535\n",
            "   macro avg       0.83      0.83      0.83       535\n",
            "weighted avg       0.83      0.83      0.83       535\n",
            "\n"
          ]
        }
      ]
    },
    {
      "cell_type": "markdown",
      "source": [
        "## Improve the baseline networks performance\n",
        "1. Batch Normalisation \n",
        "2. Dropout \n",
        "3. Data Augmentation\n",
        "4. Regularisation"
      ],
      "metadata": {
        "id": "lVlp3SN17Guq"
      }
    },
    {
      "cell_type": "markdown",
      "source": [
        "### Batch Normalisation"
      ],
      "metadata": {
        "id": "SGTQShLWzPE6"
      }
    },
    {
      "cell_type": "code",
      "source": [
        "batchnorm_model = build_model(batchNorm=True)\n",
        "batchnorm_model.summary()"
      ],
      "metadata": {
        "colab": {
          "base_uri": "https://localhost:8080/"
        },
        "id": "T1u-7J57yw-7",
        "outputId": "ceeea296-a055-4724-b39b-61ad52bef662"
      },
      "execution_count": null,
      "outputs": [
        {
          "output_type": "stream",
          "name": "stdout",
          "text": [
            "Model: \"sequential_1\"\n",
            "_________________________________________________________________\n",
            " Layer (type)                Output Shape              Param #   \n",
            "=================================================================\n",
            " conv2d_4 (Conv2D)           (None, 62, 62, 32)        896       \n",
            "                                                                 \n",
            " conv2d_5 (Conv2D)           (None, 60, 60, 32)        9248      \n",
            "                                                                 \n",
            " max_pooling2d_2 (MaxPooling  (None, 30, 30, 32)       0         \n",
            " 2D)                                                             \n",
            "                                                                 \n",
            " batch_normalization (BatchN  (None, 30, 30, 32)       128       \n",
            " ormalization)                                                   \n",
            "                                                                 \n",
            " conv2d_6 (Conv2D)           (None, 28, 28, 64)        18496     \n",
            "                                                                 \n",
            " conv2d_7 (Conv2D)           (None, 26, 26, 64)        36928     \n",
            "                                                                 \n",
            " max_pooling2d_3 (MaxPooling  (None, 13, 13, 64)       0         \n",
            " 2D)                                                             \n",
            "                                                                 \n",
            " batch_normalization_1 (Batc  (None, 13, 13, 64)       256       \n",
            " hNormalization)                                                 \n",
            "                                                                 \n",
            " flatten_1 (Flatten)         (None, 10816)             0         \n",
            "                                                                 \n",
            " dense_2 (Dense)             (None, 512)               5538304   \n",
            "                                                                 \n",
            " dense_3 (Dense)             (None, 4)                 2052      \n",
            "                                                                 \n",
            "=================================================================\n",
            "Total params: 5,606,308\n",
            "Trainable params: 5,606,116\n",
            "Non-trainable params: 192\n",
            "_________________________________________________________________\n"
          ]
        }
      ]
    },
    {
      "cell_type": "code",
      "source": [
        "batchnorm_history = batchnorm_model.fit(\n",
        "    train_ds,\n",
        "    epochs=30,\n",
        "    verbose=1,\n",
        "    validation_data=val_ds\n",
        ")"
      ],
      "metadata": {
        "colab": {
          "base_uri": "https://localhost:8080/"
        },
        "id": "IImVU9wOy6Ld",
        "outputId": "e4172d68-9866-41e1-8623-6c3188022f5d"
      },
      "execution_count": null,
      "outputs": [
        {
          "output_type": "stream",
          "name": "stdout",
          "text": [
            "Epoch 1/30\n",
            "30/30 [==============================] - 5s 67ms/step - loss: 5.6077 - categorical_accuracy: 0.5952 - precision_1: 0.5979 - recall_1: 0.5915 - auc_1: 0.7780 - val_loss: 1.6354 - val_categorical_accuracy: 0.3263 - val_precision_1: 0.4102 - val_recall_1: 0.2590 - val_auc_1: 0.5885\n",
            "Epoch 2/30\n",
            "30/30 [==============================] - 1s 45ms/step - loss: 1.8470 - categorical_accuracy: 0.7437 - precision_1: 0.7457 - recall_1: 0.7415 - auc_1: 0.8869 - val_loss: 1.5725 - val_categorical_accuracy: 0.3152 - val_precision_1: 0.3399 - val_recall_1: 0.2240 - val_auc_1: 0.6096\n",
            "Epoch 3/30\n",
            "30/30 [==============================] - 1s 39ms/step - loss: 0.7591 - categorical_accuracy: 0.8333 - precision_1: 0.8372 - recall_1: 0.8299 - auc_1: 0.9490 - val_loss: 1.8745 - val_categorical_accuracy: 0.3069 - val_precision_1: 0.3463 - val_recall_1: 0.2710 - val_auc_1: 0.5782\n",
            "Epoch 4/30\n",
            "30/30 [==============================] - 1s 39ms/step - loss: 0.2970 - categorical_accuracy: 0.9103 - precision_1: 0.9126 - recall_1: 0.9090 - auc_1: 0.9844 - val_loss: 1.8980 - val_categorical_accuracy: 0.2802 - val_precision_1: 0.2902 - val_recall_1: 0.2230 - val_auc_1: 0.5905\n",
            "Epoch 5/30\n",
            "30/30 [==============================] - 1s 39ms/step - loss: 0.0997 - categorical_accuracy: 0.9632 - precision_1: 0.9647 - recall_1: 0.9606 - auc_1: 0.9975 - val_loss: 2.6973 - val_categorical_accuracy: 0.2599 - val_precision_1: 0.2636 - val_recall_1: 0.2590 - val_auc_1: 0.5993\n",
            "Epoch 6/30\n",
            "30/30 [==============================] - 1s 39ms/step - loss: 0.0397 - categorical_accuracy: 0.9862 - precision_1: 0.9873 - recall_1: 0.9847 - auc_1: 0.9996 - val_loss: 1.9837 - val_categorical_accuracy: 0.4028 - val_precision_1: 0.4456 - val_recall_1: 0.3512 - val_auc_1: 0.6394\n",
            "Epoch 7/30\n",
            "30/30 [==============================] - 1s 46ms/step - loss: 0.0215 - categorical_accuracy: 0.9937 - precision_1: 0.9939 - recall_1: 0.9937 - auc_1: 0.9997 - val_loss: 2.2571 - val_categorical_accuracy: 0.3705 - val_precision_1: 0.3859 - val_recall_1: 0.3585 - val_auc_1: 0.6345\n",
            "Epoch 8/30\n",
            "30/30 [==============================] - 2s 49ms/step - loss: 0.0084 - categorical_accuracy: 0.9984 - precision_1: 0.9984 - recall_1: 0.9981 - auc_1: 1.0000 - val_loss: 2.0501 - val_categorical_accuracy: 0.4175 - val_precision_1: 0.4367 - val_recall_1: 0.3880 - val_auc_1: 0.6759\n",
            "Epoch 9/30\n",
            "30/30 [==============================] - 1s 46ms/step - loss: 0.0033 - categorical_accuracy: 1.0000 - precision_1: 1.0000 - recall_1: 1.0000 - auc_1: 1.0000 - val_loss: 2.0715 - val_categorical_accuracy: 0.4728 - val_precision_1: 0.4934 - val_recall_1: 0.4452 - val_auc_1: 0.7019\n",
            "Epoch 10/30\n",
            "30/30 [==============================] - 1s 48ms/step - loss: 0.0032 - categorical_accuracy: 0.9989 - precision_1: 0.9989 - recall_1: 0.9989 - auc_1: 1.0000 - val_loss: 2.0067 - val_categorical_accuracy: 0.5051 - val_precision_1: 0.5230 - val_recall_1: 0.4829 - val_auc_1: 0.7309\n",
            "Epoch 11/30\n",
            "30/30 [==============================] - 1s 44ms/step - loss: 0.0020 - categorical_accuracy: 1.0000 - precision_1: 1.0000 - recall_1: 1.0000 - auc_1: 1.0000 - val_loss: 1.9554 - val_categorical_accuracy: 0.5373 - val_precision_1: 0.5615 - val_recall_1: 0.5263 - val_auc_1: 0.7578\n",
            "Epoch 12/30\n",
            "30/30 [==============================] - 1s 39ms/step - loss: 0.0014 - categorical_accuracy: 1.0000 - precision_1: 1.0000 - recall_1: 1.0000 - auc_1: 1.0000 - val_loss: 1.8329 - val_categorical_accuracy: 0.5825 - val_precision_1: 0.5909 - val_recall_1: 0.5631 - val_auc_1: 0.7892\n",
            "Epoch 13/30\n",
            "30/30 [==============================] - 1s 38ms/step - loss: 0.0010 - categorical_accuracy: 1.0000 - precision_1: 1.0000 - recall_1: 1.0000 - auc_1: 1.0000 - val_loss: 1.6997 - val_categorical_accuracy: 0.6120 - val_precision_1: 0.6252 - val_recall_1: 0.5982 - val_auc_1: 0.8159\n",
            "Epoch 14/30\n",
            "30/30 [==============================] - 1s 38ms/step - loss: 9.6601e-04 - categorical_accuracy: 1.0000 - precision_1: 1.0000 - recall_1: 1.0000 - auc_1: 1.0000 - val_loss: 1.5829 - val_categorical_accuracy: 0.6452 - val_precision_1: 0.6511 - val_recall_1: 0.6295 - val_auc_1: 0.8405\n",
            "Epoch 15/30\n",
            "30/30 [==============================] - 1s 39ms/step - loss: 8.0821e-04 - categorical_accuracy: 1.0000 - precision_1: 1.0000 - recall_1: 1.0000 - auc_1: 1.0000 - val_loss: 1.4896 - val_categorical_accuracy: 0.6700 - val_precision_1: 0.6758 - val_recall_1: 0.6627 - val_auc_1: 0.8600\n",
            "Epoch 16/30\n",
            "30/30 [==============================] - 1s 38ms/step - loss: 6.5108e-04 - categorical_accuracy: 1.0000 - precision_1: 1.0000 - recall_1: 1.0000 - auc_1: 1.0000 - val_loss: 1.4393 - val_categorical_accuracy: 0.6912 - val_precision_1: 0.6959 - val_recall_1: 0.6793 - val_auc_1: 0.8737\n",
            "Epoch 17/30\n",
            "30/30 [==============================] - 1s 37ms/step - loss: 6.2225e-04 - categorical_accuracy: 1.0000 - precision_1: 1.0000 - recall_1: 1.0000 - auc_1: 1.0000 - val_loss: 1.3741 - val_categorical_accuracy: 0.7078 - val_precision_1: 0.7146 - val_recall_1: 0.7014 - val_auc_1: 0.8862\n",
            "Epoch 18/30\n",
            "30/30 [==============================] - 1s 38ms/step - loss: 6.3744e-04 - categorical_accuracy: 1.0000 - precision_1: 1.0000 - recall_1: 1.0000 - auc_1: 1.0000 - val_loss: 1.3460 - val_categorical_accuracy: 0.7253 - val_precision_1: 0.7325 - val_recall_1: 0.7217 - val_auc_1: 0.8919\n",
            "Epoch 19/30\n",
            "30/30 [==============================] - 1s 39ms/step - loss: 6.2680e-04 - categorical_accuracy: 1.0000 - precision_1: 1.0000 - recall_1: 1.0000 - auc_1: 1.0000 - val_loss: 1.3333 - val_categorical_accuracy: 0.7355 - val_precision_1: 0.7395 - val_recall_1: 0.7272 - val_auc_1: 0.8987\n",
            "Epoch 20/30\n",
            "30/30 [==============================] - 1s 49ms/step - loss: 5.4290e-04 - categorical_accuracy: 1.0000 - precision_1: 1.0000 - recall_1: 1.0000 - auc_1: 1.0000 - val_loss: 1.3420 - val_categorical_accuracy: 0.7447 - val_precision_1: 0.7498 - val_recall_1: 0.7373 - val_auc_1: 0.9007\n",
            "Epoch 21/30\n",
            "30/30 [==============================] - 2s 50ms/step - loss: 4.8942e-04 - categorical_accuracy: 1.0000 - precision_1: 1.0000 - recall_1: 1.0000 - auc_1: 1.0000 - val_loss: 1.3593 - val_categorical_accuracy: 0.7493 - val_precision_1: 0.7528 - val_recall_1: 0.7438 - val_auc_1: 0.9021\n",
            "Epoch 22/30\n",
            "30/30 [==============================] - 1s 43ms/step - loss: 4.3540e-04 - categorical_accuracy: 1.0000 - precision_1: 1.0000 - recall_1: 1.0000 - auc_1: 1.0000 - val_loss: 1.3808 - val_categorical_accuracy: 0.7558 - val_precision_1: 0.7567 - val_recall_1: 0.7539 - val_auc_1: 0.9034\n",
            "Epoch 23/30\n",
            "30/30 [==============================] - 1s 38ms/step - loss: 4.4320e-04 - categorical_accuracy: 1.0000 - precision_1: 1.0000 - recall_1: 1.0000 - auc_1: 1.0000 - val_loss: 1.4259 - val_categorical_accuracy: 0.7530 - val_precision_1: 0.7558 - val_recall_1: 0.7502 - val_auc_1: 0.9037\n",
            "Epoch 24/30\n",
            "30/30 [==============================] - 1s 38ms/step - loss: 4.0332e-04 - categorical_accuracy: 1.0000 - precision_1: 1.0000 - recall_1: 1.0000 - auc_1: 1.0000 - val_loss: 1.4621 - val_categorical_accuracy: 0.7530 - val_precision_1: 0.7551 - val_recall_1: 0.7530 - val_auc_1: 0.9032\n",
            "Epoch 25/30\n",
            "30/30 [==============================] - 1s 38ms/step - loss: 3.2397e-04 - categorical_accuracy: 1.0000 - precision_1: 1.0000 - recall_1: 1.0000 - auc_1: 1.0000 - val_loss: 1.4928 - val_categorical_accuracy: 0.7521 - val_precision_1: 0.7542 - val_recall_1: 0.7521 - val_auc_1: 0.9033\n",
            "Epoch 26/30\n",
            "30/30 [==============================] - 1s 38ms/step - loss: 3.2784e-04 - categorical_accuracy: 1.0000 - precision_1: 1.0000 - recall_1: 1.0000 - auc_1: 1.0000 - val_loss: 1.5212 - val_categorical_accuracy: 0.7558 - val_precision_1: 0.7583 - val_recall_1: 0.7548 - val_auc_1: 0.9034\n",
            "Epoch 27/30\n",
            "30/30 [==============================] - 1s 39ms/step - loss: 3.0857e-04 - categorical_accuracy: 1.0000 - precision_1: 1.0000 - recall_1: 1.0000 - auc_1: 1.0000 - val_loss: 1.5425 - val_categorical_accuracy: 0.7539 - val_precision_1: 0.7551 - val_recall_1: 0.7530 - val_auc_1: 0.9026\n",
            "Epoch 28/30\n",
            "30/30 [==============================] - 1s 38ms/step - loss: 2.7678e-04 - categorical_accuracy: 1.0000 - precision_1: 1.0000 - recall_1: 1.0000 - auc_1: 1.0000 - val_loss: 1.5652 - val_categorical_accuracy: 0.7567 - val_precision_1: 0.7570 - val_recall_1: 0.7521 - val_auc_1: 0.9017\n",
            "Epoch 29/30\n",
            "30/30 [==============================] - 1s 39ms/step - loss: 2.8628e-04 - categorical_accuracy: 1.0000 - precision_1: 1.0000 - recall_1: 1.0000 - auc_1: 1.0000 - val_loss: 1.5857 - val_categorical_accuracy: 0.7548 - val_precision_1: 0.7577 - val_recall_1: 0.7521 - val_auc_1: 0.9013\n",
            "Epoch 30/30\n",
            "30/30 [==============================] - 1s 38ms/step - loss: 2.6116e-04 - categorical_accuracy: 1.0000 - precision_1: 1.0000 - recall_1: 1.0000 - auc_1: 1.0000 - val_loss: 1.5997 - val_categorical_accuracy: 0.7530 - val_precision_1: 0.7535 - val_recall_1: 0.7493 - val_auc_1: 0.9006\n"
          ]
        }
      ]
    },
    {
      "cell_type": "code",
      "source": [
        "plot(batchnorm_history.history['categorical_accuracy'], batchnorm_history.history['val_categorical_accuracy'], 'Accuracy', 'Model Accuracy')"
      ],
      "metadata": {
        "colab": {
          "base_uri": "https://localhost:8080/",
          "height": 295
        },
        "id": "DIc9bm0izCNr",
        "outputId": "1dcfb808-d5b9-410d-b8d8-bdfaabf1a1bc"
      },
      "execution_count": null,
      "outputs": [
        {
          "output_type": "display_data",
          "data": {
            "text/plain": [
              "<Figure size 432x288 with 1 Axes>"
            ],
            "image/png": "[encoded data removed]"
          },
          "metadata": {
            "needs_background": "light"
          }
        }
      ]
    },
    {
      "cell_type": "code",
      "source": [
        "plot(batchnorm_history.history['loss'], batchnorm_history.history['val_loss'], 'Loss', 'Model Loss')"
      ],
      "metadata": {
        "colab": {
          "base_uri": "https://localhost:8080/",
          "height": 295
        },
        "id": "S_G91_ApzKfI",
        "outputId": "9c75e2ed-8dac-4983-9b65-e85892e95348"
      },
      "execution_count": null,
      "outputs": [
        {
          "output_type": "display_data",
          "data": {
            "text/plain": [
              "<Figure size 432x288 with 1 Axes>"
            ],
            "image/png": "[encoded data removed]"
          },
          "metadata": {
            "needs_background": "light"
          }
        }
      ]
    },
    {
      "cell_type": "code",
      "source": [
        "batchnorm_pred = evaluate_and_predict(batchnorm_model)"
      ],
      "metadata": {
        "colab": {
          "base_uri": "https://localhost:8080/"
        },
        "id": "xmGNAVT5sz36",
        "outputId": "03cf3ce3-0ea7-4d40-dc1d-ae0d41c3b5cc"
      },
      "execution_count": null,
      "outputs": [
        {
          "output_type": "stream",
          "name": "stdout",
          "text": [
            "5/5 [==============================] - 0s 21ms/step - loss: 1.2595 - categorical_accuracy: 0.7944 - precision_1: 0.8011 - recall_1: 0.7907 - auc_1: 0.9202\n",
            "Test loss: 1.2595421075820923\n",
            "Test categorical_accuracy: 0.7943925261497498\n",
            "Test precision: 0.8011363744735718\n",
            "Test recall: 0.790654182434082\n",
            "Test auc: 0.9202463626861572\n",
            "5/5 [==============================] - 0s 17ms/step\n"
          ]
        }
      ]
    },
    {
      "cell_type": "code",
      "source": [
        "draw_confusion_matrix(y_test, batchnorm_pred)"
      ],
      "metadata": {
        "colab": {
          "base_uri": "https://localhost:8080/",
          "height": 265
        },
        "id": "iY1wDe7is5nS",
        "outputId": "335f795a-8196-456e-ae3e-18d84e1fcf2b"
      },
      "execution_count": null,
      "outputs": [
        {
          "output_type": "display_data",
          "data": {
            "text/plain": [
              "<Figure size 432x288 with 1 Axes>"
            ],
            "image/png": "[encoded data removed]"
          },
          "metadata": {
            "needs_background": "light"
          }
        }
      ]
    },
    {
      "cell_type": "code",
      "source": [
        "print(classification_report(y_test.argmax(axis=1), batchnorm_pred.argmax(axis=1)))"
      ],
      "metadata": {
        "colab": {
          "base_uri": "https://localhost:8080/"
        },
        "id": "EvlpTqfgs8bq",
        "outputId": "554c79fb-bf2a-4dad-d53c-0eb8f78e2a45"
      },
      "execution_count": null,
      "outputs": [
        {
          "output_type": "stream",
          "name": "stdout",
          "text": [
            "              precision    recall  f1-score   support\n",
            "\n",
            "           0       0.78      0.81      0.79       150\n",
            "           1       0.78      0.81      0.80       122\n",
            "           2       0.82      0.75      0.78       136\n",
            "           3       0.80      0.81      0.81       127\n",
            "\n",
            "    accuracy                           0.79       535\n",
            "   macro avg       0.80      0.79      0.79       535\n",
            "weighted avg       0.80      0.79      0.79       535\n",
            "\n"
          ]
        }
      ]
    },
    {
      "cell_type": "markdown",
      "source": [
        "### Dropout"
      ],
      "metadata": {
        "id": "jDe7i48f3zqm"
      }
    },
    {
      "cell_type": "code",
      "source": [
        "dropout_model = build_model(dropOut=True)\n",
        "dropout_model.summary()"
      ],
      "metadata": {
        "colab": {
          "base_uri": "https://localhost:8080/"
        },
        "id": "z6SkEvrs7Lhk",
        "outputId": "b2fd096b-ba02-4183-fb68-69fb75514ac2"
      },
      "execution_count": null,
      "outputs": [
        {
          "output_type": "stream",
          "name": "stdout",
          "text": [
            "Model: \"sequential_2\"\n",
            "_________________________________________________________________\n",
            " Layer (type)                Output Shape              Param #   \n",
            "=================================================================\n",
            " conv2d_8 (Conv2D)           (None, 62, 62, 32)        896       \n",
            "                                                                 \n",
            " conv2d_9 (Conv2D)           (None, 60, 60, 32)        9248      \n",
            "                                                                 \n",
            " max_pooling2d_4 (MaxPooling  (None, 30, 30, 32)       0         \n",
            " 2D)                                                             \n",
            "                                                                 \n",
            " conv2d_10 (Conv2D)          (None, 28, 28, 64)        18496     \n",
            "                                                                 \n",
            " conv2d_11 (Conv2D)          (None, 26, 26, 64)        36928     \n",
            "                                                                 \n",
            " max_pooling2d_5 (MaxPooling  (None, 13, 13, 64)       0         \n",
            " 2D)                                                             \n",
            "                                                                 \n",
            " flatten_2 (Flatten)         (None, 10816)             0         \n",
            "                                                                 \n",
            " dense_4 (Dense)             (None, 512)               5538304   \n",
            "                                                                 \n",
            " dropout (Dropout)           (None, 512)               0         \n",
            "                                                                 \n",
            " dense_5 (Dense)             (None, 4)                 2052      \n",
            "                                                                 \n",
            "=================================================================\n",
            "Total params: 5,605,924\n",
            "Trainable params: 5,605,924\n",
            "Non-trainable params: 0\n",
            "_________________________________________________________________\n"
          ]
        }
      ]
    },
    {
      "cell_type": "code",
      "source": [
        "dropout_history = dropout_model.fit(\n",
        "    train_ds,\n",
        "    epochs=30,\n",
        "    verbose=1,\n",
        "    validation_data=val_ds\n",
        ")"
      ],
      "metadata": {
        "colab": {
          "base_uri": "https://localhost:8080/"
        },
        "id": "a7HVKI287gVp",
        "outputId": "fecba385-572a-40e7-9571-9d3fc89c89e1"
      },
      "execution_count": null,
      "outputs": [
        {
          "output_type": "stream",
          "name": "stdout",
          "text": [
            "Epoch 1/30\n",
            "30/30 [==============================] - 4s 50ms/step - loss: 1.3370 - categorical_accuracy: 0.4167 - precision_2: 0.5675 - recall_2: 0.1413 - auc_2: 0.6809 - val_loss: 1.0173 - val_categorical_accuracy: 0.5806 - val_precision_2: 0.7014 - val_recall_2: 0.4157 - val_auc_2: 0.8164\n",
            "Epoch 2/30\n",
            "30/30 [==============================] - 1s 38ms/step - loss: 0.8836 - categorical_accuracy: 0.6323 - precision_2: 0.7126 - recall_2: 0.5077 - auc_2: 0.8648 - val_loss: 0.8443 - val_categorical_accuracy: 0.6590 - val_precision_2: 0.7481 - val_recall_2: 0.5447 - val_auc_2: 0.8772\n",
            "Epoch 3/30\n",
            "30/30 [==============================] - 1s 37ms/step - loss: 0.7380 - categorical_accuracy: 0.7098 - precision_2: 0.7681 - recall_2: 0.6310 - auc_2: 0.9076 - val_loss: 0.9919 - val_categorical_accuracy: 0.5926 - val_precision_2: 0.6427 - val_recall_2: 0.5355 - val_auc_2: 0.8429\n",
            "Epoch 4/30\n",
            "30/30 [==============================] - 1s 38ms/step - loss: 0.7028 - categorical_accuracy: 0.7265 - precision_2: 0.7978 - recall_2: 0.6471 - auc_2: 0.9161 - val_loss: 0.7592 - val_categorical_accuracy: 0.6977 - val_precision_2: 0.7516 - val_recall_2: 0.6470 - val_auc_2: 0.9039\n",
            "Epoch 5/30\n",
            "30/30 [==============================] - 1s 37ms/step - loss: 0.5567 - categorical_accuracy: 0.7889 - precision_2: 0.8295 - recall_2: 0.7376 - auc_2: 0.9468 - val_loss: 0.6282 - val_categorical_accuracy: 0.7733 - val_precision_2: 0.8048 - val_recall_2: 0.7069 - val_auc_2: 0.9334\n",
            "Epoch 6/30\n",
            "30/30 [==============================] - 1s 37ms/step - loss: 0.4827 - categorical_accuracy: 0.8222 - precision_2: 0.8523 - recall_2: 0.7817 - auc_2: 0.9600 - val_loss: 0.6204 - val_categorical_accuracy: 0.7742 - val_precision_2: 0.8131 - val_recall_2: 0.7300 - val_auc_2: 0.9358\n",
            "Epoch 7/30\n",
            "30/30 [==============================] - 1s 43ms/step - loss: 0.4977 - categorical_accuracy: 0.8159 - precision_2: 0.8519 - recall_2: 0.7728 - auc_2: 0.9572 - val_loss: 0.7899 - val_categorical_accuracy: 0.6995 - val_precision_2: 0.7379 - val_recall_2: 0.6590 - val_auc_2: 0.9027\n",
            "Epoch 8/30\n",
            "30/30 [==============================] - 1s 39ms/step - loss: 0.4583 - categorical_accuracy: 0.8270 - precision_2: 0.8637 - recall_2: 0.7966 - auc_2: 0.9636 - val_loss: 0.5849 - val_categorical_accuracy: 0.7926 - val_precision_2: 0.8252 - val_recall_2: 0.7484 - val_auc_2: 0.9435\n",
            "Epoch 9/30\n",
            "30/30 [==============================] - 1s 49ms/step - loss: 0.4142 - categorical_accuracy: 0.8500 - precision_2: 0.8759 - recall_2: 0.8198 - auc_2: 0.9701 - val_loss: 0.6036 - val_categorical_accuracy: 0.7834 - val_precision_2: 0.8103 - val_recall_2: 0.7364 - val_auc_2: 0.9403\n",
            "Epoch 10/30\n",
            "30/30 [==============================] - 1s 38ms/step - loss: 0.3616 - categorical_accuracy: 0.8630 - precision_2: 0.8882 - recall_2: 0.8365 - auc_2: 0.9769 - val_loss: 0.6413 - val_categorical_accuracy: 0.7788 - val_precision_2: 0.8020 - val_recall_2: 0.7539 - val_auc_2: 0.9385\n",
            "Epoch 11/30\n",
            "30/30 [==============================] - 1s 37ms/step - loss: 0.3043 - categorical_accuracy: 0.8873 - precision_2: 0.9072 - recall_2: 0.8661 - auc_2: 0.9836 - val_loss: 0.6875 - val_categorical_accuracy: 0.7604 - val_precision_2: 0.7860 - val_recall_2: 0.7447 - val_auc_2: 0.9306\n",
            "Epoch 12/30\n",
            "30/30 [==============================] - 1s 37ms/step - loss: 0.2616 - categorical_accuracy: 0.9058 - precision_2: 0.9192 - recall_2: 0.8884 - auc_2: 0.9877 - val_loss: 0.6440 - val_categorical_accuracy: 0.7991 - val_precision_2: 0.8189 - val_recall_2: 0.7834 - val_auc_2: 0.9419\n",
            "Epoch 13/30\n",
            "30/30 [==============================] - 1s 37ms/step - loss: 0.2136 - categorical_accuracy: 0.9265 - precision_2: 0.9384 - recall_2: 0.9148 - auc_2: 0.9916 - val_loss: 0.6829 - val_categorical_accuracy: 0.7963 - val_precision_2: 0.8055 - val_recall_2: 0.7825 - val_auc_2: 0.9436\n",
            "Epoch 14/30\n",
            "30/30 [==============================] - 1s 37ms/step - loss: 0.1780 - categorical_accuracy: 0.9370 - precision_2: 0.9466 - recall_2: 0.9283 - auc_2: 0.9944 - val_loss: 0.8161 - val_categorical_accuracy: 0.7871 - val_precision_2: 0.7972 - val_recall_2: 0.7788 - val_auc_2: 0.9300\n",
            "Epoch 15/30\n",
            "30/30 [==============================] - 1s 38ms/step - loss: 0.2137 - categorical_accuracy: 0.9183 - precision_2: 0.9298 - recall_2: 0.9074 - auc_2: 0.9915 - val_loss: 0.7447 - val_categorical_accuracy: 0.7751 - val_precision_2: 0.7907 - val_recall_2: 0.7521 - val_auc_2: 0.9305\n",
            "Epoch 16/30\n",
            "30/30 [==============================] - 1s 37ms/step - loss: 0.1406 - categorical_accuracy: 0.9524 - precision_2: 0.9595 - recall_2: 0.9468 - auc_2: 0.9966 - val_loss: 0.8295 - val_categorical_accuracy: 0.7834 - val_precision_2: 0.7917 - val_recall_2: 0.7742 - val_auc_2: 0.9351\n",
            "Epoch 17/30\n",
            "30/30 [==============================] - 1s 38ms/step - loss: 0.1005 - categorical_accuracy: 0.9672 - precision_2: 0.9722 - recall_2: 0.9627 - auc_2: 0.9982 - val_loss: 0.8431 - val_categorical_accuracy: 0.7954 - val_precision_2: 0.8091 - val_recall_2: 0.7889 - val_auc_2: 0.9323\n",
            "Epoch 18/30\n",
            "30/30 [==============================] - 1s 45ms/step - loss: 0.0767 - categorical_accuracy: 0.9746 - precision_2: 0.9787 - recall_2: 0.9725 - auc_2: 0.9990 - val_loss: 0.9762 - val_categorical_accuracy: 0.7926 - val_precision_2: 0.8004 - val_recall_2: 0.7834 - val_auc_2: 0.9270\n",
            "Epoch 19/30\n",
            "30/30 [==============================] - 1s 40ms/step - loss: 0.0549 - categorical_accuracy: 0.9860 - precision_2: 0.9878 - recall_2: 0.9841 - auc_2: 0.9993 - val_loss: 0.9800 - val_categorical_accuracy: 0.7945 - val_precision_2: 0.8022 - val_recall_2: 0.7926 - val_auc_2: 0.9298\n",
            "Epoch 20/30\n",
            "30/30 [==============================] - 1s 37ms/step - loss: 0.0389 - categorical_accuracy: 0.9897 - precision_2: 0.9902 - recall_2: 0.9884 - auc_2: 0.9998 - val_loss: 1.0808 - val_categorical_accuracy: 0.7917 - val_precision_2: 0.7965 - val_recall_2: 0.7899 - val_auc_2: 0.9269\n",
            "Epoch 21/30\n",
            "30/30 [==============================] - 1s 37ms/step - loss: 0.0275 - categorical_accuracy: 0.9923 - precision_2: 0.9928 - recall_2: 0.9915 - auc_2: 0.9999 - val_loss: 1.1621 - val_categorical_accuracy: 0.7917 - val_precision_2: 0.7966 - val_recall_2: 0.7871 - val_auc_2: 0.9209\n",
            "Epoch 22/30\n",
            "30/30 [==============================] - 1s 37ms/step - loss: 0.0362 - categorical_accuracy: 0.9865 - precision_2: 0.9870 - recall_2: 0.9854 - auc_2: 0.9998 - val_loss: 1.1840 - val_categorical_accuracy: 0.7834 - val_precision_2: 0.7875 - val_recall_2: 0.7788 - val_auc_2: 0.9180\n",
            "Epoch 23/30\n",
            "30/30 [==============================] - 1s 37ms/step - loss: 0.0224 - categorical_accuracy: 0.9947 - precision_2: 0.9947 - recall_2: 0.9939 - auc_2: 0.9999 - val_loss: 1.3038 - val_categorical_accuracy: 0.7834 - val_precision_2: 0.7878 - val_recall_2: 0.7834 - val_auc_2: 0.9180\n",
            "Epoch 24/30\n",
            "30/30 [==============================] - 1s 37ms/step - loss: 0.0167 - categorical_accuracy: 0.9971 - precision_2: 0.9974 - recall_2: 0.9966 - auc_2: 1.0000 - val_loss: 1.3253 - val_categorical_accuracy: 0.7908 - val_precision_2: 0.7952 - val_recall_2: 0.7871 - val_auc_2: 0.9097\n",
            "Epoch 25/30\n",
            "30/30 [==============================] - 1s 38ms/step - loss: 0.0223 - categorical_accuracy: 0.9929 - precision_2: 0.9931 - recall_2: 0.9923 - auc_2: 0.9999 - val_loss: 1.3522 - val_categorical_accuracy: 0.7843 - val_precision_2: 0.7880 - val_recall_2: 0.7843 - val_auc_2: 0.9133\n",
            "Epoch 26/30\n",
            "30/30 [==============================] - 1s 38ms/step - loss: 0.0490 - categorical_accuracy: 0.9820 - precision_2: 0.9830 - recall_2: 0.9812 - auc_2: 0.9995 - val_loss: 1.3646 - val_categorical_accuracy: 0.7576 - val_precision_2: 0.7616 - val_recall_2: 0.7539 - val_auc_2: 0.9043\n",
            "Epoch 27/30\n",
            "30/30 [==============================] - 1s 37ms/step - loss: 0.0390 - categorical_accuracy: 0.9878 - precision_2: 0.9891 - recall_2: 0.9876 - auc_2: 0.9995 - val_loss: 1.2644 - val_categorical_accuracy: 0.7889 - val_precision_2: 0.7920 - val_recall_2: 0.7862 - val_auc_2: 0.9187\n",
            "Epoch 28/30\n",
            "30/30 [==============================] - 1s 41ms/step - loss: 0.0627 - categorical_accuracy: 0.9778 - precision_2: 0.9791 - recall_2: 0.9770 - auc_2: 0.9988 - val_loss: 1.3799 - val_categorical_accuracy: 0.7687 - val_precision_2: 0.7746 - val_recall_2: 0.7631 - val_auc_2: 0.9072\n",
            "Epoch 29/30\n",
            "30/30 [==============================] - 1s 49ms/step - loss: 0.0343 - categorical_accuracy: 0.9892 - precision_2: 0.9899 - recall_2: 0.9892 - auc_2: 0.9994 - val_loss: 1.3789 - val_categorical_accuracy: 0.7917 - val_precision_2: 0.7950 - val_recall_2: 0.7899 - val_auc_2: 0.9131\n",
            "Epoch 30/30\n",
            "30/30 [==============================] - 1s 37ms/step - loss: 0.0276 - categorical_accuracy: 0.9899 - precision_2: 0.9907 - recall_2: 0.9892 - auc_2: 0.9997 - val_loss: 1.2585 - val_categorical_accuracy: 0.7770 - val_precision_2: 0.7818 - val_recall_2: 0.7760 - val_auc_2: 0.9174\n"
          ]
        }
      ]
    },
    {
      "cell_type": "code",
      "source": [
        "plot(dropout_history.history['categorical_accuracy'], dropout_history.history['val_categorical_accuracy'], 'Accuracy', 'Model Accuracy')"
      ],
      "metadata": {
        "id": "4WZO5i6q7y7W",
        "colab": {
          "base_uri": "https://localhost:8080/",
          "height": 295
        },
        "outputId": "0d433ef0-4ce5-4e4f-e3ab-4a7fd59b8bd2"
      },
      "execution_count": null,
      "outputs": [
        {
          "output_type": "display_data",
          "data": {
            "text/plain": [
              "<Figure size 432x288 with 1 Axes>"
            ],
            "image/png": "[encoded data removed]"
          },
          "metadata": {
            "needs_background": "light"
          }
        }
      ]
    },
    {
      "cell_type": "code",
      "source": [
        "plot(dropout_history.history['loss'], dropout_history.history['val_loss'], 'Loss', 'Model Loss')"
      ],
      "metadata": {
        "colab": {
          "base_uri": "https://localhost:8080/",
          "height": 295
        },
        "id": "hWTtZL5yzK_d",
        "outputId": "cd8328a3-2ce5-4d38-f7d0-d26d38a8fb2e"
      },
      "execution_count": null,
      "outputs": [
        {
          "output_type": "display_data",
          "data": {
            "text/plain": [
              "<Figure size 432x288 with 1 Axes>"
            ],
            "image/png": "[encoded data removed]"
          },
          "metadata": {
            "needs_background": "light"
          }
        }
      ]
    },
    {
      "cell_type": "code",
      "source": [
        "dropout_pred = evaluate_and_predict(dropout_model)"
      ],
      "metadata": {
        "colab": {
          "base_uri": "https://localhost:8080/"
        },
        "outputId": "38af1f3b-9d79-4f50-b141-55e32d5c183d",
        "id": "bbDulmveukmi"
      },
      "execution_count": null,
      "outputs": [
        {
          "output_type": "stream",
          "name": "stdout",
          "text": [
            "5/5 [==============================] - 0s 17ms/step - loss: 0.8071 - categorical_accuracy: 0.8355 - precision_2: 0.8380 - recall_2: 0.8318 - auc_2: 0.9454\n",
            "Test loss: 0.8070990443229675\n",
            "Test categorical_accuracy: 0.8355140089988708\n",
            "Test precision: 0.8380414247512817\n",
            "Test recall: 0.8317757248878479\n",
            "Test auc: 0.9454333782196045\n",
            "5/5 [==============================] - 0s 11ms/step\n"
          ]
        }
      ]
    },
    {
      "cell_type": "code",
      "source": [
        "draw_confusion_matrix(y_test, dropout_pred)"
      ],
      "metadata": {
        "colab": {
          "base_uri": "https://localhost:8080/",
          "height": 265
        },
        "outputId": "47d27eae-4f05-483b-fdb5-443c72f8de5a",
        "id": "mPNbo6B_ukmm"
      },
      "execution_count": null,
      "outputs": [
        {
          "output_type": "display_data",
          "data": {
            "text/plain": [
              "<Figure size 432x288 with 1 Axes>"
            ],
            "image/png": "[encoded data removed]"
          },
          "metadata": {
            "needs_background": "light"
          }
        }
      ]
    },
    {
      "cell_type": "code",
      "source": [
        "print(classification_report(y_test.argmax(axis=1), dropout_pred.argmax(axis=1)))"
      ],
      "metadata": {
        "colab": {
          "base_uri": "https://localhost:8080/"
        },
        "outputId": "84b02469-f7bb-4d33-b596-3ba1bbc9ad41",
        "id": "gg7R6ukvukmm"
      },
      "execution_count": null,
      "outputs": [
        {
          "output_type": "stream",
          "name": "stdout",
          "text": [
            "              precision    recall  f1-score   support\n",
            "\n",
            "           0       0.85      0.78      0.81       150\n",
            "           1       0.88      0.89      0.88       122\n",
            "           2       0.88      0.85      0.86       136\n",
            "           3       0.75      0.84      0.79       127\n",
            "\n",
            "    accuracy                           0.84       535\n",
            "   macro avg       0.84      0.84      0.84       535\n",
            "weighted avg       0.84      0.84      0.84       535\n",
            "\n"
          ]
        }
      ]
    },
    {
      "cell_type": "markdown",
      "source": [
        "### Data Augmentation"
      ],
      "metadata": {
        "id": "wbJbGMXhLLXO"
      }
    },
    {
      "cell_type": "code",
      "source": [
        "dataaug_model = build_model()\n",
        "dataaug_model.summary()"
      ],
      "metadata": {
        "colab": {
          "base_uri": "https://localhost:8080/"
        },
        "outputId": "ba3255d4-0230-4ec1-d387-d112726a14d7",
        "id": "Mt0lTF5cLVb5"
      },
      "execution_count": 38,
      "outputs": [
        {
          "output_type": "stream",
          "name": "stdout",
          "text": [
            "Model: \"sequential\"\n",
            "_________________________________________________________________\n",
            " Layer (type)                Output Shape              Param #   \n",
            "=================================================================\n",
            " conv2d (Conv2D)             (None, 62, 62, 32)        896       \n",
            "                                                                 \n",
            " conv2d_1 (Conv2D)           (None, 60, 60, 32)        9248      \n",
            "                                                                 \n",
            " max_pooling2d (MaxPooling2D  (None, 30, 30, 32)       0         \n",
            " )                                                               \n",
            "                                                                 \n",
            " conv2d_2 (Conv2D)           (None, 28, 28, 64)        18496     \n",
            "                                                                 \n",
            " conv2d_3 (Conv2D)           (None, 26, 26, 64)        36928     \n",
            "                                                                 \n",
            " max_pooling2d_1 (MaxPooling  (None, 13, 13, 64)       0         \n",
            " 2D)                                                             \n",
            "                                                                 \n",
            " flatten (Flatten)           (None, 10816)             0         \n",
            "                                                                 \n",
            " dense (Dense)               (None, 512)               5538304   \n",
            "                                                                 \n",
            " dense_1 (Dense)             (None, 4)                 2052      \n",
            "                                                                 \n",
            "=================================================================\n",
            "Total params: 5,605,924\n",
            "Trainable params: 5,605,924\n",
            "Non-trainable params: 0\n",
            "_________________________________________________________________\n"
          ]
        }
      ]
    },
    {
      "cell_type": "code",
      "source": [
        "dataaug_history = dataaug_model.fit(\n",
        "    train_aug_ds,\n",
        "    epochs=30,\n",
        "    verbose=1,\n",
        "    validation_data=val_ds\n",
        ")"
      ],
      "metadata": {
        "colab": {
          "base_uri": "https://localhost:8080/"
        },
        "outputId": "26da07b0-d715-446c-ee1e-988de300ca04",
        "id": "w5y3MBTiLVb6"
      },
      "execution_count": 39,
      "outputs": [
        {
          "output_type": "stream",
          "name": "stdout",
          "text": [
            "Epoch 1/30\n",
            "30/30 [==============================] - 18s 88ms/step - loss: 1.4250 - categorical_accuracy: 0.3828 - precision: 0.4527 - recall: 0.0873 - auc: 0.6384 - val_loss: 1.0943 - val_categorical_accuracy: 0.5355 - val_precision: 0.6297 - val_recall: 0.3558 - val_auc: 0.7886\n",
            "Epoch 2/30\n",
            "30/30 [==============================] - 1s 37ms/step - loss: 0.9671 - categorical_accuracy: 0.5992 - precision: 0.6873 - recall: 0.4558 - auc: 0.8369 - val_loss: 0.9190 - val_categorical_accuracy: 0.6230 - val_precision: 0.6855 - val_recall: 0.5244 - val_auc: 0.8538\n",
            "Epoch 3/30\n",
            "30/30 [==============================] - 1s 36ms/step - loss: 0.7828 - categorical_accuracy: 0.6884 - precision: 0.7541 - recall: 0.5979 - auc: 0.8954 - val_loss: 1.0738 - val_categorical_accuracy: 0.5512 - val_precision: 0.5826 - val_recall: 0.4682 - val_auc: 0.8139\n",
            "Epoch 4/30\n",
            "30/30 [==============================] - 1s 36ms/step - loss: 0.7184 - categorical_accuracy: 0.7265 - precision: 0.7811 - recall: 0.6532 - auc: 0.9125 - val_loss: 0.8040 - val_categorical_accuracy: 0.6747 - val_precision: 0.7302 - val_recall: 0.6037 - val_auc: 0.8891\n",
            "Epoch 5/30\n",
            "30/30 [==============================] - 1s 36ms/step - loss: 0.6252 - categorical_accuracy: 0.7667 - precision: 0.8215 - recall: 0.7071 - auc: 0.9341 - val_loss: 0.6918 - val_categorical_accuracy: 0.7336 - val_precision: 0.7792 - val_recall: 0.6700 - val_auc: 0.9193\n",
            "Epoch 6/30\n",
            "30/30 [==============================] - 1s 43ms/step - loss: 0.5522 - categorical_accuracy: 0.7987 - precision: 0.8362 - recall: 0.7534 - auc: 0.9475 - val_loss: 0.7166 - val_categorical_accuracy: 0.7327 - val_precision: 0.7834 - val_recall: 0.6866 - val_auc: 0.9142\n",
            "Epoch 7/30\n",
            "30/30 [==============================] - 1s 45ms/step - loss: 0.5157 - categorical_accuracy: 0.8132 - precision: 0.8479 - recall: 0.7683 - auc: 0.9545 - val_loss: 0.7691 - val_categorical_accuracy: 0.7235 - val_precision: 0.7625 - val_recall: 0.6866 - val_auc: 0.9077\n",
            "Epoch 8/30\n",
            "30/30 [==============================] - 1s 37ms/step - loss: 0.4614 - categorical_accuracy: 0.8349 - precision: 0.8647 - recall: 0.7960 - auc: 0.9630 - val_loss: 0.7159 - val_categorical_accuracy: 0.7493 - val_precision: 0.7915 - val_recall: 0.7032 - val_auc: 0.9184\n",
            "Epoch 9/30\n",
            "30/30 [==============================] - 1s 37ms/step - loss: 0.4623 - categorical_accuracy: 0.8286 - precision: 0.8599 - recall: 0.7939 - auc: 0.9632 - val_loss: 0.6715 - val_categorical_accuracy: 0.7594 - val_precision: 0.7929 - val_recall: 0.7161 - val_auc: 0.9282\n",
            "Epoch 10/30\n",
            "30/30 [==============================] - 1s 37ms/step - loss: 0.3929 - categorical_accuracy: 0.8532 - precision: 0.8803 - recall: 0.8251 - auc: 0.9730 - val_loss: 0.6114 - val_categorical_accuracy: 0.7834 - val_precision: 0.8079 - val_recall: 0.7521 - val_auc: 0.9394\n",
            "Epoch 11/30\n",
            "30/30 [==============================] - 1s 37ms/step - loss: 0.3166 - categorical_accuracy: 0.8839 - precision: 0.9037 - recall: 0.8635 - auc: 0.9824 - val_loss: 0.5986 - val_categorical_accuracy: 0.7862 - val_precision: 0.8128 - val_recall: 0.7604 - val_auc: 0.9440\n",
            "Epoch 12/30\n",
            "30/30 [==============================] - 1s 37ms/step - loss: 0.2828 - categorical_accuracy: 0.8944 - precision: 0.9173 - recall: 0.8746 - auc: 0.9860 - val_loss: 0.6732 - val_categorical_accuracy: 0.7816 - val_precision: 0.8053 - val_recall: 0.7622 - val_auc: 0.9357\n",
            "Epoch 13/30\n",
            "30/30 [==============================] - 1s 36ms/step - loss: 0.2371 - categorical_accuracy: 0.9146 - precision: 0.9270 - recall: 0.9003 - auc: 0.9899 - val_loss: 0.6718 - val_categorical_accuracy: 0.7843 - val_precision: 0.8078 - val_recall: 0.7631 - val_auc: 0.9353\n",
            "Epoch 14/30\n",
            "30/30 [==============================] - 1s 36ms/step - loss: 0.2249 - categorical_accuracy: 0.9175 - precision: 0.9309 - recall: 0.9053 - auc: 0.9909 - val_loss: 0.8347 - val_categorical_accuracy: 0.7456 - val_precision: 0.7592 - val_recall: 0.7263 - val_auc: 0.9192\n",
            "Epoch 15/30\n",
            "30/30 [==============================] - 1s 37ms/step - loss: 0.1650 - categorical_accuracy: 0.9410 - precision: 0.9493 - recall: 0.9317 - auc: 0.9953 - val_loss: 0.7975 - val_categorical_accuracy: 0.7908 - val_precision: 0.8028 - val_recall: 0.7843 - val_auc: 0.9295\n",
            "Epoch 16/30\n",
            "30/30 [==============================] - 1s 43ms/step - loss: 0.1425 - categorical_accuracy: 0.9487 - precision: 0.9550 - recall: 0.9442 - auc: 0.9962 - val_loss: 0.8498 - val_categorical_accuracy: 0.7705 - val_precision: 0.7865 - val_recall: 0.7641 - val_auc: 0.9257\n",
            "Epoch 17/30\n",
            "30/30 [==============================] - 1s 43ms/step - loss: 0.1137 - categorical_accuracy: 0.9632 - precision: 0.9672 - recall: 0.9582 - auc: 0.9979 - val_loss: 0.9501 - val_categorical_accuracy: 0.7797 - val_precision: 0.7867 - val_recall: 0.7714 - val_auc: 0.9254\n",
            "Epoch 18/30\n",
            "30/30 [==============================] - 1s 47ms/step - loss: 0.0730 - categorical_accuracy: 0.9780 - precision: 0.9798 - recall: 0.9759 - auc: 0.9991 - val_loss: 0.9914 - val_categorical_accuracy: 0.7788 - val_precision: 0.7880 - val_recall: 0.7779 - val_auc: 0.9240\n",
            "Epoch 19/30\n",
            "30/30 [==============================] - 1s 38ms/step - loss: 0.0704 - categorical_accuracy: 0.9786 - precision: 0.9809 - recall: 0.9765 - auc: 0.9990 - val_loss: 1.1942 - val_categorical_accuracy: 0.7567 - val_precision: 0.7615 - val_recall: 0.7475 - val_auc: 0.9078\n",
            "Epoch 20/30\n",
            "30/30 [==============================] - 1s 36ms/step - loss: 0.0669 - categorical_accuracy: 0.9788 - precision: 0.9809 - recall: 0.9765 - auc: 0.9992 - val_loss: 1.1118 - val_categorical_accuracy: 0.7862 - val_precision: 0.7949 - val_recall: 0.7788 - val_auc: 0.9194\n",
            "Epoch 21/30\n",
            "30/30 [==============================] - 1s 37ms/step - loss: 0.0489 - categorical_accuracy: 0.9854 - precision: 0.9867 - recall: 0.9836 - auc: 0.9995 - val_loss: 1.2154 - val_categorical_accuracy: 0.7816 - val_precision: 0.7834 - val_recall: 0.7733 - val_auc: 0.9143\n",
            "Epoch 22/30\n",
            "30/30 [==============================] - 1s 37ms/step - loss: 0.0306 - categorical_accuracy: 0.9929 - precision: 0.9929 - recall: 0.9926 - auc: 0.9997 - val_loss: 1.2254 - val_categorical_accuracy: 0.7742 - val_precision: 0.7782 - val_recall: 0.7696 - val_auc: 0.9160\n",
            "Epoch 23/30\n",
            "30/30 [==============================] - 1s 37ms/step - loss: 0.0223 - categorical_accuracy: 0.9950 - precision: 0.9955 - recall: 0.9950 - auc: 0.9998 - val_loss: 1.3185 - val_categorical_accuracy: 0.7788 - val_precision: 0.7819 - val_recall: 0.7733 - val_auc: 0.9126\n",
            "Epoch 24/30\n",
            "30/30 [==============================] - 1s 38ms/step - loss: 0.0210 - categorical_accuracy: 0.9950 - precision: 0.9952 - recall: 0.9939 - auc: 0.9999 - val_loss: 1.3050 - val_categorical_accuracy: 0.7816 - val_precision: 0.7847 - val_recall: 0.7760 - val_auc: 0.9136\n",
            "Epoch 25/30\n",
            "30/30 [==============================] - 1s 37ms/step - loss: 0.0138 - categorical_accuracy: 0.9968 - precision: 0.9971 - recall: 0.9968 - auc: 1.0000 - val_loss: 1.4408 - val_categorical_accuracy: 0.7806 - val_precision: 0.7846 - val_recall: 0.7788 - val_auc: 0.9087\n",
            "Epoch 26/30\n",
            "30/30 [==============================] - 1s 37ms/step - loss: 0.0288 - categorical_accuracy: 0.9905 - precision: 0.9910 - recall: 0.9902 - auc: 0.9997 - val_loss: 1.4576 - val_categorical_accuracy: 0.7696 - val_precision: 0.7714 - val_recall: 0.7650 - val_auc: 0.9023\n",
            "Epoch 27/30\n",
            "30/30 [==============================] - 1s 37ms/step - loss: 0.0498 - categorical_accuracy: 0.9810 - precision: 0.9812 - recall: 0.9799 - auc: 0.9993 - val_loss: 1.3720 - val_categorical_accuracy: 0.7641 - val_precision: 0.7672 - val_recall: 0.7594 - val_auc: 0.9082\n",
            "Epoch 28/30\n",
            "30/30 [==============================] - 1s 44ms/step - loss: 0.0458 - categorical_accuracy: 0.9812 - precision: 0.9817 - recall: 0.9810 - auc: 0.9995 - val_loss: 1.4950 - val_categorical_accuracy: 0.7558 - val_precision: 0.7609 - val_recall: 0.7539 - val_auc: 0.8998\n",
            "Epoch 29/30\n",
            "30/30 [==============================] - 1s 38ms/step - loss: 0.0308 - categorical_accuracy: 0.9902 - precision: 0.9907 - recall: 0.9897 - auc: 0.9997 - val_loss: 1.5007 - val_categorical_accuracy: 0.7696 - val_precision: 0.7745 - val_recall: 0.7659 - val_auc: 0.9011\n",
            "Epoch 30/30\n",
            "30/30 [==============================] - 1s 37ms/step - loss: 0.0613 - categorical_accuracy: 0.9794 - precision: 0.9799 - recall: 0.9783 - auc: 0.9985 - val_loss: 1.8207 - val_categorical_accuracy: 0.7401 - val_precision: 0.7439 - val_recall: 0.7364 - val_auc: 0.8854\n"
          ]
        }
      ]
    },
    {
      "cell_type": "code",
      "source": [
        "plot(dataaug_history.history['categorical_accuracy'], dataaug_history.history['val_categorical_accuracy'], 'Accuracy', 'Model Accuracy')"
      ],
      "metadata": {
        "colab": {
          "base_uri": "https://localhost:8080/",
          "height": 295
        },
        "outputId": "82a4f4c7-093c-45d6-a113-56bc4d9b6094",
        "id": "ft1TY-58LVb6"
      },
      "execution_count": 44,
      "outputs": [
        {
          "output_type": "display_data",
          "data": {
            "text/plain": [
              "<Figure size 432x288 with 1 Axes>"
            ],
            "image/png": "[encoded data removed]"
          },
          "metadata": {
            "needs_background": "light"
          }
        }
      ]
    },
    {
      "cell_type": "code",
      "source": [
        "plot(dataaug_history.history['loss'], dataaug_history.history['val_loss'], 'Loss', 'Model Loss')"
      ],
      "metadata": {
        "colab": {
          "base_uri": "https://localhost:8080/",
          "height": 295
        },
        "outputId": "af75a701-deda-4237-bfda-e69aaf0780de",
        "id": "r0IVeT1LLVb6"
      },
      "execution_count": 45,
      "outputs": [
        {
          "output_type": "display_data",
          "data": {
            "text/plain": [
              "<Figure size 432x288 with 1 Axes>"
            ],
            "image/png": "[encoded data removed]"
          },
          "metadata": {
            "needs_background": "light"
          }
        }
      ]
    },
    {
      "cell_type": "code",
      "source": [
        "dataaug_pred = evaluate_and_predict(dataaug_model)"
      ],
      "metadata": {
        "colab": {
          "base_uri": "https://localhost:8080/"
        },
        "outputId": "0fab9e0e-601c-4a90-848c-a66f72375fdc",
        "id": "tB53MgJWLVb6"
      },
      "execution_count": 46,
      "outputs": [
        {
          "output_type": "stream",
          "name": "stdout",
          "text": [
            "5/5 [==============================] - 0s 47ms/step - loss: 1.4108 - categorical_accuracy: 0.7813 - precision: 0.7857 - recall: 0.7813 - auc: 0.9105\n",
            "Test loss: 1.410751461982727\n",
            "Test categorical_accuracy: 0.7813084125518799\n",
            "Test precision: 0.7857142686843872\n",
            "Test recall: 0.7813084125518799\n",
            "Test auc: 0.9105406999588013\n",
            "5/5 [==============================] - 0s 11ms/step\n"
          ]
        }
      ]
    },
    {
      "cell_type": "code",
      "source": [
        "draw_confusion_matrix(y_test, dataaug_pred)"
      ],
      "metadata": {
        "colab": {
          "base_uri": "https://localhost:8080/",
          "height": 265
        },
        "outputId": "8ea78354-3e2d-4a16-b27b-50fd6082a5c0",
        "id": "_2T-V2ipLVb6"
      },
      "execution_count": 47,
      "outputs": [
        {
          "output_type": "display_data",
          "data": {
            "text/plain": [
              "<Figure size 432x288 with 1 Axes>"
            ],
            "image/png": "[encoded data removed]"
          },
          "metadata": {
            "needs_background": "light"
          }
        }
      ]
    },
    {
      "cell_type": "code",
      "source": [
        "print(classification_report(y_test.argmax(axis=1), dataaug_pred.argmax(axis=1)))"
      ],
      "metadata": {
        "colab": {
          "base_uri": "https://localhost:8080/"
        },
        "outputId": "d81e586e-1eab-49c1-81bb-beac9137ce82",
        "id": "6eJjMlPqLVb6"
      },
      "execution_count": 48,
      "outputs": [
        {
          "output_type": "stream",
          "name": "stdout",
          "text": [
            "              precision    recall  f1-score   support\n",
            "\n",
            "           0       0.72      0.88      0.79       150\n",
            "           1       0.74      0.89      0.81       122\n",
            "           2       0.84      0.72      0.77       136\n",
            "           3       0.91      0.63      0.74       127\n",
            "\n",
            "    accuracy                           0.78       535\n",
            "   macro avg       0.80      0.78      0.78       535\n",
            "weighted avg       0.80      0.78      0.78       535\n",
            "\n"
          ]
        }
      ]
    },
    {
      "cell_type": "markdown",
      "source": [
        "### L2 Regularisation"
      ],
      "metadata": {
        "id": "Emf39YOx32p3"
      }
    },
    {
      "cell_type": "code",
      "source": [
        "l2reg_model = build_model(l2Reg=True)\n",
        "l2reg_model.summary()"
      ],
      "metadata": {
        "colab": {
          "base_uri": "https://localhost:8080/"
        },
        "id": "79KbFJ7k356q",
        "outputId": "4436ea6a-6708-48c1-8544-1ad91632898a"
      },
      "execution_count": null,
      "outputs": [
        {
          "output_type": "stream",
          "name": "stdout",
          "text": [
            "Model: \"sequential_3\"\n",
            "_________________________________________________________________\n",
            " Layer (type)                Output Shape              Param #   \n",
            "=================================================================\n",
            " conv2d_12 (Conv2D)          (None, 62, 62, 32)        896       \n",
            "                                                                 \n",
            " conv2d_13 (Conv2D)          (None, 60, 60, 32)        9248      \n",
            "                                                                 \n",
            " max_pooling2d_6 (MaxPooling  (None, 30, 30, 32)       0         \n",
            " 2D)                                                             \n",
            "                                                                 \n",
            " conv2d_14 (Conv2D)          (None, 28, 28, 64)        18496     \n",
            "                                                                 \n",
            " conv2d_15 (Conv2D)          (None, 26, 26, 64)        36928     \n",
            "                                                                 \n",
            " max_pooling2d_7 (MaxPooling  (None, 13, 13, 64)       0         \n",
            " 2D)                                                             \n",
            "                                                                 \n",
            " flatten_3 (Flatten)         (None, 10816)             0         \n",
            "                                                                 \n",
            " dense_6 (Dense)             (None, 512)               5538304   \n",
            "                                                                 \n",
            " dense_7 (Dense)             (None, 4)                 2052      \n",
            "                                                                 \n",
            "=================================================================\n",
            "Total params: 5,605,924\n",
            "Trainable params: 5,605,924\n",
            "Non-trainable params: 0\n",
            "_________________________________________________________________\n"
          ]
        }
      ]
    },
    {
      "cell_type": "code",
      "source": [
        "l2reg_history = l2reg_model.fit(\n",
        "    train_ds,\n",
        "    epochs=30,\n",
        "    verbose=1,\n",
        "    validation_data=val_ds\n",
        ")"
      ],
      "metadata": {
        "colab": {
          "base_uri": "https://localhost:8080/"
        },
        "id": "_dO1Knbq4B0_",
        "outputId": "c1c888d9-15bf-4caa-aaa9-3d5a19580c6f"
      },
      "execution_count": null,
      "outputs": [
        {
          "output_type": "stream",
          "name": "stdout",
          "text": [
            "Epoch 1/30\n",
            "30/30 [==============================] - 4s 51ms/step - loss: 5.6841 - categorical_accuracy: 0.3688 - precision_3: 0.4519 - recall_3: 0.0373 - auc_3: 0.6303 - val_loss: 2.5721 - val_categorical_accuracy: 0.3991 - val_precision_3: 0.4990 - val_recall_3: 0.2221 - val_auc_3: 0.7154\n",
            "Epoch 2/30\n",
            "30/30 [==============================] - 1s 38ms/step - loss: 2.0006 - categorical_accuracy: 0.5553 - precision_3: 0.7049 - recall_3: 0.3286 - auc_3: 0.8090 - val_loss: 1.6612 - val_categorical_accuracy: 0.6221 - val_precision_3: 0.7442 - val_recall_3: 0.4157 - val_auc_3: 0.8469\n",
            "Epoch 3/30\n",
            "30/30 [==============================] - 1s 38ms/step - loss: 1.4998 - categorical_accuracy: 0.6423 - precision_3: 0.7337 - recall_3: 0.4897 - auc_3: 0.8688 - val_loss: 1.4675 - val_categorical_accuracy: 0.6111 - val_precision_3: 0.7080 - val_recall_3: 0.4627 - val_auc_3: 0.8548\n",
            "Epoch 4/30\n",
            "30/30 [==============================] - 1s 38ms/step - loss: 1.3240 - categorical_accuracy: 0.6886 - precision_3: 0.7629 - recall_3: 0.5704 - auc_3: 0.8913 - val_loss: 1.3815 - val_categorical_accuracy: 0.6203 - val_precision_3: 0.6842 - val_recall_3: 0.5272 - val_auc_3: 0.8634\n",
            "Epoch 5/30\n",
            "30/30 [==============================] - 1s 49ms/step - loss: 1.2336 - categorical_accuracy: 0.6963 - precision_3: 0.7639 - recall_3: 0.5931 - auc_3: 0.8995 - val_loss: 1.2957 - val_categorical_accuracy: 0.6507 - val_precision_3: 0.7339 - val_recall_3: 0.5364 - val_auc_3: 0.8763\n",
            "Epoch 6/30\n",
            "30/30 [==============================] - 1s 41ms/step - loss: 1.1680 - categorical_accuracy: 0.7156 - precision_3: 0.7887 - recall_3: 0.6063 - auc_3: 0.9078 - val_loss: 1.1757 - val_categorical_accuracy: 0.6820 - val_precision_3: 0.7684 - val_recall_3: 0.5871 - val_auc_3: 0.9005\n",
            "Epoch 7/30\n",
            "30/30 [==============================] - 1s 37ms/step - loss: 1.1284 - categorical_accuracy: 0.7122 - precision_3: 0.7809 - recall_3: 0.6177 - auc_3: 0.9100 - val_loss: 1.1125 - val_categorical_accuracy: 0.7041 - val_precision_3: 0.7650 - val_recall_3: 0.6120 - val_auc_3: 0.9114\n",
            "Epoch 8/30\n",
            "30/30 [==============================] - 1s 38ms/step - loss: 1.0613 - categorical_accuracy: 0.7418 - precision_3: 0.8091 - recall_3: 0.6603 - auc_3: 0.9215 - val_loss: 1.1020 - val_categorical_accuracy: 0.7069 - val_precision_3: 0.7679 - val_recall_3: 0.6129 - val_auc_3: 0.9099\n",
            "Epoch 9/30\n",
            "30/30 [==============================] - 1s 38ms/step - loss: 1.0533 - categorical_accuracy: 0.7347 - precision_3: 0.7887 - recall_3: 0.6519 - auc_3: 0.9189 - val_loss: 1.0943 - val_categorical_accuracy: 0.7069 - val_precision_3: 0.7837 - val_recall_3: 0.6276 - val_auc_3: 0.9080\n",
            "Epoch 10/30\n",
            "30/30 [==============================] - 1s 39ms/step - loss: 0.9819 - categorical_accuracy: 0.7669 - precision_3: 0.8142 - recall_3: 0.6921 - auc_3: 0.9325 - val_loss: 1.1342 - val_categorical_accuracy: 0.6885 - val_precision_3: 0.7439 - val_recall_3: 0.5862 - val_auc_3: 0.8916\n",
            "Epoch 11/30\n",
            "30/30 [==============================] - 1s 37ms/step - loss: 1.0340 - categorical_accuracy: 0.7286 - precision_3: 0.7854 - recall_3: 0.6458 - auc_3: 0.9165 - val_loss: 1.0619 - val_categorical_accuracy: 0.7226 - val_precision_3: 0.7759 - val_recall_3: 0.6065 - val_auc_3: 0.9111\n",
            "Epoch 12/30\n",
            "30/30 [==============================] - 1s 38ms/step - loss: 0.9688 - categorical_accuracy: 0.7553 - precision_3: 0.8155 - recall_3: 0.6841 - auc_3: 0.9315 - val_loss: 1.0614 - val_categorical_accuracy: 0.7235 - val_precision_3: 0.7838 - val_recall_3: 0.6249 - val_auc_3: 0.9083\n",
            "Epoch 13/30\n",
            "30/30 [==============================] - 1s 38ms/step - loss: 0.9403 - categorical_accuracy: 0.7582 - precision_3: 0.8126 - recall_3: 0.6907 - auc_3: 0.9339 - val_loss: 1.0688 - val_categorical_accuracy: 0.6968 - val_precision_3: 0.7503 - val_recall_3: 0.6175 - val_auc_3: 0.9018\n",
            "Epoch 14/30\n",
            "30/30 [==============================] - 1s 38ms/step - loss: 0.9544 - categorical_accuracy: 0.7579 - precision_3: 0.8181 - recall_3: 0.6852 - auc_3: 0.9300 - val_loss: 1.1150 - val_categorical_accuracy: 0.6885 - val_precision_3: 0.7399 - val_recall_3: 0.6055 - val_auc_3: 0.8917\n",
            "Epoch 15/30\n",
            "30/30 [==============================] - 1s 45ms/step - loss: 0.9050 - categorical_accuracy: 0.7788 - precision_3: 0.8302 - recall_3: 0.7127 - auc_3: 0.9396 - val_loss: 0.9801 - val_categorical_accuracy: 0.7318 - val_precision_3: 0.7887 - val_recall_3: 0.6673 - val_auc_3: 0.9209\n",
            "Epoch 16/30\n",
            "30/30 [==============================] - 1s 40ms/step - loss: 0.8659 - categorical_accuracy: 0.7966 - precision_3: 0.8431 - recall_3: 0.7362 - auc_3: 0.9456 - val_loss: 0.9550 - val_categorical_accuracy: 0.7493 - val_precision_3: 0.7864 - val_recall_3: 0.7023 - val_auc_3: 0.9263\n",
            "Epoch 17/30\n",
            "30/30 [==============================] - 1s 39ms/step - loss: 0.8504 - categorical_accuracy: 0.7944 - precision_3: 0.8378 - recall_3: 0.7434 - auc_3: 0.9470 - val_loss: 1.0228 - val_categorical_accuracy: 0.7235 - val_precision_3: 0.7606 - val_recall_3: 0.6618 - val_auc_3: 0.9116\n",
            "Epoch 18/30\n",
            "30/30 [==============================] - 1s 38ms/step - loss: 0.8761 - categorical_accuracy: 0.7886 - precision_3: 0.8401 - recall_3: 0.7201 - auc_3: 0.9423 - val_loss: 0.9637 - val_categorical_accuracy: 0.7419 - val_precision_3: 0.7914 - val_recall_3: 0.6820 - val_auc_3: 0.9221\n",
            "Epoch 19/30\n",
            "30/30 [==============================] - 1s 39ms/step - loss: 0.8673 - categorical_accuracy: 0.7894 - precision_3: 0.8339 - recall_3: 0.7267 - auc_3: 0.9429 - val_loss: 0.9146 - val_categorical_accuracy: 0.7668 - val_precision_3: 0.8266 - val_recall_3: 0.6940 - val_auc_3: 0.9353\n",
            "Epoch 20/30\n",
            "30/30 [==============================] - 1s 38ms/step - loss: 0.8546 - categorical_accuracy: 0.7865 - precision_3: 0.8302 - recall_3: 0.7384 - auc_3: 0.9455 - val_loss: 0.9949 - val_categorical_accuracy: 0.7327 - val_precision_3: 0.7813 - val_recall_3: 0.6553 - val_auc_3: 0.9154\n",
            "Epoch 21/30\n",
            "30/30 [==============================] - 1s 37ms/step - loss: 0.8781 - categorical_accuracy: 0.7847 - precision_3: 0.8370 - recall_3: 0.7172 - auc_3: 0.9414 - val_loss: 0.9289 - val_categorical_accuracy: 0.7521 - val_precision_3: 0.8076 - val_recall_3: 0.6848 - val_auc_3: 0.9296\n",
            "Epoch 22/30\n",
            "30/30 [==============================] - 1s 38ms/step - loss: 0.8186 - categorical_accuracy: 0.8103 - precision_3: 0.8532 - recall_3: 0.7521 - auc_3: 0.9514 - val_loss: 0.9157 - val_categorical_accuracy: 0.7668 - val_precision_3: 0.8049 - val_recall_3: 0.6995 - val_auc_3: 0.9306\n",
            "Epoch 23/30\n",
            "30/30 [==============================] - 1s 38ms/step - loss: 0.8088 - categorical_accuracy: 0.8108 - precision_3: 0.8494 - recall_3: 0.7640 - auc_3: 0.9517 - val_loss: 0.9939 - val_categorical_accuracy: 0.7115 - val_precision_3: 0.7689 - val_recall_3: 0.6470 - val_auc_3: 0.9115\n",
            "Epoch 24/30\n",
            "30/30 [==============================] - 1s 39ms/step - loss: 0.7983 - categorical_accuracy: 0.8082 - precision_3: 0.8502 - recall_3: 0.7569 - auc_3: 0.9538 - val_loss: 0.8626 - val_categorical_accuracy: 0.7751 - val_precision_3: 0.8288 - val_recall_3: 0.7226 - val_auc_3: 0.9414\n",
            "Epoch 25/30\n",
            "30/30 [==============================] - 1s 48ms/step - loss: 0.7818 - categorical_accuracy: 0.8135 - precision_3: 0.8590 - recall_3: 0.7717 - auc_3: 0.9561 - val_loss: 0.8627 - val_categorical_accuracy: 0.7797 - val_precision_3: 0.8222 - val_recall_3: 0.7115 - val_auc_3: 0.9406\n",
            "Epoch 26/30\n",
            "30/30 [==============================] - 1s 38ms/step - loss: 0.7719 - categorical_accuracy: 0.8201 - precision_3: 0.8562 - recall_3: 0.7704 - auc_3: 0.9574 - val_loss: 0.8708 - val_categorical_accuracy: 0.7926 - val_precision_3: 0.8260 - val_recall_3: 0.7392 - val_auc_3: 0.9388\n",
            "Epoch 27/30\n",
            "30/30 [==============================] - 1s 38ms/step - loss: 0.7686 - categorical_accuracy: 0.8153 - precision_3: 0.8575 - recall_3: 0.7751 - auc_3: 0.9577 - val_loss: 0.8831 - val_categorical_accuracy: 0.7806 - val_precision_3: 0.8317 - val_recall_3: 0.7152 - val_auc_3: 0.9355\n",
            "Epoch 28/30\n",
            "30/30 [==============================] - 1s 38ms/step - loss: 0.7588 - categorical_accuracy: 0.8235 - precision_3: 0.8640 - recall_3: 0.7815 - auc_3: 0.9588 - val_loss: 0.8840 - val_categorical_accuracy: 0.7880 - val_precision_3: 0.8259 - val_recall_3: 0.7171 - val_auc_3: 0.9354\n",
            "Epoch 29/30\n",
            "30/30 [==============================] - 1s 39ms/step - loss: 0.7868 - categorical_accuracy: 0.8106 - precision_3: 0.8533 - recall_3: 0.7587 - auc_3: 0.9539 - val_loss: 0.8676 - val_categorical_accuracy: 0.7834 - val_precision_3: 0.8330 - val_recall_3: 0.7217 - val_auc_3: 0.9382\n",
            "Epoch 30/30\n",
            "30/30 [==============================] - 1s 38ms/step - loss: 0.7820 - categorical_accuracy: 0.8148 - precision_3: 0.8573 - recall_3: 0.7611 - auc_3: 0.9562 - val_loss: 0.8441 - val_categorical_accuracy: 0.8000 - val_precision_3: 0.8301 - val_recall_3: 0.7521 - val_auc_3: 0.9441\n"
          ]
        }
      ]
    },
    {
      "cell_type": "code",
      "source": [
        "plot(l2reg_history.history['categorical_accuracy'], l2reg_history.history['val_categorical_accuracy'], 'Accuracy', 'Model Accuracy')"
      ],
      "metadata": {
        "colab": {
          "base_uri": "https://localhost:8080/",
          "height": 295
        },
        "id": "vcOu4OOq4Cyk",
        "outputId": "9b8d8114-ffa7-4c94-cd14-45a8ee75e6e8"
      },
      "execution_count": null,
      "outputs": [
        {
          "output_type": "display_data",
          "data": {
            "text/plain": [
              "<Figure size 432x288 with 1 Axes>"
            ],
            "image/png": "[encoded data removed]"
          },
          "metadata": {
            "needs_background": "light"
          }
        }
      ]
    },
    {
      "cell_type": "code",
      "source": [
        "plot(l2reg_history.history['loss'], l2reg_history.history['val_loss'], 'Loss', 'Model Loss')"
      ],
      "metadata": {
        "colab": {
          "base_uri": "https://localhost:8080/",
          "height": 295
        },
        "id": "MIfXc1rP9FBv",
        "outputId": "a273d561-b6ec-4715-d3cb-bf31ba2567e5"
      },
      "execution_count": null,
      "outputs": [
        {
          "output_type": "display_data",
          "data": {
            "text/plain": [
              "<Figure size 432x288 with 1 Axes>"
            ],
            "image/png": "[encoded data removed]"
          },
          "metadata": {
            "needs_background": "light"
          }
        }
      ]
    },
    {
      "cell_type": "code",
      "source": [
        "l2reg_pred = evaluate_and_predict(l2reg_model)"
      ],
      "metadata": {
        "colab": {
          "base_uri": "https://localhost:8080/"
        },
        "outputId": "b8b1cab4-256f-40c2-8966-fcf30a4ebd2d",
        "id": "hKRvrUN0u6BG"
      },
      "execution_count": null,
      "outputs": [
        {
          "output_type": "stream",
          "name": "stdout",
          "text": [
            "5/5 [==============================] - 0s 12ms/step - loss: 0.7754 - categorical_accuracy: 0.8206 - precision_3: 0.8439 - recall_3: 0.7682 - auc_3: 0.9564\n",
            "Test loss: 0.7753691673278809\n",
            "Test categorical_accuracy: 0.8205607533454895\n",
            "Test precision: 0.8439425230026245\n",
            "Test recall: 0.76822429895401\n",
            "Test auc: 0.9564299583435059\n",
            "5/5 [==============================] - 0s 15ms/step\n"
          ]
        }
      ]
    },
    {
      "cell_type": "code",
      "source": [
        "draw_confusion_matrix(y_test, l2reg_pred)"
      ],
      "metadata": {
        "colab": {
          "base_uri": "https://localhost:8080/",
          "height": 265
        },
        "outputId": "2ba24b88-6086-4ce1-9e4b-c0cd43ba01f4",
        "id": "ax68K5IWu6BG"
      },
      "execution_count": null,
      "outputs": [
        {
          "output_type": "display_data",
          "data": {
            "text/plain": [
              "<Figure size 432x288 with 1 Axes>"
            ],
            "image/png": "[encoded data removed]"
          },
          "metadata": {
            "needs_background": "light"
          }
        }
      ]
    },
    {
      "cell_type": "code",
      "source": [
        "print(classification_report(y_test.argmax(axis=1), l2reg_pred.argmax(axis=1)))"
      ],
      "metadata": {
        "colab": {
          "base_uri": "https://localhost:8080/"
        },
        "outputId": "828bc5af-e73b-4527-dc18-404a48073427",
        "id": "nhT6p7ixu6BH"
      },
      "execution_count": null,
      "outputs": [
        {
          "output_type": "stream",
          "name": "stdout",
          "text": [
            "              precision    recall  f1-score   support\n",
            "\n",
            "           0       0.84      0.81      0.82       150\n",
            "           1       0.79      0.84      0.81       122\n",
            "           2       0.83      0.81      0.82       136\n",
            "           3       0.83      0.82      0.83       127\n",
            "\n",
            "    accuracy                           0.82       535\n",
            "   macro avg       0.82      0.82      0.82       535\n",
            "weighted avg       0.82      0.82      0.82       535\n",
            "\n"
          ]
        }
      ]
    },
    {
      "cell_type": "code",
      "source": [],
      "metadata": {
        "id": "_98m_ytAOsls"
      },
      "execution_count": null,
      "outputs": []
    }
  ]
}